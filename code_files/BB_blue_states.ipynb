{
 "cells": [
  {
   "cell_type": "code",
   "execution_count": 1,
   "id": "740830c4",
   "metadata": {
    "scrolled": true
   },
   "outputs": [
    {
     "name": "stdout",
     "output_type": "stream",
     "text": [
      "Requirement already satisfied: hdbscan in /Users/lydiafield/anaconda3/lib/python3.11/site-packages (0.8.33)\n",
      "Requirement already satisfied: cython<3,>=0.27 in /Users/lydiafield/anaconda3/lib/python3.11/site-packages (from hdbscan) (0.29.36)\n",
      "Requirement already satisfied: numpy>=1.20 in /Users/lydiafield/anaconda3/lib/python3.11/site-packages (from hdbscan) (1.24.3)\n",
      "Requirement already satisfied: scipy>=1.0 in /Users/lydiafield/anaconda3/lib/python3.11/site-packages (from hdbscan) (1.10.1)\n",
      "Requirement already satisfied: scikit-learn>=0.20 in /Users/lydiafield/anaconda3/lib/python3.11/site-packages (from hdbscan) (1.3.0)\n",
      "Requirement already satisfied: joblib>=1.0 in /Users/lydiafield/anaconda3/lib/python3.11/site-packages (from hdbscan) (1.2.0)\n",
      "Requirement already satisfied: threadpoolctl>=2.0.0 in /Users/lydiafield/anaconda3/lib/python3.11/site-packages (from scikit-learn>=0.20->hdbscan) (2.2.0)\n",
      "Requirement already satisfied: bertopic in /Users/lydiafield/anaconda3/lib/python3.11/site-packages (0.16.0)\n",
      "Requirement already satisfied: numpy>=1.20.0 in /Users/lydiafield/anaconda3/lib/python3.11/site-packages (from bertopic) (1.24.3)\n",
      "Requirement already satisfied: hdbscan>=0.8.29 in /Users/lydiafield/anaconda3/lib/python3.11/site-packages (from bertopic) (0.8.33)\n",
      "Requirement already satisfied: umap-learn>=0.5.0 in /Users/lydiafield/anaconda3/lib/python3.11/site-packages (from bertopic) (0.5.5)\n",
      "Requirement already satisfied: pandas>=1.1.5 in /Users/lydiafield/anaconda3/lib/python3.11/site-packages (from bertopic) (2.1.1)\n",
      "Requirement already satisfied: scikit-learn>=0.22.2.post1 in /Users/lydiafield/anaconda3/lib/python3.11/site-packages (from bertopic) (1.3.0)\n",
      "Requirement already satisfied: tqdm>=4.41.1 in /Users/lydiafield/anaconda3/lib/python3.11/site-packages (from bertopic) (4.65.0)\n",
      "Requirement already satisfied: sentence-transformers>=0.4.1 in /Users/lydiafield/anaconda3/lib/python3.11/site-packages (from bertopic) (2.2.2)\n",
      "Requirement already satisfied: plotly>=4.7.0 in /Users/lydiafield/anaconda3/lib/python3.11/site-packages (from bertopic) (5.9.0)\n",
      "Requirement already satisfied: cython<3,>=0.27 in /Users/lydiafield/anaconda3/lib/python3.11/site-packages (from hdbscan>=0.8.29->bertopic) (0.29.36)\n",
      "Requirement already satisfied: scipy>=1.0 in /Users/lydiafield/anaconda3/lib/python3.11/site-packages (from hdbscan>=0.8.29->bertopic) (1.10.1)\n",
      "Requirement already satisfied: joblib>=1.0 in /Users/lydiafield/anaconda3/lib/python3.11/site-packages (from hdbscan>=0.8.29->bertopic) (1.2.0)\n",
      "Requirement already satisfied: python-dateutil>=2.8.2 in /Users/lydiafield/anaconda3/lib/python3.11/site-packages (from pandas>=1.1.5->bertopic) (2.8.2)\n",
      "Requirement already satisfied: pytz>=2020.1 in /Users/lydiafield/anaconda3/lib/python3.11/site-packages (from pandas>=1.1.5->bertopic) (2022.7)\n",
      "Requirement already satisfied: tzdata>=2022.1 in /Users/lydiafield/anaconda3/lib/python3.11/site-packages (from pandas>=1.1.5->bertopic) (2023.3)\n",
      "Requirement already satisfied: tenacity>=6.2.0 in /Users/lydiafield/anaconda3/lib/python3.11/site-packages (from plotly>=4.7.0->bertopic) (8.2.2)\n",
      "Requirement already satisfied: threadpoolctl>=2.0.0 in /Users/lydiafield/anaconda3/lib/python3.11/site-packages (from scikit-learn>=0.22.2.post1->bertopic) (2.2.0)\n",
      "Requirement already satisfied: transformers<5.0.0,>=4.6.0 in /Users/lydiafield/anaconda3/lib/python3.11/site-packages (from sentence-transformers>=0.4.1->bertopic) (4.29.2)\n",
      "Requirement already satisfied: torch>=1.6.0 in /Users/lydiafield/anaconda3/lib/python3.11/site-packages (from sentence-transformers>=0.4.1->bertopic) (2.1.1)\n",
      "Requirement already satisfied: torchvision in /Users/lydiafield/anaconda3/lib/python3.11/site-packages (from sentence-transformers>=0.4.1->bertopic) (0.16.1)\n",
      "Requirement already satisfied: nltk in /Users/lydiafield/anaconda3/lib/python3.11/site-packages (from sentence-transformers>=0.4.1->bertopic) (3.8.1)\n",
      "Requirement already satisfied: sentencepiece in /Users/lydiafield/anaconda3/lib/python3.11/site-packages (from sentence-transformers>=0.4.1->bertopic) (0.1.99)\n",
      "Requirement already satisfied: huggingface-hub>=0.4.0 in /Users/lydiafield/anaconda3/lib/python3.11/site-packages (from sentence-transformers>=0.4.1->bertopic) (0.15.1)\n",
      "Requirement already satisfied: numba>=0.51.2 in /Users/lydiafield/anaconda3/lib/python3.11/site-packages (from umap-learn>=0.5.0->bertopic) (0.57.0)\n",
      "Requirement already satisfied: pynndescent>=0.5 in /Users/lydiafield/anaconda3/lib/python3.11/site-packages (from umap-learn>=0.5.0->bertopic) (0.5.11)\n",
      "Requirement already satisfied: filelock in /Users/lydiafield/anaconda3/lib/python3.11/site-packages (from huggingface-hub>=0.4.0->sentence-transformers>=0.4.1->bertopic) (3.9.0)\n",
      "Requirement already satisfied: fsspec in /Users/lydiafield/anaconda3/lib/python3.11/site-packages (from huggingface-hub>=0.4.0->sentence-transformers>=0.4.1->bertopic) (2023.4.0)\n",
      "Requirement already satisfied: requests in /Users/lydiafield/anaconda3/lib/python3.11/site-packages (from huggingface-hub>=0.4.0->sentence-transformers>=0.4.1->bertopic) (2.31.0)\n",
      "Requirement already satisfied: pyyaml>=5.1 in /Users/lydiafield/anaconda3/lib/python3.11/site-packages (from huggingface-hub>=0.4.0->sentence-transformers>=0.4.1->bertopic) (6.0)\n",
      "Requirement already satisfied: typing-extensions>=3.7.4.3 in /Users/lydiafield/anaconda3/lib/python3.11/site-packages (from huggingface-hub>=0.4.0->sentence-transformers>=0.4.1->bertopic) (4.7.1)\n",
      "Requirement already satisfied: packaging>=20.9 in /Users/lydiafield/anaconda3/lib/python3.11/site-packages (from huggingface-hub>=0.4.0->sentence-transformers>=0.4.1->bertopic) (23.0)\n",
      "Requirement already satisfied: llvmlite<0.41,>=0.40.0dev0 in /Users/lydiafield/anaconda3/lib/python3.11/site-packages (from numba>=0.51.2->umap-learn>=0.5.0->bertopic) (0.40.0)\n",
      "Requirement already satisfied: six>=1.5 in /Users/lydiafield/anaconda3/lib/python3.11/site-packages (from python-dateutil>=2.8.2->pandas>=1.1.5->bertopic) (1.16.0)\n",
      "Requirement already satisfied: sympy in /Users/lydiafield/anaconda3/lib/python3.11/site-packages (from torch>=1.6.0->sentence-transformers>=0.4.1->bertopic) (1.11.1)\n",
      "Requirement already satisfied: networkx in /Users/lydiafield/anaconda3/lib/python3.11/site-packages (from torch>=1.6.0->sentence-transformers>=0.4.1->bertopic) (3.1)\n",
      "Requirement already satisfied: jinja2 in /Users/lydiafield/anaconda3/lib/python3.11/site-packages (from torch>=1.6.0->sentence-transformers>=0.4.1->bertopic) (3.1.2)\n",
      "Requirement already satisfied: regex!=2019.12.17 in /Users/lydiafield/anaconda3/lib/python3.11/site-packages (from transformers<5.0.0,>=4.6.0->sentence-transformers>=0.4.1->bertopic) (2022.7.9)\n",
      "Requirement already satisfied: tokenizers!=0.11.3,<0.14,>=0.11.1 in /Users/lydiafield/anaconda3/lib/python3.11/site-packages (from transformers<5.0.0,>=4.6.0->sentence-transformers>=0.4.1->bertopic) (0.13.2)\n",
      "Requirement already satisfied: click in /Users/lydiafield/anaconda3/lib/python3.11/site-packages (from nltk->sentence-transformers>=0.4.1->bertopic) (8.0.4)\n",
      "Requirement already satisfied: pillow!=8.3.*,>=5.3.0 in /Users/lydiafield/anaconda3/lib/python3.11/site-packages (from torchvision->sentence-transformers>=0.4.1->bertopic) (9.4.0)\n",
      "Requirement already satisfied: MarkupSafe>=2.0 in /Users/lydiafield/anaconda3/lib/python3.11/site-packages (from jinja2->torch>=1.6.0->sentence-transformers>=0.4.1->bertopic) (2.1.1)\n",
      "Requirement already satisfied: charset-normalizer<4,>=2 in /Users/lydiafield/anaconda3/lib/python3.11/site-packages (from requests->huggingface-hub>=0.4.0->sentence-transformers>=0.4.1->bertopic) (2.0.4)\n",
      "Requirement already satisfied: idna<4,>=2.5 in /Users/lydiafield/anaconda3/lib/python3.11/site-packages (from requests->huggingface-hub>=0.4.0->sentence-transformers>=0.4.1->bertopic) (3.4)\n",
      "Requirement already satisfied: urllib3<3,>=1.21.1 in /Users/lydiafield/anaconda3/lib/python3.11/site-packages (from requests->huggingface-hub>=0.4.0->sentence-transformers>=0.4.1->bertopic) (1.26.16)\n",
      "Requirement already satisfied: certifi>=2017.4.17 in /Users/lydiafield/anaconda3/lib/python3.11/site-packages (from requests->huggingface-hub>=0.4.0->sentence-transformers>=0.4.1->bertopic) (2023.7.22)\n",
      "Requirement already satisfied: mpmath>=0.19 in /Users/lydiafield/anaconda3/lib/python3.11/site-packages (from sympy->torch>=1.6.0->sentence-transformers>=0.4.1->bertopic) (1.3.0)\n"
     ]
    }
   ],
   "source": [
    "!pip3 install hdbscan \n",
    "!pip3 install bertopic"
   ]
  },
  {
   "cell_type": "code",
   "execution_count": 2,
   "id": "1e47f81d",
   "metadata": {},
   "outputs": [],
   "source": [
    "import spacy\n",
    "import pandas as pd\n",
    "\n",
    "import json\n",
    "import spacy\n",
    "import requests\n",
    "import random\n",
    "import time\n",
    "\n",
    "import spacy\n",
    "from tqdm import tqdm \n",
    "from collections import Counter\n",
    "\n",
    "import gensim\n",
    "import gensim.corpora as corpora\n",
    "from gensim.corpora import Dictionary\n",
    "from gensim.models.coherencemodel import CoherenceModel\n",
    "from gensim.models.ldamodel import LdaModel\n",
    "\n",
    "import pyLDAvis\n",
    "import pyLDAvis.gensim\n",
    "\n",
    "import matplotlib.pyplot as plt\n",
    "from sklearn.preprocessing import MultiLabelBinarizer"
   ]
  },
  {
   "cell_type": "code",
   "execution_count": 3,
   "id": "f8e41e3f",
   "metadata": {},
   "outputs": [
    {
     "name": "stderr",
     "output_type": "stream",
     "text": [
      "/Users/lydiafield/anaconda3/lib/python3.11/site-packages/plotly/express/imshow_utils.py:24: DeprecationWarning: `np.bool8` is a deprecated alias for `np.bool_`.  (Deprecated NumPy 1.24)\n",
      "  np.bool8: (False, True),\n",
      "/Users/lydiafield/anaconda3/lib/python3.11/site-packages/plotly/graph_objs/__init__.py:288: DeprecationWarning: distutils Version classes are deprecated. Use packaging.version instead.\n",
      "  if LooseVersion(ipywidgets.__version__) >= LooseVersion(\"7.0.0\"):\n",
      "/Users/lydiafield/anaconda3/lib/python3.11/site-packages/plotly/graph_objs/__init__.py:288: DeprecationWarning: distutils Version classes are deprecated. Use packaging.version instead.\n",
      "  if LooseVersion(ipywidgets.__version__) >= LooseVersion(\"7.0.0\"):\n",
      "/Users/lydiafield/anaconda3/lib/python3.11/site-packages/plotly/graph_objs/__init__.py:288: DeprecationWarning: distutils Version classes are deprecated. Use packaging.version instead.\n",
      "  if LooseVersion(ipywidgets.__version__) >= LooseVersion(\"7.0.0\"):\n",
      "/Users/lydiafield/anaconda3/lib/python3.11/site-packages/plotly/graph_objs/__init__.py:288: DeprecationWarning: distutils Version classes are deprecated. Use packaging.version instead.\n",
      "  if LooseVersion(ipywidgets.__version__) >= LooseVersion(\"7.0.0\"):\n"
     ]
    }
   ],
   "source": [
    "from bertopic import BERTopic\n",
    "from sentence_transformers import SentenceTransformer\n",
    "from umap import UMAP\n",
    "from hdbscan import HDBSCAN\n",
    "from sklearn.feature_extraction.text import CountVectorizer"
   ]
  },
  {
   "cell_type": "code",
   "execution_count": 46,
   "id": "e9f59298",
   "metadata": {},
   "outputs": [],
   "source": [
    "blue_states = pd.read_csv('/Users/lydiafield/Desktop/Semestre 1/Digital Methods/blue_states.csv')"
   ]
  },
  {
   "cell_type": "code",
   "execution_count": 54,
   "id": "bc317dfe",
   "metadata": {},
   "outputs": [
    {
     "data": {
      "application/vnd.jupyter.widget-view+json": {
       "model_id": "f6db721e9f7e455a981961b7a8a89ce1",
       "version_major": 2,
       "version_minor": 0
      },
      "text/plain": [
       "Batches:   0%|          | 0/155 [00:00<?, ?it/s]"
      ]
     },
     "metadata": {},
     "output_type": "display_data"
    },
    {
     "name": "stderr",
     "output_type": "stream",
     "text": [
      "2023-12-12 01:52:56,162 - BERTopic - Dimensionality - Fitting the dimensionality reduction algorithm\n",
      "2023-12-12 01:53:04,283 - BERTopic - Dimensionality - Completed ✓\n",
      "2023-12-12 01:53:04,286 - BERTopic - Cluster - Start clustering the reduced embeddings\n",
      "2023-12-12 01:53:04,360 - BERTopic - Cluster - Completed ✓\n",
      "2023-12-12 01:53:04,362 - BERTopic - Representation - Extracting topics from clusters using representation models.\n",
      "2023-12-12 01:53:04,527 - BERTopic - Representation - Completed ✓\n"
     ]
    }
   ],
   "source": [
    "docs=list(blue_states['Hit Sentence'])\n",
    "docs=[str(i) for i in docs]\n",
    "model = SentenceTransformer(\"all-MiniLM-L6-v2\")\n",
    "document_vectors = model.encode(docs,show_progress_bar=True)\n",
    "umap_model = UMAP(n_neighbors=15, n_components=5, min_dist=0.01, metric='cosine', random_state=42)\n",
    "hdbscan_model = HDBSCAN(min_cluster_size=10, min_samples=5, metric='euclidean', cluster_selection_method='eom')\n",
    "vectorizer = CountVectorizer(stop_words='english')\n",
    "topic_model = BERTopic(\n",
    "    embedding_model=model,\n",
    "    umap_model=umap_model,\n",
    "    hdbscan_model=hdbscan_model,\n",
    "    vectorizer_model=vectorizer,\n",
    "    verbose=True\n",
    ").fit(docs, document_vectors)\n",
    "bar_topic = topic_model.visualize_barchart(top_n_topics=20,n_words=10, title='Blue States Topics')"
   ]
  },
  {
   "cell_type": "code",
   "execution_count": 55,
   "id": "60f194e8",
   "metadata": {},
   "outputs": [
    {
     "name": "stderr",
     "output_type": "stream",
     "text": [
      "/Users/lydiafield/anaconda3/lib/python3.11/site-packages/plotly/io/_renderers.py:395: DeprecationWarning:\n",
      "\n",
      "distutils Version classes are deprecated. Use packaging.version instead.\n",
      "\n",
      "/Users/lydiafield/anaconda3/lib/python3.11/site-packages/plotly/io/_renderers.py:395: DeprecationWarning:\n",
      "\n",
      "distutils Version classes are deprecated. Use packaging.version instead.\n",
      "\n"
     ]
    },
    {
     "data": {
      "application/vnd.plotly.v1+json": {
       "config": {
        "plotlyServerURL": "https://plot.ly"
       },
       "data": [
        {
         "marker": {
          "color": "#D55E00"
         },
         "orientation": "h",
         "type": "bar",
         "x": [
          0.015070268782941246,
          0.015123968330761128,
          0.015275121518000784,
          0.015649780631549835,
          0.015832404754578037,
          0.01656037580991745,
          0.016643918874278563,
          0.028646576742324837,
          0.0325801954130444,
          0.05346295901988197
         ],
         "xaxis": "x",
         "y": [
          "legislation  ",
          "signed  ",
          "jb  ",
          "bans  ",
          "libraries  ",
          "nation  ",
          "gov  ",
          "state  ",
          "pritzker  ",
          "illinois  "
         ],
         "yaxis": "y"
        },
        {
         "marker": {
          "color": "#0072B2"
         },
         "orientation": "h",
         "type": "bar",
         "x": [
          0.008482691001442461,
          0.00891850560132606,
          0.00891850560132606,
          0.00891990932325354,
          0.009739613109120466,
          0.010509023748889615,
          0.0105646381776612,
          0.010840147051702054,
          0.012996365134501517,
          0.015201018758927352
         ],
         "xaxis": "x2",
         "y": [
          "shirt  ",
          "art  ",
          "levarburton  ",
          "sold  ",
          "books  ",
          "stories  ",
          "banning  ",
          "read  ",
          "book  ",
          "banned  "
         ],
         "yaxis": "y2"
        },
        {
         "marker": {
          "color": "#CC79A7"
         },
         "orientation": "h",
         "type": "bar",
         "x": [
          0.015326926740836114,
          0.01762883551224414,
          0.018624661993578515,
          0.01992761859329288,
          0.02036740310458592,
          0.02172408643897145,
          0.024859055515131002,
          0.033793754411701106,
          0.04176324473981771,
          0.07464808503108684
         ],
         "xaxis": "x3",
         "y": [
          "true  ",
          "fanatics  ",
          "asmcoreyjackson  ",
          "cagovernor  ",
          "freedom  ",
          "tonythurmond  ",
          "ca  ",
          "gavin  ",
          "newsom  ",
          "california  "
         ],
         "yaxis": "y3"
        },
        {
         "marker": {
          "color": "#E69F00"
         },
         "orientation": "h",
         "type": "bar",
         "x": [
          0.011494127236442055,
          0.012418879278783936,
          0.013871118029804176,
          0.01713011547258149,
          0.017625023814372733,
          0.01803245343874543,
          0.031633881351874865,
          0.03221612999817278,
          0.05663671460527829,
          0.06429065345084237
         ],
         "xaxis": "x4",
         "y": [
          "chapter  ",
          "quoted  ",
          "quoting  ",
          "hate  ",
          "quote  ",
          "newsletter  ",
          "group  ",
          "hitler  ",
          "liberty  ",
          "moms  "
         ],
         "yaxis": "y4"
        },
        {
         "marker": {
          "color": "#56B4E9"
         },
         "orientation": "h",
         "type": "bar",
         "x": [
          0.007389286142851927,
          0.007809247571344661,
          0.009201927683124408,
          0.010774563797406406,
          0.012494796114151458,
          0.013312785150624496,
          0.016524369149509596,
          0.03042304172220574,
          0.045318167570635726,
          0.07120125433429735
         ],
         "xaxis": "x5",
         "y": [
          "using  ",
          "carry  ",
          "presidential  ",
          "policies  ",
          "hoax  ",
          "trump  ",
          "disney  ",
          "florida  ",
          "ron  ",
          "desantis  "
         ],
         "yaxis": "y5"
        },
        {
         "marker": {
          "color": "#009E73"
         },
         "orientation": "h",
         "type": "bar",
         "x": [
          0.014749554792677061,
          0.01513267102519677,
          0.015502566432070528,
          0.016199180935586626,
          0.017085031587661444,
          0.01868337652229479,
          0.01878994006347739,
          0.01886539461999541,
          0.020081877725764852,
          0.027034419667137707
         ],
         "xaxis": "x6",
         "y": [
          "medicare  ",
          "ban  ",
          "gop  ",
          "republicans  ",
          "security  ",
          "party  ",
          "anti  ",
          "women  ",
          "pro  ",
          "abortion  "
         ],
         "yaxis": "y6"
        },
        {
         "marker": {
          "color": "#F0E442"
         },
         "orientation": "h",
         "type": "bar",
         "x": [
          0.016594749162702656,
          0.017394239781417863,
          0.01762764437413431,
          0.018342026820045612,
          0.01876099131446654,
          0.01876099131446654,
          0.01964888386634663,
          0.024201512900424008,
          0.029646237763277364,
          0.040290719858176456
         ],
         "xaxis": "x7",
         "y": [
          "harmful  ",
          "50  ",
          "world  ",
          "characters  ",
          "vital  ",
          "adolescents  ",
          "chelseaclinton  ",
          "themes  ",
          "lgbtq  ",
          "queer  "
         ],
         "yaxis": "y7"
        },
        {
         "marker": {
          "color": "#D55E00"
         },
         "orientation": "h",
         "type": "bar",
         "x": [
          0.02636642240124638,
          0.027033292246880287,
          0.029055537164452958,
          0.036136288053836646,
          0.04092470575947342,
          0.04515697827527123,
          0.06504023921857754,
          0.0751136203267949,
          0.085838796435216,
          0.08969610387730097
         ],
         "xaxis": "x8",
         "y": [
          "ban  ",
          "killing  ",
          "amarch4ourlives  ",
          "chant  ",
          "kids  ",
          "nashville  ",
          "drag  ",
          "tennessee  ",
          "body  ",
          "bags  "
         ],
         "yaxis": "y8"
        },
        {
         "marker": {
          "color": "#0072B2"
         },
         "orientation": "h",
         "type": "bar",
         "x": [
          0.015341879756267152,
          0.01579959448168178,
          0.01670627060003458,
          0.016757163613417014,
          0.01754074314922178,
          0.020113770717657176,
          0.021415341559559528,
          0.02448927288713946,
          0.033562917126809796,
          0.04970976503666777
         ],
         "xaxis": "x9",
         "y": [
          "kids  ",
          "gavinnewsom  ",
          "sexually  ",
          "scenes  ",
          "material  ",
          "pornographic  ",
          "explicit  ",
          "sex  ",
          "pornography  ",
          "porn  "
         ],
         "yaxis": "y9"
        },
        {
         "marker": {
          "color": "#CC79A7"
         },
         "orientation": "h",
         "type": "bar",
         "x": [
          0.011619309250364132,
          0.011721638970911245,
          0.012809052980664792,
          0.012828398536448455,
          0.013830344494459707,
          0.015402895509495279,
          0.020099750361212504,
          0.02205993667054177,
          0.03094812316541251,
          0.061016986065531124
         ],
         "xaxis": "x10",
         "y": [
          "proclamation  ",
          "authors  ",
          "kanye  ",
          "racist  ",
          "people  ",
          "slavery  ",
          "white  ",
          "racism  ",
          "history  ",
          "black  "
         ],
         "yaxis": "y10"
        },
        {
         "marker": {
          "color": "#E69F00"
         },
         "orientation": "h",
         "type": "bar",
         "x": [
          0.019542537784744764,
          0.01961228575044003,
          0.01987434884361929,
          0.02029723692063742,
          0.025675094814039037,
          0.04872875235244909,
          0.05835631467328239,
          0.07189227785868803,
          0.08375945098262019,
          0.09379577080562691
         ],
         "xaxis": "x11",
         "y": [
          "number  ",
          "students  ",
          "education  ",
          "williamson  ",
          "banning  ",
          "schools  ",
          "public  ",
          "really  ",
          "bad  ",
          "idea  "
         ],
         "yaxis": "y11"
        },
        {
         "marker": {
          "color": "#56B4E9"
         },
         "orientation": "h",
         "type": "bar",
         "x": [
          0.01260245535194439,
          0.012989538609390028,
          0.013533468316228791,
          0.013533468316228791,
          0.015305803750455206,
          0.017147851554972875,
          0.018903683027916587,
          0.019337305675585347,
          0.024492894056198984,
          0.027734178094499427
         ],
         "xaxis": "x12",
         "y": [
          "boebert  ",
          "conservatives  ",
          "circus  ",
          "salacious  ",
          "party  ",
          "patriotism  ",
          "espionage  ",
          "republicans  ",
          "gop  ",
          "republican  "
         ],
         "yaxis": "y12"
        },
        {
         "marker": {
          "color": "#009E73"
         },
         "orientation": "h",
         "type": "bar",
         "x": [
          0.019284611044356675,
          0.020359016805343237,
          0.020843123624819323,
          0.021227296118414524,
          0.021531384466184383,
          0.02171202876629453,
          0.02171202876629453,
          0.022545316444937333,
          0.0263148059089869,
          0.0263148059089869
         ],
         "xaxis": "x13",
         "y": [
          "total  ",
          "amazon  ",
          "buy  ",
          "jonfreadom  ",
          "parent  ",
          "road  ",
          "steps  ",
          "permission  ",
          "downplay  ",
          "d52tmczosn  "
         ],
         "yaxis": "y13"
        },
        {
         "marker": {
          "color": "#F0E442"
         },
         "orientation": "h",
         "type": "bar",
         "x": [
          0.017229971970842372,
          0.018581380162226,
          0.018984290082378494,
          0.018984290082378494,
          0.021291134238763217,
          0.02570788718907449,
          0.026164735712908598,
          0.030880210758463637,
          0.032067760605971246,
          0.03461876649350227
         ],
         "xaxis": "x14",
         "y": [
          "thread  ",
          "fight  ",
          "info  ",
          "letfreedomread  ",
          "celebrate  ",
          "action  ",
          "ala  ",
          "week  ",
          "bannedbooksweek  ",
          "day  "
         ],
         "yaxis": "y14"
        },
        {
         "marker": {
          "color": "#D55E00"
         },
         "orientation": "h",
         "type": "bar",
         "x": [
          0.014745805262268284,
          0.014760916741034111,
          0.015126629538761052,
          0.016252023387296317,
          0.016604767268380068,
          0.01876896578561144,
          0.019863584140028832,
          0.02123473428018038,
          0.02192612555504183,
          0.06925727677430862
         ],
         "xaxis": "x15",
         "y": [
          "democrats  ",
          "democracy  ",
          "replaced  ",
          "extreme  ",
          "reproductive  ",
          "fascism  ",
          "extremists  ",
          "cult  ",
          "republicans  ",
          "maga  "
         ],
         "yaxis": "y15"
        },
        {
         "marker": {
          "color": "#0072B2"
         },
         "orientation": "h",
         "type": "bar",
         "x": [
          0.01576193676695254,
          0.01619781247652753,
          0.016668691454366967,
          0.016865033815491558,
          0.01769108837719402,
          0.01972550576284413,
          0.02068467705703801,
          0.020739796414168996,
          0.021993274644769942,
          0.031201227405246574
         ],
         "xaxis": "x16",
         "y": [
          "age  ",
          "book  ",
          "children  ",
          "grades  ",
          "banned  ",
          "old  ",
          "aren  ",
          "diminished  ",
          "restricted  ",
          "appropriate  "
         ],
         "yaxis": "y16"
        },
        {
         "marker": {
          "color": "#CC79A7"
         },
         "orientation": "h",
         "type": "bar",
         "x": [
          0.015361567516965428,
          0.015521178809954394,
          0.01585421823270175,
          0.016582929555193478,
          0.017662199817970677,
          0.01816932696597357,
          0.019025061879242102,
          0.019636872397130408,
          0.026847646373947424,
          0.0711867737881971
         ],
         "xaxis": "x17",
         "y": [
          "proposed  ",
          "floridians  ",
          "21  ",
          "banned  ",
          "districts  ",
          "fl  ",
          "single  ",
          "laws  ",
          "566  ",
          "florida  "
         ],
         "yaxis": "y17"
        },
        {
         "marker": {
          "color": "#E69F00"
         },
         "orientation": "h",
         "type": "bar",
         "x": [
          1e-05,
          1e-05,
          1e-05,
          1e-05,
          1e-05,
          1e-05,
          1e-05,
          1e-05,
          1e-05,
          0.5829386225891857
         ],
         "xaxis": "x18",
         "y": [
          "  ",
          "  ",
          "  ",
          "  ",
          "  ",
          "  ",
          "  ",
          "  ",
          "  ",
          "nan  "
         ],
         "yaxis": "y18"
        },
        {
         "marker": {
          "color": "#56B4E9"
         },
         "orientation": "h",
         "type": "bar",
         "x": [
          0.01279635130554095,
          0.01279635130554095,
          0.016650173124239723,
          0.016938519801615703,
          0.01908167752379959,
          0.020830165897455136,
          0.023852096904749483,
          0.04492877860813715,
          0.054914030250942006,
          0.05524001417591325
         ],
         "xaxis": "x19",
         "y": [
          "jessanderson4va  ",
          "tedgenoways  ",
          "political  ",
          "forthcoming  ",
          "beliefs  ",
          "thankful  ",
          "respect  ",
          "fascists  ",
          "fascist  ",
          "fascism  "
         ],
         "yaxis": "y19"
        },
        {
         "marker": {
          "color": "#009E73"
         },
         "orientation": "h",
         "type": "bar",
         "x": [
          0.032108326227518115,
          0.03540521540399433,
          0.037212441101650506,
          0.03874936087330967,
          0.04081697446403985,
          0.04475979039210133,
          0.04478094161184822,
          0.047075798047620875,
          0.06809393199489724,
          0.07940517887045297
         ],
         "xaxis": "x20",
         "y": [
          "public  ",
          "catalog  ",
          "21  ",
          "aged  ",
          "access  ",
          "library  ",
          "13  ",
          "teens  ",
          "digital  ",
          "brooklyn  "
         ],
         "yaxis": "y20"
        }
       ],
       "layout": {
        "annotations": [
         {
          "font": {
           "size": 16
          },
          "showarrow": false,
          "text": "Topic 0",
          "x": 0.0875,
          "xanchor": "center",
          "xref": "paper",
          "y": 0.9999999999999999,
          "yanchor": "bottom",
          "yref": "paper"
         },
         {
          "font": {
           "size": 16
          },
          "showarrow": false,
          "text": "Topic 1",
          "x": 0.36250000000000004,
          "xanchor": "center",
          "xref": "paper",
          "y": 0.9999999999999999,
          "yanchor": "bottom",
          "yref": "paper"
         },
         {
          "font": {
           "size": 16
          },
          "showarrow": false,
          "text": "Topic 2",
          "x": 0.6375000000000001,
          "xanchor": "center",
          "xref": "paper",
          "y": 0.9999999999999999,
          "yanchor": "bottom",
          "yref": "paper"
         },
         {
          "font": {
           "size": 16
          },
          "showarrow": false,
          "text": "Topic 3",
          "x": 0.9125,
          "xanchor": "center",
          "xref": "paper",
          "y": 0.9999999999999999,
          "yanchor": "bottom",
          "yref": "paper"
         },
         {
          "font": {
           "size": 16
          },
          "showarrow": false,
          "text": "Topic 4",
          "x": 0.0875,
          "xanchor": "center",
          "xref": "paper",
          "y": 0.7839999999999999,
          "yanchor": "bottom",
          "yref": "paper"
         },
         {
          "font": {
           "size": 16
          },
          "showarrow": false,
          "text": "Topic 5",
          "x": 0.36250000000000004,
          "xanchor": "center",
          "xref": "paper",
          "y": 0.7839999999999999,
          "yanchor": "bottom",
          "yref": "paper"
         },
         {
          "font": {
           "size": 16
          },
          "showarrow": false,
          "text": "Topic 6",
          "x": 0.6375000000000001,
          "xanchor": "center",
          "xref": "paper",
          "y": 0.7839999999999999,
          "yanchor": "bottom",
          "yref": "paper"
         },
         {
          "font": {
           "size": 16
          },
          "showarrow": false,
          "text": "Topic 7",
          "x": 0.9125,
          "xanchor": "center",
          "xref": "paper",
          "y": 0.7839999999999999,
          "yanchor": "bottom",
          "yref": "paper"
         },
         {
          "font": {
           "size": 16
          },
          "showarrow": false,
          "text": "Topic 8",
          "x": 0.0875,
          "xanchor": "center",
          "xref": "paper",
          "y": 0.568,
          "yanchor": "bottom",
          "yref": "paper"
         },
         {
          "font": {
           "size": 16
          },
          "showarrow": false,
          "text": "Topic 9",
          "x": 0.36250000000000004,
          "xanchor": "center",
          "xref": "paper",
          "y": 0.568,
          "yanchor": "bottom",
          "yref": "paper"
         },
         {
          "font": {
           "size": 16
          },
          "showarrow": false,
          "text": "Topic 10",
          "x": 0.6375000000000001,
          "xanchor": "center",
          "xref": "paper",
          "y": 0.568,
          "yanchor": "bottom",
          "yref": "paper"
         },
         {
          "font": {
           "size": 16
          },
          "showarrow": false,
          "text": "Topic 11",
          "x": 0.9125,
          "xanchor": "center",
          "xref": "paper",
          "y": 0.568,
          "yanchor": "bottom",
          "yref": "paper"
         },
         {
          "font": {
           "size": 16
          },
          "showarrow": false,
          "text": "Topic 12",
          "x": 0.0875,
          "xanchor": "center",
          "xref": "paper",
          "y": 0.352,
          "yanchor": "bottom",
          "yref": "paper"
         },
         {
          "font": {
           "size": 16
          },
          "showarrow": false,
          "text": "Topic 13",
          "x": 0.36250000000000004,
          "xanchor": "center",
          "xref": "paper",
          "y": 0.352,
          "yanchor": "bottom",
          "yref": "paper"
         },
         {
          "font": {
           "size": 16
          },
          "showarrow": false,
          "text": "Topic 14",
          "x": 0.6375000000000001,
          "xanchor": "center",
          "xref": "paper",
          "y": 0.352,
          "yanchor": "bottom",
          "yref": "paper"
         },
         {
          "font": {
           "size": 16
          },
          "showarrow": false,
          "text": "Topic 15",
          "x": 0.9125,
          "xanchor": "center",
          "xref": "paper",
          "y": 0.352,
          "yanchor": "bottom",
          "yref": "paper"
         },
         {
          "font": {
           "size": 16
          },
          "showarrow": false,
          "text": "Topic 16",
          "x": 0.0875,
          "xanchor": "center",
          "xref": "paper",
          "y": 0.13599999999999998,
          "yanchor": "bottom",
          "yref": "paper"
         },
         {
          "font": {
           "size": 16
          },
          "showarrow": false,
          "text": "Topic 17",
          "x": 0.36250000000000004,
          "xanchor": "center",
          "xref": "paper",
          "y": 0.13599999999999998,
          "yanchor": "bottom",
          "yref": "paper"
         },
         {
          "font": {
           "size": 16
          },
          "showarrow": false,
          "text": "Topic 18",
          "x": 0.6375000000000001,
          "xanchor": "center",
          "xref": "paper",
          "y": 0.13599999999999998,
          "yanchor": "bottom",
          "yref": "paper"
         },
         {
          "font": {
           "size": 16
          },
          "showarrow": false,
          "text": "Topic 19",
          "x": 0.9125,
          "xanchor": "center",
          "xref": "paper",
          "y": 0.13599999999999998,
          "yanchor": "bottom",
          "yref": "paper"
         }
        ],
        "height": 1250,
        "hoverlabel": {
         "bgcolor": "white",
         "font": {
          "family": "Rockwell",
          "size": 16
         }
        },
        "showlegend": false,
        "template": {
         "data": {
          "bar": [
           {
            "error_x": {
             "color": "#2a3f5f"
            },
            "error_y": {
             "color": "#2a3f5f"
            },
            "marker": {
             "line": {
              "color": "white",
              "width": 0.5
             },
             "pattern": {
              "fillmode": "overlay",
              "size": 10,
              "solidity": 0.2
             }
            },
            "type": "bar"
           }
          ],
          "barpolar": [
           {
            "marker": {
             "line": {
              "color": "white",
              "width": 0.5
             },
             "pattern": {
              "fillmode": "overlay",
              "size": 10,
              "solidity": 0.2
             }
            },
            "type": "barpolar"
           }
          ],
          "carpet": [
           {
            "aaxis": {
             "endlinecolor": "#2a3f5f",
             "gridcolor": "#C8D4E3",
             "linecolor": "#C8D4E3",
             "minorgridcolor": "#C8D4E3",
             "startlinecolor": "#2a3f5f"
            },
            "baxis": {
             "endlinecolor": "#2a3f5f",
             "gridcolor": "#C8D4E3",
             "linecolor": "#C8D4E3",
             "minorgridcolor": "#C8D4E3",
             "startlinecolor": "#2a3f5f"
            },
            "type": "carpet"
           }
          ],
          "choropleth": [
           {
            "colorbar": {
             "outlinewidth": 0,
             "ticks": ""
            },
            "type": "choropleth"
           }
          ],
          "contour": [
           {
            "colorbar": {
             "outlinewidth": 0,
             "ticks": ""
            },
            "colorscale": [
             [
              0,
              "#0d0887"
             ],
             [
              0.1111111111111111,
              "#46039f"
             ],
             [
              0.2222222222222222,
              "#7201a8"
             ],
             [
              0.3333333333333333,
              "#9c179e"
             ],
             [
              0.4444444444444444,
              "#bd3786"
             ],
             [
              0.5555555555555556,
              "#d8576b"
             ],
             [
              0.6666666666666666,
              "#ed7953"
             ],
             [
              0.7777777777777778,
              "#fb9f3a"
             ],
             [
              0.8888888888888888,
              "#fdca26"
             ],
             [
              1,
              "#f0f921"
             ]
            ],
            "type": "contour"
           }
          ],
          "contourcarpet": [
           {
            "colorbar": {
             "outlinewidth": 0,
             "ticks": ""
            },
            "type": "contourcarpet"
           }
          ],
          "heatmap": [
           {
            "colorbar": {
             "outlinewidth": 0,
             "ticks": ""
            },
            "colorscale": [
             [
              0,
              "#0d0887"
             ],
             [
              0.1111111111111111,
              "#46039f"
             ],
             [
              0.2222222222222222,
              "#7201a8"
             ],
             [
              0.3333333333333333,
              "#9c179e"
             ],
             [
              0.4444444444444444,
              "#bd3786"
             ],
             [
              0.5555555555555556,
              "#d8576b"
             ],
             [
              0.6666666666666666,
              "#ed7953"
             ],
             [
              0.7777777777777778,
              "#fb9f3a"
             ],
             [
              0.8888888888888888,
              "#fdca26"
             ],
             [
              1,
              "#f0f921"
             ]
            ],
            "type": "heatmap"
           }
          ],
          "heatmapgl": [
           {
            "colorbar": {
             "outlinewidth": 0,
             "ticks": ""
            },
            "colorscale": [
             [
              0,
              "#0d0887"
             ],
             [
              0.1111111111111111,
              "#46039f"
             ],
             [
              0.2222222222222222,
              "#7201a8"
             ],
             [
              0.3333333333333333,
              "#9c179e"
             ],
             [
              0.4444444444444444,
              "#bd3786"
             ],
             [
              0.5555555555555556,
              "#d8576b"
             ],
             [
              0.6666666666666666,
              "#ed7953"
             ],
             [
              0.7777777777777778,
              "#fb9f3a"
             ],
             [
              0.8888888888888888,
              "#fdca26"
             ],
             [
              1,
              "#f0f921"
             ]
            ],
            "type": "heatmapgl"
           }
          ],
          "histogram": [
           {
            "marker": {
             "pattern": {
              "fillmode": "overlay",
              "size": 10,
              "solidity": 0.2
             }
            },
            "type": "histogram"
           }
          ],
          "histogram2d": [
           {
            "colorbar": {
             "outlinewidth": 0,
             "ticks": ""
            },
            "colorscale": [
             [
              0,
              "#0d0887"
             ],
             [
              0.1111111111111111,
              "#46039f"
             ],
             [
              0.2222222222222222,
              "#7201a8"
             ],
             [
              0.3333333333333333,
              "#9c179e"
             ],
             [
              0.4444444444444444,
              "#bd3786"
             ],
             [
              0.5555555555555556,
              "#d8576b"
             ],
             [
              0.6666666666666666,
              "#ed7953"
             ],
             [
              0.7777777777777778,
              "#fb9f3a"
             ],
             [
              0.8888888888888888,
              "#fdca26"
             ],
             [
              1,
              "#f0f921"
             ]
            ],
            "type": "histogram2d"
           }
          ],
          "histogram2dcontour": [
           {
            "colorbar": {
             "outlinewidth": 0,
             "ticks": ""
            },
            "colorscale": [
             [
              0,
              "#0d0887"
             ],
             [
              0.1111111111111111,
              "#46039f"
             ],
             [
              0.2222222222222222,
              "#7201a8"
             ],
             [
              0.3333333333333333,
              "#9c179e"
             ],
             [
              0.4444444444444444,
              "#bd3786"
             ],
             [
              0.5555555555555556,
              "#d8576b"
             ],
             [
              0.6666666666666666,
              "#ed7953"
             ],
             [
              0.7777777777777778,
              "#fb9f3a"
             ],
             [
              0.8888888888888888,
              "#fdca26"
             ],
             [
              1,
              "#f0f921"
             ]
            ],
            "type": "histogram2dcontour"
           }
          ],
          "mesh3d": [
           {
            "colorbar": {
             "outlinewidth": 0,
             "ticks": ""
            },
            "type": "mesh3d"
           }
          ],
          "parcoords": [
           {
            "line": {
             "colorbar": {
              "outlinewidth": 0,
              "ticks": ""
             }
            },
            "type": "parcoords"
           }
          ],
          "pie": [
           {
            "automargin": true,
            "type": "pie"
           }
          ],
          "scatter": [
           {
            "fillpattern": {
             "fillmode": "overlay",
             "size": 10,
             "solidity": 0.2
            },
            "type": "scatter"
           }
          ],
          "scatter3d": [
           {
            "line": {
             "colorbar": {
              "outlinewidth": 0,
              "ticks": ""
             }
            },
            "marker": {
             "colorbar": {
              "outlinewidth": 0,
              "ticks": ""
             }
            },
            "type": "scatter3d"
           }
          ],
          "scattercarpet": [
           {
            "marker": {
             "colorbar": {
              "outlinewidth": 0,
              "ticks": ""
             }
            },
            "type": "scattercarpet"
           }
          ],
          "scattergeo": [
           {
            "marker": {
             "colorbar": {
              "outlinewidth": 0,
              "ticks": ""
             }
            },
            "type": "scattergeo"
           }
          ],
          "scattergl": [
           {
            "marker": {
             "colorbar": {
              "outlinewidth": 0,
              "ticks": ""
             }
            },
            "type": "scattergl"
           }
          ],
          "scattermapbox": [
           {
            "marker": {
             "colorbar": {
              "outlinewidth": 0,
              "ticks": ""
             }
            },
            "type": "scattermapbox"
           }
          ],
          "scatterpolar": [
           {
            "marker": {
             "colorbar": {
              "outlinewidth": 0,
              "ticks": ""
             }
            },
            "type": "scatterpolar"
           }
          ],
          "scatterpolargl": [
           {
            "marker": {
             "colorbar": {
              "outlinewidth": 0,
              "ticks": ""
             }
            },
            "type": "scatterpolargl"
           }
          ],
          "scatterternary": [
           {
            "marker": {
             "colorbar": {
              "outlinewidth": 0,
              "ticks": ""
             }
            },
            "type": "scatterternary"
           }
          ],
          "surface": [
           {
            "colorbar": {
             "outlinewidth": 0,
             "ticks": ""
            },
            "colorscale": [
             [
              0,
              "#0d0887"
             ],
             [
              0.1111111111111111,
              "#46039f"
             ],
             [
              0.2222222222222222,
              "#7201a8"
             ],
             [
              0.3333333333333333,
              "#9c179e"
             ],
             [
              0.4444444444444444,
              "#bd3786"
             ],
             [
              0.5555555555555556,
              "#d8576b"
             ],
             [
              0.6666666666666666,
              "#ed7953"
             ],
             [
              0.7777777777777778,
              "#fb9f3a"
             ],
             [
              0.8888888888888888,
              "#fdca26"
             ],
             [
              1,
              "#f0f921"
             ]
            ],
            "type": "surface"
           }
          ],
          "table": [
           {
            "cells": {
             "fill": {
              "color": "#EBF0F8"
             },
             "line": {
              "color": "white"
             }
            },
            "header": {
             "fill": {
              "color": "#C8D4E3"
             },
             "line": {
              "color": "white"
             }
            },
            "type": "table"
           }
          ]
         },
         "layout": {
          "annotationdefaults": {
           "arrowcolor": "#2a3f5f",
           "arrowhead": 0,
           "arrowwidth": 1
          },
          "autotypenumbers": "strict",
          "coloraxis": {
           "colorbar": {
            "outlinewidth": 0,
            "ticks": ""
           }
          },
          "colorscale": {
           "diverging": [
            [
             0,
             "#8e0152"
            ],
            [
             0.1,
             "#c51b7d"
            ],
            [
             0.2,
             "#de77ae"
            ],
            [
             0.3,
             "#f1b6da"
            ],
            [
             0.4,
             "#fde0ef"
            ],
            [
             0.5,
             "#f7f7f7"
            ],
            [
             0.6,
             "#e6f5d0"
            ],
            [
             0.7,
             "#b8e186"
            ],
            [
             0.8,
             "#7fbc41"
            ],
            [
             0.9,
             "#4d9221"
            ],
            [
             1,
             "#276419"
            ]
           ],
           "sequential": [
            [
             0,
             "#0d0887"
            ],
            [
             0.1111111111111111,
             "#46039f"
            ],
            [
             0.2222222222222222,
             "#7201a8"
            ],
            [
             0.3333333333333333,
             "#9c179e"
            ],
            [
             0.4444444444444444,
             "#bd3786"
            ],
            [
             0.5555555555555556,
             "#d8576b"
            ],
            [
             0.6666666666666666,
             "#ed7953"
            ],
            [
             0.7777777777777778,
             "#fb9f3a"
            ],
            [
             0.8888888888888888,
             "#fdca26"
            ],
            [
             1,
             "#f0f921"
            ]
           ],
           "sequentialminus": [
            [
             0,
             "#0d0887"
            ],
            [
             0.1111111111111111,
             "#46039f"
            ],
            [
             0.2222222222222222,
             "#7201a8"
            ],
            [
             0.3333333333333333,
             "#9c179e"
            ],
            [
             0.4444444444444444,
             "#bd3786"
            ],
            [
             0.5555555555555556,
             "#d8576b"
            ],
            [
             0.6666666666666666,
             "#ed7953"
            ],
            [
             0.7777777777777778,
             "#fb9f3a"
            ],
            [
             0.8888888888888888,
             "#fdca26"
            ],
            [
             1,
             "#f0f921"
            ]
           ]
          },
          "colorway": [
           "#636efa",
           "#EF553B",
           "#00cc96",
           "#ab63fa",
           "#FFA15A",
           "#19d3f3",
           "#FF6692",
           "#B6E880",
           "#FF97FF",
           "#FECB52"
          ],
          "font": {
           "color": "#2a3f5f"
          },
          "geo": {
           "bgcolor": "white",
           "lakecolor": "white",
           "landcolor": "white",
           "showlakes": true,
           "showland": true,
           "subunitcolor": "#C8D4E3"
          },
          "hoverlabel": {
           "align": "left"
          },
          "hovermode": "closest",
          "mapbox": {
           "style": "light"
          },
          "paper_bgcolor": "white",
          "plot_bgcolor": "white",
          "polar": {
           "angularaxis": {
            "gridcolor": "#EBF0F8",
            "linecolor": "#EBF0F8",
            "ticks": ""
           },
           "bgcolor": "white",
           "radialaxis": {
            "gridcolor": "#EBF0F8",
            "linecolor": "#EBF0F8",
            "ticks": ""
           }
          },
          "scene": {
           "xaxis": {
            "backgroundcolor": "white",
            "gridcolor": "#DFE8F3",
            "gridwidth": 2,
            "linecolor": "#EBF0F8",
            "showbackground": true,
            "ticks": "",
            "zerolinecolor": "#EBF0F8"
           },
           "yaxis": {
            "backgroundcolor": "white",
            "gridcolor": "#DFE8F3",
            "gridwidth": 2,
            "linecolor": "#EBF0F8",
            "showbackground": true,
            "ticks": "",
            "zerolinecolor": "#EBF0F8"
           },
           "zaxis": {
            "backgroundcolor": "white",
            "gridcolor": "#DFE8F3",
            "gridwidth": 2,
            "linecolor": "#EBF0F8",
            "showbackground": true,
            "ticks": "",
            "zerolinecolor": "#EBF0F8"
           }
          },
          "shapedefaults": {
           "line": {
            "color": "#2a3f5f"
           }
          },
          "ternary": {
           "aaxis": {
            "gridcolor": "#DFE8F3",
            "linecolor": "#A2B1C6",
            "ticks": ""
           },
           "baxis": {
            "gridcolor": "#DFE8F3",
            "linecolor": "#A2B1C6",
            "ticks": ""
           },
           "bgcolor": "white",
           "caxis": {
            "gridcolor": "#DFE8F3",
            "linecolor": "#A2B1C6",
            "ticks": ""
           }
          },
          "title": {
           "x": 0.05
          },
          "xaxis": {
           "automargin": true,
           "gridcolor": "#EBF0F8",
           "linecolor": "#EBF0F8",
           "ticks": "",
           "title": {
            "standoff": 15
           },
           "zerolinecolor": "#EBF0F8",
           "zerolinewidth": 2
          },
          "yaxis": {
           "automargin": true,
           "gridcolor": "#EBF0F8",
           "linecolor": "#EBF0F8",
           "ticks": "",
           "title": {
            "standoff": 15
           },
           "zerolinecolor": "#EBF0F8",
           "zerolinewidth": 2
          }
         }
        },
        "title": {
         "font": {
          "color": "Black",
          "size": 22
         },
         "text": "Blue States Topics",
         "x": 0.5,
         "xanchor": "center",
         "yanchor": "top"
        },
        "width": 1000,
        "xaxis": {
         "anchor": "y",
         "domain": [
          0,
          0.175
         ],
         "showgrid": true
        },
        "xaxis10": {
         "anchor": "y10",
         "domain": [
          0.275,
          0.45
         ],
         "showgrid": true
        },
        "xaxis11": {
         "anchor": "y11",
         "domain": [
          0.55,
          0.7250000000000001
         ],
         "showgrid": true
        },
        "xaxis12": {
         "anchor": "y12",
         "domain": [
          0.825,
          1
         ],
         "showgrid": true
        },
        "xaxis13": {
         "anchor": "y13",
         "domain": [
          0,
          0.175
         ],
         "showgrid": true
        },
        "xaxis14": {
         "anchor": "y14",
         "domain": [
          0.275,
          0.45
         ],
         "showgrid": true
        },
        "xaxis15": {
         "anchor": "y15",
         "domain": [
          0.55,
          0.7250000000000001
         ],
         "showgrid": true
        },
        "xaxis16": {
         "anchor": "y16",
         "domain": [
          0.825,
          1
         ],
         "showgrid": true
        },
        "xaxis17": {
         "anchor": "y17",
         "domain": [
          0,
          0.175
         ],
         "showgrid": true
        },
        "xaxis18": {
         "anchor": "y18",
         "domain": [
          0.275,
          0.45
         ],
         "showgrid": true
        },
        "xaxis19": {
         "anchor": "y19",
         "domain": [
          0.55,
          0.7250000000000001
         ],
         "showgrid": true
        },
        "xaxis2": {
         "anchor": "y2",
         "domain": [
          0.275,
          0.45
         ],
         "showgrid": true
        },
        "xaxis20": {
         "anchor": "y20",
         "domain": [
          0.825,
          1
         ],
         "showgrid": true
        },
        "xaxis3": {
         "anchor": "y3",
         "domain": [
          0.55,
          0.7250000000000001
         ],
         "showgrid": true
        },
        "xaxis4": {
         "anchor": "y4",
         "domain": [
          0.825,
          1
         ],
         "showgrid": true
        },
        "xaxis5": {
         "anchor": "y5",
         "domain": [
          0,
          0.175
         ],
         "showgrid": true
        },
        "xaxis6": {
         "anchor": "y6",
         "domain": [
          0.275,
          0.45
         ],
         "showgrid": true
        },
        "xaxis7": {
         "anchor": "y7",
         "domain": [
          0.55,
          0.7250000000000001
         ],
         "showgrid": true
        },
        "xaxis8": {
         "anchor": "y8",
         "domain": [
          0.825,
          1
         ],
         "showgrid": true
        },
        "xaxis9": {
         "anchor": "y9",
         "domain": [
          0,
          0.175
         ],
         "showgrid": true
        },
        "yaxis": {
         "anchor": "x",
         "domain": [
          0.8639999999999999,
          0.9999999999999999
         ],
         "showgrid": true
        },
        "yaxis10": {
         "anchor": "x10",
         "domain": [
          0.43199999999999994,
          0.568
         ],
         "showgrid": true
        },
        "yaxis11": {
         "anchor": "x11",
         "domain": [
          0.43199999999999994,
          0.568
         ],
         "showgrid": true
        },
        "yaxis12": {
         "anchor": "x12",
         "domain": [
          0.43199999999999994,
          0.568
         ],
         "showgrid": true
        },
        "yaxis13": {
         "anchor": "x13",
         "domain": [
          0.21599999999999997,
          0.352
         ],
         "showgrid": true
        },
        "yaxis14": {
         "anchor": "x14",
         "domain": [
          0.21599999999999997,
          0.352
         ],
         "showgrid": true
        },
        "yaxis15": {
         "anchor": "x15",
         "domain": [
          0.21599999999999997,
          0.352
         ],
         "showgrid": true
        },
        "yaxis16": {
         "anchor": "x16",
         "domain": [
          0.21599999999999997,
          0.352
         ],
         "showgrid": true
        },
        "yaxis17": {
         "anchor": "x17",
         "domain": [
          0,
          0.13599999999999998
         ],
         "showgrid": true
        },
        "yaxis18": {
         "anchor": "x18",
         "domain": [
          0,
          0.13599999999999998
         ],
         "showgrid": true
        },
        "yaxis19": {
         "anchor": "x19",
         "domain": [
          0,
          0.13599999999999998
         ],
         "showgrid": true
        },
        "yaxis2": {
         "anchor": "x2",
         "domain": [
          0.8639999999999999,
          0.9999999999999999
         ],
         "showgrid": true
        },
        "yaxis20": {
         "anchor": "x20",
         "domain": [
          0,
          0.13599999999999998
         ],
         "showgrid": true
        },
        "yaxis3": {
         "anchor": "x3",
         "domain": [
          0.8639999999999999,
          0.9999999999999999
         ],
         "showgrid": true
        },
        "yaxis4": {
         "anchor": "x4",
         "domain": [
          0.8639999999999999,
          0.9999999999999999
         ],
         "showgrid": true
        },
        "yaxis5": {
         "anchor": "x5",
         "domain": [
          0.6479999999999999,
          0.7839999999999999
         ],
         "showgrid": true
        },
        "yaxis6": {
         "anchor": "x6",
         "domain": [
          0.6479999999999999,
          0.7839999999999999
         ],
         "showgrid": true
        },
        "yaxis7": {
         "anchor": "x7",
         "domain": [
          0.6479999999999999,
          0.7839999999999999
         ],
         "showgrid": true
        },
        "yaxis8": {
         "anchor": "x8",
         "domain": [
          0.6479999999999999,
          0.7839999999999999
         ],
         "showgrid": true
        },
        "yaxis9": {
         "anchor": "x9",
         "domain": [
          0.43199999999999994,
          0.568
         ],
         "showgrid": true
        }
       }
      },
      "text/html": [
       "<div>                            <div id=\"3e846dcc-d605-4a0c-bef0-695d3b9e9d29\" class=\"plotly-graph-div\" style=\"height:1250px; width:1000px;\"></div>            <script type=\"text/javascript\">                require([\"plotly\"], function(Plotly) {                    window.PLOTLYENV=window.PLOTLYENV || {};                                    if (document.getElementById(\"3e846dcc-d605-4a0c-bef0-695d3b9e9d29\")) {                    Plotly.newPlot(                        \"3e846dcc-d605-4a0c-bef0-695d3b9e9d29\",                        [{\"marker\":{\"color\":\"#D55E00\"},\"orientation\":\"h\",\"x\":[0.015070268782941246,0.015123968330761128,0.015275121518000784,0.015649780631549835,0.015832404754578037,0.01656037580991745,0.016643918874278563,0.028646576742324837,0.0325801954130444,0.05346295901988197],\"y\":[\"legislation  \",\"signed  \",\"jb  \",\"bans  \",\"libraries  \",\"nation  \",\"gov  \",\"state  \",\"pritzker  \",\"illinois  \"],\"type\":\"bar\",\"xaxis\":\"x\",\"yaxis\":\"y\"},{\"marker\":{\"color\":\"#0072B2\"},\"orientation\":\"h\",\"x\":[0.008482691001442461,0.00891850560132606,0.00891850560132606,0.00891990932325354,0.009739613109120466,0.010509023748889615,0.0105646381776612,0.010840147051702054,0.012996365134501517,0.015201018758927352],\"y\":[\"shirt  \",\"art  \",\"levarburton  \",\"sold  \",\"books  \",\"stories  \",\"banning  \",\"read  \",\"book  \",\"banned  \"],\"type\":\"bar\",\"xaxis\":\"x2\",\"yaxis\":\"y2\"},{\"marker\":{\"color\":\"#CC79A7\"},\"orientation\":\"h\",\"x\":[0.015326926740836114,0.01762883551224414,0.018624661993578515,0.01992761859329288,0.02036740310458592,0.02172408643897145,0.024859055515131002,0.033793754411701106,0.04176324473981771,0.07464808503108684],\"y\":[\"true  \",\"fanatics  \",\"asmcoreyjackson  \",\"cagovernor  \",\"freedom  \",\"tonythurmond  \",\"ca  \",\"gavin  \",\"newsom  \",\"california  \"],\"type\":\"bar\",\"xaxis\":\"x3\",\"yaxis\":\"y3\"},{\"marker\":{\"color\":\"#E69F00\"},\"orientation\":\"h\",\"x\":[0.011494127236442055,0.012418879278783936,0.013871118029804176,0.01713011547258149,0.017625023814372733,0.01803245343874543,0.031633881351874865,0.03221612999817278,0.05663671460527829,0.06429065345084237],\"y\":[\"chapter  \",\"quoted  \",\"quoting  \",\"hate  \",\"quote  \",\"newsletter  \",\"group  \",\"hitler  \",\"liberty  \",\"moms  \"],\"type\":\"bar\",\"xaxis\":\"x4\",\"yaxis\":\"y4\"},{\"marker\":{\"color\":\"#56B4E9\"},\"orientation\":\"h\",\"x\":[0.007389286142851927,0.007809247571344661,0.009201927683124408,0.010774563797406406,0.012494796114151458,0.013312785150624496,0.016524369149509596,0.03042304172220574,0.045318167570635726,0.07120125433429735],\"y\":[\"using  \",\"carry  \",\"presidential  \",\"policies  \",\"hoax  \",\"trump  \",\"disney  \",\"florida  \",\"ron  \",\"desantis  \"],\"type\":\"bar\",\"xaxis\":\"x5\",\"yaxis\":\"y5\"},{\"marker\":{\"color\":\"#009E73\"},\"orientation\":\"h\",\"x\":[0.014749554792677061,0.01513267102519677,0.015502566432070528,0.016199180935586626,0.017085031587661444,0.01868337652229479,0.01878994006347739,0.01886539461999541,0.020081877725764852,0.027034419667137707],\"y\":[\"medicare  \",\"ban  \",\"gop  \",\"republicans  \",\"security  \",\"party  \",\"anti  \",\"women  \",\"pro  \",\"abortion  \"],\"type\":\"bar\",\"xaxis\":\"x6\",\"yaxis\":\"y6\"},{\"marker\":{\"color\":\"#F0E442\"},\"orientation\":\"h\",\"x\":[0.016594749162702656,0.017394239781417863,0.01762764437413431,0.018342026820045612,0.01876099131446654,0.01876099131446654,0.01964888386634663,0.024201512900424008,0.029646237763277364,0.040290719858176456],\"y\":[\"harmful  \",\"50  \",\"world  \",\"characters  \",\"vital  \",\"adolescents  \",\"chelseaclinton  \",\"themes  \",\"lgbtq  \",\"queer  \"],\"type\":\"bar\",\"xaxis\":\"x7\",\"yaxis\":\"y7\"},{\"marker\":{\"color\":\"#D55E00\"},\"orientation\":\"h\",\"x\":[0.02636642240124638,0.027033292246880287,0.029055537164452958,0.036136288053836646,0.04092470575947342,0.04515697827527123,0.06504023921857754,0.0751136203267949,0.085838796435216,0.08969610387730097],\"y\":[\"ban  \",\"killing  \",\"amarch4ourlives  \",\"chant  \",\"kids  \",\"nashville  \",\"drag  \",\"tennessee  \",\"body  \",\"bags  \"],\"type\":\"bar\",\"xaxis\":\"x8\",\"yaxis\":\"y8\"},{\"marker\":{\"color\":\"#0072B2\"},\"orientation\":\"h\",\"x\":[0.015341879756267152,0.01579959448168178,0.01670627060003458,0.016757163613417014,0.01754074314922178,0.020113770717657176,0.021415341559559528,0.02448927288713946,0.033562917126809796,0.04970976503666777],\"y\":[\"kids  \",\"gavinnewsom  \",\"sexually  \",\"scenes  \",\"material  \",\"pornographic  \",\"explicit  \",\"sex  \",\"pornography  \",\"porn  \"],\"type\":\"bar\",\"xaxis\":\"x9\",\"yaxis\":\"y9\"},{\"marker\":{\"color\":\"#CC79A7\"},\"orientation\":\"h\",\"x\":[0.011619309250364132,0.011721638970911245,0.012809052980664792,0.012828398536448455,0.013830344494459707,0.015402895509495279,0.020099750361212504,0.02205993667054177,0.03094812316541251,0.061016986065531124],\"y\":[\"proclamation  \",\"authors  \",\"kanye  \",\"racist  \",\"people  \",\"slavery  \",\"white  \",\"racism  \",\"history  \",\"black  \"],\"type\":\"bar\",\"xaxis\":\"x10\",\"yaxis\":\"y10\"},{\"marker\":{\"color\":\"#E69F00\"},\"orientation\":\"h\",\"x\":[0.019542537784744764,0.01961228575044003,0.01987434884361929,0.02029723692063742,0.025675094814039037,0.04872875235244909,0.05835631467328239,0.07189227785868803,0.08375945098262019,0.09379577080562691],\"y\":[\"number  \",\"students  \",\"education  \",\"williamson  \",\"banning  \",\"schools  \",\"public  \",\"really  \",\"bad  \",\"idea  \"],\"type\":\"bar\",\"xaxis\":\"x11\",\"yaxis\":\"y11\"},{\"marker\":{\"color\":\"#56B4E9\"},\"orientation\":\"h\",\"x\":[0.01260245535194439,0.012989538609390028,0.013533468316228791,0.013533468316228791,0.015305803750455206,0.017147851554972875,0.018903683027916587,0.019337305675585347,0.024492894056198984,0.027734178094499427],\"y\":[\"boebert  \",\"conservatives  \",\"circus  \",\"salacious  \",\"party  \",\"patriotism  \",\"espionage  \",\"republicans  \",\"gop  \",\"republican  \"],\"type\":\"bar\",\"xaxis\":\"x12\",\"yaxis\":\"y12\"},{\"marker\":{\"color\":\"#009E73\"},\"orientation\":\"h\",\"x\":[0.019284611044356675,0.020359016805343237,0.020843123624819323,0.021227296118414524,0.021531384466184383,0.02171202876629453,0.02171202876629453,0.022545316444937333,0.0263148059089869,0.0263148059089869],\"y\":[\"total  \",\"amazon  \",\"buy  \",\"jonfreadom  \",\"parent  \",\"road  \",\"steps  \",\"permission  \",\"downplay  \",\"d52tmczosn  \"],\"type\":\"bar\",\"xaxis\":\"x13\",\"yaxis\":\"y13\"},{\"marker\":{\"color\":\"#F0E442\"},\"orientation\":\"h\",\"x\":[0.017229971970842372,0.018581380162226,0.018984290082378494,0.018984290082378494,0.021291134238763217,0.02570788718907449,0.026164735712908598,0.030880210758463637,0.032067760605971246,0.03461876649350227],\"y\":[\"thread  \",\"fight  \",\"info  \",\"letfreedomread  \",\"celebrate  \",\"action  \",\"ala  \",\"week  \",\"bannedbooksweek  \",\"day  \"],\"type\":\"bar\",\"xaxis\":\"x14\",\"yaxis\":\"y14\"},{\"marker\":{\"color\":\"#D55E00\"},\"orientation\":\"h\",\"x\":[0.014745805262268284,0.014760916741034111,0.015126629538761052,0.016252023387296317,0.016604767268380068,0.01876896578561144,0.019863584140028832,0.02123473428018038,0.02192612555504183,0.06925727677430862],\"y\":[\"democrats  \",\"democracy  \",\"replaced  \",\"extreme  \",\"reproductive  \",\"fascism  \",\"extremists  \",\"cult  \",\"republicans  \",\"maga  \"],\"type\":\"bar\",\"xaxis\":\"x15\",\"yaxis\":\"y15\"},{\"marker\":{\"color\":\"#0072B2\"},\"orientation\":\"h\",\"x\":[0.01576193676695254,0.01619781247652753,0.016668691454366967,0.016865033815491558,0.01769108837719402,0.01972550576284413,0.02068467705703801,0.020739796414168996,0.021993274644769942,0.031201227405246574],\"y\":[\"age  \",\"book  \",\"children  \",\"grades  \",\"banned  \",\"old  \",\"aren  \",\"diminished  \",\"restricted  \",\"appropriate  \"],\"type\":\"bar\",\"xaxis\":\"x16\",\"yaxis\":\"y16\"},{\"marker\":{\"color\":\"#CC79A7\"},\"orientation\":\"h\",\"x\":[0.015361567516965428,0.015521178809954394,0.01585421823270175,0.016582929555193478,0.017662199817970677,0.01816932696597357,0.019025061879242102,0.019636872397130408,0.026847646373947424,0.0711867737881971],\"y\":[\"proposed  \",\"floridians  \",\"21  \",\"banned  \",\"districts  \",\"fl  \",\"single  \",\"laws  \",\"566  \",\"florida  \"],\"type\":\"bar\",\"xaxis\":\"x17\",\"yaxis\":\"y17\"},{\"marker\":{\"color\":\"#E69F00\"},\"orientation\":\"h\",\"x\":[1e-05,1e-05,1e-05,1e-05,1e-05,1e-05,1e-05,1e-05,1e-05,0.5829386225891857],\"y\":[\"  \",\"  \",\"  \",\"  \",\"  \",\"  \",\"  \",\"  \",\"  \",\"nan  \"],\"type\":\"bar\",\"xaxis\":\"x18\",\"yaxis\":\"y18\"},{\"marker\":{\"color\":\"#56B4E9\"},\"orientation\":\"h\",\"x\":[0.01279635130554095,0.01279635130554095,0.016650173124239723,0.016938519801615703,0.01908167752379959,0.020830165897455136,0.023852096904749483,0.04492877860813715,0.054914030250942006,0.05524001417591325],\"y\":[\"jessanderson4va  \",\"tedgenoways  \",\"political  \",\"forthcoming  \",\"beliefs  \",\"thankful  \",\"respect  \",\"fascists  \",\"fascist  \",\"fascism  \"],\"type\":\"bar\",\"xaxis\":\"x19\",\"yaxis\":\"y19\"},{\"marker\":{\"color\":\"#009E73\"},\"orientation\":\"h\",\"x\":[0.032108326227518115,0.03540521540399433,0.037212441101650506,0.03874936087330967,0.04081697446403985,0.04475979039210133,0.04478094161184822,0.047075798047620875,0.06809393199489724,0.07940517887045297],\"y\":[\"public  \",\"catalog  \",\"21  \",\"aged  \",\"access  \",\"library  \",\"13  \",\"teens  \",\"digital  \",\"brooklyn  \"],\"type\":\"bar\",\"xaxis\":\"x20\",\"yaxis\":\"y20\"}],                        {\"template\":{\"data\":{\"barpolar\":[{\"marker\":{\"line\":{\"color\":\"white\",\"width\":0.5},\"pattern\":{\"fillmode\":\"overlay\",\"size\":10,\"solidity\":0.2}},\"type\":\"barpolar\"}],\"bar\":[{\"error_x\":{\"color\":\"#2a3f5f\"},\"error_y\":{\"color\":\"#2a3f5f\"},\"marker\":{\"line\":{\"color\":\"white\",\"width\":0.5},\"pattern\":{\"fillmode\":\"overlay\",\"size\":10,\"solidity\":0.2}},\"type\":\"bar\"}],\"carpet\":[{\"aaxis\":{\"endlinecolor\":\"#2a3f5f\",\"gridcolor\":\"#C8D4E3\",\"linecolor\":\"#C8D4E3\",\"minorgridcolor\":\"#C8D4E3\",\"startlinecolor\":\"#2a3f5f\"},\"baxis\":{\"endlinecolor\":\"#2a3f5f\",\"gridcolor\":\"#C8D4E3\",\"linecolor\":\"#C8D4E3\",\"minorgridcolor\":\"#C8D4E3\",\"startlinecolor\":\"#2a3f5f\"},\"type\":\"carpet\"}],\"choropleth\":[{\"colorbar\":{\"outlinewidth\":0,\"ticks\":\"\"},\"type\":\"choropleth\"}],\"contourcarpet\":[{\"colorbar\":{\"outlinewidth\":0,\"ticks\":\"\"},\"type\":\"contourcarpet\"}],\"contour\":[{\"colorbar\":{\"outlinewidth\":0,\"ticks\":\"\"},\"colorscale\":[[0.0,\"#0d0887\"],[0.1111111111111111,\"#46039f\"],[0.2222222222222222,\"#7201a8\"],[0.3333333333333333,\"#9c179e\"],[0.4444444444444444,\"#bd3786\"],[0.5555555555555556,\"#d8576b\"],[0.6666666666666666,\"#ed7953\"],[0.7777777777777778,\"#fb9f3a\"],[0.8888888888888888,\"#fdca26\"],[1.0,\"#f0f921\"]],\"type\":\"contour\"}],\"heatmapgl\":[{\"colorbar\":{\"outlinewidth\":0,\"ticks\":\"\"},\"colorscale\":[[0.0,\"#0d0887\"],[0.1111111111111111,\"#46039f\"],[0.2222222222222222,\"#7201a8\"],[0.3333333333333333,\"#9c179e\"],[0.4444444444444444,\"#bd3786\"],[0.5555555555555556,\"#d8576b\"],[0.6666666666666666,\"#ed7953\"],[0.7777777777777778,\"#fb9f3a\"],[0.8888888888888888,\"#fdca26\"],[1.0,\"#f0f921\"]],\"type\":\"heatmapgl\"}],\"heatmap\":[{\"colorbar\":{\"outlinewidth\":0,\"ticks\":\"\"},\"colorscale\":[[0.0,\"#0d0887\"],[0.1111111111111111,\"#46039f\"],[0.2222222222222222,\"#7201a8\"],[0.3333333333333333,\"#9c179e\"],[0.4444444444444444,\"#bd3786\"],[0.5555555555555556,\"#d8576b\"],[0.6666666666666666,\"#ed7953\"],[0.7777777777777778,\"#fb9f3a\"],[0.8888888888888888,\"#fdca26\"],[1.0,\"#f0f921\"]],\"type\":\"heatmap\"}],\"histogram2dcontour\":[{\"colorbar\":{\"outlinewidth\":0,\"ticks\":\"\"},\"colorscale\":[[0.0,\"#0d0887\"],[0.1111111111111111,\"#46039f\"],[0.2222222222222222,\"#7201a8\"],[0.3333333333333333,\"#9c179e\"],[0.4444444444444444,\"#bd3786\"],[0.5555555555555556,\"#d8576b\"],[0.6666666666666666,\"#ed7953\"],[0.7777777777777778,\"#fb9f3a\"],[0.8888888888888888,\"#fdca26\"],[1.0,\"#f0f921\"]],\"type\":\"histogram2dcontour\"}],\"histogram2d\":[{\"colorbar\":{\"outlinewidth\":0,\"ticks\":\"\"},\"colorscale\":[[0.0,\"#0d0887\"],[0.1111111111111111,\"#46039f\"],[0.2222222222222222,\"#7201a8\"],[0.3333333333333333,\"#9c179e\"],[0.4444444444444444,\"#bd3786\"],[0.5555555555555556,\"#d8576b\"],[0.6666666666666666,\"#ed7953\"],[0.7777777777777778,\"#fb9f3a\"],[0.8888888888888888,\"#fdca26\"],[1.0,\"#f0f921\"]],\"type\":\"histogram2d\"}],\"histogram\":[{\"marker\":{\"pattern\":{\"fillmode\":\"overlay\",\"size\":10,\"solidity\":0.2}},\"type\":\"histogram\"}],\"mesh3d\":[{\"colorbar\":{\"outlinewidth\":0,\"ticks\":\"\"},\"type\":\"mesh3d\"}],\"parcoords\":[{\"line\":{\"colorbar\":{\"outlinewidth\":0,\"ticks\":\"\"}},\"type\":\"parcoords\"}],\"pie\":[{\"automargin\":true,\"type\":\"pie\"}],\"scatter3d\":[{\"line\":{\"colorbar\":{\"outlinewidth\":0,\"ticks\":\"\"}},\"marker\":{\"colorbar\":{\"outlinewidth\":0,\"ticks\":\"\"}},\"type\":\"scatter3d\"}],\"scattercarpet\":[{\"marker\":{\"colorbar\":{\"outlinewidth\":0,\"ticks\":\"\"}},\"type\":\"scattercarpet\"}],\"scattergeo\":[{\"marker\":{\"colorbar\":{\"outlinewidth\":0,\"ticks\":\"\"}},\"type\":\"scattergeo\"}],\"scattergl\":[{\"marker\":{\"colorbar\":{\"outlinewidth\":0,\"ticks\":\"\"}},\"type\":\"scattergl\"}],\"scattermapbox\":[{\"marker\":{\"colorbar\":{\"outlinewidth\":0,\"ticks\":\"\"}},\"type\":\"scattermapbox\"}],\"scatterpolargl\":[{\"marker\":{\"colorbar\":{\"outlinewidth\":0,\"ticks\":\"\"}},\"type\":\"scatterpolargl\"}],\"scatterpolar\":[{\"marker\":{\"colorbar\":{\"outlinewidth\":0,\"ticks\":\"\"}},\"type\":\"scatterpolar\"}],\"scatter\":[{\"fillpattern\":{\"fillmode\":\"overlay\",\"size\":10,\"solidity\":0.2},\"type\":\"scatter\"}],\"scatterternary\":[{\"marker\":{\"colorbar\":{\"outlinewidth\":0,\"ticks\":\"\"}},\"type\":\"scatterternary\"}],\"surface\":[{\"colorbar\":{\"outlinewidth\":0,\"ticks\":\"\"},\"colorscale\":[[0.0,\"#0d0887\"],[0.1111111111111111,\"#46039f\"],[0.2222222222222222,\"#7201a8\"],[0.3333333333333333,\"#9c179e\"],[0.4444444444444444,\"#bd3786\"],[0.5555555555555556,\"#d8576b\"],[0.6666666666666666,\"#ed7953\"],[0.7777777777777778,\"#fb9f3a\"],[0.8888888888888888,\"#fdca26\"],[1.0,\"#f0f921\"]],\"type\":\"surface\"}],\"table\":[{\"cells\":{\"fill\":{\"color\":\"#EBF0F8\"},\"line\":{\"color\":\"white\"}},\"header\":{\"fill\":{\"color\":\"#C8D4E3\"},\"line\":{\"color\":\"white\"}},\"type\":\"table\"}]},\"layout\":{\"annotationdefaults\":{\"arrowcolor\":\"#2a3f5f\",\"arrowhead\":0,\"arrowwidth\":1},\"autotypenumbers\":\"strict\",\"coloraxis\":{\"colorbar\":{\"outlinewidth\":0,\"ticks\":\"\"}},\"colorscale\":{\"diverging\":[[0,\"#8e0152\"],[0.1,\"#c51b7d\"],[0.2,\"#de77ae\"],[0.3,\"#f1b6da\"],[0.4,\"#fde0ef\"],[0.5,\"#f7f7f7\"],[0.6,\"#e6f5d0\"],[0.7,\"#b8e186\"],[0.8,\"#7fbc41\"],[0.9,\"#4d9221\"],[1,\"#276419\"]],\"sequential\":[[0.0,\"#0d0887\"],[0.1111111111111111,\"#46039f\"],[0.2222222222222222,\"#7201a8\"],[0.3333333333333333,\"#9c179e\"],[0.4444444444444444,\"#bd3786\"],[0.5555555555555556,\"#d8576b\"],[0.6666666666666666,\"#ed7953\"],[0.7777777777777778,\"#fb9f3a\"],[0.8888888888888888,\"#fdca26\"],[1.0,\"#f0f921\"]],\"sequentialminus\":[[0.0,\"#0d0887\"],[0.1111111111111111,\"#46039f\"],[0.2222222222222222,\"#7201a8\"],[0.3333333333333333,\"#9c179e\"],[0.4444444444444444,\"#bd3786\"],[0.5555555555555556,\"#d8576b\"],[0.6666666666666666,\"#ed7953\"],[0.7777777777777778,\"#fb9f3a\"],[0.8888888888888888,\"#fdca26\"],[1.0,\"#f0f921\"]]},\"colorway\":[\"#636efa\",\"#EF553B\",\"#00cc96\",\"#ab63fa\",\"#FFA15A\",\"#19d3f3\",\"#FF6692\",\"#B6E880\",\"#FF97FF\",\"#FECB52\"],\"font\":{\"color\":\"#2a3f5f\"},\"geo\":{\"bgcolor\":\"white\",\"lakecolor\":\"white\",\"landcolor\":\"white\",\"showlakes\":true,\"showland\":true,\"subunitcolor\":\"#C8D4E3\"},\"hoverlabel\":{\"align\":\"left\"},\"hovermode\":\"closest\",\"mapbox\":{\"style\":\"light\"},\"paper_bgcolor\":\"white\",\"plot_bgcolor\":\"white\",\"polar\":{\"angularaxis\":{\"gridcolor\":\"#EBF0F8\",\"linecolor\":\"#EBF0F8\",\"ticks\":\"\"},\"bgcolor\":\"white\",\"radialaxis\":{\"gridcolor\":\"#EBF0F8\",\"linecolor\":\"#EBF0F8\",\"ticks\":\"\"}},\"scene\":{\"xaxis\":{\"backgroundcolor\":\"white\",\"gridcolor\":\"#DFE8F3\",\"gridwidth\":2,\"linecolor\":\"#EBF0F8\",\"showbackground\":true,\"ticks\":\"\",\"zerolinecolor\":\"#EBF0F8\"},\"yaxis\":{\"backgroundcolor\":\"white\",\"gridcolor\":\"#DFE8F3\",\"gridwidth\":2,\"linecolor\":\"#EBF0F8\",\"showbackground\":true,\"ticks\":\"\",\"zerolinecolor\":\"#EBF0F8\"},\"zaxis\":{\"backgroundcolor\":\"white\",\"gridcolor\":\"#DFE8F3\",\"gridwidth\":2,\"linecolor\":\"#EBF0F8\",\"showbackground\":true,\"ticks\":\"\",\"zerolinecolor\":\"#EBF0F8\"}},\"shapedefaults\":{\"line\":{\"color\":\"#2a3f5f\"}},\"ternary\":{\"aaxis\":{\"gridcolor\":\"#DFE8F3\",\"linecolor\":\"#A2B1C6\",\"ticks\":\"\"},\"baxis\":{\"gridcolor\":\"#DFE8F3\",\"linecolor\":\"#A2B1C6\",\"ticks\":\"\"},\"bgcolor\":\"white\",\"caxis\":{\"gridcolor\":\"#DFE8F3\",\"linecolor\":\"#A2B1C6\",\"ticks\":\"\"}},\"title\":{\"x\":0.05},\"xaxis\":{\"automargin\":true,\"gridcolor\":\"#EBF0F8\",\"linecolor\":\"#EBF0F8\",\"ticks\":\"\",\"title\":{\"standoff\":15},\"zerolinecolor\":\"#EBF0F8\",\"zerolinewidth\":2},\"yaxis\":{\"automargin\":true,\"gridcolor\":\"#EBF0F8\",\"linecolor\":\"#EBF0F8\",\"ticks\":\"\",\"title\":{\"standoff\":15},\"zerolinecolor\":\"#EBF0F8\",\"zerolinewidth\":2}}},\"xaxis\":{\"anchor\":\"y\",\"domain\":[0.0,0.175],\"showgrid\":true},\"yaxis\":{\"anchor\":\"x\",\"domain\":[0.8639999999999999,0.9999999999999999],\"showgrid\":true},\"xaxis2\":{\"anchor\":\"y2\",\"domain\":[0.275,0.45],\"showgrid\":true},\"yaxis2\":{\"anchor\":\"x2\",\"domain\":[0.8639999999999999,0.9999999999999999],\"showgrid\":true},\"xaxis3\":{\"anchor\":\"y3\",\"domain\":[0.55,0.7250000000000001],\"showgrid\":true},\"yaxis3\":{\"anchor\":\"x3\",\"domain\":[0.8639999999999999,0.9999999999999999],\"showgrid\":true},\"xaxis4\":{\"anchor\":\"y4\",\"domain\":[0.825,1.0],\"showgrid\":true},\"yaxis4\":{\"anchor\":\"x4\",\"domain\":[0.8639999999999999,0.9999999999999999],\"showgrid\":true},\"xaxis5\":{\"anchor\":\"y5\",\"domain\":[0.0,0.175],\"showgrid\":true},\"yaxis5\":{\"anchor\":\"x5\",\"domain\":[0.6479999999999999,0.7839999999999999],\"showgrid\":true},\"xaxis6\":{\"anchor\":\"y6\",\"domain\":[0.275,0.45],\"showgrid\":true},\"yaxis6\":{\"anchor\":\"x6\",\"domain\":[0.6479999999999999,0.7839999999999999],\"showgrid\":true},\"xaxis7\":{\"anchor\":\"y7\",\"domain\":[0.55,0.7250000000000001],\"showgrid\":true},\"yaxis7\":{\"anchor\":\"x7\",\"domain\":[0.6479999999999999,0.7839999999999999],\"showgrid\":true},\"xaxis8\":{\"anchor\":\"y8\",\"domain\":[0.825,1.0],\"showgrid\":true},\"yaxis8\":{\"anchor\":\"x8\",\"domain\":[0.6479999999999999,0.7839999999999999],\"showgrid\":true},\"xaxis9\":{\"anchor\":\"y9\",\"domain\":[0.0,0.175],\"showgrid\":true},\"yaxis9\":{\"anchor\":\"x9\",\"domain\":[0.43199999999999994,0.568],\"showgrid\":true},\"xaxis10\":{\"anchor\":\"y10\",\"domain\":[0.275,0.45],\"showgrid\":true},\"yaxis10\":{\"anchor\":\"x10\",\"domain\":[0.43199999999999994,0.568],\"showgrid\":true},\"xaxis11\":{\"anchor\":\"y11\",\"domain\":[0.55,0.7250000000000001],\"showgrid\":true},\"yaxis11\":{\"anchor\":\"x11\",\"domain\":[0.43199999999999994,0.568],\"showgrid\":true},\"xaxis12\":{\"anchor\":\"y12\",\"domain\":[0.825,1.0],\"showgrid\":true},\"yaxis12\":{\"anchor\":\"x12\",\"domain\":[0.43199999999999994,0.568],\"showgrid\":true},\"xaxis13\":{\"anchor\":\"y13\",\"domain\":[0.0,0.175],\"showgrid\":true},\"yaxis13\":{\"anchor\":\"x13\",\"domain\":[0.21599999999999997,0.352],\"showgrid\":true},\"xaxis14\":{\"anchor\":\"y14\",\"domain\":[0.275,0.45],\"showgrid\":true},\"yaxis14\":{\"anchor\":\"x14\",\"domain\":[0.21599999999999997,0.352],\"showgrid\":true},\"xaxis15\":{\"anchor\":\"y15\",\"domain\":[0.55,0.7250000000000001],\"showgrid\":true},\"yaxis15\":{\"anchor\":\"x15\",\"domain\":[0.21599999999999997,0.352],\"showgrid\":true},\"xaxis16\":{\"anchor\":\"y16\",\"domain\":[0.825,1.0],\"showgrid\":true},\"yaxis16\":{\"anchor\":\"x16\",\"domain\":[0.21599999999999997,0.352],\"showgrid\":true},\"xaxis17\":{\"anchor\":\"y17\",\"domain\":[0.0,0.175],\"showgrid\":true},\"yaxis17\":{\"anchor\":\"x17\",\"domain\":[0.0,0.13599999999999998],\"showgrid\":true},\"xaxis18\":{\"anchor\":\"y18\",\"domain\":[0.275,0.45],\"showgrid\":true},\"yaxis18\":{\"anchor\":\"x18\",\"domain\":[0.0,0.13599999999999998],\"showgrid\":true},\"xaxis19\":{\"anchor\":\"y19\",\"domain\":[0.55,0.7250000000000001],\"showgrid\":true},\"yaxis19\":{\"anchor\":\"x19\",\"domain\":[0.0,0.13599999999999998],\"showgrid\":true},\"xaxis20\":{\"anchor\":\"y20\",\"domain\":[0.825,1.0],\"showgrid\":true},\"yaxis20\":{\"anchor\":\"x20\",\"domain\":[0.0,0.13599999999999998],\"showgrid\":true},\"annotations\":[{\"font\":{\"size\":16},\"showarrow\":false,\"text\":\"Topic 0\",\"x\":0.0875,\"xanchor\":\"center\",\"xref\":\"paper\",\"y\":0.9999999999999999,\"yanchor\":\"bottom\",\"yref\":\"paper\"},{\"font\":{\"size\":16},\"showarrow\":false,\"text\":\"Topic 1\",\"x\":0.36250000000000004,\"xanchor\":\"center\",\"xref\":\"paper\",\"y\":0.9999999999999999,\"yanchor\":\"bottom\",\"yref\":\"paper\"},{\"font\":{\"size\":16},\"showarrow\":false,\"text\":\"Topic 2\",\"x\":0.6375000000000001,\"xanchor\":\"center\",\"xref\":\"paper\",\"y\":0.9999999999999999,\"yanchor\":\"bottom\",\"yref\":\"paper\"},{\"font\":{\"size\":16},\"showarrow\":false,\"text\":\"Topic 3\",\"x\":0.9125,\"xanchor\":\"center\",\"xref\":\"paper\",\"y\":0.9999999999999999,\"yanchor\":\"bottom\",\"yref\":\"paper\"},{\"font\":{\"size\":16},\"showarrow\":false,\"text\":\"Topic 4\",\"x\":0.0875,\"xanchor\":\"center\",\"xref\":\"paper\",\"y\":0.7839999999999999,\"yanchor\":\"bottom\",\"yref\":\"paper\"},{\"font\":{\"size\":16},\"showarrow\":false,\"text\":\"Topic 5\",\"x\":0.36250000000000004,\"xanchor\":\"center\",\"xref\":\"paper\",\"y\":0.7839999999999999,\"yanchor\":\"bottom\",\"yref\":\"paper\"},{\"font\":{\"size\":16},\"showarrow\":false,\"text\":\"Topic 6\",\"x\":0.6375000000000001,\"xanchor\":\"center\",\"xref\":\"paper\",\"y\":0.7839999999999999,\"yanchor\":\"bottom\",\"yref\":\"paper\"},{\"font\":{\"size\":16},\"showarrow\":false,\"text\":\"Topic 7\",\"x\":0.9125,\"xanchor\":\"center\",\"xref\":\"paper\",\"y\":0.7839999999999999,\"yanchor\":\"bottom\",\"yref\":\"paper\"},{\"font\":{\"size\":16},\"showarrow\":false,\"text\":\"Topic 8\",\"x\":0.0875,\"xanchor\":\"center\",\"xref\":\"paper\",\"y\":0.568,\"yanchor\":\"bottom\",\"yref\":\"paper\"},{\"font\":{\"size\":16},\"showarrow\":false,\"text\":\"Topic 9\",\"x\":0.36250000000000004,\"xanchor\":\"center\",\"xref\":\"paper\",\"y\":0.568,\"yanchor\":\"bottom\",\"yref\":\"paper\"},{\"font\":{\"size\":16},\"showarrow\":false,\"text\":\"Topic 10\",\"x\":0.6375000000000001,\"xanchor\":\"center\",\"xref\":\"paper\",\"y\":0.568,\"yanchor\":\"bottom\",\"yref\":\"paper\"},{\"font\":{\"size\":16},\"showarrow\":false,\"text\":\"Topic 11\",\"x\":0.9125,\"xanchor\":\"center\",\"xref\":\"paper\",\"y\":0.568,\"yanchor\":\"bottom\",\"yref\":\"paper\"},{\"font\":{\"size\":16},\"showarrow\":false,\"text\":\"Topic 12\",\"x\":0.0875,\"xanchor\":\"center\",\"xref\":\"paper\",\"y\":0.352,\"yanchor\":\"bottom\",\"yref\":\"paper\"},{\"font\":{\"size\":16},\"showarrow\":false,\"text\":\"Topic 13\",\"x\":0.36250000000000004,\"xanchor\":\"center\",\"xref\":\"paper\",\"y\":0.352,\"yanchor\":\"bottom\",\"yref\":\"paper\"},{\"font\":{\"size\":16},\"showarrow\":false,\"text\":\"Topic 14\",\"x\":0.6375000000000001,\"xanchor\":\"center\",\"xref\":\"paper\",\"y\":0.352,\"yanchor\":\"bottom\",\"yref\":\"paper\"},{\"font\":{\"size\":16},\"showarrow\":false,\"text\":\"Topic 15\",\"x\":0.9125,\"xanchor\":\"center\",\"xref\":\"paper\",\"y\":0.352,\"yanchor\":\"bottom\",\"yref\":\"paper\"},{\"font\":{\"size\":16},\"showarrow\":false,\"text\":\"Topic 16\",\"x\":0.0875,\"xanchor\":\"center\",\"xref\":\"paper\",\"y\":0.13599999999999998,\"yanchor\":\"bottom\",\"yref\":\"paper\"},{\"font\":{\"size\":16},\"showarrow\":false,\"text\":\"Topic 17\",\"x\":0.36250000000000004,\"xanchor\":\"center\",\"xref\":\"paper\",\"y\":0.13599999999999998,\"yanchor\":\"bottom\",\"yref\":\"paper\"},{\"font\":{\"size\":16},\"showarrow\":false,\"text\":\"Topic 18\",\"x\":0.6375000000000001,\"xanchor\":\"center\",\"xref\":\"paper\",\"y\":0.13599999999999998,\"yanchor\":\"bottom\",\"yref\":\"paper\"},{\"font\":{\"size\":16},\"showarrow\":false,\"text\":\"Topic 19\",\"x\":0.9125,\"xanchor\":\"center\",\"xref\":\"paper\",\"y\":0.13599999999999998,\"yanchor\":\"bottom\",\"yref\":\"paper\"}],\"title\":{\"font\":{\"size\":22,\"color\":\"Black\"},\"text\":\"Blue States Topics\",\"x\":0.5,\"xanchor\":\"center\",\"yanchor\":\"top\"},\"hoverlabel\":{\"font\":{\"size\":16,\"family\":\"Rockwell\"},\"bgcolor\":\"white\"},\"showlegend\":false,\"width\":1000,\"height\":1250},                        {\"responsive\": true}                    ).then(function(){\n",
       "                            \n",
       "var gd = document.getElementById('3e846dcc-d605-4a0c-bef0-695d3b9e9d29');\n",
       "var x = new MutationObserver(function (mutations, observer) {{\n",
       "        var display = window.getComputedStyle(gd).display;\n",
       "        if (!display || display === 'none') {{\n",
       "            console.log([gd, 'removed!']);\n",
       "            Plotly.purge(gd);\n",
       "            observer.disconnect();\n",
       "        }}\n",
       "}});\n",
       "\n",
       "// Listen for the removal of the full notebook cells\n",
       "var notebookContainer = gd.closest('#notebook-container');\n",
       "if (notebookContainer) {{\n",
       "    x.observe(notebookContainer, {childList: true});\n",
       "}}\n",
       "\n",
       "// Listen for the clearing of the current output cell\n",
       "var outputEl = gd.closest('.output');\n",
       "if (outputEl) {{\n",
       "    x.observe(outputEl, {childList: true});\n",
       "}}\n",
       "\n",
       "                        })                };                });            </script>        </div>"
      ]
     },
     "metadata": {},
     "output_type": "display_data"
    }
   ],
   "source": [
    "bar_topic"
   ]
  },
  {
   "cell_type": "code",
   "execution_count": 50,
   "id": "0cf547f4",
   "metadata": {},
   "outputs": [
    {
     "data": {
      "text/html": [
       "<div>\n",
       "<style scoped>\n",
       "    .dataframe tbody tr th:only-of-type {\n",
       "        vertical-align: middle;\n",
       "    }\n",
       "\n",
       "    .dataframe tbody tr th {\n",
       "        vertical-align: top;\n",
       "    }\n",
       "\n",
       "    .dataframe thead th {\n",
       "        text-align: right;\n",
       "    }\n",
       "</style>\n",
       "<table border=\"1\" class=\"dataframe\">\n",
       "  <thead>\n",
       "    <tr style=\"text-align: right;\">\n",
       "      <th></th>\n",
       "      <th>Topic</th>\n",
       "      <th>Count</th>\n",
       "      <th>Name</th>\n",
       "      <th>Representation</th>\n",
       "      <th>Representative_Docs</th>\n",
       "    </tr>\n",
       "  </thead>\n",
       "  <tbody>\n",
       "    <tr>\n",
       "      <th>0</th>\n",
       "      <td>-1</td>\n",
       "      <td>1455</td>\n",
       "      <td>-1_books_book_banning_banned</td>\n",
       "      <td>[books, book, banning, banned, people, school,...</td>\n",
       "      <td>[\"I read banned books\" No you don't,  @timesof...</td>\n",
       "    </tr>\n",
       "    <tr>\n",
       "      <th>1</th>\n",
       "      <td>0</td>\n",
       "      <td>316</td>\n",
       "      <td>0_illinois_pritzker_state_gov</td>\n",
       "      <td>[illinois, pritzker, state, gov, nation, libra...</td>\n",
       "      <td>[ @CalltoActivism: THANK YOU , Governor Pritzk...</td>\n",
       "    </tr>\n",
       "    <tr>\n",
       "      <th>2</th>\n",
       "      <td>1</td>\n",
       "      <td>127</td>\n",
       "      <td>1_banned_book_read_banning</td>\n",
       "      <td>[banned, book, read, banning, stories, books, ...</td>\n",
       "      <td>[ @MoveOn: “Kamau, would you like to wear a t-...</td>\n",
       "    </tr>\n",
       "    <tr>\n",
       "      <th>3</th>\n",
       "      <td>2</td>\n",
       "      <td>110</td>\n",
       "      <td>2_california_newsom_gavin_ca</td>\n",
       "      <td>[california, newsom, gavin, ca, tonythurmond, ...</td>\n",
       "      <td>[ @MikeSington: Gavin Newsom is anything but a...</td>\n",
       "    </tr>\n",
       "    <tr>\n",
       "      <th>4</th>\n",
       "      <td>3</td>\n",
       "      <td>103</td>\n",
       "      <td>3_moms_liberty_hitler_group</td>\n",
       "      <td>[moms, liberty, hitler, group, newsletter, quo...</td>\n",
       "      <td>[ @NoLieWithBTC: This group is very bad news. ...</td>\n",
       "    </tr>\n",
       "    <tr>\n",
       "      <th>...</th>\n",
       "      <td>...</td>\n",
       "      <td>...</td>\n",
       "      <td>...</td>\n",
       "      <td>...</td>\n",
       "      <td>...</td>\n",
       "    </tr>\n",
       "    <tr>\n",
       "      <th>133</th>\n",
       "      <td>132</td>\n",
       "      <td>10</td>\n",
       "      <td>132_red_states_education_teachers</td>\n",
       "      <td>[red, states, education, teachers, wux1nshxpp,...</td>\n",
       "      <td>[ @TheHeartlandPOD: If you have any doubt abou...</td>\n",
       "    </tr>\n",
       "    <tr>\n",
       "      <th>134</th>\n",
       "      <td>133</td>\n",
       "      <td>10</td>\n",
       "      <td>133_judy_blume_adult_fiction</td>\n",
       "      <td>[judy, blume, adult, fiction, unless, qu7exxuh...</td>\n",
       "      <td>[ @mechanicalkurt: judy blume is the 🐐 ; Start...</td>\n",
       "    </tr>\n",
       "    <tr>\n",
       "      <th>135</th>\n",
       "      <td>134</td>\n",
       "      <td>10</td>\n",
       "      <td>134_buddy_haul_nearest_asap</td>\n",
       "      <td>[buddy, haul, nearest, asap, stephenking, king...</td>\n",
       "      <td>[ @StephenKing: Do it! You’ll learn powerful a...</td>\n",
       "    </tr>\n",
       "    <tr>\n",
       "      <th>136</th>\n",
       "      <td>135</td>\n",
       "      <td>10</td>\n",
       "      <td>135_hoax_insurance_florida_basically</td>\n",
       "      <td>[hoax, insurance, florida, basically, flood, g...</td>\n",
       "      <td>[ @atrupar: At this point he should just chang...</td>\n",
       "    </tr>\n",
       "    <tr>\n",
       "      <th>137</th>\n",
       "      <td>136</td>\n",
       "      <td>10</td>\n",
       "      <td>136_threats_hoboken_bomb_city</td>\n",
       "      <td>[threats, hoboken, bomb, city, evanston, branc...</td>\n",
       "      <td>[ @ILschoolwatch: Same day Alexi Giannoulias t...</td>\n",
       "    </tr>\n",
       "  </tbody>\n",
       "</table>\n",
       "<p>138 rows × 5 columns</p>\n",
       "</div>"
      ],
      "text/plain": [
       "     Topic  Count                                  Name  \\\n",
       "0       -1   1455          -1_books_book_banning_banned   \n",
       "1        0    316         0_illinois_pritzker_state_gov   \n",
       "2        1    127            1_banned_book_read_banning   \n",
       "3        2    110          2_california_newsom_gavin_ca   \n",
       "4        3    103           3_moms_liberty_hitler_group   \n",
       "..     ...    ...                                   ...   \n",
       "133    132     10     132_red_states_education_teachers   \n",
       "134    133     10          133_judy_blume_adult_fiction   \n",
       "135    134     10           134_buddy_haul_nearest_asap   \n",
       "136    135     10  135_hoax_insurance_florida_basically   \n",
       "137    136     10         136_threats_hoboken_bomb_city   \n",
       "\n",
       "                                        Representation  \\\n",
       "0    [books, book, banning, banned, people, school,...   \n",
       "1    [illinois, pritzker, state, gov, nation, libra...   \n",
       "2    [banned, book, read, banning, stories, books, ...   \n",
       "3    [california, newsom, gavin, ca, tonythurmond, ...   \n",
       "4    [moms, liberty, hitler, group, newsletter, quo...   \n",
       "..                                                 ...   \n",
       "133  [red, states, education, teachers, wux1nshxpp,...   \n",
       "134  [judy, blume, adult, fiction, unless, qu7exxuh...   \n",
       "135  [buddy, haul, nearest, asap, stephenking, king...   \n",
       "136  [hoax, insurance, florida, basically, flood, g...   \n",
       "137  [threats, hoboken, bomb, city, evanston, branc...   \n",
       "\n",
       "                                   Representative_Docs  \n",
       "0    [\"I read banned books\" No you don't,  @timesof...  \n",
       "1    [ @CalltoActivism: THANK YOU , Governor Pritzk...  \n",
       "2    [ @MoveOn: “Kamau, would you like to wear a t-...  \n",
       "3    [ @MikeSington: Gavin Newsom is anything but a...  \n",
       "4    [ @NoLieWithBTC: This group is very bad news. ...  \n",
       "..                                                 ...  \n",
       "133  [ @TheHeartlandPOD: If you have any doubt abou...  \n",
       "134  [ @mechanicalkurt: judy blume is the 🐐 ; Start...  \n",
       "135  [ @StephenKing: Do it! You’ll learn powerful a...  \n",
       "136  [ @atrupar: At this point he should just chang...  \n",
       "137  [ @ILschoolwatch: Same day Alexi Giannoulias t...  \n",
       "\n",
       "[138 rows x 5 columns]"
      ]
     },
     "execution_count": 50,
     "metadata": {},
     "output_type": "execute_result"
    }
   ],
   "source": [
    "topic_model.get_topic_info()"
   ]
  },
  {
   "cell_type": "code",
   "execution_count": 51,
   "id": "f3f8ccef",
   "metadata": {},
   "outputs": [],
   "source": [
    "import pandas as pd\n",
    "import tqdm"
   ]
  },
  {
   "cell_type": "code",
   "execution_count": 57,
   "id": "51ffeff0",
   "metadata": {},
   "outputs": [],
   "source": [
    "corpus_text = blue_states['Hit Sentence'].values\n",
    "corpus_text = [str(e) for e in corpus_text]"
   ]
  },
  {
   "cell_type": "code",
   "execution_count": 58,
   "id": "acddf919",
   "metadata": {},
   "outputs": [
    {
     "name": "stderr",
     "output_type": "stream",
     "text": [
      "\r",
      "  0%|                                                  | 0/4942 [00:00<?, ?it/s]"
     ]
    },
    {
     "name": "stdout",
     "output_type": "stream",
     "text": [
      "huggingface/tokenizers: The current process just got forked, after parallelism has already been used. Disabling parallelism to avoid deadlocks...\n",
      "To disable this warning, you can either:\n",
      "\t- Avoid using `tokenizers` before the fork if possible\n",
      "\t- Explicitly set the environment variable TOKENIZERS_PARALLELISM=(true | false)\n",
      "huggingface/tokenizers: The current process just got forked, after parallelism has already been used. Disabling parallelism to avoid deadlocks...\n",
      "To disable this warning, you can either:\n",
      "\t- Avoid using `tokenizers` before the fork if possible\n",
      "\t- Explicitly set the environment variable TOKENIZERS_PARALLELISM=(true | false)\n",
      "huggingface/tokenizers: The current process just got forked, after parallelism has already been used. Disabling parallelism to avoid deadlocks...\n",
      "To disable this warning, you can either:\n",
      "\t- Avoid using `tokenizers` before the fork if possible\n",
      "\t- Explicitly set the environment variable TOKENIZERS_PARALLELISM=(true | false)\n",
      "huggingface/tokenizers: The current process just got forked, after parallelism has already been used. Disabling parallelism to avoid deadlocks...\n",
      "To disable this warning, you can either:\n",
      "\t- Avoid using `tokenizers` before the fork if possible\n",
      "\t- Explicitly set the environment variable TOKENIZERS_PARALLELISM=(true | false)\n",
      "huggingface/tokenizers: The current process just got forked, after parallelism has already been used. Disabling parallelism to avoid deadlocks...\n",
      "To disable this warning, you can either:\n",
      "\t- Avoid using `tokenizers` before the fork if possible\n",
      "\t- Explicitly set the environment variable TOKENIZERS_PARALLELISM=(true | false)\n"
     ]
    },
    {
     "name": "stderr",
     "output_type": "stream",
     "text": [
      "100%|██████████████████████████████████████| 4942/4942 [00:18<00:00, 269.23it/s]\n"
     ]
    }
   ],
   "source": [
    "nlp = spacy.load(\"en_core_web_sm\")\n",
    "documents_nlp = []\n",
    "for d in tqdm.tqdm(nlp.pipe(corpus_text,n_process=5),total=len(corpus_text)):\n",
    "    documents_nlp.append(d)"
   ]
  },
  {
   "cell_type": "code",
   "execution_count": 59,
   "id": "429b624c",
   "metadata": {},
   "outputs": [],
   "source": [
    "docs2 = [[token.lemma_.lower() for token in doc if  token.is_alpha] for doc in documents_nlp]\n",
    "docs2 = [[token for token in doc if len(token) > 3] for doc in docs2]"
   ]
  },
  {
   "cell_type": "code",
   "execution_count": 60,
   "id": "5cea0359",
   "metadata": {},
   "outputs": [],
   "source": [
    "id2word = Dictionary(docs2)\n",
    "id2word.filter_extremes(no_below=20, no_above=0.1)"
   ]
  },
  {
   "cell_type": "code",
   "execution_count": 61,
   "id": "02ebd796",
   "metadata": {},
   "outputs": [],
   "source": [
    "corpus = [id2word.doc2bow(text) for text in docs2]"
   ]
  },
  {
   "cell_type": "code",
   "execution_count": 62,
   "id": "2ec2f7c8",
   "metadata": {},
   "outputs": [],
   "source": [
    "lda_model = LdaModel(corpus=corpus,\n",
    "                   id2word=id2word,\n",
    "                   num_topics=10,\n",
    "                   passes=20)"
   ]
  },
  {
   "cell_type": "code",
   "execution_count": 63,
   "id": "ec88fb7c",
   "metadata": {},
   "outputs": [
    {
     "name": "stdout",
     "output_type": "stream",
     "text": [
      "0 :\t author, week, against, books, censorship, board, read, fight, banned, county\n",
      "1 :\t want, history, more, back, right, desantis, will, their, like, think\n",
      "2 :\t year, adult, very, just, liberty, like, post, nationwide, name, these\n",
      "3 :\t right, their, republicans, speech, free, your, take, abortion, vote, party\n",
      "4 :\t illinois, first, sign, public, pritzker, nation, bill, become, country, governor\n",
      "5 :\t drag, black, history, still, child, protect, show, your, want, kill\n",
      "6 :\t their, student, parent, public, include, child, america, right, make, education\n",
      "7 :\t anti, bill, pass, house, public, city, look, republicans, matter, over\n",
      "8 :\t mass, assault, shooting, will, republicans, more, weapon, should, child, keep\n",
      "9 :\t want, read, california, there, will, child, should, into, parent, your\n"
     ]
    }
   ],
   "source": [
    "label_dict = {i: ', '.join([token for token, score in lda_model.show_topic(i, topn=10)]) for i in range(0, lda_model.num_topics)}\n",
    "for topic in label_dict:\n",
    "    print (topic,':\\t', label_dict[topic])"
   ]
  },
  {
   "cell_type": "code",
   "execution_count": 64,
   "id": "9afef490",
   "metadata": {},
   "outputs": [
    {
     "data": {
      "text/plain": [
       "-3.323616929069228"
      ]
     },
     "execution_count": 64,
     "metadata": {},
     "output_type": "execute_result"
    }
   ],
   "source": [
    "from gensim.models.coherencemodel import CoherenceModel\n",
    "cm = CoherenceModel(model=lda_model, corpus=corpus, coherence='u_mass')\n",
    "cm.get_coherence()"
   ]
  },
  {
   "cell_type": "code",
   "execution_count": 65,
   "id": "c7df9880",
   "metadata": {},
   "outputs": [
    {
     "name": "stdout",
     "output_type": "stream",
     "text": [
      "huggingface/tokenizers: The current process just got forked, after parallelism has already been used. Disabling parallelism to avoid deadlocks...\n",
      "To disable this warning, you can either:\n",
      "\t- Avoid using `tokenizers` before the fork if possible\n",
      "\t- Explicitly set the environment variable TOKENIZERS_PARALLELISM=(true | false)\n",
      "huggingface/tokenizers: The current process just got forked, after parallelism has already been used. Disabling parallelism to avoid deadlocks...\n",
      "To disable this warning, you can either:\n",
      "\t- Avoid using `tokenizers` before the fork if possible\n",
      "\t- Explicitly set the environment variable TOKENIZERS_PARALLELISM=(true | false)\n",
      "huggingface/tokenizers: The current process just got forked, after parallelism has already been used. Disabling parallelism to avoid deadlocks...\n",
      "To disable this warning, you can either:\n",
      "\t- Avoid using `tokenizers` before the fork if possible\n",
      "\t- Explicitly set the environment variable TOKENIZERS_PARALLELISM=(true | false)\n",
      "huggingface/tokenizers: The current process just got forked, after parallelism has already been used. Disabling parallelism to avoid deadlocks...\n",
      "To disable this warning, you can either:\n",
      "\t- Avoid using `tokenizers` before the fork if possible\n",
      "\t- Explicitly set the environment variable TOKENIZERS_PARALLELISM=(true | false)\n",
      "huggingface/tokenizers: The current process just got forked, after parallelism has already been used. Disabling parallelism to avoid deadlocks...\n",
      "To disable this warning, you can either:\n",
      "\t- Avoid using `tokenizers` before the fork if possible\n",
      "\t- Explicitly set the environment variable TOKENIZERS_PARALLELISM=(true | false)\n",
      "huggingface/tokenizers: The current process just got forked, after parallelism has already been used. Disabling parallelism to avoid deadlocks...\n",
      "To disable this warning, you can either:\n",
      "\t- Avoid using `tokenizers` before the fork if possible\n",
      "\t- Explicitly set the environment variable TOKENIZERS_PARALLELISM=(true | false)\n",
      "huggingface/tokenizers: The current process just got forked, after parallelism has already been used. Disabling parallelism to avoid deadlocks...\n",
      "To disable this warning, you can either:\n",
      "\t- Avoid using `tokenizers` before the fork if possible\n",
      "\t- Explicitly set the environment variable TOKENIZERS_PARALLELISM=(true | false)\n",
      "huggingface/tokenizers: The current process just got forked, after parallelism has already been used. Disabling parallelism to avoid deadlocks...\n",
      "To disable this warning, you can either:\n",
      "\t- Avoid using `tokenizers` before the fork if possible\n",
      "\t- Explicitly set the environment variable TOKENIZERS_PARALLELISM=(true | false)\n"
     ]
    },
    {
     "data": {
      "text/html": [
       "\n",
       "<link rel=\"stylesheet\" type=\"text/css\" href=\"https://cdn.jsdelivr.net/gh/bmabey/pyLDAvis@3.4.0/pyLDAvis/js/ldavis.v1.0.0.css\">\n",
       "\n",
       "\n",
       "<div id=\"ldavis_el36262111661920643729608982\" style=\"background-color:white;\"></div>\n",
       "<script type=\"text/javascript\">\n",
       "\n",
       "var ldavis_el36262111661920643729608982_data = {\"mdsDat\": {\"x\": [-0.027398724414877243, -0.05387138144017073, -0.15723348303470813, -0.00887478646979073, 0.3080135868248432, -0.16021505964404056, -0.031746701858723664, 0.17664097963133407, -0.020008910063850135, -0.025305519530015693], \"y\": [-0.13586752221067971, 0.01500943798637326, -0.08934410115866595, 0.08165633498925835, -0.2021475842017637, -0.0793678290343104, 0.03917876790636263, 0.21367495405546308, 0.14902432913236538, 0.008183212535597804], \"topics\": [1, 2, 3, 4, 5, 6, 7, 8, 9, 10], \"cluster\": [1, 1, 1, 1, 1, 1, 1, 1, 1, 1], \"Freq\": [11.753152883003443, 12.46010205609858, 8.069397212481281, 13.915948111926443, 7.408400846396909, 8.278393282456719, 10.691490397228943, 8.134239257153626, 9.466301305273326, 9.82257464798073]}, \"tinfo\": {\"Term\": [\"illinois\", \"first\", \"want\", \"history\", \"black\", \"drag\", \"bill\", \"mass\", \"sign\", \"anti\", \"california\", \"public\", \"republicans\", \"assault\", \"still\", \"nation\", \"shooting\", \"child\", \"pritzker\", \"read\", \"should\", \"your\", \"abortion\", \"week\", \"parent\", \"governor\", \"become\", \"adult\", \"author\", \"books\", \"list\", \"share\", \"scholastic\", \"publisher\", \"banned\", \"virginia\", \"announce\", \"statement\", \"frequently\", \"bannedbooksweek\", \"impact\", \"affect\", \"form\", \"center\", \"join\", \"late\", \"together\", \"court\", \"uniteagainstbookbans\", \"county\", \"national\", \"publish\", \"resource\", \"threat\", \"week\", \"among\", \"launch\", \"article\", \"author\", \"copy\", \"texas\", \"books\", \"action\", \"censorship\", \"local\", \"which\", \"board\", \"against\", \"challenge\", \"fight\", \"give\", \"banning\", \"read\", \"some\", \"support\", \"speak\", \"here\", \"effort\", \"your\", \"these\", \"florida\", \"student\", \"librarian\", \"most\", \"year\", \"whitewash\", \"campus\", \"segregate\", \"difference\", \"germany\", \"gorman\", \"amanda\", \"nazi\", \"activist\", \"bring\", \"dangerous\", \"bigot\", \"objection\", \"mean\", \"behind\", \"clear\", \"censor\", \"pornography\", \"focus\", \"meet\", \"course\", \"understand\", \"shit\", \"parental\", \"fear\", \"banner\", \"money\", \"wing\", \"curriculum\", \"burn\", \"political\", \"back\", \"desantis\", \"want\", \"group\", \"history\", \"than\", \"more\", \"learn\", \"think\", \"only\", \"america\", \"right\", \"like\", \"florida\", \"white\", \"same\", \"will\", \"make\", \"their\", \"nation\", \"these\", \"fight\", \"when\", \"read\", \"parent\", \"black\", \"adult\", \"very\", \"name\", \"responsible\", \"discuss\", \"request\", \"washington\", \"meeting\", \"analysis\", \"character\", \"involve\", \"happy\", \"section\", \"velshibannedbookclub\", \"discriminate\", \"velshi\", \"someone\", \"health\", \"feature\", \"post\", \"themselves\", \"chapter\", \"theme\", \"lgbt\", \"tonight\", \"mother\", \"quote\", \"shoot\", \"view\", \"else\", \"nationwide\", \"liberty\", \"world\", \"accord\", \"moms\", \"hitler\", \"queer\", \"year\", \"care\", \"such\", \"just\", \"like\", \"these\", \"speak\", \"group\", \"child\", \"against\", \"woman\", \"stand\", \"limit\", \"election\", \"teen\", \"proudblue\", \"protest\", \"voting\", \"version\", \"digital\", \"strip\", \"security\", \"birth\", \"cost\", \"crime\", \"silence\", \"party\", \"blue\", \"actual\", \"speech\", \"brooklyn\", \"away\", \"trump\", \"wait\", \"control\", \"healthcare\", \"covid\", \"free\", \"freshresists\", \"lose\", \"live\", \"entire\", \"woman\", \"abortion\", \"vote\", \"government\", \"attack\", \"right\", \"republican\", \"republicans\", \"take\", \"freedom\", \"maga\", \"their\", \"your\", \"life\", \"democrats\", \"come\", \"please\", \"fascist\", \"will\", \"democracy\", \"history\", \"support\", \"those\", \"here\", \"illinois\", \"first\", \"pritzker\", \"sign\", \"regime\", \"secretary\", \"alexi\", \"officially\", \"hearing\", \"giannoulias\", \"ilsos\", \"marginalize\", \"outlaw\", \"subject\", \"prohibit\", \"chicago\", \"idea\", \"legislation\", \"funding\", \"become\", \"monday\", \"nation\", \"librarie\", \"governor\", \"bans\", \"across\", \"bookban\", \"require\", \"punish\", \"block\", \"country\", \"proud\", \"bill\", \"public\", \"democracy\", \"today\", \"make\", \"read\", \"censorship\", \"will\", \"really\", \"more\", \"stand\", \"drag\", \"part\", \"tennessee\", \"demand\", \"kids\", \"queen\", \"second\", \"hide\", \"king\", \"bags\", \"still\", \"nashville\", \"steve\", \"imagine\", \"stuff\", \"grow\", \"body\", \"home\", \"educate\", \"black\", \"organization\", \"generation\", \"large\", \"mockingbird\", \"labor\", \"states\", \"damn\", \"united\", \"tiktok\", \"fail\", \"kill\", \"protect\", \"folk\", \"refuse\", \"erase\", \"show\", \"young\", \"history\", \"racism\", \"child\", \"truth\", \"your\", \"like\", \"many\", \"racist\", \"want\", \"story\", \"these\", \"read\", \"when\", \"back\", \"books\", \"fight\", \"republicans\", \"record\", \"left\", \"association\", \"nearly\", \"amendment\", \"effect\", \"grade\", \"cancel\", \"elementary\", \"times\", \"double\", \"drop\", \"increase\", \"novel\", \"number\", \"identity\", \"individual\", \"movement\", \"inappropriate\", \"exist\", \"graphic\", \"almost\", \"sense\", \"report\", \"include\", \"incredible\", \"class\", \"seem\", \"defunde\", \"guns\", \"high\", \"culture\", \"allow\", \"student\", \"conservative\", \"restrict\", \"majority\", \"parent\", \"american\", \"push\", \"their\", \"district\", \"america\", \"public\", \"claim\", \"then\", \"lgbtq\", \"education\", \"child\", \"over\", \"most\", \"make\", \"right\", \"access\", \"remove\", \"teacher\", \"year\", \"these\", \"because\", \"city\", \"jail\", \"expect\", \"council\", \"plus\", \"possible\", \"theory\", \"destroy\", \"anti\", \"page\", \"sick\", \"rights\", \"extreme\", \"matter\", \"system\", \"fund\", \"civil\", \"woke\", \"threaten\", \"house\", \"society\", \"direct\", \"busy\", \"committee\", \"hurt\", \"office\", \"diversity\", \"propose\", \"rule\", \"pass\", \"bill\", \"move\", \"look\", \"since\", \"maga\", \"librarian\", \"hard\", \"over\", \"white\", \"public\", \"teacher\", \"education\", \"would\", \"republicans\", \"need\", \"lgbtq\", \"never\", \"just\", \"today\", \"support\", \"will\", \"know\", \"mass\", \"assault\", \"shooting\", \"iowa\", \"rifle\", \"dead\", \"maybe\", \"past\", \"period\", \"honor\", \"save\", \"union\", \"ground\", \"weapon\", \"safe\", \"worried\", \"scared\", \"fuck\", \"wrong\", \"university\", \"zero\", \"instead\", \"both\", \"change\", \"congress\", \"friend\", \"spend\", \"small\", \"moment\", \"president\", \"college\", \"keep\", \"biden\", \"little\", \"time\", \"republicans\", \"should\", \"will\", \"more\", \"next\", \"abortion\", \"watch\", \"actually\", \"than\", \"just\", \"child\", \"read\", \"education\", \"stop\", \"last\", \"make\", \"republican\", \"america\", \"right\", \"year\", \"california\", \"gavin\", \"able\", \"pornographic\", \"textbook\", \"purchase\", \"attention\", \"literacy\", \"newsom\", \"contain\", \"reason\", \"material\", \"porn\", \"step\", \"hand\", \"available\", \"along\", \"fine\", \"decide\", \"especially\", \"literally\", \"ensure\", \"bible\", \"true\", \"into\", \"superintendent\", \"church\", \"nazis\", \"full\", \"before\", \"there\", \"should\", \"other\", \"read\", \"want\", \"really\", \"board\", \"child\", \"parent\", \"will\", \"florida\", \"those\", \"know\", \"your\", \"governor\", \"where\", \"their\", \"because\", \"just\", \"would\", \"stop\"], \"Freq\": [379.0, 282.0, 628.0, 416.0, 220.0, 171.0, 242.0, 174.0, 157.0, 178.0, 167.0, 396.0, 389.0, 156.0, 152.0, 174.0, 143.0, 488.0, 119.0, 541.0, 259.0, 401.0, 188.0, 177.0, 272.0, 137.0, 142.0, 100.0, 190.0, 171.0, 90.2379661224884, 47.22348218007393, 39.90619271096922, 37.26691971908601, 94.84009406375777, 27.46677370162555, 27.35502802988721, 26.267738928865644, 26.14998489059893, 24.815729693719856, 22.18851585033384, 19.77041451611572, 20.58680936246667, 17.66355475863536, 81.70410236470161, 28.17237649234734, 26.91296845922756, 34.007609043258796, 30.306677577190268, 93.58422845121534, 46.66719929091376, 25.444815029889895, 24.26347627140137, 41.49728071271272, 142.491354974476, 17.248196439032686, 16.941722942840816, 13.005635887174913, 145.38143192827573, 18.848191683268354, 33.434866038005545, 122.6486162820064, 65.38656650596084, 122.47865029916082, 53.51351355979065, 89.68676431057253, 104.80400170894859, 130.46376356496881, 65.51323363712531, 99.02112151234988, 62.658820755727696, 51.297964967486344, 101.84148503328481, 59.80873717445765, 60.23469935417005, 52.27693088403257, 65.1616476635232, 45.786707401052674, 70.47145821469725, 61.39574744351344, 56.451879761229364, 56.4005073498509, 49.23034973062171, 48.29851175620727, 47.164823088548346, 52.472315004717906, 44.4249005069875, 38.560288366770564, 30.217123110046504, 28.443223280918957, 25.961389144541283, 23.7787930137021, 60.77929290712294, 43.60375240728518, 65.22484534640597, 34.94788238813426, 32.03306527035094, 16.273653881865158, 70.54381892030447, 30.6209955682717, 32.36366368556902, 53.32625469620782, 36.33811377081041, 31.123283116848622, 13.147947506267633, 16.401030640053495, 29.87345953725313, 17.021022450621903, 18.58399270694629, 44.88438904305633, 14.503472335180707, 35.28603831320541, 41.3757910598331, 44.53190889229321, 34.1749913302143, 54.98511725492108, 126.44018517409533, 99.16788903938166, 274.21193654238226, 78.81373804439839, 183.94759420738964, 74.51418788820214, 151.7393913215475, 62.92161281341688, 79.65803935237442, 72.10711014596403, 77.7774753659238, 117.48989789173936, 85.3363125124759, 74.13382527084529, 56.34090413126238, 51.672977314041695, 90.50026565037308, 73.86590425884442, 85.77386659339875, 55.95189549935059, 63.855239732311176, 60.01003950166815, 61.068649088637294, 65.97504526784874, 55.75121368662518, 52.90609808359671, 99.51333076643562, 96.43785686927946, 58.9575567362746, 54.83415402877167, 55.06907250611712, 50.75831744264559, 46.729452501797404, 42.711778171838915, 41.80932730305832, 39.67520229186004, 29.615556071660716, 26.430194472632657, 22.40264099425952, 21.236698636445063, 18.88149278412353, 18.21419135468628, 45.08905595769919, 40.06303367873893, 35.7937634068212, 72.39904292293555, 36.825356174638024, 17.26204549741773, 27.089920348538687, 31.840509398990893, 19.290873929589385, 14.517538134891522, 36.762683130233114, 20.857410835123382, 15.441009558029101, 26.52336855931717, 60.236724698921954, 83.96167534867193, 57.932575506693404, 45.563604537147306, 43.60023073518139, 37.57588626629356, 47.6798189474995, 101.20495267330354, 49.23126098019663, 34.540828710405236, 88.1672322430116, 79.75204548970838, 58.49325081934219, 44.2278247762661, 44.39701749410391, 57.30384473090597, 49.714963688222504, 42.42572269979252, 41.34863644348439, 63.00155883510949, 59.282009113337196, 44.58114802745868, 40.320410107409465, 37.87783663568937, 37.4659198739264, 35.945106744829744, 35.48948069336562, 30.060457880586057, 29.305430121656265, 25.975007373514313, 24.866744825516225, 21.31690802371236, 44.5463710878478, 122.10728304930171, 43.41338958576119, 28.004280417763393, 145.78861600605177, 36.56629471913815, 80.87987054565681, 48.50344720325762, 28.873011209308036, 76.86552902644992, 40.701172743906035, 17.06811396147095, 145.77244841775342, 14.302905666967005, 44.861424323059865, 81.41501494753686, 19.074058644326833, 101.56073740259774, 125.51724492882141, 123.82700461798137, 66.8768341577965, 89.10963709765774, 211.2100762835324, 95.61699440991656, 160.3873248105954, 133.97495785105943, 111.91215010589805, 73.57866663778273, 170.33792817622717, 137.8976968905503, 63.21863676231313, 55.271854957937656, 63.388881328554874, 50.247413227397516, 51.01483683005477, 74.60796845784049, 52.41375922757829, 64.9503212380156, 55.93645436149443, 54.949431408265674, 52.988958933372274, 379.06780356890187, 280.64165456655115, 118.81289074663567, 155.74348421031766, 34.90355842081565, 34.21459573392562, 28.94439091474819, 25.1707467528944, 21.121319486576436, 20.199360281607724, 19.21162349927569, 39.86016826192377, 35.60547232437328, 14.810987595376645, 53.687343714016926, 22.908806805097015, 79.17833990696147, 74.32580813761008, 34.14549922290602, 101.61954583692984, 25.493778565659714, 117.79266529151276, 15.538463741569707, 86.9260143817228, 34.724940786843014, 82.47348787203389, 15.007039772230899, 17.262944792329954, 13.50448751773167, 17.101443636763545, 90.47264901304342, 29.885633124259865, 104.5176313301817, 140.2089275912022, 43.07481733501526, 49.977225786196286, 61.56294833041143, 60.74892084794481, 40.98321059401404, 51.58258293262467, 37.22982483442775, 43.17080827176288, 31.900528245352362, 170.03245829120834, 68.8703377405379, 65.05285047978737, 41.752164710272034, 36.760416566517, 29.76082456156513, 29.306257007310357, 26.429311250728485, 20.978592517389444, 19.26726640367596, 143.9006228653746, 34.15846787233946, 17.38985293484322, 22.935355399698842, 13.592610983004736, 27.708288964604836, 71.71382084069388, 20.794954832399124, 25.514201035782445, 166.99304939061818, 17.8317862295571, 27.609238182939986, 21.374004457541385, 15.780936024688204, 21.252382196217294, 29.448726208953225, 17.483373652482015, 24.94749103562231, 17.41093681903793, 19.22102732138361, 72.73872878736434, 95.06949819324026, 30.616943992930725, 38.247220844543826, 43.334315203973084, 88.58072215830741, 59.90375099859953, 147.05205058897832, 49.576999268983535, 132.2935294493095, 35.03006695013864, 84.40386727188769, 70.7552489377577, 47.75491734613426, 30.96856252366622, 72.76678294227445, 39.58114481305757, 47.18024809212441, 53.30353716824451, 44.48284192167004, 42.42047830481247, 38.78613423748508, 41.15268846264308, 39.16249589001225, 46.7191307406871, 42.6909449601312, 37.4929811645568, 32.572921006681824, 29.708278590368067, 29.252941528098855, 29.075335140532694, 26.51324491938371, 24.683519939344862, 24.111552598148016, 23.087773978838452, 23.038189479236866, 26.96903966835097, 24.74445613344577, 36.06411522487329, 40.92188741630661, 30.930807658306055, 38.07687496959471, 23.197991322055028, 21.42211770568942, 19.94712785681603, 17.182362257505922, 21.498558036686788, 43.09228297493798, 81.67424980843067, 15.454113336944724, 24.596418435349012, 31.571164568262176, 20.566747833993624, 19.296785660031805, 56.149451159654696, 45.07976085153046, 48.78309019329915, 130.44106019231893, 48.762403818934935, 41.928715661973264, 40.96592911711728, 108.81352231876467, 64.5218287760786, 55.1405234093092, 135.3559554090258, 60.09807928382505, 76.1653677306062, 95.0908191337607, 39.14428017852368, 51.05246582232228, 58.36895490440537, 64.72445093485624, 80.09735415355792, 57.53665164400057, 52.862084519277005, 66.1991068320982, 73.290483243939, 51.5777464593488, 49.192687856424236, 50.965691617534915, 56.168503698945635, 47.3411695388445, 44.79073170171158, 72.93401062808739, 37.968166574707475, 30.830119433467168, 29.786230757935158, 23.167035525336942, 21.298854046378693, 20.085646019109635, 41.6576460801516, 162.8921199280381, 31.19688861332539, 18.45273411849436, 35.621511909775826, 49.623569396045205, 64.56630839299692, 35.615738025742175, 29.932049672833998, 24.60099339171709, 31.08658353914122, 33.45091211978597, 90.827908893457, 27.11395292264733, 20.508670078225556, 17.999087419163523, 32.984004922411515, 13.462450367559635, 31.698074704268464, 21.216128783621723, 23.962799025185987, 31.896032682772685, 99.05093200912935, 126.38151085722139, 37.26714174149186, 68.21569463076841, 39.17260850174312, 60.416671384907715, 62.44772619640135, 36.17301096215094, 63.158237853102825, 50.5133467902682, 77.37587662100157, 56.297102303069465, 59.0292912709687, 55.37511100886633, 66.05537122063647, 45.8897208714982, 42.9902674229328, 38.449872892799306, 41.70474817900393, 37.65946218025214, 37.12351941291017, 37.35314265094113, 35.67198683148932, 173.461037442013, 155.49827049694503, 143.09453273161182, 52.54456870298643, 44.22373289975096, 38.84136165324464, 29.513885920544293, 28.76621675306725, 25.372815786329934, 26.75287563720223, 21.410863286898998, 21.065576791035134, 20.582940466102286, 92.31705697675226, 56.963540348224925, 23.1853400517626, 21.846765282288093, 30.435960650860448, 37.9124308582495, 19.395792840630413, 18.738454092325963, 58.37214828697187, 32.525177905208864, 52.61139059522882, 19.730797595511774, 23.87795337064222, 18.60707917048238, 28.489391950482396, 27.4568332692878, 54.395748574959654, 38.01239039644032, 76.4926141438004, 48.3987228838565, 32.39264616970295, 73.24016774116947, 123.49967369962172, 85.03387124844723, 127.18367521127311, 109.81908695124864, 42.06993905544162, 62.2089057469142, 40.37114287807572, 36.33183229353491, 51.34620870232305, 74.42913658244782, 77.05029728255444, 75.75894454206993, 54.45323585268035, 51.19120038364273, 43.95385369121203, 51.65636670184202, 43.562973187214936, 44.53356105423382, 42.92262145826976, 42.248446476908256, 166.4084333723026, 54.59784661496602, 45.57755501844424, 36.96263995488402, 28.922006275762996, 24.363181458792848, 23.316814803770576, 20.359327280541503, 67.67521856467577, 19.48021774404134, 73.58988557797014, 62.467287196249856, 54.265297922871696, 32.66883856003189, 27.527872623530634, 34.98318706317669, 18.597441146067503, 43.43340950653872, 39.07000728491619, 16.79771582660044, 28.593320221754276, 16.578628461209366, 47.81955728812867, 31.945542465548314, 88.44255043890165, 13.414165876636773, 19.49359273958967, 19.998312412580834, 26.071606726395917, 38.76844770698209, 117.82618597063245, 113.84820657813937, 77.14714056288047, 173.3988304241928, 188.64590485957194, 64.23979803016692, 72.65339141882221, 114.47249690224893, 81.6989319559441, 115.56275828311114, 73.892638173237, 61.689386111715564, 64.2582066787648, 80.52586832700625, 49.31478449106739, 50.89041812858563, 69.88605570124925, 55.59381562180171, 62.24537619352405, 48.09247956066099, 44.52094748307981], \"Total\": [379.0, 282.0, 628.0, 416.0, 220.0, 171.0, 242.0, 174.0, 157.0, 178.0, 167.0, 396.0, 389.0, 156.0, 152.0, 174.0, 143.0, 488.0, 119.0, 541.0, 259.0, 401.0, 188.0, 177.0, 272.0, 137.0, 142.0, 100.0, 190.0, 171.0, 91.13617959429784, 48.11900769497456, 40.80363271445647, 38.162465955621116, 97.52503605998041, 28.362334071981554, 28.25067399328502, 27.163338399444598, 27.045538036783896, 25.711254423920614, 23.084055186038462, 20.66595861477123, 21.553569798842165, 18.55918846195257, 90.8157925138189, 31.670299188981716, 30.794606840114685, 39.29752157139403, 35.21330959118466, 109.848761592869, 55.133709717806006, 30.25600674159747, 28.893460277328128, 50.382802196723844, 177.67412528002447, 21.92877850327758, 21.638200312806536, 16.614332729840918, 190.58361149580267, 26.01356876383275, 46.26863344433819, 171.97094159629896, 95.69015869810563, 208.01647826044953, 83.13546363195283, 174.49483784612264, 217.90567206895827, 315.83185520368437, 117.31578760209666, 263.37452250710805, 154.79433374238806, 113.44089479565636, 541.5615136613104, 181.62462893799267, 191.92389381963338, 140.15186623275838, 250.07897077048062, 103.54012567714832, 401.5962714821242, 317.3841502950575, 262.8025286610283, 267.2766797971122, 151.40383505322677, 163.84492650116294, 331.69421710575926, 53.3663569809338, 45.31893733060732, 39.45430558834791, 31.111220125595263, 29.337277762244117, 26.85543880315736, 24.672843012548828, 64.29685072124403, 47.13014158080044, 74.67298468629792, 41.39984262755802, 38.00527561839188, 20.660956724747447, 91.05360768651583, 40.12031576016126, 43.06161958174076, 71.98254983831221, 51.40762918177697, 45.10851403309299, 19.1948716045195, 24.52019687232265, 45.05268400060519, 25.885581720355855, 28.529384670120773, 71.32562167621151, 23.0964520695422, 56.67471598109177, 67.32807647445998, 72.81355450441797, 56.843954860737426, 91.55643801431165, 242.0103615633224, 186.24738084264797, 628.7623038702355, 150.74189738399986, 416.0202125595163, 160.92365169668636, 429.2986844907105, 140.74226598396913, 214.4673235014083, 187.61580467893774, 241.35069314819742, 543.9939978118584, 347.31325903446225, 262.8025286610283, 144.1621405114479, 119.10243389600102, 540.3310273255795, 354.2726830132342, 552.5055851859897, 174.5413267390047, 317.3841502950575, 263.37452250710805, 305.5514188487638, 541.5615136613104, 272.2047614378277, 220.69782897884204, 100.4101865271048, 97.36026860921784, 59.854423287995694, 55.73129268163644, 56.00710592141188, 51.65510434654311, 47.626242595514135, 43.60862222450242, 42.70610968780368, 40.57283231356416, 30.512545604518646, 27.327050474093703, 23.29980959234648, 22.13349106463947, 19.77839980844967, 19.16761077234236, 51.71712633206952, 46.10860492257096, 41.347191678771, 83.93182315294675, 43.067705858728104, 20.532680426921853, 32.90038185401037, 39.17816114730442, 24.081313424780763, 18.177380025236147, 46.344793413790406, 26.663598207057653, 22.596714447688267, 38.93926957794285, 89.40788654109075, 138.95371439628937, 92.12892293206826, 74.7507872766754, 70.76955445682971, 58.274426356397846, 81.762567095249, 331.69421710575926, 116.56527972652532, 57.507487345340486, 423.7685898662565, 347.31325903446225, 317.3841502950575, 140.15186623275838, 150.74189738399986, 488.40053103305286, 315.83185520368437, 145.1597021128781, 137.38023006037534, 63.89424630109166, 60.17472472603471, 45.47485494835724, 41.21402723105936, 38.77057936890795, 38.35861234421086, 36.83777826530596, 36.38229149617217, 30.95313120340233, 30.198123948958933, 26.86770871523435, 25.75968468505026, 22.210849432047247, 47.55813095661503, 134.99705545633046, 48.65319302432458, 31.406090713292276, 164.29570900346795, 43.38233308924287, 96.37415848667061, 58.19389929783789, 34.801208982746786, 95.05342527469752, 50.7203622926322, 22.131311851757463, 189.32921127380152, 19.101970509081475, 60.61923575844328, 111.37155365328066, 26.681153923523866, 145.1597021128781, 188.52247139354452, 195.183462340699, 100.08062612466658, 149.01882589513158, 543.9939978118584, 181.73590313548092, 389.7141005371859, 304.6949014397193, 241.98035573519994, 134.78639109946886, 552.5055851859897, 401.5962714821242, 129.76513759580706, 100.72715531181875, 144.051573272053, 86.60928023324821, 95.22991992444746, 540.3310273255795, 117.09187951089298, 416.0202125595163, 191.92389381963338, 190.35436792459757, 250.07897077048062, 379.9611351861884, 282.4632812668416, 119.70617394423708, 157.48921091569585, 35.79685500247726, 35.10786999369325, 29.837660571600203, 26.064061633593305, 22.014714095424893, 21.092633153109965, 20.10495231221766, 43.17276644119858, 38.88198695156581, 16.48072400555898, 61.41635553359213, 27.53328762279925, 100.4672116524799, 95.55640077170416, 44.36224091152246, 142.3785118198062, 37.12327190142213, 174.5413267390047, 24.17451535505928, 137.03163035421176, 56.628497087842085, 136.28267819639788, 27.09778467920234, 31.78891604261276, 25.737910037310577, 33.56432290206493, 187.96222882216637, 59.99491495809614, 242.91784106068854, 396.58644391737323, 117.09187951089298, 190.8075385380427, 354.2726830132342, 541.5615136613104, 208.01647826044953, 540.3310273255795, 163.54676660795354, 429.2986844907105, 137.38023006037534, 171.005603299969, 69.76784775127656, 65.95029284543456, 42.649726241414236, 37.65783759649482, 30.658248546511267, 30.20378770295842, 27.326833514027882, 21.876041386107453, 20.164640793995527, 152.42455175931764, 37.65485984282736, 20.101538306525594, 27.146854613294373, 16.613822992406327, 34.21248452802362, 89.94892740893937, 26.270131390144794, 33.12067975928316, 220.69782897884204, 23.69108501798565, 37.149702429901524, 29.812814045200696, 22.099058354625008, 29.855776690396493, 42.329575790429416, 25.451252301624145, 36.553531918738, 25.63554484971294, 28.344979733307014, 119.9066638445277, 166.84171108207315, 47.3950159770789, 63.8395870531197, 74.31971619919575, 180.35125212123316, 116.5394869013197, 416.0202125595163, 94.26564754013778, 488.40053103305286, 70.95362971857217, 401.5962714821242, 347.31325903446225, 149.7328800539231, 56.26393714925957, 628.7623038702355, 121.68615567116923, 317.3841502950575, 541.5615136613104, 305.5514188487638, 242.0103615633224, 171.97094159629896, 263.37452250710805, 389.7141005371859, 47.61375852380546, 43.592539096387256, 38.38761858162968, 33.46755439967493, 30.604591782507818, 30.147590924100612, 30.036979285798573, 27.407872045694365, 25.582240008933603, 25.00616856530157, 23.982350356968617, 23.932832143922997, 28.812373676594255, 27.802026732234026, 40.64031087377584, 46.12834202348838, 35.589710328667884, 45.19771026986643, 27.78074879778759, 25.83539435461535, 24.327319180494516, 21.164507817276835, 26.801939568101734, 54.3742076755488, 103.7304342345415, 19.856292223903715, 33.58462316348295, 43.2672025632761, 28.37487696665034, 26.836641425261195, 79.36022693277016, 63.59510589389852, 75.70391100205282, 267.2766797971122, 83.20371176430234, 69.0666989841179, 66.99696272164402, 272.2047614378277, 133.12483158803875, 107.62764819891227, 552.5055851859897, 147.7680011149859, 241.35069314819742, 396.58644391737323, 67.4447019224241, 123.83149971785622, 179.08586335461746, 239.75427200275632, 488.40053103305286, 209.32100165990929, 163.84492650116294, 354.2726830132342, 543.9939978118584, 166.22744811556007, 138.3473237432568, 195.43951313642134, 331.69421710575926, 317.3841502950575, 267.379820422205, 73.82646543656521, 38.86041207869494, 31.722433614120984, 30.678550073532662, 24.05930015640383, 22.19111397577716, 21.074041695474403, 44.56841688211339, 178.1218423739336, 34.44875705570771, 20.524961601975576, 39.72692479303683, 55.6839320531015, 73.74970270909283, 40.73131640192421, 35.72261467538099, 29.47026976056208, 37.521327972814625, 40.94089890985936, 112.43780684214697, 33.70852714726878, 26.055770219779603, 24.312811779278505, 45.1262272815815, 18.422190667838564, 43.514136291206874, 29.568450750963866, 34.07481233063871, 45.40694765492215, 145.47004282156874, 242.91784106068854, 61.55138392258907, 138.75692893753316, 67.37908694717468, 134.78639109946886, 151.40383505322677, 68.03571867791213, 209.32100165990929, 144.1621405114479, 396.58644391737323, 195.43951313642134, 239.75427200275632, 218.68434429603846, 389.7141005371859, 205.1818938314262, 179.08586335461746, 122.63582537167468, 423.7685898662565, 190.8075385380427, 191.92389381963338, 540.3310273255795, 221.358257967, 174.35803737860672, 156.39526672012317, 143.9914959937738, 53.44160386562688, 45.12067745016944, 39.74190068786804, 30.41101957768032, 29.663422107302846, 26.26989804492603, 27.717692312524147, 22.30863809108865, 21.98319226855855, 21.479917565147716, 99.14522563167294, 61.41094510385127, 25.07817331434441, 24.29783411741853, 36.16027258860599, 47.33805727053478, 24.72379019788607, 24.21686556156758, 76.3238487685406, 42.85570508531618, 69.64330770119396, 29.64054049121905, 36.71686872019178, 28.850436529860048, 44.29776529572277, 43.10584296380508, 86.74466508762988, 60.94586342350133, 134.12034539093554, 85.25565980082686, 53.11145115130359, 175.54746542793177, 389.7141005371859, 259.5047648194323, 540.3310273255795, 429.2986844907105, 83.28584036979746, 188.52247139354452, 80.82761098345611, 68.045566833775, 160.92365169668636, 423.7685898662565, 488.40053103305286, 541.5615136613104, 239.75427200275632, 214.64063934723384, 130.28459378833182, 354.2726830132342, 181.73590313548092, 241.35069314819742, 543.9939978118584, 331.69421710575926, 167.30789974487524, 55.489147386102836, 46.469465036873764, 37.85398926565226, 29.813308750754846, 25.26520528790128, 24.208152149104993, 21.250744602129743, 70.72806200646784, 20.371603161173585, 87.16755321516372, 75.95662742309291, 68.45968933316433, 41.75117802340791, 36.97379343046422, 47.05636972178801, 25.12247908509415, 58.93710847270519, 53.06885942945278, 22.927145125397324, 40.011764633197046, 23.713504513234735, 68.55962078903406, 51.73758443483908, 144.08008876711241, 22.003192630312917, 32.0794670929381, 35.75833466711758, 47.111886273193946, 70.78496777137073, 251.25382421296536, 259.5047648194323, 176.90310988637725, 541.5615136613104, 628.7623038702355, 163.54676660795354, 217.90567206895827, 488.40053103305286, 272.2047614378277, 540.3310273255795, 262.8025286610283, 190.35436792459757, 221.358257967, 401.5962714821242, 137.03163035421176, 160.8961769272096, 552.5055851859897, 267.379820422205, 423.7685898662565, 218.68434429603846, 214.64063934723384], \"Category\": [\"Default\", \"Default\", \"Default\", \"Default\", \"Default\", \"Default\", \"Default\", \"Default\", \"Default\", \"Default\", \"Default\", \"Default\", \"Default\", \"Default\", \"Default\", \"Default\", \"Default\", \"Default\", \"Default\", \"Default\", \"Default\", \"Default\", \"Default\", \"Default\", \"Default\", \"Default\", \"Default\", \"Default\", \"Default\", \"Default\", \"Topic1\", \"Topic1\", \"Topic1\", \"Topic1\", \"Topic1\", \"Topic1\", \"Topic1\", \"Topic1\", \"Topic1\", \"Topic1\", \"Topic1\", \"Topic1\", \"Topic1\", \"Topic1\", \"Topic1\", \"Topic1\", \"Topic1\", \"Topic1\", \"Topic1\", \"Topic1\", \"Topic1\", \"Topic1\", \"Topic1\", \"Topic1\", \"Topic1\", \"Topic1\", \"Topic1\", \"Topic1\", \"Topic1\", \"Topic1\", \"Topic1\", \"Topic1\", \"Topic1\", \"Topic1\", \"Topic1\", \"Topic1\", \"Topic1\", \"Topic1\", \"Topic1\", \"Topic1\", \"Topic1\", \"Topic1\", \"Topic1\", \"Topic1\", \"Topic1\", \"Topic1\", \"Topic1\", \"Topic1\", \"Topic1\", \"Topic1\", \"Topic1\", \"Topic1\", \"Topic1\", \"Topic1\", \"Topic1\", \"Topic2\", \"Topic2\", \"Topic2\", \"Topic2\", \"Topic2\", \"Topic2\", \"Topic2\", \"Topic2\", \"Topic2\", \"Topic2\", \"Topic2\", \"Topic2\", \"Topic2\", \"Topic2\", \"Topic2\", \"Topic2\", \"Topic2\", \"Topic2\", \"Topic2\", \"Topic2\", \"Topic2\", \"Topic2\", \"Topic2\", \"Topic2\", \"Topic2\", \"Topic2\", \"Topic2\", \"Topic2\", \"Topic2\", \"Topic2\", \"Topic2\", \"Topic2\", \"Topic2\", \"Topic2\", \"Topic2\", \"Topic2\", \"Topic2\", \"Topic2\", \"Topic2\", \"Topic2\", \"Topic2\", \"Topic2\", \"Topic2\", \"Topic2\", \"Topic2\", \"Topic2\", \"Topic2\", \"Topic2\", \"Topic2\", \"Topic2\", \"Topic2\", \"Topic2\", \"Topic2\", \"Topic2\", \"Topic2\", \"Topic2\", \"Topic2\", \"Topic3\", \"Topic3\", \"Topic3\", \"Topic3\", \"Topic3\", \"Topic3\", \"Topic3\", \"Topic3\", \"Topic3\", \"Topic3\", \"Topic3\", \"Topic3\", \"Topic3\", \"Topic3\", \"Topic3\", \"Topic3\", \"Topic3\", \"Topic3\", \"Topic3\", \"Topic3\", \"Topic3\", \"Topic3\", \"Topic3\", \"Topic3\", \"Topic3\", \"Topic3\", \"Topic3\", \"Topic3\", \"Topic3\", \"Topic3\", \"Topic3\", \"Topic3\", \"Topic3\", \"Topic3\", \"Topic3\", \"Topic3\", \"Topic3\", \"Topic3\", \"Topic3\", \"Topic3\", \"Topic3\", \"Topic3\", \"Topic3\", \"Topic3\", \"Topic3\", \"Topic3\", \"Topic3\", \"Topic3\", \"Topic3\", \"Topic4\", \"Topic4\", \"Topic4\", \"Topic4\", \"Topic4\", \"Topic4\", \"Topic4\", \"Topic4\", \"Topic4\", \"Topic4\", \"Topic4\", \"Topic4\", \"Topic4\", \"Topic4\", \"Topic4\", \"Topic4\", \"Topic4\", \"Topic4\", \"Topic4\", \"Topic4\", \"Topic4\", \"Topic4\", \"Topic4\", \"Topic4\", \"Topic4\", \"Topic4\", \"Topic4\", \"Topic4\", \"Topic4\", \"Topic4\", \"Topic4\", \"Topic4\", \"Topic4\", \"Topic4\", \"Topic4\", \"Topic4\", \"Topic4\", \"Topic4\", \"Topic4\", \"Topic4\", \"Topic4\", \"Topic4\", \"Topic4\", \"Topic4\", \"Topic4\", \"Topic4\", \"Topic4\", \"Topic4\", \"Topic4\", \"Topic4\", \"Topic4\", \"Topic4\", \"Topic4\", \"Topic4\", \"Topic5\", \"Topic5\", \"Topic5\", \"Topic5\", \"Topic5\", \"Topic5\", \"Topic5\", \"Topic5\", \"Topic5\", \"Topic5\", \"Topic5\", \"Topic5\", \"Topic5\", \"Topic5\", \"Topic5\", \"Topic5\", \"Topic5\", \"Topic5\", \"Topic5\", \"Topic5\", \"Topic5\", \"Topic5\", \"Topic5\", \"Topic5\", \"Topic5\", \"Topic5\", \"Topic5\", \"Topic5\", \"Topic5\", \"Topic5\", \"Topic5\", \"Topic5\", \"Topic5\", \"Topic5\", \"Topic5\", \"Topic5\", \"Topic5\", \"Topic5\", \"Topic5\", \"Topic5\", \"Topic5\", \"Topic5\", \"Topic5\", \"Topic6\", \"Topic6\", \"Topic6\", \"Topic6\", \"Topic6\", \"Topic6\", \"Topic6\", \"Topic6\", \"Topic6\", \"Topic6\", \"Topic6\", \"Topic6\", \"Topic6\", \"Topic6\", \"Topic6\", \"Topic6\", \"Topic6\", \"Topic6\", \"Topic6\", \"Topic6\", \"Topic6\", \"Topic6\", \"Topic6\", \"Topic6\", \"Topic6\", \"Topic6\", \"Topic6\", \"Topic6\", \"Topic6\", \"Topic6\", \"Topic6\", \"Topic6\", \"Topic6\", \"Topic6\", \"Topic6\", \"Topic6\", \"Topic6\", \"Topic6\", \"Topic6\", \"Topic6\", \"Topic6\", \"Topic6\", \"Topic6\", \"Topic6\", \"Topic6\", \"Topic6\", \"Topic6\", \"Topic6\", \"Topic6\", \"Topic6\", \"Topic6\", \"Topic6\", \"Topic6\", \"Topic6\", \"Topic7\", \"Topic7\", \"Topic7\", \"Topic7\", \"Topic7\", \"Topic7\", \"Topic7\", \"Topic7\", \"Topic7\", \"Topic7\", \"Topic7\", \"Topic7\", \"Topic7\", \"Topic7\", \"Topic7\", \"Topic7\", \"Topic7\", \"Topic7\", \"Topic7\", \"Topic7\", \"Topic7\", \"Topic7\", \"Topic7\", \"Topic7\", \"Topic7\", \"Topic7\", \"Topic7\", \"Topic7\", \"Topic7\", \"Topic7\", \"Topic7\", \"Topic7\", \"Topic7\", \"Topic7\", \"Topic7\", \"Topic7\", \"Topic7\", \"Topic7\", \"Topic7\", \"Topic7\", \"Topic7\", \"Topic7\", \"Topic7\", \"Topic7\", \"Topic7\", \"Topic7\", \"Topic7\", \"Topic7\", \"Topic7\", \"Topic7\", \"Topic7\", \"Topic7\", \"Topic7\", \"Topic7\", \"Topic7\", \"Topic7\", \"Topic7\", \"Topic7\", \"Topic7\", \"Topic8\", \"Topic8\", \"Topic8\", \"Topic8\", \"Topic8\", \"Topic8\", \"Topic8\", \"Topic8\", \"Topic8\", \"Topic8\", \"Topic8\", \"Topic8\", \"Topic8\", \"Topic8\", \"Topic8\", \"Topic8\", \"Topic8\", \"Topic8\", \"Topic8\", \"Topic8\", \"Topic8\", \"Topic8\", \"Topic8\", \"Topic8\", \"Topic8\", \"Topic8\", \"Topic8\", \"Topic8\", \"Topic8\", \"Topic8\", \"Topic8\", \"Topic8\", \"Topic8\", \"Topic8\", \"Topic8\", \"Topic8\", \"Topic8\", \"Topic8\", \"Topic8\", \"Topic8\", \"Topic8\", \"Topic8\", \"Topic8\", \"Topic8\", \"Topic8\", \"Topic8\", \"Topic8\", \"Topic8\", \"Topic8\", \"Topic8\", \"Topic8\", \"Topic8\", \"Topic9\", \"Topic9\", \"Topic9\", \"Topic9\", \"Topic9\", \"Topic9\", \"Topic9\", \"Topic9\", \"Topic9\", \"Topic9\", \"Topic9\", \"Topic9\", \"Topic9\", \"Topic9\", \"Topic9\", \"Topic9\", \"Topic9\", \"Topic9\", \"Topic9\", \"Topic9\", \"Topic9\", \"Topic9\", \"Topic9\", \"Topic9\", \"Topic9\", \"Topic9\", \"Topic9\", \"Topic9\", \"Topic9\", \"Topic9\", \"Topic9\", \"Topic9\", \"Topic9\", \"Topic9\", \"Topic9\", \"Topic9\", \"Topic9\", \"Topic9\", \"Topic9\", \"Topic9\", \"Topic9\", \"Topic9\", \"Topic9\", \"Topic9\", \"Topic9\", \"Topic9\", \"Topic9\", \"Topic9\", \"Topic9\", \"Topic9\", \"Topic9\", \"Topic9\", \"Topic9\", \"Topic9\", \"Topic9\", \"Topic10\", \"Topic10\", \"Topic10\", \"Topic10\", \"Topic10\", \"Topic10\", \"Topic10\", \"Topic10\", \"Topic10\", \"Topic10\", \"Topic10\", \"Topic10\", \"Topic10\", \"Topic10\", \"Topic10\", \"Topic10\", \"Topic10\", \"Topic10\", \"Topic10\", \"Topic10\", \"Topic10\", \"Topic10\", \"Topic10\", \"Topic10\", \"Topic10\", \"Topic10\", \"Topic10\", \"Topic10\", \"Topic10\", \"Topic10\", \"Topic10\", \"Topic10\", \"Topic10\", \"Topic10\", \"Topic10\", \"Topic10\", \"Topic10\", \"Topic10\", \"Topic10\", \"Topic10\", \"Topic10\", \"Topic10\", \"Topic10\", \"Topic10\", \"Topic10\", \"Topic10\", \"Topic10\", \"Topic10\", \"Topic10\", \"Topic10\", \"Topic10\"], \"logprob\": [30.0, 29.0, 28.0, 27.0, 26.0, 25.0, 24.0, 23.0, 22.0, 21.0, 20.0, 19.0, 18.0, 17.0, 16.0, 15.0, 14.0, 13.0, 12.0, 11.0, 10.0, 9.0, 8.0, 7.0, 6.0, 5.0, 4.0, 3.0, 2.0, 1.0, -4.243, -4.8905, -5.0589, -5.1273, -4.1932, -5.4324, -5.4365, -5.4771, -5.4816, -5.5339, -5.6458, -5.7612, -5.7208, -5.8739, -4.3423, -5.4071, -5.4528, -5.2188, -5.334, -4.2066, -4.9024, -5.5089, -5.5564, -5.0198, -3.7861, -5.8977, -5.9156, -6.18, -3.7661, -5.809, -5.2358, -3.9361, -4.5651, -3.9375, -4.7655, -4.2491, -4.0933, -3.8743, -4.5632, -4.1501, -4.6077, -4.8078, -4.122, -4.6543, -4.6472, -4.7889, -4.5685, -4.9214, -4.4902, -4.6281, -4.712, -4.7129, -4.8489, -4.868, -4.8918, -4.8435, -5.01, -5.1516, -5.3954, -5.4559, -5.5472, -5.635, -4.6966, -5.0287, -4.626, -5.25, -5.3371, -6.0143, -4.5476, -5.3821, -5.3268, -4.8274, -5.211, -5.3659, -6.2276, -6.0065, -5.4069, -5.9694, -5.8815, -4.9997, -6.1294, -5.2403, -5.0811, -5.0076, -5.2723, -4.7968, -3.9641, -4.207, -3.1899, -4.4367, -3.5892, -4.4928, -3.7817, -4.6619, -4.4261, -4.5257, -4.45, -4.0375, -4.3572, -4.498, -4.7724, -4.8589, -4.2985, -4.5016, -4.3521, -4.7793, -4.6472, -4.7093, -4.6918, -4.6145, -4.7829, -4.8353, -3.7691, -3.8005, -4.2926, -4.3651, -4.3608, -4.4423, -4.525, -4.6149, -4.6363, -4.6886, -4.9811, -5.0949, -5.2602, -5.3136, -5.4312, -5.4672, -4.5607, -4.6789, -4.7916, -4.0872, -4.7632, -5.5209, -5.0702, -4.9086, -5.4097, -5.694, -4.7649, -5.3317, -5.6323, -5.0913, -4.2711, -3.939, -4.3101, -4.5503, -4.5943, -4.743, -4.5049, -3.7522, -4.4728, -4.8272, -3.8901, -3.9905, -4.3005, -4.58, -4.5762, -4.321, -4.4631, -4.6216, -4.6473, -4.7712, -4.832, -5.117, -5.2175, -5.28, -5.2909, -5.3323, -5.3451, -5.5111, -5.5366, -5.6572, -5.7008, -5.8548, -5.1178, -4.1094, -5.1436, -5.582, -3.9322, -5.3152, -4.5214, -5.0327, -5.5514, -4.5723, -5.2081, -6.0771, -3.9323, -6.2539, -5.1108, -4.5148, -5.966, -4.2937, -4.0819, -4.0954, -4.7115, -4.4245, -3.5615, -4.354, -3.8367, -4.0167, -4.1966, -4.616, -3.7765, -3.9878, -4.7677, -4.9021, -4.765, -4.9974, -4.9822, -4.6021, -4.9552, -4.7407, -4.8901, -4.9079, -4.9442, -2.3462, -2.6468, -3.5064, -3.2357, -4.7313, -4.7513, -4.9185, -5.0582, -5.2336, -5.2783, -5.3284, -4.5985, -4.7114, -5.5885, -4.3007, -5.1524, -3.9122, -3.9755, -4.7533, -3.6627, -5.0455, -3.515, -5.5406, -3.8189, -4.7365, -3.8714, -5.5754, -5.4353, -5.6809, -5.4447, -3.7789, -4.8865, -3.6346, -3.3408, -4.521, -4.3723, -4.1638, -4.1772, -4.5707, -4.3407, -4.6668, -4.5187, -4.8213, -3.259, -4.1627, -4.2197, -4.6632, -4.7905, -5.0018, -5.0171, -5.1205, -5.3514, -5.4365, -3.4258, -4.8639, -5.5391, -5.2623, -5.7854, -5.0732, -4.1223, -5.3602, -5.1557, -3.277, -5.514, -5.0768, -5.3328, -5.6361, -5.3385, -5.0123, -5.5337, -5.1782, -5.5378, -5.4389, -4.1081, -3.8403, -4.9734, -4.7509, -4.626, -3.911, -4.3022, -3.4042, -4.4914, -3.5099, -4.8387, -3.9593, -4.1357, -4.5289, -4.962, -4.1077, -4.7166, -4.541, -4.4189, -4.5998, -4.6473, -4.7369, -4.6777, -4.7272, -4.8066, -4.8968, -5.0266, -5.1673, -5.2593, -5.2748, -5.2809, -5.3731, -5.4446, -5.4681, -5.5114, -5.5136, -5.3561, -5.4421, -5.0654, -4.9391, -5.219, -5.0111, -5.5067, -5.5863, -5.6577, -5.8069, -5.5828, -4.8874, -4.248, -5.9129, -5.4481, -5.1985, -5.6271, -5.6908, -4.6227, -4.8423, -4.7634, -3.7798, -4.7638, -4.9148, -4.938, -3.9611, -4.4837, -4.6409, -3.7428, -4.5548, -4.3178, -4.0959, -4.9835, -4.7179, -4.584, -4.4806, -4.2675, -4.5983, -4.6831, -4.4581, -4.3563, -4.7077, -4.755, -4.7196, -4.6224, -4.7934, -4.8487, -4.0878, -4.7406, -4.9489, -4.9833, -5.2346, -5.3187, -5.3774, -4.6479, -3.2843, -4.9371, -5.4622, -4.8044, -4.4729, -4.2097, -4.8046, -4.9784, -5.1746, -4.9406, -4.8673, -3.8684, -5.0773, -5.3565, -5.4871, -4.8814, -5.7775, -4.9211, -5.3226, -5.2009, -4.9149, -3.7817, -3.5381, -4.7593, -4.1547, -4.7094, -4.2761, -4.243, -4.7891, -4.2317, -4.4551, -4.0287, -4.3467, -4.2993, -4.3632, -4.1869, -4.5511, -4.6164, -4.728, -4.6468, -4.7488, -4.7631, -4.757, -4.803, -3.3731, -3.4824, -3.5655, -4.5674, -4.7398, -4.8695, -5.1442, -5.1698, -5.2954, -5.2424, -5.4651, -5.4814, -5.5046, -4.0038, -4.4866, -5.3855, -5.445, -5.1134, -4.8938, -5.564, -5.5985, -4.4622, -5.047, -4.5661, -5.5469, -5.3561, -5.6055, -5.1795, -5.2164, -4.5327, -4.8911, -4.1918, -4.6496, -5.0511, -4.2353, -3.7128, -4.086, -3.6834, -3.8302, -4.7897, -4.3985, -4.8309, -4.9363, -4.5904, -4.2192, -4.1846, -4.2015, -4.5317, -4.5935, -4.7459, -4.5844, -4.7548, -4.7328, -4.7696, -4.7855, -3.4515, -4.566, -4.7466, -4.9561, -5.2014, -5.3729, -5.4168, -5.5524, -4.3513, -5.5966, -4.2675, -4.4313, -4.5721, -5.0796, -5.2508, -5.0111, -5.643, -4.7947, -4.9006, -5.7447, -5.2128, -5.7579, -4.6985, -5.1019, -4.0836, -5.9697, -5.5959, -5.5703, -5.3051, -4.9084, -3.7968, -3.8311, -4.2203, -3.4104, -3.3261, -4.4034, -4.2803, -3.8256, -4.1629, -3.8162, -4.2634, -4.4439, -4.4031, -4.1774, -4.6678, -4.6363, -4.3191, -4.5479, -4.4349, -4.6929, -4.77], \"loglift\": [30.0, 29.0, 28.0, 27.0, 26.0, 25.0, 24.0, 23.0, 22.0, 21.0, 20.0, 19.0, 18.0, 17.0, 16.0, 15.0, 14.0, 13.0, 12.0, 11.0, 10.0, 9.0, 8.0, 7.0, 6.0, 5.0, 4.0, 3.0, 2.0, 1.0, 2.1311, 2.1223, 2.1188, 2.1173, 2.1131, 2.109, 2.1088, 2.1075, 2.1074, 2.1056, 2.1015, 2.0967, 2.0952, 2.0916, 2.0353, 2.024, 2.0063, 1.9965, 1.991, 1.9808, 1.9743, 1.9679, 1.9664, 1.947, 1.9204, 1.901, 1.8964, 1.8962, 1.8703, 1.8188, 1.8162, 1.803, 1.7603, 1.6114, 1.7005, 1.4755, 1.4091, 1.2569, 1.5584, 1.1628, 1.2367, 1.3474, 0.47, 1.0303, 0.9822, 1.1549, 0.7961, 1.3251, 0.4008, 0.4983, 0.603, 0.5852, 1.0176, 0.9195, 0.1905, 2.0657, 2.0627, 2.0597, 2.0535, 2.0517, 2.0488, 2.0457, 2.0264, 2.0049, 1.9474, 1.9132, 1.9117, 1.8439, 1.8274, 1.8124, 1.797, 1.7826, 1.7357, 1.7115, 1.7043, 1.6805, 1.6718, 1.6634, 1.654, 1.6195, 1.6173, 1.6088, 1.5958, 1.5909, 1.5738, 1.5727, 1.4334, 1.4524, 1.2528, 1.4342, 1.2666, 1.3127, 1.0427, 1.2776, 1.0922, 1.1264, 0.9502, 0.5501, 0.679, 0.8171, 1.1431, 1.2476, 0.2958, 0.5148, 0.2199, 0.945, 0.4791, 0.6036, 0.4725, -0.0225, 0.497, 0.6544, 2.5081, 2.5076, 2.502, 2.5009, 2.5002, 2.4996, 2.4981, 2.4963, 2.4959, 2.4947, 2.4873, 2.4837, 2.4778, 2.4757, 2.4707, 2.4661, 2.3799, 2.3765, 2.3729, 2.3693, 2.3605, 2.3436, 2.3228, 2.3097, 2.2953, 2.2923, 2.2855, 2.2715, 2.1363, 2.1331, 2.1222, 2.0133, 2.0532, 2.022, 2.0327, 2.0783, 1.9778, 1.33, 1.6552, 2.0073, 0.9471, 1.0458, 0.8259, 1.3637, 1.2947, 0.3743, 0.6682, 1.287, 1.3164, 1.9581, 1.9572, 1.9523, 1.9502, 1.9488, 1.9486, 1.9476, 1.9473, 1.9429, 1.9421, 1.9383, 1.9369, 1.9311, 1.9067, 1.8718, 1.8582, 1.8575, 1.8526, 1.8012, 1.7969, 1.79, 1.7854, 1.7598, 1.7521, 1.7124, 1.7107, 1.6828, 1.6711, 1.6588, 1.6365, 1.615, 1.5654, 1.5171, 1.569, 1.4579, 1.026, 1.3299, 1.0843, 1.1505, 1.201, 1.3668, 0.7955, 0.9032, 1.253, 1.372, 1.1513, 1.4277, 1.348, -0.0078, 1.1683, 0.115, 0.7393, 0.7297, 0.4204, 2.6002, 2.5961, 2.5951, 2.5914, 2.5773, 2.5768, 2.5722, 2.5677, 2.5611, 2.5593, 2.5571, 2.5227, 2.5145, 2.4957, 2.4681, 2.4187, 2.3644, 2.3513, 2.3408, 2.2653, 2.2267, 2.2093, 2.1606, 2.1474, 2.1135, 2.1003, 2.0116, 1.992, 1.9576, 1.9283, 1.8714, 1.9057, 1.7592, 1.5628, 1.6025, 1.2629, 0.8525, 0.4148, 0.9781, 0.2536, 1.1226, 0.3056, 1.1424, 2.4858, 2.4786, 2.4778, 2.4703, 2.4674, 2.4618, 2.4614, 2.4581, 2.4496, 2.446, 2.434, 2.3941, 2.3466, 2.3229, 2.2908, 2.2807, 2.265, 2.2578, 2.2306, 2.2127, 2.2074, 2.1947, 2.1588, 2.1548, 2.1516, 2.1287, 2.116, 2.1095, 2.1046, 2.1031, 1.9917, 1.9291, 2.0546, 1.9792, 1.9521, 1.7805, 1.826, 1.4516, 1.8489, 1.1854, 1.7857, 0.9317, 0.9005, 1.3488, 1.8944, 0.335, 1.3684, 0.5854, 0.1731, 0.5645, 0.7502, 1.0023, 0.6352, 0.1938, 2.2168, 2.2148, 2.2121, 2.2086, 2.206, 2.2056, 2.2032, 2.2025, 2.2, 2.1993, 2.1977, 2.1976, 2.1696, 2.1192, 2.1163, 2.116, 2.0954, 2.0643, 2.0554, 2.0484, 2.0372, 2.0273, 2.0152, 2.0032, 1.9967, 1.9851, 1.9243, 1.9206, 1.9139, 1.9059, 1.8897, 1.8916, 1.7963, 1.5184, 1.7014, 1.7366, 1.7438, 1.3188, 1.5114, 1.5669, 0.8292, 1.3361, 1.0824, 0.8077, 1.6917, 1.3497, 1.1146, 0.9262, 0.4278, 0.9443, 1.1045, 0.5583, 0.2312, 1.0655, 1.2017, 0.8916, 0.4599, 0.333, 0.4491, 2.4969, 2.4859, 2.4806, 2.4796, 2.4713, 2.468, 2.4611, 2.4415, 2.4197, 2.4099, 2.4027, 2.4, 2.3939, 2.3761, 2.3749, 2.3322, 2.3285, 2.321, 2.307, 2.2957, 2.2914, 2.2697, 2.2084, 2.1956, 2.1954, 2.1923, 2.1771, 2.157, 2.1559, 2.1248, 1.8557, 2.0073, 1.799, 1.9667, 1.7067, 1.6235, 1.8774, 1.3109, 1.4604, 0.8749, 1.2645, 1.1075, 1.1356, 0.7342, 1.0114, 1.0822, 1.3492, 0.1905, 0.8864, 0.8662, -0.1627, 0.6837, 2.3523, 2.3517, 2.3512, 2.3405, 2.3374, 2.3345, 2.3275, 2.3267, 2.3227, 2.322, 2.3164, 2.3148, 2.3148, 2.2861, 2.2823, 2.279, 2.2511, 2.1851, 2.1354, 2.1147, 2.101, 2.0893, 2.0816, 2.077, 1.9505, 1.9272, 1.9188, 1.916, 1.9064, 1.8907, 1.8854, 1.7959, 1.7913, 1.863, 1.4833, 1.2083, 1.2417, 0.9109, 0.9941, 1.6745, 1.2487, 1.6632, 1.7299, 1.2151, 0.6181, 0.5108, 0.3905, 0.8752, 0.924, 1.2709, 0.432, 0.9291, 0.6674, -0.1821, 0.2968, 2.3151, 2.3043, 2.3011, 2.2967, 2.2901, 2.2841, 2.283, 2.2776, 2.2764, 2.2757, 2.1512, 2.125, 2.0881, 2.0752, 2.0255, 2.024, 2.0197, 2.0152, 2.0143, 2.0094, 1.9845, 1.9626, 1.9602, 1.8383, 1.8325, 1.8256, 1.8224, 1.7394, 1.7288, 1.7184, 1.5632, 1.4966, 1.4906, 1.1816, 1.1166, 1.386, 1.2221, 0.8697, 1.117, 0.7781, 1.0517, 1.1937, 1.0836, 0.7136, 1.2985, 1.1694, 0.2529, 0.7499, 0.4024, 0.806, 0.7475]}, \"token.table\": {\"Topic\": [10, 4, 9, 1, 4, 5, 7, 8, 10, 3, 7, 1, 4, 5, 9, 10, 1, 2, 7, 2, 9, 1, 4, 1, 3, 7, 8, 9, 3, 1, 1, 2, 3, 4, 5, 6, 7, 9, 5, 4, 5, 7, 7, 10, 7, 9, 10, 2, 7, 1, 2, 4, 5, 7, 9, 10, 2, 4, 6, 7, 9, 1, 10, 3, 1, 1, 8, 9, 10, 1, 2, 3, 9, 7, 2, 4, 6, 8, 10, 1, 2, 3, 6, 2, 5, 10, 1, 4, 1, 2, 4, 5, 6, 6, 1, 5, 1, 2, 5, 8, 1, 2, 4, 5, 1, 5, 7, 1, 2, 3, 4, 5, 6, 7, 9, 10, 2, 5, 8, 9, 2, 5, 8, 9, 10, 2, 3, 5, 7, 10, 4, 7, 8, 9, 2, 6, 5, 8, 10, 4, 2, 6, 4, 5, 10, 4, 7, 10, 1, 2, 3, 7, 10, 4, 6, 9, 5, 6, 1, 6, 7, 2, 9, 2, 8, 4, 6, 2, 4, 8, 1, 4, 8, 10, 2, 7, 3, 4, 9, 2, 7, 8, 1, 2, 3, 5, 10, 1, 1, 3, 5, 6, 7, 4, 9, 1, 3, 3, 5, 10, 2, 3, 6, 7, 8, 9, 10, 8, 10, 8, 8, 9, 1, 4, 7, 10, 6, 7, 2, 5, 7, 2, 9, 1, 3, 4, 7, 9, 10, 5, 8, 3, 5, 9, 10, 1, 3, 6, 7, 10, 2, 3, 4, 1, 4, 10, 4, 8, 2, 4, 5, 6, 9, 10, 1, 2, 2, 7, 1, 4, 4, 7, 4, 4, 7, 2, 4, 9, 10, 4, 6, 10, 2, 8, 9, 1, 3, 10, 4, 6, 7, 6, 1, 2, 4, 5, 2, 4, 6, 7, 8, 9, 1, 2, 4, 8, 10, 2, 8, 2, 4, 5, 8, 3, 3, 1, 7, 8, 9, 10, 6, 8, 7, 6, 7, 6, 9, 2, 4, 5, 7, 8, 9, 10, 7, 1, 4, 6, 7, 10, 4, 7, 3, 6, 4, 10, 1, 4, 4, 6, 7, 6, 10, 3, 7, 8, 2, 8, 4, 6, 9, 2, 4, 2, 4, 3, 5, 1, 2, 4, 5, 6, 9, 10, 4, 10, 1, 5, 8, 1, 2, 3, 4, 7, 9, 10, 2, 8, 9, 10, 1, 3, 4, 6, 1, 1, 4, 5, 6, 7, 10, 1, 2, 4, 5, 10, 1, 4, 6, 1, 9, 3, 9, 3, 5, 8, 10, 5, 8, 5, 8, 10, 4, 5, 6, 2, 5, 1, 2, 3, 4, 5, 6, 8, 2, 3, 4, 5, 5, 10, 7, 7, 10, 9, 1, 2, 3, 6, 10, 7, 9, 4, 10, 3, 2, 4, 8, 3, 9, 4, 8, 9, 5, 1, 2, 3, 4, 5, 6, 10, 6, 1, 2, 7, 9, 2, 4, 6, 7, 2, 3, 2, 6, 9, 4, 7, 8, 9, 4, 8, 4, 5, 6, 4, 7, 5, 5, 4, 6, 1, 3, 7, 1, 7, 6, 7, 5, 7, 6, 7, 2, 5, 9, 1, 3, 5, 8, 10, 3, 9, 8, 1, 3, 1, 2, 3, 4, 5, 6, 7, 8, 9, 10, 2, 4, 7, 9, 10, 6, 1, 6, 9, 6, 1, 2, 3, 6, 8, 9, 10, 6, 9, 1, 3, 6, 1, 2, 3, 7, 9, 10, 1, 8, 1, 5, 1, 2, 3, 4, 7, 9, 7, 5, 8, 10, 3, 6, 1, 2, 4, 7, 8, 1, 2, 3, 1, 4, 5, 8, 10, 1, 4, 5, 1, 3, 4, 6, 9, 10, 1, 2, 3, 4, 6, 7, 8, 9, 4, 1, 10, 3, 4, 6, 10, 3, 4, 9, 1, 3, 4, 5, 1, 3, 10, 1, 6, 8, 10, 4, 9, 10, 4, 8, 1, 7, 8, 9, 1, 2, 3, 4, 5, 7, 8, 9, 10, 1, 2, 3, 6, 9, 10, 5, 7, 9, 7, 10, 4, 8, 9, 2, 3, 7, 8, 2, 8, 3, 1, 6, 2, 9, 1, 3, 3, 5, 10, 2, 4, 8, 10, 1, 2, 3, 4, 5, 6, 7, 9, 10, 1, 2, 3, 4, 6, 7, 2, 3, 2, 3, 8, 10, 6, 7, 3, 5, 6, 2, 5, 1, 7, 8, 3, 4, 10, 2, 10, 4, 8, 10, 7, 3, 4, 6, 7, 8, 9, 10, 2, 3, 4, 8, 9, 10, 9, 10, 1, 4, 8, 9, 10, 6, 7, 4, 7, 2, 9, 2, 4, 8, 5, 1, 2, 3, 4, 5, 9, 10, 6, 7, 1, 3, 5, 6, 7, 10, 4, 5, 2, 3, 4, 5, 7, 8, 9, 1, 8, 1, 2, 3, 7, 10, 2, 7, 6, 4, 8, 4, 8, 10, 9, 9, 1, 4, 8, 8, 2, 4, 9, 10, 2, 4, 6, 10, 10, 1, 2, 4, 6, 8, 3, 5, 2, 8, 9, 5, 5, 7, 5, 8, 1, 4, 5, 6, 9, 4, 1, 2, 5, 10, 4, 1, 2, 4, 5, 7, 8, 9, 1, 7, 1, 4, 5, 10, 2, 3, 4, 5, 6, 7, 10, 6, 3, 6, 7, 2, 3, 4, 5, 6, 7, 2, 6, 7, 1, 2, 3, 5, 6, 9, 10, 1, 2, 3, 4, 5, 8, 10, 2, 10, 7, 3, 4, 6, 5, 1, 2, 3, 4, 5, 7, 10, 2, 7, 10, 3, 4, 5, 6, 7, 8, 9, 4, 6, 8, 9, 3, 5, 7, 8, 9, 1, 10, 3, 2, 5, 7, 10, 9, 1, 2, 4, 5, 6, 7, 8, 9, 10, 4, 8, 2, 4, 8, 9, 10, 2, 3, 4, 7, 9, 9, 9, 10, 1, 6, 5, 3, 4, 4, 7, 10, 2, 4, 7, 1, 1, 2, 4, 10, 3, 7, 9, 1, 2, 5, 9, 10, 1, 3, 4, 6, 8, 10, 2, 8, 5, 8, 4, 5, 2, 3, 8, 9, 2, 4, 8, 9, 8, 10, 1, 2, 3, 7, 9, 10, 3, 4, 1, 3, 4, 6, 4, 9, 10, 3, 9, 10, 1, 2, 3, 5, 6, 9, 10, 1, 4, 6, 2, 9, 10, 6, 10, 6, 9, 1, 2, 3, 4, 5, 8, 9, 10, 1, 2, 5, 6, 10, 4, 1, 2, 4, 6, 7, 9, 10, 6, 7, 5, 6, 2, 3, 5, 7, 1, 10, 1, 4, 6, 7, 8, 10, 3, 4, 8, 1, 2, 4, 5, 6, 7, 8, 9, 2, 4, 7, 8, 9, 10, 4, 6, 1, 7, 10, 10, 1, 2, 4, 6, 9, 1, 2, 3, 4, 6, 7, 8, 9, 10, 3, 7, 3, 6, 1, 2, 3, 4, 7, 9, 10, 8, 2, 3, 4, 6, 7, 8, 9, 10, 1, 2, 3, 5, 6, 7, 9, 10, 2, 3, 4, 5, 9, 10, 1, 4, 5, 7, 9, 10, 1, 4, 1, 3, 4, 8, 6, 9, 2, 3, 6, 8, 9, 7, 1, 5, 6, 7, 8, 10, 1, 10, 2, 3, 2, 3, 4, 10, 4, 9, 2, 4, 6, 2, 7, 8, 9, 1, 3, 4, 6, 2, 9, 3, 3, 4, 3, 1, 3, 1, 2, 4, 9, 10, 4, 4, 9, 2, 4, 6, 7, 8, 9, 10, 3, 1, 2, 5, 8, 9, 4, 9, 1, 8, 9, 1, 2, 3, 4, 6, 7, 8, 9, 10, 3, 4, 7, 8, 10, 1, 2, 3, 4, 7, 8, 10, 1, 2, 3, 6, 8, 9, 2, 1, 2, 3, 4, 5, 7, 8, 9, 10, 2, 4, 5, 7, 8, 4, 8, 3, 4, 2, 3, 10, 5, 9, 1, 2, 3, 5, 7, 8, 9, 10, 6, 8, 9, 1, 2, 3, 4, 7, 9, 10, 3, 4, 6, 1, 2, 3, 4, 6, 10, 1, 9], \"Freq\": [0.989897343631969, 0.6683553375288213, 0.3288732613237057, 0.15641219482552002, 0.27071341412109234, 0.15039634117838463, 0.31282438965104004, 0.08422195105989538, 0.030079268235676925, 0.615378134142454, 0.3745779946954068, 0.07337689669987944, 0.2348060694396142, 0.6016905529390114, 0.02201306900996383, 0.05870151735990355, 0.6792757048827718, 0.1881071182752291, 0.1254047455168194, 0.9335851436933604, 0.06365353252454731, 0.09552287253409364, 0.8915468103182073, 0.22044051799351932, 0.07348017266450645, 0.07348017266450645, 0.10287224173030902, 0.5290572431844464, 0.9959148912944796, 0.9677750920155608, 0.41161142506084825, 0.07598980154969506, 0.1583120865618647, 0.12981591098072906, 0.08232228501216965, 0.041161142506084825, 0.06332483462474588, 0.03799490077484753, 0.9719260640561915, 0.3038152150339541, 0.03962807152616792, 0.647258501594076, 0.8032315301999464, 0.14174674062351997, 0.1990249442765637, 0.03980498885531274, 0.7562947882509421, 0.9727294089211116, 0.9802450630021677, 0.08701031567829513, 0.32318117251938194, 0.033146786925064814, 0.033146786925064814, 0.31489447578811575, 0.18645067645348956, 0.02486009019379861, 0.2253523977617974, 0.24037589094591724, 0.02253523977617974, 0.48826352848389437, 0.02253523977617974, 0.7752369789981278, 0.18240870094073597, 0.9834658391278066, 0.9557294104352237, 0.03929894226730939, 0.9151039413673473, 0.016842403828846882, 0.02807067304807814, 0.7824569431338502, 0.06018899562568078, 0.12037799125136156, 0.9910785872911354, 0.9638524442802054, 0.2013168458400805, 0.5972399759922388, 0.09394786139203756, 0.10065842292004025, 0.9500931693727123, 0.7608209271613756, 0.08395265403160007, 0.05771744964672505, 0.09444673578555009, 0.06375332431585648, 0.17000886484228395, 0.7437887836849922, 0.1556433823707486, 0.8404742648020425, 0.1404898525020543, 0.520638865154672, 0.04132054485354539, 0.11569752558992709, 0.17354628838489064, 0.9422434148024931, 0.9741088425906611, 0.020507554580856024, 0.9723368447064608, 0.6494503984783373, 0.21648346615944578, 0.12989007969566746, 0.44957332267051886, 0.16748810060274233, 0.29090038525739453, 0.08815163189618017, 0.10595372133385077, 0.6180633744474628, 0.2648843033346269, 0.033659982214770685, 0.1495999209545364, 0.05983996838181455, 0.1570799170022632, 0.0037399980238634095, 0.10097994664431206, 0.16829991107385342, 0.12341993478749251, 0.20943988933635094, 0.20368242109948664, 0.7164002397292288, 0.05618825409641011, 0.028094127048205055, 0.1836548127278784, 0.07063646643379938, 0.15540022615435864, 0.028254586573519754, 0.5509644381836352, 0.7726758728749197, 0.0997001126290219, 0.12462514078627737, 0.2917168993910035, 0.7001205585384084, 0.10556483899163621, 0.04691770621850499, 0.26977681075640364, 0.5630124746220598, 0.8419883681757659, 0.13156068252746342, 0.4322449085728853, 0.5186938902874624, 0.04528279994573084, 0.9677044021717286, 0.24014735552782002, 0.7566907240216216, 0.20855478063492677, 0.506490181541965, 0.23834832072563059, 0.8838063306246269, 0.08221454238368622, 0.020553635595921556, 0.48185987543624736, 0.004589141670821403, 0.16061995847874913, 0.01376742501246421, 0.33500734196996246, 0.14452645934172667, 0.8004542363541786, 0.055587099746817956, 0.553550785703621, 0.4059372428493221, 0.7152371142372528, 0.2267824996362021, 0.05814935888107746, 0.23334116146478567, 0.7700258328337928, 0.8704620589770954, 0.12052551585836704, 0.8528817462142109, 0.1383051480347369, 0.5981286855092497, 0.21110424194444105, 0.17592020162036756, 0.08226115589413538, 0.12339173384120307, 0.7403504030472184, 0.9921826778838917, 0.97089655211936, 0.9851184344040149, 0.4203653104505842, 0.3002609360361315, 0.2659454004891451, 0.7362895607206057, 0.055569023450611744, 0.19449158207714112, 0.5864919982312576, 0.04326580314820753, 0.02403655730455974, 0.19709976989738984, 0.14421934382735843, 0.9698699938793693, 0.5625841274139002, 0.042620009652568194, 0.10228802316616367, 0.025572005791540918, 0.2642440598459228, 0.22974210341427675, 0.7610207175597917, 0.0974056946494749, 0.8279484045205366, 0.9858813821737396, 0.8353524764312776, 0.14527869155326567, 0.022522498034007188, 0.11670748981258271, 0.27026997640808625, 0.16379998570187046, 0.03275999714037409, 0.15765748623805032, 0.23341497962516541, 0.3740710519047759, 0.5922791655158952, 0.9888052958830144, 0.8483125605268698, 0.13573000968429916, 0.014826961518047998, 0.07413480759023999, 0.578251499203872, 0.32619315339705596, 0.23820425082805502, 0.744388283837672, 0.7431211438589, 0.06966760723677187, 0.16255775021913438, 0.3609760985274118, 0.6235041701837113, 0.09024545657303203, 0.06941958197925541, 0.4373433664693091, 0.08330349837510649, 0.22908462053154285, 0.08330349837510649, 0.24376068336848772, 0.7312820501054631, 0.2699006113727914, 0.03373757642159893, 0.6747515284319785, 0.03373757642159893, 0.024037389169194234, 0.1442243350151654, 0.24037389169194234, 0.5889160346452588, 0.9326708285881135, 0.10520399418643488, 0.07364279593050442, 0.8100707552355486, 0.730388059112294, 0.15376590718153557, 0.07688295359076779, 0.9705087739101423, 0.9778819379694847, 0.03724152476731267, 0.17556718818875972, 0.47881960415116287, 0.14896609906925068, 0.10108413865413439, 0.0532021782390181, 0.8557219820865251, 0.13655138012019016, 0.6525233089812633, 0.2854789476793027, 0.8651945120312556, 0.10178758965073596, 0.7681424451415888, 0.18073939885684442, 0.9454838755378642, 0.28304064828559344, 0.7076016207139836, 0.6180168006668267, 0.08240224008891023, 0.1510707734963354, 0.1510707734963354, 0.07858159497607008, 0.6679435572965957, 0.1964539874401752, 0.8454138416628199, 0.1449280871421977, 0.9813320280352238, 0.09421721238698869, 0.1507475398191819, 0.7348942566185118, 0.10572733067797864, 0.14096977423730486, 0.7400913147458504, 0.9847659926880532, 0.11102392458215361, 0.06832241512747915, 0.44409569832861445, 0.36723298131020043, 0.01985561881310602, 0.5460295173604155, 0.01985561881310602, 0.00992780940655301, 0.09927809406553008, 0.2879064727900372, 0.03221521813006933, 0.531551099146144, 0.23624493295384175, 0.048322827195103994, 0.14496848158531198, 0.04487482706173166, 0.9423713682963648, 0.9642823354047416, 0.9620064751469103, 0.19189607360769445, 0.8059635091523167, 0.9606439441012248, 0.9820182474198, 0.2368577752687112, 0.4060419004606478, 0.06090628506909717, 0.006767365007677463, 0.2909966953301309, 0.2705586460169618, 0.7102164457945247, 0.9590386120481651, 0.994119471639739, 0.9610229103553939, 0.7850080429799343, 0.2113483192638285, 0.14598280025474425, 0.0166837486005422, 0.0166837486005422, 0.2711109147588108, 0.24608529185799746, 0.2252306061073197, 0.0750768687024399, 0.961934241213841, 0.44427220557404024, 0.1448713713828392, 0.12555518853179398, 0.24145228563806534, 0.03863236570209045, 0.9804781038653183, 0.9772404602282568, 0.6933874284918315, 0.308172190440814, 0.2530203832441275, 0.7168910858583613, 0.26235746849870456, 0.7121131287821981, 0.2691075938233525, 0.5785813267202078, 0.14800917660284385, 0.21808210192124175, 0.7414791465322219, 0.1548263574031887, 0.8128383763667407, 0.9772264126104311, 0.08979250953815336, 0.8979250953815335, 0.24695731187186526, 0.6703127036522056, 0.03527961598169504, 0.4515387604454031, 0.5355459716910594, 0.6309093274262814, 0.36452538917962923, 0.8706758195256966, 0.12092719715634674, 0.3758905723211255, 0.2278124680734094, 0.13668748084404564, 0.053156242550462196, 0.15567185318349644, 0.02278124680734094, 0.026578121275231098, 0.254508583619211, 0.7295912730417383, 0.0035402831671253764, 0.9948195699622309, 0.0035402831671253764, 0.21308775180101375, 0.2815802434513396, 0.011415415275054307, 0.0076102768500362055, 0.10654387590050687, 0.09893359905047067, 0.2815802434513396, 0.6872316826321845, 0.02216876395587692, 0.2216876395587692, 0.04433752791175384, 0.12659558977470775, 0.10549632481225646, 0.12659558977470775, 0.65407721383599, 0.9743165608291995, 0.06866346673361375, 0.771143549469816, 0.047536246200194136, 0.058099856466903944, 0.047536246200194136, 0.005281805133354904, 0.08678390415699852, 0.1487724071262832, 0.46284748883732546, 0.12397700593856932, 0.17770037517861603, 0.9613415700822114, 0.7329086804601708, 0.20940248013147736, 0.3268252554826609, 0.6536505109653218, 0.13827329392354987, 0.8296397635412993, 0.14858246089762084, 0.21226065842517264, 0.08490426337006905, 0.5518777119054489, 0.13996735808495725, 0.8398041485097435, 0.7664175501821636, 0.2028752338717492, 0.991184809838593, 0.13459058008431143, 0.10767246406744914, 0.753707248472144, 0.9544171148706531, 0.9481983522313873, 0.40699164159875456, 0.09044258702194545, 0.05168147829825455, 0.16150461968204546, 0.025840739149127274, 0.12920369574563637, 0.1356638805329182, 0.9681465341368101, 0.27977442872031477, 0.6694602401521818, 0.039967775531473536, 0.6348899139207096, 0.3575816756564916, 0.9654765788552894, 0.8221210011514901, 0.16442420023029802, 0.9776573832887326, 0.17911410476159928, 0.5240746028209757, 0.29188965220408775, 0.8184146923636912, 0.1753745769350767, 0.7079872514194491, 0.26083740841769176, 0.24341565105906965, 0.7572931366282166, 0.9514382104518833, 0.3233595591772932, 0.1322834560270745, 0.529133824108298, 0.867517030002773, 0.10843962875034663, 0.8083538473847965, 0.11829568498314096, 0.05914784249157048, 0.9539074597550294, 0.25991789633385926, 0.09596968480019419, 0.15595073780031554, 0.21193305393376216, 0.10796589540021846, 0.13595705346694176, 0.03198989493339806, 0.9514457643492881, 0.13860847461183076, 0.037802311257772024, 0.7056431434784111, 0.11340693377331607, 0.4422862025572297, 0.15624240851206483, 0.353348216173439, 0.04567085787275742, 0.343203721606506, 0.6520870710523613, 0.19033022430469243, 0.7993869420797082, 0.9741070683507134, 0.1511946957829455, 0.017787611268581825, 0.809336312720473, 0.008893805634290913, 0.2171294430788405, 0.7056706900062316, 0.1393489454890672, 0.7863261924025935, 0.0696744727445336, 0.08671458423463854, 0.888824488405045, 0.9974704381654259, 0.9450407892016642, 0.11051004039822862, 0.8472436430530861, 0.9530387890125079, 0.1439845998794155, 0.8279114493066392, 0.20244781731577047, 0.7905105247568179, 0.034707310519589384, 0.9370973840289133, 0.2014474784564591, 0.7554280442117216, 0.11239203587386207, 0.871038278022431, 0.15722477565814524, 0.06551032319089385, 0.7599197490143687, 0.06246525857259418, 0.09716818000181318, 0.07634642714428179, 0.15269285428856358, 0.6107714171542543, 0.9832021355686973, 0.9917367026121213, 0.9778589049196763, 0.902926657690319, 0.0880904056283238, 0.06607379751490534, 0.12270848109910992, 0.20766050647541678, 0.07079335448025573, 0.03303689875745267, 0.02123800634407672, 0.05899446206687977, 0.09911069627235801, 0.17462360771796412, 0.14630626592586182, 0.23113570062499347, 0.022367971028225176, 0.04473594205645035, 0.5666552660483711, 0.12675183582660932, 0.9825311903582044, 0.15845658106738428, 0.6088068641010028, 0.22517514151680926, 0.9599543002024219, 0.10842152545118923, 0.11293908901165545, 0.0496931991651284, 0.09035127120932436, 0.16263228817678385, 0.18522010597911492, 0.28912406786983796, 0.7033814667683701, 0.2679548444831886, 0.1341704944033596, 0.10062787080251968, 0.7043950956176378, 0.23026513824604466, 0.00767550460820149, 0.24561614746244767, 0.1304835783394253, 0.3377222027608655, 0.04605302764920893, 0.8841091090715482, 0.09472597597195159, 0.7856475933416041, 0.184858257256848, 0.10657779235775935, 0.4476267279025893, 0.24157632934425455, 0.0497363031002877, 0.14920890930086309, 0.007105186157183957, 0.986407327752185, 0.7744117547582707, 0.16744037940719367, 0.05232511856474802, 0.8167815707246816, 0.1786709685960241, 0.08934261867625781, 0.07817479134172559, 0.2624439423615073, 0.32386699270143454, 0.24010828769244286, 0.25188243547186995, 0.13673617925615797, 0.6045178451324879, 0.3236377729981133, 0.10567764016264924, 0.07265337761182136, 0.40950085563026584, 0.07925823012198693, 0.20682937906151622, 0.12409762743690972, 0.6618540129968519, 0.13100591048538526, 0.0847685303140728, 0.4854924917987806, 0.15412460057104146, 0.06164984022841659, 0.07706230028552073, 0.11516980408752835, 0.24473583368599772, 0.2303396081750567, 0.14972074531378685, 0.2044264022553628, 0.0057584902043764175, 0.011516980408752835, 0.03743018632844671, 0.9860042749878031, 0.9875331663083129, 0.9411434928259222, 0.024992649266219014, 0.04998529853243803, 0.1749485448635331, 0.7247868287203514, 0.24476830736493485, 0.13179831935034952, 0.602506602744455, 0.07183162789400797, 0.11672639532776295, 0.7272952324268307, 0.07183162789400797, 0.6495422968838209, 0.2766569042282941, 0.07217136632042455, 0.23782596121636734, 0.24503280852595422, 0.49006561705190843, 0.021620541928760666, 0.742338622996121, 0.09897848306614945, 0.1484677245992242, 0.5490168510067899, 0.4451487981136134, 0.11940839815736187, 0.6119680405564796, 0.19403864700571302, 0.059704199078680936, 0.12702080108818037, 0.20887865067834105, 0.06209905830977707, 0.06774442724702953, 0.1750064370548263, 0.1862971749293312, 0.008468053405878691, 0.146779592368564, 0.016936106811757383, 0.18699967562178993, 0.2604638339017788, 0.006678559843635354, 0.320570872494497, 0.12021407718543638, 0.09349983781089496, 0.9265100038117803, 0.06948825028588353, 0.9922112143551041, 0.17115030565519343, 0.8162553038939995, 0.10847501354081601, 0.8813594850191301, 0.9864845183295998, 0.7797604268953576, 0.06589524734326965, 0.10982541223878275, 0.0439301648955131, 0.6772642332725531, 0.26048624356636657, 0.9860435346622702, 0.2715047810507405, 0.7240127494686412, 0.3479806673214843, 0.6263652011786717, 0.36738962396407787, 0.6217362867084395, 0.2693728081553317, 0.6734320203883293, 0.026937280815533173, 0.6175593365421884, 0.10586731483580374, 0.14115641978107166, 0.10586731483580374, 0.041928849657095785, 0.3540658415488089, 0.01630566375553725, 0.1071515046792448, 0.10016336306972883, 0.04425823019360111, 0.065222655022149, 0.2562318590155854, 0.01630566375553725, 0.2929599409943237, 0.09154998156072616, 0.20751329153764594, 0.036619992624290464, 0.042723324728338875, 0.32347660151456575, 0.16504028610476423, 0.8252014305238211, 0.27619200278876394, 0.016246588399339054, 0.601123770775545, 0.08123294199669527, 0.13275008765212237, 0.8407505551301084, 0.9857249766841032, 0.07967099100945003, 0.9029378981071003, 0.3208409208653374, 0.6760576546805324, 0.8524730195113437, 0.07255089527756117, 0.05441317145817087, 0.6710817392202281, 0.19013982611239796, 0.12303165219037515, 0.9487245380720531, 0.04665858383960917, 0.39151711427081726, 0.02796550816220123, 0.5593101632440246, 0.9860296215824043, 0.13159055848359952, 0.02436862194140732, 0.16570662920156978, 0.09747448776562928, 0.22419132186094734, 0.16570662920156978, 0.19982269991954002, 0.20385560193550323, 0.040771120387100644, 0.23647249824518374, 0.30986051494196487, 0.10600491300646167, 0.10600491300646167, 0.028277319401415337, 0.9614288596481215, 0.15608895752601765, 0.1680958004126344, 0.04802737154646697, 0.5042874012379032, 0.1200684288661674, 0.07193720153074935, 0.8992150191343669, 0.09842444395722126, 0.8858199956149914, 0.7744075075107917, 0.19360187687769792, 0.1608672628396976, 0.09192415019411292, 0.7353932015529033, 0.9591751412902637, 0.09594074460199636, 0.38376297840798546, 0.1279209928026618, 0.1279209928026618, 0.005330041366777576, 0.09061070323521879, 0.17056132373688243, 0.7597794692110924, 0.21104985255863679, 0.2487237224278345, 0.056528118733598746, 0.056528118733598746, 0.07348655435367837, 0.12436186121391725, 0.4352665142487104, 0.051437700508755985, 0.9258786091576077, 0.04777351493973514, 0.1385431933252319, 0.10510173286741731, 0.004777351493973514, 0.2770863866504638, 0.3009731441203314, 0.12421113884331136, 0.05805724708051915, 0.8998873297480469, 0.003673705025282604, 0.20572748141582584, 0.0918426256320651, 0.4004338477558038, 0.3012438120731735, 0.6659800139292512, 0.31546421712438216, 0.9889942462606278, 0.9037234152078613, 0.0888908277253634, 0.15123388687652242, 0.6805524909443509, 0.16498242204711538, 0.9776350110616698, 0.9516595746677704, 0.3694754178053497, 0.5773053403208589, 0.04618442722566871, 0.9559712813956529, 0.6007223652737852, 0.21844449646319464, 0.032766674469479194, 0.15291114752423624, 0.04382140832395937, 0.07303568053993229, 0.07303568053993229, 0.7887853498312687, 0.9774399136730577, 0.15561892519322498, 0.7002851633695124, 0.019452365649153123, 0.09726182824576562, 0.9463247326349941, 0.8578391043501616, 0.13105875205349693, 0.13833703764810829, 0.23056172941351383, 0.6225166694164873, 0.9941007725753056, 0.879244617021671, 0.11397615405836477, 0.2641247121970958, 0.7043325658589221, 0.0958992801993576, 0.20378597042363492, 0.0239748200498394, 0.5694019761836858, 0.10189298521181746, 0.9801246362202697, 0.2333531101723937, 0.25002118947042185, 0.5000423789408437, 0.016668079298028122, 0.9705433486455199, 0.05547340393859652, 0.007564555082535889, 0.10590377115550245, 0.3530125705183415, 0.23954424428030316, 0.19415691378508781, 0.04034429377352474, 0.8262822061587113, 0.13220515298539381, 0.9695390241036064, 0.42738512894224956, 0.5439447095628631, 0.9499230157252215, 0.06503905006883487, 0.027873878600929228, 0.06503905006883487, 0.06503905006883487, 0.16724327160557537, 0.5110211076837026, 0.0929129286697641, 0.9785294797413934, 0.5870657160761914, 0.1712275005222225, 0.2323801792801591, 0.19419657176251326, 0.7983636839125545, 0.1379081387465638, 0.010608318365120292, 0.5304159182560145, 0.31824955095360874, 0.24882723658069206, 0.5509745952858182, 0.19550711445625804, 0.18834425531905546, 0.12186981226527119, 0.018465123070495634, 0.11263725073002337, 0.09786515227362687, 0.14033493533576682, 0.3194466291195745, 0.07948796707893942, 0.08560242608501169, 0.01834337701821679, 0.07337350807286716, 0.22623498322467372, 0.116174721115373, 0.39132537638862486, 0.14913806250716824, 0.8489397404254192, 0.987109639254826, 0.01566426172474955, 0.3759422813939893, 0.595241945540483, 0.9777395248151797, 0.14456369273261654, 0.26021464691870977, 0.05059729245641579, 0.036140923183154136, 0.05059729245641579, 0.3541810471949105, 0.10119458491283158, 0.12873750808046783, 0.790816121065731, 0.0735642903316959, 0.038517430398888344, 0.5282390454704686, 0.005502490056984049, 0.03301494034190429, 0.15406972159555338, 0.005502490056984049, 0.24210956250729815, 0.41055737983166213, 0.10007336133396764, 0.16935491918056064, 0.31561598574559024, 0.9873177229079211, 0.5347775928317798, 0.09437251638207879, 0.09437251638207879, 0.25166004368554346, 0.8306377903387402, 0.13843963172312337, 0.9868782393795541, 0.014478757703911013, 0.2606176386703982, 0.6081078235642625, 0.1158300616312881, 0.9751626634727039, 0.058824178444460105, 0.21507590243755725, 0.38787192661815884, 0.03676511152778757, 0.0018382555763893783, 0.1341926570764246, 0.04044162268056632, 0.07904498978474327, 0.04411813383334508, 0.07551553551222337, 0.9061864261466805, 0.19820755335498516, 0.08809224593554896, 0.7047379674843917, 0.9281733069505448, 0.06513496890881017, 0.43659897030656697, 0.03358453617742822, 0.27707242346378286, 0.0755652063992135, 0.16792268088714113, 0.9413394002024985, 0.9054304961374615, 0.08231186328522377, 0.9803048733410507, 0.9601444787389858, 0.9684438277260264, 0.9442137247004181, 0.9603245568835994, 0.16178536131987856, 0.7395902231765877, 0.09244877789707347, 0.9884852722263581, 0.18655366292784042, 0.7835253842969299, 0.9767449964457303, 0.11589463325218091, 0.6567362550956918, 0.1931577220869682, 0.03863154441739364, 0.7875906258758977, 0.18752157758949944, 0.9931142045095727, 0.04624192549354459, 0.17340722060079222, 0.007706987582257432, 0.32754697224594087, 0.4392982921886736, 0.18852100886521708, 0.13861838887148317, 0.06653682665831191, 0.49348146438248003, 0.06653682665831191, 0.04435788443887461, 0.048721163010787195, 0.8769809341941696, 0.9905440448457575, 0.0063496413131138305, 0.9462104396207519, 0.04205379731647786, 0.1929382036623919, 0.08904840169033472, 0.5788146109871757, 0.13357260253550207, 0.15802151538050374, 0.15802151538050374, 0.045149004394429634, 0.632086061522015, 0.8009842697083744, 0.17799650437963876, 0.3303516728476523, 0.027529306070637694, 0.1706816976379537, 0.16517583642382616, 0.10461136306842324, 0.1982110037085914, 0.8701179510837541, 0.11601572681116722, 0.371026097602158, 0.3139451595095183, 0.17837793153949902, 0.1284321107084393, 0.8886415895190436, 0.0669524485254074, 0.042606103607077436, 0.13864608238631057, 0.6585688913349752, 0.1733076029828882, 0.10190694828395129, 0.05823254187654359, 0.2984417771172859, 0.23293016750617437, 0.09462788054938334, 0.10918601601851924, 0.10190694828395129, 0.9571724807040513, 0.28348972972021047, 0.6851001801571753, 0.04790283998402858, 0.14370851995208575, 0.7903968597364717, 0.8457064201141892, 0.09949487295461049, 0.9447296930705742, 0.05248498294836523, 0.06056634959500523, 0.06988424953269834, 0.009317899937693112, 0.24226539838002092, 0.06522529956385179, 0.10249689931462423, 0.23760644841117437, 0.20965274859809502, 0.1807929577416373, 0.31227874519010085, 0.06574289372423175, 0.3287144686211588, 0.1068322023018766, 0.9692072767327151, 0.20952071105683143, 0.02244864761323194, 0.04115585395759189, 0.04863873649533587, 0.4863873649533587, 0.1496576507548796, 0.0374144126887199, 0.8426717924224288, 0.12038168463177555, 0.9101541895210715, 0.06067694596807143, 0.19127944043083409, 0.6086164013708357, 0.08694520019583367, 0.1043342402350004, 0.36358360054434646, 0.5908233508845631, 0.31262391985641413, 0.29178232519931985, 0.031262391985641416, 0.06773518263555639, 0.19278475057812205, 0.09378717595692423, 0.07365340148589637, 0.04910226765726425, 0.8838408178307565, 0.12143294759830454, 0.0787673173610624, 0.4397841885992651, 0.036101687123820274, 0.013127886226843735, 0.13456083382514827, 0.06563943113421868, 0.11158703292817175, 0.09721677922282561, 0.11768346958552574, 0.26095030212442666, 0.2865336650778018, 0.10233345181350065, 0.13303348735755083, 0.9895578567782899, 0.985590771406251, 0.7132261651881173, 0.06483874228982885, 0.19451622686948652, 0.9727199433798419, 0.02485650777760946, 0.4660595208301773, 0.05592714249962128, 0.13049666583244965, 0.31692047416452057, 0.04886828427428657, 0.15565453509587573, 0.06696764882031864, 0.30768919728254507, 0.010859618727619237, 0.24434142137143283, 0.021719237455238474, 0.016289428091428856, 0.12669555182222444, 0.8206591680244846, 0.1519739200045342, 0.8591123966846165, 0.11609626982224547, 0.08883038665495405, 0.11305685574266879, 0.08075489695904912, 0.008075489695904913, 0.41184997449115057, 0.032301958783619654, 0.2664911599648621, 0.94903485003045, 0.20298198508919757, 0.05572054492644639, 0.011940116769952798, 0.07960077846635198, 0.05970058384976399, 0.0039800389233175994, 0.11542112877621039, 0.4696445929514767, 0.1921961129542578, 0.20164838080446718, 0.18274384510404837, 0.0094522678502094, 0.1480855296532806, 0.1480855296532806, 0.022055291650488598, 0.09137192255202418, 0.37301719765004054, 0.1352187341481397, 0.12123058923626318, 0.009325429941251014, 0.17252045391314375, 0.19117131379564578, 0.21538775520108244, 0.2889347935624277, 0.0052533598829532305, 0.11557391742497107, 0.047280238946579074, 0.32570831274310025, 0.8137697430943219, 0.15878434011596526, 0.024425452948693825, 0.12212726474346912, 0.024425452948693825, 0.8060399473068962, 0.6631417471195414, 0.27305836646098763, 0.2449479968006315, 0.05126818537687636, 0.15380455613062907, 0.13101869596312848, 0.415841948056886, 0.9597631855246419, 0.20963532314539504, 0.2620441539317438, 0.14150384312314165, 0.10481766157269752, 0.19915355698812529, 0.08385412925815802, 0.876776902533088, 0.09741965583700979, 0.16610389680339524, 0.7889935098161274, 0.11596985181163033, 0.057984925905815166, 0.1932830863527172, 0.6185058763286951, 0.8420126609701255, 0.15465538670879858, 0.2959679453086983, 0.19731196353913222, 0.4932799088478305, 0.6658870756645046, 0.15537365098838438, 0.15537365098838438, 0.9552752731929312, 0.8519505933492327, 0.11359341244656436, 0.30092851285763716, 0.6839284383128118, 0.2022343645525478, 0.7684905852996817, 0.939084177667717, 0.9487884192634058, 0.9772576332027336, 0.9860285039405792, 0.2655253273165039, 0.6638133182912598, 0.9519667856487394, 0.08709754297895358, 0.6352997252582496, 0.1588249313145624, 0.11271446738452817, 0.9645812957982067, 0.8333043836027989, 0.14367316958668946, 0.4357767606509508, 0.06838832375179155, 0.11610110776466936, 0.02385639200643891, 0.004771278401287782, 0.050893636280403005, 0.3005905392811303, 0.98685089225214, 0.08660406901588083, 0.30930024648528864, 0.024744019718823094, 0.07423205915646927, 0.49488039437646186, 0.06051728625128308, 0.9279317225196739, 0.7992159791202009, 0.05628281543100006, 0.14070703857750017, 0.03272771580533755, 0.19963906641255905, 0.10800146215761391, 0.160365807446154, 0.14400194954348522, 0.1374564063824177, 0.036000487385871305, 0.05236434528854008, 0.12763809164081644, 0.21131639451807363, 0.23617714681431756, 0.09944300918497583, 0.13051894955528076, 0.3169745917771104, 0.5157745702446855, 0.011461657116548568, 0.02865414279137142, 0.12607822828203424, 0.08596242837411426, 0.022923314233097136, 0.20630982809787424, 0.09017624151444721, 0.388451501908388, 0.09017624151444721, 0.06936633962649785, 0.3537683320951391, 0.006936633962649786, 0.974396660026429, 0.011104304022105816, 0.16841527766860487, 0.031462194729299814, 0.1388038002763227, 0.09623730152491707, 0.03886506407737036, 0.06847654146965253, 0.23504110180123977, 0.21468321109404578, 0.6089584337902897, 0.0891158683595546, 0.0445579341797773, 0.14852644726592432, 0.10396851308614703, 0.15990905237541667, 0.8261967706063194, 0.2893364989640186, 0.7026743546269022, 0.3473393477485389, 0.6295525677942267, 0.021708709234283682, 0.03987531258618474, 0.9171321894822491, 0.05030081158946168, 0.10974722528609822, 0.06401921475022396, 0.08688322001816108, 0.10060162317892336, 0.2515040579473084, 0.11889282739327306, 0.21949445057219644, 0.04224930458320445, 0.14787256604121557, 0.8027367870808846, 0.1416967724372905, 0.09647439825517651, 0.3044973194929009, 0.06632614880043385, 0.1688301969465589, 0.12662264770991916, 0.09044474836422797, 0.20593878210843763, 0.2745850428112502, 0.514846955271094, 0.17430440711428724, 0.062251573969388296, 0.0074701888763265955, 0.3436286883110234, 0.20916528853714467, 0.20169509966081808, 0.20646767796138954, 0.7845771762532803], \"Term\": [\"able\", \"abortion\", \"abortion\", \"access\", \"access\", \"access\", \"access\", \"access\", \"access\", \"accord\", \"accord\", \"across\", \"across\", \"across\", \"across\", \"across\", \"action\", \"action\", \"action\", \"activist\", \"activist\", \"actual\", \"actual\", \"actually\", \"actually\", \"actually\", \"actually\", \"actually\", \"adult\", \"affect\", \"against\", \"against\", \"against\", \"against\", \"against\", \"against\", \"against\", \"against\", \"alexi\", \"allow\", \"allow\", \"allow\", \"almost\", \"almost\", \"along\", \"along\", \"along\", \"amanda\", \"amendment\", \"america\", \"america\", \"america\", \"america\", \"america\", \"america\", \"america\", \"american\", \"american\", \"american\", \"american\", \"american\", \"among\", \"among\", \"analysis\", \"announce\", \"anti\", \"anti\", \"anti\", \"anti\", \"article\", \"article\", \"article\", \"assault\", \"association\", \"attack\", \"attack\", \"attack\", \"attack\", \"attention\", \"author\", \"author\", \"author\", \"author\", \"available\", \"available\", \"available\", \"away\", \"away\", \"back\", \"back\", \"back\", \"back\", \"back\", \"bags\", \"banned\", \"banned\", \"bannedbooksweek\", \"banner\", \"banner\", \"banner\", \"banning\", \"banning\", \"banning\", \"banning\", \"bans\", \"bans\", \"bans\", \"because\", \"because\", \"because\", \"because\", \"because\", \"because\", \"because\", \"because\", \"because\", \"become\", \"become\", \"become\", \"become\", \"before\", \"before\", \"before\", \"before\", \"before\", \"behind\", \"behind\", \"behind\", \"bible\", \"bible\", \"biden\", \"biden\", \"biden\", \"biden\", \"bigot\", \"bigot\", \"bill\", \"bill\", \"bill\", \"birth\", \"black\", \"black\", \"block\", \"block\", \"block\", \"blue\", \"blue\", \"blue\", \"board\", \"board\", \"board\", \"board\", \"board\", \"body\", \"body\", \"body\", \"bookban\", \"bookban\", \"books\", \"books\", \"books\", \"both\", \"both\", \"bring\", \"bring\", \"brooklyn\", \"brooklyn\", \"burn\", \"burn\", \"burn\", \"busy\", \"busy\", \"busy\", \"california\", \"campus\", \"cancel\", \"care\", \"care\", \"care\", \"censor\", \"censor\", \"censor\", \"censorship\", \"censorship\", \"censorship\", \"censorship\", \"censorship\", \"center\", \"challenge\", \"challenge\", \"challenge\", \"challenge\", \"challenge\", \"change\", \"change\", \"chapter\", \"chapter\", \"character\", \"chicago\", \"chicago\", \"child\", \"child\", \"child\", \"child\", \"child\", \"child\", \"child\", \"church\", \"church\", \"city\", \"civil\", \"civil\", \"claim\", \"claim\", \"claim\", \"claim\", \"class\", \"class\", \"clear\", \"clear\", \"clear\", \"college\", \"college\", \"come\", \"come\", \"come\", \"come\", \"come\", \"come\", \"committee\", \"committee\", \"congress\", \"congress\", \"congress\", \"congress\", \"conservative\", \"conservative\", \"conservative\", \"conservative\", \"contain\", \"control\", \"control\", \"control\", \"copy\", \"copy\", \"copy\", \"cost\", \"council\", \"country\", \"country\", \"country\", \"country\", \"country\", \"country\", \"county\", \"county\", \"course\", \"course\", \"court\", \"court\", \"covid\", \"covid\", \"crime\", \"culture\", \"culture\", \"curriculum\", \"curriculum\", \"curriculum\", \"curriculum\", \"damn\", \"damn\", \"damn\", \"dangerous\", \"dangerous\", \"dead\", \"decide\", \"decide\", \"decide\", \"defunde\", \"defunde\", \"defunde\", \"demand\", \"democracy\", \"democracy\", \"democracy\", \"democracy\", \"democrats\", \"democrats\", \"democrats\", \"democrats\", \"democrats\", \"democrats\", \"desantis\", \"desantis\", \"desantis\", \"desantis\", \"desantis\", \"destroy\", \"destroy\", \"difference\", \"digital\", \"direct\", \"direct\", \"discriminate\", \"discuss\", \"district\", \"district\", \"district\", \"district\", \"district\", \"diversity\", \"diversity\", \"double\", \"drag\", \"drop\", \"educate\", \"educate\", \"education\", \"education\", \"education\", \"education\", \"education\", \"education\", \"education\", \"effect\", \"effort\", \"effort\", \"effort\", \"effort\", \"effort\", \"election\", \"elementary\", \"else\", \"else\", \"ensure\", \"ensure\", \"entire\", \"entire\", \"erase\", \"erase\", \"erase\", \"especially\", \"especially\", \"exist\", \"exist\", \"expect\", \"extreme\", \"extreme\", \"fail\", \"fail\", \"fail\", \"fascist\", \"fascist\", \"fear\", \"fear\", \"feature\", \"feature\", \"fight\", \"fight\", \"fight\", \"fight\", \"fight\", \"fight\", \"fight\", \"fine\", \"fine\", \"first\", \"first\", \"first\", \"florida\", \"florida\", \"florida\", \"florida\", \"florida\", \"florida\", \"florida\", \"focus\", \"focus\", \"focus\", \"focus\", \"folk\", \"folk\", \"folk\", \"folk\", \"form\", \"free\", \"free\", \"free\", \"free\", \"free\", \"free\", \"freedom\", \"freedom\", \"freedom\", \"freedom\", \"freedom\", \"frequently\", \"freshresists\", \"freshresists\", \"friend\", \"friend\", \"fuck\", \"fuck\", \"full\", \"full\", \"full\", \"full\", \"fund\", \"fund\", \"funding\", \"funding\", \"gavin\", \"generation\", \"generation\", \"generation\", \"germany\", \"giannoulias\", \"give\", \"give\", \"give\", \"give\", \"give\", \"give\", \"give\", \"gorman\", \"government\", \"government\", \"government\", \"governor\", \"governor\", \"grade\", \"graphic\", \"graphic\", \"ground\", \"group\", \"group\", \"group\", \"grow\", \"grow\", \"guns\", \"guns\", \"hand\", \"hand\", \"happy\", \"hard\", \"hard\", \"hard\", \"health\", \"health\", \"healthcare\", \"healthcare\", \"healthcare\", \"hearing\", \"here\", \"here\", \"here\", \"here\", \"here\", \"here\", \"here\", \"hide\", \"high\", \"high\", \"high\", \"high\", \"history\", \"history\", \"history\", \"history\", \"hitler\", \"hitler\", \"home\", \"home\", \"honor\", \"house\", \"house\", \"house\", \"house\", \"hurt\", \"hurt\", \"idea\", \"idea\", \"idea\", \"identity\", \"identity\", \"illinois\", \"ilsos\", \"imagine\", \"imagine\", \"impact\", \"inappropriate\", \"inappropriate\", \"include\", \"include\", \"increase\", \"increase\", \"incredible\", \"incredible\", \"individual\", \"individual\", \"instead\", \"instead\", \"instead\", \"into\", \"into\", \"into\", \"into\", \"into\", \"involve\", \"iowa\", \"jail\", \"join\", \"join\", \"just\", \"just\", \"just\", \"just\", \"just\", \"just\", \"just\", \"just\", \"just\", \"just\", \"keep\", \"keep\", \"keep\", \"keep\", \"keep\", \"kids\", \"kill\", \"kill\", \"kill\", \"king\", \"know\", \"know\", \"know\", \"know\", \"know\", \"know\", \"know\", \"labor\", \"labor\", \"large\", \"large\", \"large\", \"last\", \"last\", \"last\", \"last\", \"last\", \"last\", \"late\", \"late\", \"launch\", \"launch\", \"learn\", \"learn\", \"learn\", \"learn\", \"learn\", \"learn\", \"left\", \"legislation\", \"legislation\", \"legislation\", \"lgbt\", \"lgbt\", \"lgbtq\", \"lgbtq\", \"lgbtq\", \"lgbtq\", \"lgbtq\", \"liberty\", \"liberty\", \"liberty\", \"librarian\", \"librarian\", \"librarian\", \"librarian\", \"librarian\", \"librarie\", \"librarie\", \"librarie\", \"life\", \"life\", \"life\", \"life\", \"life\", \"life\", \"like\", \"like\", \"like\", \"like\", \"like\", \"like\", \"like\", \"like\", \"limit\", \"list\", \"literacy\", \"literally\", \"literally\", \"literally\", \"literally\", \"little\", \"little\", \"little\", \"live\", \"live\", \"live\", \"live\", \"local\", \"local\", \"local\", \"look\", \"look\", \"look\", \"look\", \"lose\", \"lose\", \"lose\", \"maga\", \"maga\", \"majority\", \"majority\", \"majority\", \"majority\", \"make\", \"make\", \"make\", \"make\", \"make\", \"make\", \"make\", \"make\", \"make\", \"many\", \"many\", \"many\", \"many\", \"many\", \"many\", \"marginalize\", \"marginalize\", \"mass\", \"material\", \"material\", \"matter\", \"matter\", \"maybe\", \"mean\", \"mean\", \"mean\", \"mean\", \"meet\", \"meet\", \"meeting\", \"mockingbird\", \"mockingbird\", \"moment\", \"moment\", \"moms\", \"moms\", \"monday\", \"monday\", \"monday\", \"money\", \"money\", \"money\", \"money\", \"more\", \"more\", \"more\", \"more\", \"more\", \"more\", \"more\", \"more\", \"more\", \"most\", \"most\", \"most\", \"most\", \"most\", \"most\", \"mother\", \"mother\", \"move\", \"move\", \"move\", \"move\", \"movement\", \"movement\", \"name\", \"nashville\", \"nashville\", \"nation\", \"nation\", \"national\", \"national\", \"national\", \"nationwide\", \"nationwide\", \"nationwide\", \"nazi\", \"nazi\", \"nazis\", \"nazis\", \"nazis\", \"nearly\", \"need\", \"need\", \"need\", \"need\", \"need\", \"need\", \"need\", \"never\", \"never\", \"never\", \"never\", \"never\", \"never\", \"newsom\", \"newsom\", \"next\", \"next\", \"next\", \"next\", \"next\", \"novel\", \"novel\", \"number\", \"number\", \"objection\", \"objection\", \"office\", \"office\", \"office\", \"officially\", \"only\", \"only\", \"only\", \"only\", \"only\", \"only\", \"only\", \"organization\", \"organization\", \"other\", \"other\", \"other\", \"other\", \"other\", \"other\", \"outlaw\", \"outlaw\", \"over\", \"over\", \"over\", \"over\", \"over\", \"over\", \"over\", \"page\", \"page\", \"parent\", \"parent\", \"parent\", \"parent\", \"parent\", \"parental\", \"parental\", \"part\", \"party\", \"party\", \"pass\", \"pass\", \"pass\", \"past\", \"period\", \"please\", \"please\", \"please\", \"plus\", \"political\", \"political\", \"political\", \"political\", \"porn\", \"porn\", \"porn\", \"porn\", \"pornographic\", \"pornography\", \"pornography\", \"pornography\", \"pornography\", \"possible\", \"post\", \"post\", \"president\", \"president\", \"president\", \"pritzker\", \"prohibit\", \"prohibit\", \"propose\", \"propose\", \"protect\", \"protect\", \"protect\", \"protect\", \"protect\", \"protest\", \"proud\", \"proud\", \"proud\", \"proud\", \"proudblue\", \"public\", \"public\", \"public\", \"public\", \"public\", \"public\", \"public\", \"publish\", \"publish\", \"publisher\", \"punish\", \"punish\", \"purchase\", \"push\", \"push\", \"push\", \"push\", \"push\", \"push\", \"push\", \"queen\", \"queer\", \"queer\", \"queer\", \"quote\", \"quote\", \"racism\", \"racism\", \"racism\", \"racism\", \"racist\", \"racist\", \"racist\", \"read\", \"read\", \"read\", \"read\", \"read\", \"read\", \"read\", \"really\", \"really\", \"really\", \"really\", \"really\", \"really\", \"really\", \"reason\", \"reason\", \"record\", \"refuse\", \"refuse\", \"refuse\", \"regime\", \"remove\", \"remove\", \"remove\", \"remove\", \"remove\", \"remove\", \"remove\", \"report\", \"report\", \"report\", \"republican\", \"republican\", \"republican\", \"republican\", \"republican\", \"republican\", \"republican\", \"republicans\", \"republicans\", \"republicans\", \"republicans\", \"request\", \"require\", \"require\", \"require\", \"require\", \"resource\", \"resource\", \"responsible\", \"restrict\", \"restrict\", \"restrict\", \"restrict\", \"rifle\", \"right\", \"right\", \"right\", \"right\", \"right\", \"right\", \"right\", \"right\", \"right\", \"rights\", \"rights\", \"rule\", \"rule\", \"rule\", \"safe\", \"safe\", \"same\", \"same\", \"same\", \"same\", \"same\", \"save\", \"scared\", \"scared\", \"scholastic\", \"second\", \"secretary\", \"section\", \"security\", \"seem\", \"seem\", \"seem\", \"segregate\", \"sense\", \"sense\", \"share\", \"shit\", \"shit\", \"shit\", \"shit\", \"shoot\", \"shoot\", \"shooting\", \"should\", \"should\", \"should\", \"should\", \"should\", \"show\", \"show\", \"show\", \"show\", \"show\", \"show\", \"sick\", \"sick\", \"sign\", \"sign\", \"silence\", \"silence\", \"since\", \"since\", \"since\", \"since\", \"small\", \"small\", \"small\", \"small\", \"society\", \"society\", \"some\", \"some\", \"some\", \"some\", \"some\", \"some\", \"someone\", \"someone\", \"speak\", \"speak\", \"speak\", \"speak\", \"speech\", \"speech\", \"speech\", \"spend\", \"spend\", \"spend\", \"stand\", \"stand\", \"stand\", \"stand\", \"stand\", \"stand\", \"stand\", \"statement\", \"states\", \"states\", \"step\", \"step\", \"step\", \"steve\", \"steve\", \"still\", \"still\", \"stop\", \"stop\", \"stop\", \"stop\", \"stop\", \"stop\", \"stop\", \"stop\", \"story\", \"story\", \"story\", \"story\", \"story\", \"strip\", \"student\", \"student\", \"student\", \"student\", \"student\", \"student\", \"student\", \"stuff\", \"stuff\", \"subject\", \"subject\", \"such\", \"such\", \"such\", \"such\", \"superintendent\", \"superintendent\", \"support\", \"support\", \"support\", \"support\", \"support\", \"support\", \"system\", \"system\", \"system\", \"take\", \"take\", \"take\", \"take\", \"take\", \"take\", \"take\", \"take\", \"teacher\", \"teacher\", \"teacher\", \"teacher\", \"teacher\", \"teacher\", \"teen\", \"tennessee\", \"texas\", \"texas\", \"texas\", \"textbook\", \"than\", \"than\", \"than\", \"than\", \"than\", \"their\", \"their\", \"their\", \"their\", \"their\", \"their\", \"their\", \"their\", \"their\", \"theme\", \"theme\", \"themselves\", \"themselves\", \"then\", \"then\", \"then\", \"then\", \"then\", \"then\", \"then\", \"theory\", \"there\", \"there\", \"there\", \"there\", \"there\", \"there\", \"there\", \"there\", \"these\", \"these\", \"these\", \"these\", \"these\", \"these\", \"these\", \"these\", \"think\", \"think\", \"think\", \"think\", \"think\", \"think\", \"those\", \"those\", \"those\", \"those\", \"those\", \"those\", \"threat\", \"threat\", \"threaten\", \"threaten\", \"threaten\", \"threaten\", \"tiktok\", \"tiktok\", \"time\", \"time\", \"time\", \"time\", \"time\", \"times\", \"today\", \"today\", \"today\", \"today\", \"today\", \"today\", \"together\", \"together\", \"tonight\", \"tonight\", \"true\", \"true\", \"true\", \"true\", \"trump\", \"trump\", \"truth\", \"truth\", \"truth\", \"understand\", \"understand\", \"understand\", \"union\", \"uniteagainstbookbans\", \"uniteagainstbookbans\", \"united\", \"united\", \"university\", \"university\", \"velshi\", \"velshibannedbookclub\", \"version\", \"very\", \"view\", \"view\", \"virginia\", \"vote\", \"vote\", \"vote\", \"vote\", \"voting\", \"wait\", \"wait\", \"want\", \"want\", \"want\", \"want\", \"want\", \"want\", \"want\", \"washington\", \"watch\", \"watch\", \"watch\", \"watch\", \"watch\", \"weapon\", \"weapon\", \"week\", \"week\", \"week\", \"when\", \"when\", \"when\", \"when\", \"when\", \"when\", \"when\", \"when\", \"when\", \"where\", \"where\", \"where\", \"where\", \"where\", \"which\", \"which\", \"which\", \"which\", \"which\", \"which\", \"which\", \"white\", \"white\", \"white\", \"white\", \"white\", \"white\", \"whitewash\", \"will\", \"will\", \"will\", \"will\", \"will\", \"will\", \"will\", \"will\", \"will\", \"wing\", \"wing\", \"wing\", \"wing\", \"wing\", \"woke\", \"woke\", \"woman\", \"woman\", \"world\", \"world\", \"world\", \"worried\", \"worried\", \"would\", \"would\", \"would\", \"would\", \"would\", \"would\", \"would\", \"would\", \"wrong\", \"wrong\", \"wrong\", \"year\", \"year\", \"year\", \"year\", \"year\", \"year\", \"year\", \"young\", \"young\", \"young\", \"your\", \"your\", \"your\", \"your\", \"your\", \"your\", \"zero\", \"zero\"]}, \"R\": 30, \"lambda.step\": 0.01, \"plot.opts\": {\"xlab\": \"PC1\", \"ylab\": \"PC2\"}, \"topic.order\": [1, 2, 3, 4, 5, 6, 7, 8, 9, 10]};\n",
       "\n",
       "function LDAvis_load_lib(url, callback){\n",
       "  var s = document.createElement('script');\n",
       "  s.src = url;\n",
       "  s.async = true;\n",
       "  s.onreadystatechange = s.onload = callback;\n",
       "  s.onerror = function(){console.warn(\"failed to load library \" + url);};\n",
       "  document.getElementsByTagName(\"head\")[0].appendChild(s);\n",
       "}\n",
       "\n",
       "if(typeof(LDAvis) !== \"undefined\"){\n",
       "   // already loaded: just create the visualization\n",
       "   !function(LDAvis){\n",
       "       new LDAvis(\"#\" + \"ldavis_el36262111661920643729608982\", ldavis_el36262111661920643729608982_data);\n",
       "   }(LDAvis);\n",
       "}else if(typeof define === \"function\" && define.amd){\n",
       "   // require.js is available: use it to load d3/LDAvis\n",
       "   require.config({paths: {d3: \"https://d3js.org/d3.v5\"}});\n",
       "   require([\"d3\"], function(d3){\n",
       "      window.d3 = d3;\n",
       "      LDAvis_load_lib(\"https://cdn.jsdelivr.net/gh/bmabey/pyLDAvis@3.4.0/pyLDAvis/js/ldavis.v3.0.0.js\", function(){\n",
       "        new LDAvis(\"#\" + \"ldavis_el36262111661920643729608982\", ldavis_el36262111661920643729608982_data);\n",
       "      });\n",
       "    });\n",
       "}else{\n",
       "    // require.js not available: dynamically load d3 & LDAvis\n",
       "    LDAvis_load_lib(\"https://d3js.org/d3.v5.js\", function(){\n",
       "         LDAvis_load_lib(\"https://cdn.jsdelivr.net/gh/bmabey/pyLDAvis@3.4.0/pyLDAvis/js/ldavis.v3.0.0.js\", function(){\n",
       "                 new LDAvis(\"#\" + \"ldavis_el36262111661920643729608982\", ldavis_el36262111661920643729608982_data);\n",
       "            })\n",
       "         });\n",
       "}\n",
       "</script>"
      ],
      "text/plain": [
       "PreparedData(topic_coordinates=              x         y  topics  cluster       Freq\n",
       "topic                                                \n",
       "0     -0.027399 -0.135868       1        1  11.753153\n",
       "1     -0.053871  0.015009       2        1  12.460102\n",
       "2     -0.157233 -0.089344       3        1   8.069397\n",
       "3     -0.008875  0.081656       4        1  13.915948\n",
       "4      0.308014 -0.202148       5        1   7.408401\n",
       "5     -0.160215 -0.079368       6        1   8.278393\n",
       "6     -0.031747  0.039179       7        1  10.691490\n",
       "7      0.176641  0.213675       8        1   8.134239\n",
       "8     -0.020009  0.149024       9        1   9.466301\n",
       "9     -0.025306  0.008183      10        1   9.822575, topic_info=         Term        Freq       Total Category  logprob  loglift\n",
       "58   illinois  379.000000  379.000000  Default  30.0000  30.0000\n",
       "157     first  282.000000  282.000000  Default  29.0000  29.0000\n",
       "128      want  628.000000  628.000000  Default  28.0000  28.0000\n",
       "286   history  416.000000  416.000000  Default  27.0000  27.0000\n",
       "464     black  220.000000  220.000000  Default  26.0000  26.0000\n",
       "..        ...         ...         ...      ...      ...      ...\n",
       "75      their   69.886056  552.505585  Topic10  -4.3191   0.2529\n",
       "82    because   55.593816  267.379820  Topic10  -4.5479   0.7499\n",
       "42       just   62.245376  423.768590  Topic10  -4.4349   0.4024\n",
       "18      would   48.092480  218.684344  Topic10  -4.6929   0.8060\n",
       "119      stop   44.520947  214.640639  Topic10  -4.7700   0.7475\n",
       "\n",
       "[559 rows x 6 columns], token_table=      Topic      Freq      Term\n",
       "term                           \n",
       "347      10  0.989897      able\n",
       "397       4  0.668355  abortion\n",
       "397       9  0.328873  abortion\n",
       "329       1  0.156412    access\n",
       "329       4  0.270713    access\n",
       "...     ...       ...       ...\n",
       "122       4  0.343629      your\n",
       "122       6  0.209165      your\n",
       "122      10  0.201695      your\n",
       "54        1  0.206468      zero\n",
       "54        9  0.784577      zero\n",
       "\n",
       "[1282 rows x 3 columns], R=30, lambda_step=0.01, plot_opts={'xlab': 'PC1', 'ylab': 'PC2'}, topic_order=[1, 2, 3, 4, 5, 6, 7, 8, 9, 10])"
      ]
     },
     "execution_count": 65,
     "metadata": {},
     "output_type": "execute_result"
    }
   ],
   "source": [
    "pyLDAvis.enable_notebook()\n",
    "pyLDAvis.gensim.prepare(lda_model, corpus, id2word, sort_topics=False)"
   ]
  },
  {
   "cell_type": "code",
   "execution_count": 66,
   "id": "71ec9f16",
   "metadata": {},
   "outputs": [],
   "source": [
    "docs_2_topics = lda_model[corpus]\n",
    "topic_2_docs={}\n",
    "for i, doc_2_topics in enumerate(docs_2_topics):\n",
    "    for (topic,strength) in doc_2_topics:\n",
    "        topic_2_docs.setdefault(topic,[]).append((i,strength))"
   ]
  },
  {
   "cell_type": "code",
   "execution_count": 67,
   "id": "067889a9",
   "metadata": {},
   "outputs": [
    {
     "name": "stdout",
     "output_type": "stream",
     "text": [
      "want, read, california, there, will, child, should, into, parent, your\n",
      " @MikeSington: Gavin Newsom is anything but a promoter of freedom. ; California passes “anti-book ban” legislation. It would fine school districts for rejecting textbooks or library books for discriminatory reasons. Governor Gavin Newsom: “California is the true freedom state: a place where families — not political fanatics — have the freedom to…   /8YkuCnGZKg 0.96537805\n",
      " @againstgrmrs: Reminder: These are the books that California's Governor want to fine schools for banning...   /Q5Uy8Mo9XY ;   /vNyaTopgEp BREAKING: California will now fine schools that ban pornographic books from their libraries and classrooms. Gavin Newsom said that people who think kids shouldn't have access to them are \"fringe ideologues.\" We say anyone who does needs to have their… 0.95713633\n",
      " @CAgovernor: Translation: California will put porn in the hands of your child. ; California is banning book bans and textbook censorship in our schools. In partnership with @AsmCoreyJackson and @TonyThurmond, we’re cementing CA's role as the true freedom state: a place where families—not political fanatics—have the freedom to decide what’s right.   / 0.9526259\n",
      " @davidhth: \"Our schools are not your church.\" ; Adrienne Martin finally had enough of extremists in her deep-red community trying to get books banned and to inject religion into her child’s school. Listen to her kick-ass speech before the Granbury Texas school board. It’s going viral for a reason. @MrsAMartini   /KkHY2PVZaz 0.9437411\n",
      "@GavinNewsom Gavin, you’re pathetic and here are a few things Newsom doesn’t want you to know: He talks constantly about phantom \"book bans\" in other states, but never mentions that our own state has the lowest literacy rate in the country. He calls the California Exodus a \"Fox News myth,\"… 0.9437271\n",
      "  /vNyaTopgEp BREAKING: California will now fine schools that ban pornographic books from their libraries and classrooms. Gavin Newsom said that people who think kids shouldn't have access to them are \"fringe ideologues.\" We say anyone who does needs to have their… 0.9399886\n",
      "The Bible was written by a bunch of superstitious goat herders that didn’t know where the sun went at night. It’s full of murder, rape, incest, and all sorts of depravity. It is not a book that children should ever read. If any book should be banned, it’s the Bible. 0.93998754\n",
      " @GavinNewsom: Gavin talks non-stop about Florida because his own state is going to shit. ; \"There has not been a single book banned in Florida.\" Last school year, Florida had 566 bans across 21 school districts. 0.93997675\n",
      "California passes “anti-book ban” legislation. It would fine school districts for rejecting textbooks or library books for discriminatory reasons. Governor Gavin Newsom: “California is the true freedom state: a place where families — not political fanatics — have the freedom to…   /8YkuCnGZKg 0.93821234\n",
      " @davidhth: Adrienne Martin is Awesome! ; Adrienne Martin finally had enough of extremists in her deep-red community trying to get books banned and to inject religion into her child’s school. Listen to her kick-ass speech before the Granbury Texas school board. It’s going viral for a reason. @MrsAMartini   /KkHY2PVZaz 0.93570346\n"
     ]
    }
   ],
   "source": [
    "topic_number=9\n",
    "best_doc = sorted(topic_2_docs[topic_number], key=lambda item: item[1], reverse=True)\n",
    "print(label_dict[topic_number])\n",
    "for doc in best_doc[:10]:\n",
    "    print (corpus_text[doc[0]],doc[1])"
   ]
  }
 ],
 "metadata": {
  "kernelspec": {
   "display_name": "Python 3 (ipykernel)",
   "language": "python",
   "name": "python3"
  },
  "language_info": {
   "codemirror_mode": {
    "name": "ipython",
    "version": 3
   },
   "file_extension": ".py",
   "mimetype": "text/x-python",
   "name": "python",
   "nbconvert_exporter": "python",
   "pygments_lexer": "ipython3",
   "version": "3.11.4"
  }
 },
 "nbformat": 4,
 "nbformat_minor": 5
}
