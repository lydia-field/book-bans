{
 "cells": [
  {
   "cell_type": "code",
   "execution_count": 1,
   "id": "d2e90f2c",
   "metadata": {
    "scrolled": true
   },
   "outputs": [
    {
     "name": "stdout",
     "output_type": "stream",
     "text": [
      "Requirement already satisfied: hdbscan in /Users/lydiafield/anaconda3/lib/python3.11/site-packages (0.8.33)\n",
      "Requirement already satisfied: cython<3,>=0.27 in /Users/lydiafield/anaconda3/lib/python3.11/site-packages (from hdbscan) (0.29.36)\n",
      "Requirement already satisfied: numpy>=1.20 in /Users/lydiafield/anaconda3/lib/python3.11/site-packages (from hdbscan) (1.24.3)\n",
      "Requirement already satisfied: scipy>=1.0 in /Users/lydiafield/anaconda3/lib/python3.11/site-packages (from hdbscan) (1.10.1)\n",
      "Requirement already satisfied: scikit-learn>=0.20 in /Users/lydiafield/anaconda3/lib/python3.11/site-packages (from hdbscan) (1.3.0)\n",
      "Requirement already satisfied: joblib>=1.0 in /Users/lydiafield/anaconda3/lib/python3.11/site-packages (from hdbscan) (1.2.0)\n",
      "Requirement already satisfied: threadpoolctl>=2.0.0 in /Users/lydiafield/anaconda3/lib/python3.11/site-packages (from scikit-learn>=0.20->hdbscan) (2.2.0)\n",
      "Requirement already satisfied: bertopic in /Users/lydiafield/anaconda3/lib/python3.11/site-packages (0.16.0)\n",
      "Requirement already satisfied: numpy>=1.20.0 in /Users/lydiafield/anaconda3/lib/python3.11/site-packages (from bertopic) (1.24.3)\n",
      "Requirement already satisfied: hdbscan>=0.8.29 in /Users/lydiafield/anaconda3/lib/python3.11/site-packages (from bertopic) (0.8.33)\n",
      "Requirement already satisfied: umap-learn>=0.5.0 in /Users/lydiafield/anaconda3/lib/python3.11/site-packages (from bertopic) (0.5.5)\n",
      "Requirement already satisfied: pandas>=1.1.5 in /Users/lydiafield/anaconda3/lib/python3.11/site-packages (from bertopic) (2.1.1)\n",
      "Requirement already satisfied: scikit-learn>=0.22.2.post1 in /Users/lydiafield/anaconda3/lib/python3.11/site-packages (from bertopic) (1.3.0)\n",
      "Requirement already satisfied: tqdm>=4.41.1 in /Users/lydiafield/anaconda3/lib/python3.11/site-packages (from bertopic) (4.65.0)\n",
      "Requirement already satisfied: sentence-transformers>=0.4.1 in /Users/lydiafield/anaconda3/lib/python3.11/site-packages (from bertopic) (2.2.2)\n",
      "Requirement already satisfied: plotly>=4.7.0 in /Users/lydiafield/anaconda3/lib/python3.11/site-packages (from bertopic) (5.9.0)\n",
      "Requirement already satisfied: cython<3,>=0.27 in /Users/lydiafield/anaconda3/lib/python3.11/site-packages (from hdbscan>=0.8.29->bertopic) (0.29.36)\n",
      "Requirement already satisfied: scipy>=1.0 in /Users/lydiafield/anaconda3/lib/python3.11/site-packages (from hdbscan>=0.8.29->bertopic) (1.10.1)\n",
      "Requirement already satisfied: joblib>=1.0 in /Users/lydiafield/anaconda3/lib/python3.11/site-packages (from hdbscan>=0.8.29->bertopic) (1.2.0)\n",
      "Requirement already satisfied: python-dateutil>=2.8.2 in /Users/lydiafield/anaconda3/lib/python3.11/site-packages (from pandas>=1.1.5->bertopic) (2.8.2)\n",
      "Requirement already satisfied: pytz>=2020.1 in /Users/lydiafield/anaconda3/lib/python3.11/site-packages (from pandas>=1.1.5->bertopic) (2022.7)\n",
      "Requirement already satisfied: tzdata>=2022.1 in /Users/lydiafield/anaconda3/lib/python3.11/site-packages (from pandas>=1.1.5->bertopic) (2023.3)\n",
      "Requirement already satisfied: tenacity>=6.2.0 in /Users/lydiafield/anaconda3/lib/python3.11/site-packages (from plotly>=4.7.0->bertopic) (8.2.2)\n",
      "Requirement already satisfied: threadpoolctl>=2.0.0 in /Users/lydiafield/anaconda3/lib/python3.11/site-packages (from scikit-learn>=0.22.2.post1->bertopic) (2.2.0)\n",
      "Requirement already satisfied: transformers<5.0.0,>=4.6.0 in /Users/lydiafield/anaconda3/lib/python3.11/site-packages (from sentence-transformers>=0.4.1->bertopic) (4.29.2)\n",
      "Requirement already satisfied: torch>=1.6.0 in /Users/lydiafield/anaconda3/lib/python3.11/site-packages (from sentence-transformers>=0.4.1->bertopic) (2.1.1)\n",
      "Requirement already satisfied: torchvision in /Users/lydiafield/anaconda3/lib/python3.11/site-packages (from sentence-transformers>=0.4.1->bertopic) (0.16.1)\n",
      "Requirement already satisfied: nltk in /Users/lydiafield/anaconda3/lib/python3.11/site-packages (from sentence-transformers>=0.4.1->bertopic) (3.8.1)\n",
      "Requirement already satisfied: sentencepiece in /Users/lydiafield/anaconda3/lib/python3.11/site-packages (from sentence-transformers>=0.4.1->bertopic) (0.1.99)\n",
      "Requirement already satisfied: huggingface-hub>=0.4.0 in /Users/lydiafield/anaconda3/lib/python3.11/site-packages (from sentence-transformers>=0.4.1->bertopic) (0.15.1)\n",
      "Requirement already satisfied: numba>=0.51.2 in /Users/lydiafield/anaconda3/lib/python3.11/site-packages (from umap-learn>=0.5.0->bertopic) (0.57.0)\n",
      "Requirement already satisfied: pynndescent>=0.5 in /Users/lydiafield/anaconda3/lib/python3.11/site-packages (from umap-learn>=0.5.0->bertopic) (0.5.11)\n",
      "Requirement already satisfied: filelock in /Users/lydiafield/anaconda3/lib/python3.11/site-packages (from huggingface-hub>=0.4.0->sentence-transformers>=0.4.1->bertopic) (3.9.0)\n",
      "Requirement already satisfied: fsspec in /Users/lydiafield/anaconda3/lib/python3.11/site-packages (from huggingface-hub>=0.4.0->sentence-transformers>=0.4.1->bertopic) (2023.4.0)\n",
      "Requirement already satisfied: requests in /Users/lydiafield/anaconda3/lib/python3.11/site-packages (from huggingface-hub>=0.4.0->sentence-transformers>=0.4.1->bertopic) (2.31.0)\n",
      "Requirement already satisfied: pyyaml>=5.1 in /Users/lydiafield/anaconda3/lib/python3.11/site-packages (from huggingface-hub>=0.4.0->sentence-transformers>=0.4.1->bertopic) (6.0)\n",
      "Requirement already satisfied: typing-extensions>=3.7.4.3 in /Users/lydiafield/anaconda3/lib/python3.11/site-packages (from huggingface-hub>=0.4.0->sentence-transformers>=0.4.1->bertopic) (4.7.1)\n",
      "Requirement already satisfied: packaging>=20.9 in /Users/lydiafield/anaconda3/lib/python3.11/site-packages (from huggingface-hub>=0.4.0->sentence-transformers>=0.4.1->bertopic) (23.0)\n",
      "Requirement already satisfied: llvmlite<0.41,>=0.40.0dev0 in /Users/lydiafield/anaconda3/lib/python3.11/site-packages (from numba>=0.51.2->umap-learn>=0.5.0->bertopic) (0.40.0)\n",
      "Requirement already satisfied: six>=1.5 in /Users/lydiafield/anaconda3/lib/python3.11/site-packages (from python-dateutil>=2.8.2->pandas>=1.1.5->bertopic) (1.16.0)\n",
      "Requirement already satisfied: sympy in /Users/lydiafield/anaconda3/lib/python3.11/site-packages (from torch>=1.6.0->sentence-transformers>=0.4.1->bertopic) (1.11.1)\n",
      "Requirement already satisfied: networkx in /Users/lydiafield/anaconda3/lib/python3.11/site-packages (from torch>=1.6.0->sentence-transformers>=0.4.1->bertopic) (3.1)\n",
      "Requirement already satisfied: jinja2 in /Users/lydiafield/anaconda3/lib/python3.11/site-packages (from torch>=1.6.0->sentence-transformers>=0.4.1->bertopic) (3.1.2)\n",
      "Requirement already satisfied: regex!=2019.12.17 in /Users/lydiafield/anaconda3/lib/python3.11/site-packages (from transformers<5.0.0,>=4.6.0->sentence-transformers>=0.4.1->bertopic) (2022.7.9)\n",
      "Requirement already satisfied: tokenizers!=0.11.3,<0.14,>=0.11.1 in /Users/lydiafield/anaconda3/lib/python3.11/site-packages (from transformers<5.0.0,>=4.6.0->sentence-transformers>=0.4.1->bertopic) (0.13.2)\n",
      "Requirement already satisfied: click in /Users/lydiafield/anaconda3/lib/python3.11/site-packages (from nltk->sentence-transformers>=0.4.1->bertopic) (8.0.4)\n",
      "Requirement already satisfied: pillow!=8.3.*,>=5.3.0 in /Users/lydiafield/anaconda3/lib/python3.11/site-packages (from torchvision->sentence-transformers>=0.4.1->bertopic) (9.4.0)\n",
      "Requirement already satisfied: MarkupSafe>=2.0 in /Users/lydiafield/anaconda3/lib/python3.11/site-packages (from jinja2->torch>=1.6.0->sentence-transformers>=0.4.1->bertopic) (2.1.1)\n",
      "Requirement already satisfied: charset-normalizer<4,>=2 in /Users/lydiafield/anaconda3/lib/python3.11/site-packages (from requests->huggingface-hub>=0.4.0->sentence-transformers>=0.4.1->bertopic) (2.0.4)\n",
      "Requirement already satisfied: idna<4,>=2.5 in /Users/lydiafield/anaconda3/lib/python3.11/site-packages (from requests->huggingface-hub>=0.4.0->sentence-transformers>=0.4.1->bertopic) (3.4)\n",
      "Requirement already satisfied: urllib3<3,>=1.21.1 in /Users/lydiafield/anaconda3/lib/python3.11/site-packages (from requests->huggingface-hub>=0.4.0->sentence-transformers>=0.4.1->bertopic) (1.26.16)\n",
      "Requirement already satisfied: certifi>=2017.4.17 in /Users/lydiafield/anaconda3/lib/python3.11/site-packages (from requests->huggingface-hub>=0.4.0->sentence-transformers>=0.4.1->bertopic) (2023.7.22)\n"
     ]
    },
    {
     "name": "stdout",
     "output_type": "stream",
     "text": [
      "Requirement already satisfied: mpmath>=0.19 in /Users/lydiafield/anaconda3/lib/python3.11/site-packages (from sympy->torch>=1.6.0->sentence-transformers>=0.4.1->bertopic) (1.3.0)\r\n"
     ]
    }
   ],
   "source": [
    "!pip3 install hdbscan \n",
    "!pip3 install bertopic"
   ]
  },
  {
   "cell_type": "code",
   "execution_count": 2,
   "id": "0fa181ec",
   "metadata": {},
   "outputs": [],
   "source": [
    "import spacy\n",
    "import pandas as pd\n",
    "\n",
    "import json\n",
    "import spacy\n",
    "import requests\n",
    "import random\n",
    "import time\n",
    "\n",
    "import spacy\n",
    "from tqdm import tqdm \n",
    "from collections import Counter\n",
    "\n",
    "import gensim\n",
    "import gensim.corpora as corpora\n",
    "from gensim.corpora import Dictionary\n",
    "from gensim.models.coherencemodel import CoherenceModel\n",
    "from gensim.models.ldamodel import LdaModel\n",
    "\n",
    "import pyLDAvis\n",
    "import pyLDAvis.gensim\n",
    "\n",
    "import matplotlib.pyplot as plt\n",
    "from sklearn.preprocessing import MultiLabelBinarizer"
   ]
  },
  {
   "cell_type": "code",
   "execution_count": 3,
   "id": "023b4502",
   "metadata": {},
   "outputs": [
    {
     "name": "stderr",
     "output_type": "stream",
     "text": [
      "/Users/lydiafield/anaconda3/lib/python3.11/site-packages/plotly/express/imshow_utils.py:24: DeprecationWarning: `np.bool8` is a deprecated alias for `np.bool_`.  (Deprecated NumPy 1.24)\n",
      "  np.bool8: (False, True),\n",
      "/Users/lydiafield/anaconda3/lib/python3.11/site-packages/plotly/graph_objs/__init__.py:288: DeprecationWarning: distutils Version classes are deprecated. Use packaging.version instead.\n",
      "  if LooseVersion(ipywidgets.__version__) >= LooseVersion(\"7.0.0\"):\n",
      "/Users/lydiafield/anaconda3/lib/python3.11/site-packages/plotly/graph_objs/__init__.py:288: DeprecationWarning: distutils Version classes are deprecated. Use packaging.version instead.\n",
      "  if LooseVersion(ipywidgets.__version__) >= LooseVersion(\"7.0.0\"):\n",
      "/Users/lydiafield/anaconda3/lib/python3.11/site-packages/plotly/graph_objs/__init__.py:288: DeprecationWarning: distutils Version classes are deprecated. Use packaging.version instead.\n",
      "  if LooseVersion(ipywidgets.__version__) >= LooseVersion(\"7.0.0\"):\n",
      "/Users/lydiafield/anaconda3/lib/python3.11/site-packages/plotly/graph_objs/__init__.py:288: DeprecationWarning: distutils Version classes are deprecated. Use packaging.version instead.\n",
      "  if LooseVersion(ipywidgets.__version__) >= LooseVersion(\"7.0.0\"):\n"
     ]
    }
   ],
   "source": [
    "from bertopic import BERTopic\n",
    "from sentence_transformers import SentenceTransformer\n",
    "from umap import UMAP\n",
    "from hdbscan import HDBSCAN\n",
    "from sklearn.feature_extraction.text import CountVectorizer"
   ]
  },
  {
   "cell_type": "code",
   "execution_count": 34,
   "id": "384c53f5",
   "metadata": {},
   "outputs": [],
   "source": [
    "red_states = pd.read_csv('/Users/lydiafield/Desktop/Semestre 1/Digital Methods/red_states.csv')"
   ]
  },
  {
   "cell_type": "code",
   "execution_count": 36,
   "id": "abbc3653",
   "metadata": {},
   "outputs": [
    {
     "data": {
      "application/vnd.jupyter.widget-view+json": {
       "model_id": "75a21f84e23641cfb6ae361cee49f6c6",
       "version_major": 2,
       "version_minor": 0
      },
      "text/plain": [
       "Batches:   0%|          | 0/198 [00:00<?, ?it/s]"
      ]
     },
     "metadata": {},
     "output_type": "display_data"
    },
    {
     "name": "stderr",
     "output_type": "stream",
     "text": [
      "2023-12-12 01:56:44,947 - BERTopic - Dimensionality - Fitting the dimensionality reduction algorithm\n",
      "2023-12-12 01:56:51,920 - BERTopic - Dimensionality - Completed ✓\n",
      "2023-12-12 01:56:51,923 - BERTopic - Cluster - Start clustering the reduced embeddings\n",
      "2023-12-12 01:56:52,041 - BERTopic - Cluster - Completed ✓\n",
      "2023-12-12 01:56:52,046 - BERTopic - Representation - Extracting topics from clusters using representation models.\n",
      "2023-12-12 01:56:52,254 - BERTopic - Representation - Completed ✓\n"
     ]
    }
   ],
   "source": [
    "docs=list(red_states['Hit Sentence'])\n",
    "model = SentenceTransformer(\"all-MiniLM-L6-v2\")\n",
    "document_vectors = model.encode(docs,show_progress_bar=True)\n",
    "umap_model = UMAP(n_neighbors=15, n_components=5, min_dist=0.01, metric='cosine', random_state=42)\n",
    "hdbscan_model = HDBSCAN(min_cluster_size=10, min_samples=5, metric='euclidean', cluster_selection_method='eom')\n",
    "vectorizer = CountVectorizer(stop_words='english')\n",
    "topic_model = BERTopic(\n",
    "    embedding_model=model,\n",
    "    umap_model=umap_model,\n",
    "    hdbscan_model=hdbscan_model,\n",
    "    vectorizer_model=vectorizer,\n",
    "    verbose=True\n",
    ").fit(docs, document_vectors)\n",
    "bar_topic = topic_model.visualize_barchart(top_n_topics=20,n_words=10, title='Red States Topics')"
   ]
  },
  {
   "cell_type": "code",
   "execution_count": 37,
   "id": "783132df",
   "metadata": {},
   "outputs": [
    {
     "name": "stderr",
     "output_type": "stream",
     "text": [
      "/Users/lydiafield/anaconda3/lib/python3.11/site-packages/plotly/io/_renderers.py:395: DeprecationWarning:\n",
      "\n",
      "distutils Version classes are deprecated. Use packaging.version instead.\n",
      "\n",
      "/Users/lydiafield/anaconda3/lib/python3.11/site-packages/plotly/io/_renderers.py:395: DeprecationWarning:\n",
      "\n",
      "distutils Version classes are deprecated. Use packaging.version instead.\n",
      "\n"
     ]
    },
    {
     "data": {
      "application/vnd.plotly.v1+json": {
       "config": {
        "plotlyServerURL": "https://plot.ly"
       },
       "data": [
        {
         "marker": {
          "color": "#D55E00"
         },
         "orientation": "h",
         "type": "bar",
         "x": [
          0.01152921836394422,
          0.011687480705553576,
          0.013720259681950215,
          0.014096786539037839,
          0.016289494381153097,
          0.016794517757532296,
          0.01683520455652546,
          0.01685125814470696,
          0.01980294532767721,
          0.019817396793852155
         ],
         "xaxis": "x",
         "y": [
          "themes  ",
          "pornographic  ",
          "chelseaclinton  ",
          "gender  ",
          "harmful  ",
          "children  ",
          "sexually  ",
          "porn  ",
          "explicit  ",
          "queer  "
         ],
         "yaxis": "y"
        },
        {
         "marker": {
          "color": "#0072B2"
         },
         "orientation": "h",
         "type": "bar",
         "x": [
          0.011227045188882507,
          0.012222335484971683,
          0.012331990319189922,
          0.01251202635722793,
          0.012655611200349677,
          0.012912389862331165,
          0.014035623269383775,
          0.014201702791782917,
          0.014417655351388713,
          0.017314103032383753
         ],
         "xaxis": "x2",
         "y": [
          "carry  ",
          "don  ",
          "fl  ",
          "free  ",
          "say  ",
          "expand  ",
          "lgbtq  ",
          "state  ",
          "florida  ",
          "insurance  "
         ],
         "yaxis": "y2"
        },
        {
         "marker": {
          "color": "#CC79A7"
         },
         "orientation": "h",
         "type": "bar",
         "x": [
          0.012546659559868086,
          0.012546659559868086,
          0.012848879929883514,
          0.013046545092243702,
          0.01403034129973958,
          0.015600755514607241,
          0.020984954811046428,
          0.022562440214893547,
          0.023542015085470602,
          0.03881625532954782
         ],
         "xaxis": "x3",
         "y": [
          "elements  ",
          "diligent  ",
          "segregated  ",
          "campuses  ",
          "langston  ",
          "supremacist  ",
          "racism  ",
          "history  ",
          "white  ",
          "black  "
         ],
         "yaxis": "y3"
        },
        {
         "marker": {
          "color": "#E69F00"
         },
         "orientation": "h",
         "type": "bar",
         "x": [
          0.028178263523750708,
          0.028338957540569313,
          0.0294699444704043,
          0.041832321203924196,
          0.04856742117919262,
          0.05144915295320331,
          0.05283424410703258,
          0.05345044275857342,
          0.06514820658713823,
          0.12825342608369444
         ],
         "xaxis": "x4",
         "y": [
          "south  ",
          "concert  ",
          "upcoming  ",
          "tour  ",
          "000  ",
          "singer  ",
          "stops  ",
          "concerts  ",
          "away  ",
          "pink  "
         ],
         "yaxis": "y4"
        },
        {
         "marker": {
          "color": "#56B4E9"
         },
         "orientation": "h",
         "type": "bar",
         "x": [
          0.026295776968349418,
          0.02640462152767715,
          0.026516930769274194,
          0.028460548363098387,
          0.03016405328461164,
          0.031145002785796575,
          0.03546325855470068,
          0.04091532111563709,
          0.04400770254612859,
          0.07800283164358839
         ],
         "xaxis": "x5",
         "y": [
          "public  ",
          "funding  ",
          "republicans  ",
          "voted  ",
          "state  ",
          "mo  ",
          "budget  ",
          "libraries  ",
          "defund  ",
          "missouri  "
         ],
         "yaxis": "y5"
        },
        {
         "marker": {
          "color": "#009E73"
         },
         "orientation": "h",
         "type": "bar",
         "x": [
          0.009743779143856362,
          0.009844092029093678,
          0.009844092029093678,
          0.009883536804121185,
          0.010865317045399723,
          0.011127252441175725,
          0.01204813490614343,
          0.013313073110088324,
          0.01899245259487419,
          0.0524756887760034
         ],
         "xaxis": "x6",
         "y": [
          "gregabbott_tx  ",
          "lonesome  ",
          "dove  ",
          "local  ",
          "txlege  ",
          "year  ",
          "state  ",
          "grid  ",
          "texans  ",
          "texas  "
         ],
         "yaxis": "y6"
        },
        {
         "marker": {
          "color": "#F0E442"
         },
         "orientation": "h",
         "type": "bar",
         "x": [
          0.010147911557219589,
          0.011392261358069786,
          0.012726314561957858,
          0.013302809376371478,
          0.013326475131052291,
          0.013596853061127005,
          0.015878926177106976,
          0.02101856854622736,
          0.021371776499123068,
          0.027575887840350907
         ],
         "xaxis": "x7",
         "y": [
          "reads  ",
          "didn  ",
          "child  ",
          "reading  ",
          "kids  ",
          "want  ",
          "read  ",
          "appropriate  ",
          "children  ",
          "parents  "
         ],
         "yaxis": "y7"
        },
        {
         "marker": {
          "color": "#D55E00"
         },
         "orientation": "h",
         "type": "bar",
         "x": [
          0.01095231285679443,
          0.011579752172420741,
          0.011690829212565399,
          0.016238015894262624,
          0.020324047650921155,
          0.02135066286202097,
          0.022609886578249954,
          0.034322835092492336,
          0.06438896684366538,
          0.0649193256264011
         ],
         "xaxis": "x8",
         "y": [
          "founder  ",
          "anti  ",
          "lgbtq  ",
          "hitler  ",
          "hate  ",
          "candidates  ",
          "philadelphia  ",
          "group  ",
          "moms  ",
          "liberty  "
         ],
         "yaxis": "y8"
        },
        {
         "marker": {
          "color": "#0072B2"
         },
         "orientation": "h",
         "type": "bar",
         "x": [
          0.012845899767139048,
          0.013023600562729977,
          0.013023600562729977,
          0.013305398657727126,
          0.013621234427138047,
          0.014771204242973388,
          0.015544744954782235,
          0.016915680937829355,
          0.01848198143973315,
          0.020375235856716762
         ],
         "xaxis": "x9",
         "y": [
          "single  ",
          "pending  ",
          "566  ",
          "education  ",
          "hundreds  ",
          "districts  ",
          "school  ",
          "2022  ",
          "year  ",
          "florida  "
         ],
         "yaxis": "y9"
        },
        {
         "marker": {
          "color": "#CC79A7"
         },
         "orientation": "h",
         "type": "bar",
         "x": [
          0.012433961544985756,
          0.013480190935482828,
          0.01376185443364614,
          0.014524784478961527,
          0.014524784478961527,
          0.015391795960298842,
          0.019892417848008347,
          0.021406274278571377,
          0.0228653547501853,
          0.02863410077094213
         ],
         "xaxis": "x10",
         "y": [
          "campaign  ",
          "mickey  ",
          "anti  ",
          "mini  ",
          "stitt  ",
          "pro  ",
          "promises  ",
          "fascist  ",
          "desantis  ",
          "trump  "
         ],
         "yaxis": "y10"
        },
        {
         "marker": {
          "color": "#E69F00"
         },
         "orientation": "h",
         "type": "bar",
         "x": [
          0.013913018376766242,
          0.014907097937952923,
          0.015301553418204095,
          0.015940184859185108,
          0.017544679660209523,
          0.01910226756298993,
          0.01931061701804722,
          0.020548983762628443,
          0.020871578134068636,
          0.029294759967979565
         ],
         "xaxis": "x11",
         "y": [
          "2024  ",
          "attacking  ",
          "gop  ",
          "safer  ",
          "abortions  ",
          "crisis  ",
          "women  ",
          "abortion  ",
          "party  ",
          "republicans  "
         ],
         "yaxis": "y11"
        },
        {
         "marker": {
          "color": "#56B4E9"
         },
         "orientation": "h",
         "type": "bar",
         "x": [
          0.020162426500021275,
          0.020518019808708127,
          0.022135323468180753,
          0.022919212689523308,
          0.02360760601569084,
          0.023937689776826147,
          0.02705936179841552,
          0.02922728468463614,
          0.04036349102618314,
          0.0625164109015192
         ],
         "xaxis": "x12",
         "y": [
          "90  ",
          "1933  ",
          "repeat  ",
          "10th  ",
          "danielmilleresq  ",
          "tens  ",
          "burned  ",
          "hitler  ",
          "nazis  ",
          "holocaust  "
         ],
         "yaxis": "y12"
        },
        {
         "marker": {
          "color": "#009E73"
         },
         "orientation": "h",
         "type": "bar",
         "x": [
          0.017840259839003923,
          0.01787448074480906,
          0.0182181517627414,
          0.018513937029208925,
          0.019330171107580625,
          0.019330171107580625,
          0.019887525124498963,
          0.02279952183068185,
          0.036505898935404076,
          0.04837793279833374
         ],
         "xaxis": "x13",
         "y": [
          "rondesantisfl  ",
          "pornography  ",
          "held  ",
          "removing  ",
          "kept  ",
          "secret  ",
          "conference  ",
          "insisted  ",
          "survey  ",
          "porn  "
         ],
         "yaxis": "y13"
        },
        {
         "marker": {
          "color": "#F0E442"
         },
         "orientation": "h",
         "type": "bar",
         "x": [
          0.020058985913543145,
          0.0203673382356674,
          0.021199823658160543,
          0.021199823658160543,
          0.021199823658160543,
          0.021199823658160543,
          0.022274023551353567,
          0.022274023551353567,
          0.025687756860954696,
          0.026861215035646653
         ],
         "xaxis": "x14",
         "y": [
          "bookban  ",
          "jp_books  ",
          "georgetakei  ",
          "confusing  ",
          "polite  ",
          "corrections  ",
          "ink  ",
          "mindless  ",
          "prisons  ",
          "florida  "
         ],
         "yaxis": "y14"
        },
        {
         "marker": {
          "color": "#D55E00"
         },
         "orientation": "h",
         "type": "bar",
         "x": [
          0.04455597700497941,
          0.046405944014252826,
          0.048586422291641174,
          0.05003862435261769,
          0.05417949348560854,
          0.05435066254173221,
          0.055740674248300745,
          0.05753592785300758,
          0.08331739596063839,
          0.11992103975979092
         ],
         "xaxis": "x15",
         "y": [
          "targeting  ",
          "unreal  ",
          "shocking  ",
          "objections  ",
          "guise  ",
          "zamhoqrzas  ",
          "uglier  ",
          "activist  ",
          "nora  ",
          "roberts  "
         ],
         "yaxis": "y15"
        },
        {
         "marker": {
          "color": "#0072B2"
         },
         "orientation": "h",
         "type": "bar",
         "x": [
          0.011864900310377883,
          0.012349860909226615,
          0.013078493359265305,
          0.01392286666057238,
          0.014606588833407328,
          0.014632840868695252,
          0.01856024226790151,
          0.021882962060325712,
          0.02276182364246012,
          0.038500366095306944
         ],
         "xaxis": "x16",
         "y": [
          "bitcoin  ",
          "elite  ",
          "democracy  ",
          "trump  ",
          "base  ",
          "wants  ",
          "president  ",
          "abortion  ",
          "desantis  ",
          "ron  "
         ],
         "yaxis": "y16"
        },
        {
         "marker": {
          "color": "#CC79A7"
         },
         "orientation": "h",
         "type": "bar",
         "x": [
          0.016861315490988807,
          0.018662580850273943,
          0.018662580850273943,
          0.020281411879091646,
          0.021114192739212077,
          0.021114192739212077,
          0.021114192739212077,
          0.021114192739212077,
          0.024883441133698593,
          0.026757229186646955
         ],
         "xaxis": "x17",
         "y": [
          "id  ",
          "fragile  ",
          "distrust  ",
          "taliban  ",
          "unprincipled  ",
          "bread  ",
          "circuses  ",
          "insight  ",
          "assert  ",
          "florida  "
         ],
         "yaxis": "y17"
        },
        {
         "marker": {
          "color": "#E69F00"
         },
         "orientation": "h",
         "type": "bar",
         "x": [
          0.01960325068550818,
          0.020075448217242418,
          0.02099518893178353,
          0.02132365661297365,
          0.025134808019012793,
          0.025779121472771314,
          0.025793570241049443,
          0.026673434389739993,
          0.027648285006963452,
          0.027772396641777067
         ],
         "xaxis": "x18",
         "y": [
          "prosecution  ",
          "allegedly  ",
          "racist  ",
          "juddlegum  ",
          "education  ",
          "homophobic  ",
          "indoctrination  ",
          "teachers  ",
          "teacher  ",
          "felony  "
         ],
         "yaxis": "y18"
        },
        {
         "marker": {
          "color": "#56B4E9"
         },
         "orientation": "h",
         "type": "bar",
         "x": [
          0.01244222906281964,
          0.01244222906281964,
          0.012838188872954251,
          0.014404493992782654,
          0.014541848480745129,
          0.014605330985080968,
          0.017098219401723798,
          0.017613054230156504,
          0.0251072094588197,
          0.028143283926606973
         ],
         "xaxis": "x19",
         "y": [
          "abridging  ",
          "creeps  ",
          "censorship  ",
          "political  ",
          "government  ",
          "republic  ",
          "ideas  ",
          "democracy  ",
          "free  ",
          "speech  "
         ],
         "yaxis": "y19"
        },
        {
         "marker": {
          "color": "#009E73"
         },
         "orientation": "h",
         "type": "bar",
         "x": [
          0.022404789899715786,
          0.022404789899715786,
          0.022404789899715786,
          0.022404789899715786,
          0.022404789899715786,
          0.022404789899715786,
          0.029948957231369654,
          0.03424172747606226,
          0.035376959679415704,
          0.03896359478167777
         ],
         "xaxis": "x20",
         "y": [
          "irjugithza  ",
          "downie  ",
          "uictzakt5y  ",
          "raina  ",
          "telgemeier  ",
          "judgments  ",
          "t8e07edp42  ",
          "tizzyent  ",
          "reading  ",
          "desantis  "
         ],
         "yaxis": "y20"
        }
       ],
       "layout": {
        "annotations": [
         {
          "font": {
           "size": 16
          },
          "showarrow": false,
          "text": "Topic 0",
          "x": 0.0875,
          "xanchor": "center",
          "xref": "paper",
          "y": 0.9999999999999999,
          "yanchor": "bottom",
          "yref": "paper"
         },
         {
          "font": {
           "size": 16
          },
          "showarrow": false,
          "text": "Topic 1",
          "x": 0.36250000000000004,
          "xanchor": "center",
          "xref": "paper",
          "y": 0.9999999999999999,
          "yanchor": "bottom",
          "yref": "paper"
         },
         {
          "font": {
           "size": 16
          },
          "showarrow": false,
          "text": "Topic 2",
          "x": 0.6375000000000001,
          "xanchor": "center",
          "xref": "paper",
          "y": 0.9999999999999999,
          "yanchor": "bottom",
          "yref": "paper"
         },
         {
          "font": {
           "size": 16
          },
          "showarrow": false,
          "text": "Topic 3",
          "x": 0.9125,
          "xanchor": "center",
          "xref": "paper",
          "y": 0.9999999999999999,
          "yanchor": "bottom",
          "yref": "paper"
         },
         {
          "font": {
           "size": 16
          },
          "showarrow": false,
          "text": "Topic 4",
          "x": 0.0875,
          "xanchor": "center",
          "xref": "paper",
          "y": 0.7839999999999999,
          "yanchor": "bottom",
          "yref": "paper"
         },
         {
          "font": {
           "size": 16
          },
          "showarrow": false,
          "text": "Topic 5",
          "x": 0.36250000000000004,
          "xanchor": "center",
          "xref": "paper",
          "y": 0.7839999999999999,
          "yanchor": "bottom",
          "yref": "paper"
         },
         {
          "font": {
           "size": 16
          },
          "showarrow": false,
          "text": "Topic 6",
          "x": 0.6375000000000001,
          "xanchor": "center",
          "xref": "paper",
          "y": 0.7839999999999999,
          "yanchor": "bottom",
          "yref": "paper"
         },
         {
          "font": {
           "size": 16
          },
          "showarrow": false,
          "text": "Topic 7",
          "x": 0.9125,
          "xanchor": "center",
          "xref": "paper",
          "y": 0.7839999999999999,
          "yanchor": "bottom",
          "yref": "paper"
         },
         {
          "font": {
           "size": 16
          },
          "showarrow": false,
          "text": "Topic 8",
          "x": 0.0875,
          "xanchor": "center",
          "xref": "paper",
          "y": 0.568,
          "yanchor": "bottom",
          "yref": "paper"
         },
         {
          "font": {
           "size": 16
          },
          "showarrow": false,
          "text": "Topic 9",
          "x": 0.36250000000000004,
          "xanchor": "center",
          "xref": "paper",
          "y": 0.568,
          "yanchor": "bottom",
          "yref": "paper"
         },
         {
          "font": {
           "size": 16
          },
          "showarrow": false,
          "text": "Topic 10",
          "x": 0.6375000000000001,
          "xanchor": "center",
          "xref": "paper",
          "y": 0.568,
          "yanchor": "bottom",
          "yref": "paper"
         },
         {
          "font": {
           "size": 16
          },
          "showarrow": false,
          "text": "Topic 11",
          "x": 0.9125,
          "xanchor": "center",
          "xref": "paper",
          "y": 0.568,
          "yanchor": "bottom",
          "yref": "paper"
         },
         {
          "font": {
           "size": 16
          },
          "showarrow": false,
          "text": "Topic 12",
          "x": 0.0875,
          "xanchor": "center",
          "xref": "paper",
          "y": 0.352,
          "yanchor": "bottom",
          "yref": "paper"
         },
         {
          "font": {
           "size": 16
          },
          "showarrow": false,
          "text": "Topic 13",
          "x": 0.36250000000000004,
          "xanchor": "center",
          "xref": "paper",
          "y": 0.352,
          "yanchor": "bottom",
          "yref": "paper"
         },
         {
          "font": {
           "size": 16
          },
          "showarrow": false,
          "text": "Topic 14",
          "x": 0.6375000000000001,
          "xanchor": "center",
          "xref": "paper",
          "y": 0.352,
          "yanchor": "bottom",
          "yref": "paper"
         },
         {
          "font": {
           "size": 16
          },
          "showarrow": false,
          "text": "Topic 15",
          "x": 0.9125,
          "xanchor": "center",
          "xref": "paper",
          "y": 0.352,
          "yanchor": "bottom",
          "yref": "paper"
         },
         {
          "font": {
           "size": 16
          },
          "showarrow": false,
          "text": "Topic 16",
          "x": 0.0875,
          "xanchor": "center",
          "xref": "paper",
          "y": 0.13599999999999998,
          "yanchor": "bottom",
          "yref": "paper"
         },
         {
          "font": {
           "size": 16
          },
          "showarrow": false,
          "text": "Topic 17",
          "x": 0.36250000000000004,
          "xanchor": "center",
          "xref": "paper",
          "y": 0.13599999999999998,
          "yanchor": "bottom",
          "yref": "paper"
         },
         {
          "font": {
           "size": 16
          },
          "showarrow": false,
          "text": "Topic 18",
          "x": 0.6375000000000001,
          "xanchor": "center",
          "xref": "paper",
          "y": 0.13599999999999998,
          "yanchor": "bottom",
          "yref": "paper"
         },
         {
          "font": {
           "size": 16
          },
          "showarrow": false,
          "text": "Topic 19",
          "x": 0.9125,
          "xanchor": "center",
          "xref": "paper",
          "y": 0.13599999999999998,
          "yanchor": "bottom",
          "yref": "paper"
         }
        ],
        "height": 1250,
        "hoverlabel": {
         "bgcolor": "white",
         "font": {
          "family": "Rockwell",
          "size": 16
         }
        },
        "showlegend": false,
        "template": {
         "data": {
          "bar": [
           {
            "error_x": {
             "color": "#2a3f5f"
            },
            "error_y": {
             "color": "#2a3f5f"
            },
            "marker": {
             "line": {
              "color": "white",
              "width": 0.5
             },
             "pattern": {
              "fillmode": "overlay",
              "size": 10,
              "solidity": 0.2
             }
            },
            "type": "bar"
           }
          ],
          "barpolar": [
           {
            "marker": {
             "line": {
              "color": "white",
              "width": 0.5
             },
             "pattern": {
              "fillmode": "overlay",
              "size": 10,
              "solidity": 0.2
             }
            },
            "type": "barpolar"
           }
          ],
          "carpet": [
           {
            "aaxis": {
             "endlinecolor": "#2a3f5f",
             "gridcolor": "#C8D4E3",
             "linecolor": "#C8D4E3",
             "minorgridcolor": "#C8D4E3",
             "startlinecolor": "#2a3f5f"
            },
            "baxis": {
             "endlinecolor": "#2a3f5f",
             "gridcolor": "#C8D4E3",
             "linecolor": "#C8D4E3",
             "minorgridcolor": "#C8D4E3",
             "startlinecolor": "#2a3f5f"
            },
            "type": "carpet"
           }
          ],
          "choropleth": [
           {
            "colorbar": {
             "outlinewidth": 0,
             "ticks": ""
            },
            "type": "choropleth"
           }
          ],
          "contour": [
           {
            "colorbar": {
             "outlinewidth": 0,
             "ticks": ""
            },
            "colorscale": [
             [
              0,
              "#0d0887"
             ],
             [
              0.1111111111111111,
              "#46039f"
             ],
             [
              0.2222222222222222,
              "#7201a8"
             ],
             [
              0.3333333333333333,
              "#9c179e"
             ],
             [
              0.4444444444444444,
              "#bd3786"
             ],
             [
              0.5555555555555556,
              "#d8576b"
             ],
             [
              0.6666666666666666,
              "#ed7953"
             ],
             [
              0.7777777777777778,
              "#fb9f3a"
             ],
             [
              0.8888888888888888,
              "#fdca26"
             ],
             [
              1,
              "#f0f921"
             ]
            ],
            "type": "contour"
           }
          ],
          "contourcarpet": [
           {
            "colorbar": {
             "outlinewidth": 0,
             "ticks": ""
            },
            "type": "contourcarpet"
           }
          ],
          "heatmap": [
           {
            "colorbar": {
             "outlinewidth": 0,
             "ticks": ""
            },
            "colorscale": [
             [
              0,
              "#0d0887"
             ],
             [
              0.1111111111111111,
              "#46039f"
             ],
             [
              0.2222222222222222,
              "#7201a8"
             ],
             [
              0.3333333333333333,
              "#9c179e"
             ],
             [
              0.4444444444444444,
              "#bd3786"
             ],
             [
              0.5555555555555556,
              "#d8576b"
             ],
             [
              0.6666666666666666,
              "#ed7953"
             ],
             [
              0.7777777777777778,
              "#fb9f3a"
             ],
             [
              0.8888888888888888,
              "#fdca26"
             ],
             [
              1,
              "#f0f921"
             ]
            ],
            "type": "heatmap"
           }
          ],
          "heatmapgl": [
           {
            "colorbar": {
             "outlinewidth": 0,
             "ticks": ""
            },
            "colorscale": [
             [
              0,
              "#0d0887"
             ],
             [
              0.1111111111111111,
              "#46039f"
             ],
             [
              0.2222222222222222,
              "#7201a8"
             ],
             [
              0.3333333333333333,
              "#9c179e"
             ],
             [
              0.4444444444444444,
              "#bd3786"
             ],
             [
              0.5555555555555556,
              "#d8576b"
             ],
             [
              0.6666666666666666,
              "#ed7953"
             ],
             [
              0.7777777777777778,
              "#fb9f3a"
             ],
             [
              0.8888888888888888,
              "#fdca26"
             ],
             [
              1,
              "#f0f921"
             ]
            ],
            "type": "heatmapgl"
           }
          ],
          "histogram": [
           {
            "marker": {
             "pattern": {
              "fillmode": "overlay",
              "size": 10,
              "solidity": 0.2
             }
            },
            "type": "histogram"
           }
          ],
          "histogram2d": [
           {
            "colorbar": {
             "outlinewidth": 0,
             "ticks": ""
            },
            "colorscale": [
             [
              0,
              "#0d0887"
             ],
             [
              0.1111111111111111,
              "#46039f"
             ],
             [
              0.2222222222222222,
              "#7201a8"
             ],
             [
              0.3333333333333333,
              "#9c179e"
             ],
             [
              0.4444444444444444,
              "#bd3786"
             ],
             [
              0.5555555555555556,
              "#d8576b"
             ],
             [
              0.6666666666666666,
              "#ed7953"
             ],
             [
              0.7777777777777778,
              "#fb9f3a"
             ],
             [
              0.8888888888888888,
              "#fdca26"
             ],
             [
              1,
              "#f0f921"
             ]
            ],
            "type": "histogram2d"
           }
          ],
          "histogram2dcontour": [
           {
            "colorbar": {
             "outlinewidth": 0,
             "ticks": ""
            },
            "colorscale": [
             [
              0,
              "#0d0887"
             ],
             [
              0.1111111111111111,
              "#46039f"
             ],
             [
              0.2222222222222222,
              "#7201a8"
             ],
             [
              0.3333333333333333,
              "#9c179e"
             ],
             [
              0.4444444444444444,
              "#bd3786"
             ],
             [
              0.5555555555555556,
              "#d8576b"
             ],
             [
              0.6666666666666666,
              "#ed7953"
             ],
             [
              0.7777777777777778,
              "#fb9f3a"
             ],
             [
              0.8888888888888888,
              "#fdca26"
             ],
             [
              1,
              "#f0f921"
             ]
            ],
            "type": "histogram2dcontour"
           }
          ],
          "mesh3d": [
           {
            "colorbar": {
             "outlinewidth": 0,
             "ticks": ""
            },
            "type": "mesh3d"
           }
          ],
          "parcoords": [
           {
            "line": {
             "colorbar": {
              "outlinewidth": 0,
              "ticks": ""
             }
            },
            "type": "parcoords"
           }
          ],
          "pie": [
           {
            "automargin": true,
            "type": "pie"
           }
          ],
          "scatter": [
           {
            "fillpattern": {
             "fillmode": "overlay",
             "size": 10,
             "solidity": 0.2
            },
            "type": "scatter"
           }
          ],
          "scatter3d": [
           {
            "line": {
             "colorbar": {
              "outlinewidth": 0,
              "ticks": ""
             }
            },
            "marker": {
             "colorbar": {
              "outlinewidth": 0,
              "ticks": ""
             }
            },
            "type": "scatter3d"
           }
          ],
          "scattercarpet": [
           {
            "marker": {
             "colorbar": {
              "outlinewidth": 0,
              "ticks": ""
             }
            },
            "type": "scattercarpet"
           }
          ],
          "scattergeo": [
           {
            "marker": {
             "colorbar": {
              "outlinewidth": 0,
              "ticks": ""
             }
            },
            "type": "scattergeo"
           }
          ],
          "scattergl": [
           {
            "marker": {
             "colorbar": {
              "outlinewidth": 0,
              "ticks": ""
             }
            },
            "type": "scattergl"
           }
          ],
          "scattermapbox": [
           {
            "marker": {
             "colorbar": {
              "outlinewidth": 0,
              "ticks": ""
             }
            },
            "type": "scattermapbox"
           }
          ],
          "scatterpolar": [
           {
            "marker": {
             "colorbar": {
              "outlinewidth": 0,
              "ticks": ""
             }
            },
            "type": "scatterpolar"
           }
          ],
          "scatterpolargl": [
           {
            "marker": {
             "colorbar": {
              "outlinewidth": 0,
              "ticks": ""
             }
            },
            "type": "scatterpolargl"
           }
          ],
          "scatterternary": [
           {
            "marker": {
             "colorbar": {
              "outlinewidth": 0,
              "ticks": ""
             }
            },
            "type": "scatterternary"
           }
          ],
          "surface": [
           {
            "colorbar": {
             "outlinewidth": 0,
             "ticks": ""
            },
            "colorscale": [
             [
              0,
              "#0d0887"
             ],
             [
              0.1111111111111111,
              "#46039f"
             ],
             [
              0.2222222222222222,
              "#7201a8"
             ],
             [
              0.3333333333333333,
              "#9c179e"
             ],
             [
              0.4444444444444444,
              "#bd3786"
             ],
             [
              0.5555555555555556,
              "#d8576b"
             ],
             [
              0.6666666666666666,
              "#ed7953"
             ],
             [
              0.7777777777777778,
              "#fb9f3a"
             ],
             [
              0.8888888888888888,
              "#fdca26"
             ],
             [
              1,
              "#f0f921"
             ]
            ],
            "type": "surface"
           }
          ],
          "table": [
           {
            "cells": {
             "fill": {
              "color": "#EBF0F8"
             },
             "line": {
              "color": "white"
             }
            },
            "header": {
             "fill": {
              "color": "#C8D4E3"
             },
             "line": {
              "color": "white"
             }
            },
            "type": "table"
           }
          ]
         },
         "layout": {
          "annotationdefaults": {
           "arrowcolor": "#2a3f5f",
           "arrowhead": 0,
           "arrowwidth": 1
          },
          "autotypenumbers": "strict",
          "coloraxis": {
           "colorbar": {
            "outlinewidth": 0,
            "ticks": ""
           }
          },
          "colorscale": {
           "diverging": [
            [
             0,
             "#8e0152"
            ],
            [
             0.1,
             "#c51b7d"
            ],
            [
             0.2,
             "#de77ae"
            ],
            [
             0.3,
             "#f1b6da"
            ],
            [
             0.4,
             "#fde0ef"
            ],
            [
             0.5,
             "#f7f7f7"
            ],
            [
             0.6,
             "#e6f5d0"
            ],
            [
             0.7,
             "#b8e186"
            ],
            [
             0.8,
             "#7fbc41"
            ],
            [
             0.9,
             "#4d9221"
            ],
            [
             1,
             "#276419"
            ]
           ],
           "sequential": [
            [
             0,
             "#0d0887"
            ],
            [
             0.1111111111111111,
             "#46039f"
            ],
            [
             0.2222222222222222,
             "#7201a8"
            ],
            [
             0.3333333333333333,
             "#9c179e"
            ],
            [
             0.4444444444444444,
             "#bd3786"
            ],
            [
             0.5555555555555556,
             "#d8576b"
            ],
            [
             0.6666666666666666,
             "#ed7953"
            ],
            [
             0.7777777777777778,
             "#fb9f3a"
            ],
            [
             0.8888888888888888,
             "#fdca26"
            ],
            [
             1,
             "#f0f921"
            ]
           ],
           "sequentialminus": [
            [
             0,
             "#0d0887"
            ],
            [
             0.1111111111111111,
             "#46039f"
            ],
            [
             0.2222222222222222,
             "#7201a8"
            ],
            [
             0.3333333333333333,
             "#9c179e"
            ],
            [
             0.4444444444444444,
             "#bd3786"
            ],
            [
             0.5555555555555556,
             "#d8576b"
            ],
            [
             0.6666666666666666,
             "#ed7953"
            ],
            [
             0.7777777777777778,
             "#fb9f3a"
            ],
            [
             0.8888888888888888,
             "#fdca26"
            ],
            [
             1,
             "#f0f921"
            ]
           ]
          },
          "colorway": [
           "#636efa",
           "#EF553B",
           "#00cc96",
           "#ab63fa",
           "#FFA15A",
           "#19d3f3",
           "#FF6692",
           "#B6E880",
           "#FF97FF",
           "#FECB52"
          ],
          "font": {
           "color": "#2a3f5f"
          },
          "geo": {
           "bgcolor": "white",
           "lakecolor": "white",
           "landcolor": "white",
           "showlakes": true,
           "showland": true,
           "subunitcolor": "#C8D4E3"
          },
          "hoverlabel": {
           "align": "left"
          },
          "hovermode": "closest",
          "mapbox": {
           "style": "light"
          },
          "paper_bgcolor": "white",
          "plot_bgcolor": "white",
          "polar": {
           "angularaxis": {
            "gridcolor": "#EBF0F8",
            "linecolor": "#EBF0F8",
            "ticks": ""
           },
           "bgcolor": "white",
           "radialaxis": {
            "gridcolor": "#EBF0F8",
            "linecolor": "#EBF0F8",
            "ticks": ""
           }
          },
          "scene": {
           "xaxis": {
            "backgroundcolor": "white",
            "gridcolor": "#DFE8F3",
            "gridwidth": 2,
            "linecolor": "#EBF0F8",
            "showbackground": true,
            "ticks": "",
            "zerolinecolor": "#EBF0F8"
           },
           "yaxis": {
            "backgroundcolor": "white",
            "gridcolor": "#DFE8F3",
            "gridwidth": 2,
            "linecolor": "#EBF0F8",
            "showbackground": true,
            "ticks": "",
            "zerolinecolor": "#EBF0F8"
           },
           "zaxis": {
            "backgroundcolor": "white",
            "gridcolor": "#DFE8F3",
            "gridwidth": 2,
            "linecolor": "#EBF0F8",
            "showbackground": true,
            "ticks": "",
            "zerolinecolor": "#EBF0F8"
           }
          },
          "shapedefaults": {
           "line": {
            "color": "#2a3f5f"
           }
          },
          "ternary": {
           "aaxis": {
            "gridcolor": "#DFE8F3",
            "linecolor": "#A2B1C6",
            "ticks": ""
           },
           "baxis": {
            "gridcolor": "#DFE8F3",
            "linecolor": "#A2B1C6",
            "ticks": ""
           },
           "bgcolor": "white",
           "caxis": {
            "gridcolor": "#DFE8F3",
            "linecolor": "#A2B1C6",
            "ticks": ""
           }
          },
          "title": {
           "x": 0.05
          },
          "xaxis": {
           "automargin": true,
           "gridcolor": "#EBF0F8",
           "linecolor": "#EBF0F8",
           "ticks": "",
           "title": {
            "standoff": 15
           },
           "zerolinecolor": "#EBF0F8",
           "zerolinewidth": 2
          },
          "yaxis": {
           "automargin": true,
           "gridcolor": "#EBF0F8",
           "linecolor": "#EBF0F8",
           "ticks": "",
           "title": {
            "standoff": 15
           },
           "zerolinecolor": "#EBF0F8",
           "zerolinewidth": 2
          }
         }
        },
        "title": {
         "font": {
          "color": "Black",
          "size": 22
         },
         "text": "Red States Topics",
         "x": 0.5,
         "xanchor": "center",
         "yanchor": "top"
        },
        "width": 1000,
        "xaxis": {
         "anchor": "y",
         "domain": [
          0,
          0.175
         ],
         "showgrid": true
        },
        "xaxis10": {
         "anchor": "y10",
         "domain": [
          0.275,
          0.45
         ],
         "showgrid": true
        },
        "xaxis11": {
         "anchor": "y11",
         "domain": [
          0.55,
          0.7250000000000001
         ],
         "showgrid": true
        },
        "xaxis12": {
         "anchor": "y12",
         "domain": [
          0.825,
          1
         ],
         "showgrid": true
        },
        "xaxis13": {
         "anchor": "y13",
         "domain": [
          0,
          0.175
         ],
         "showgrid": true
        },
        "xaxis14": {
         "anchor": "y14",
         "domain": [
          0.275,
          0.45
         ],
         "showgrid": true
        },
        "xaxis15": {
         "anchor": "y15",
         "domain": [
          0.55,
          0.7250000000000001
         ],
         "showgrid": true
        },
        "xaxis16": {
         "anchor": "y16",
         "domain": [
          0.825,
          1
         ],
         "showgrid": true
        },
        "xaxis17": {
         "anchor": "y17",
         "domain": [
          0,
          0.175
         ],
         "showgrid": true
        },
        "xaxis18": {
         "anchor": "y18",
         "domain": [
          0.275,
          0.45
         ],
         "showgrid": true
        },
        "xaxis19": {
         "anchor": "y19",
         "domain": [
          0.55,
          0.7250000000000001
         ],
         "showgrid": true
        },
        "xaxis2": {
         "anchor": "y2",
         "domain": [
          0.275,
          0.45
         ],
         "showgrid": true
        },
        "xaxis20": {
         "anchor": "y20",
         "domain": [
          0.825,
          1
         ],
         "showgrid": true
        },
        "xaxis3": {
         "anchor": "y3",
         "domain": [
          0.55,
          0.7250000000000001
         ],
         "showgrid": true
        },
        "xaxis4": {
         "anchor": "y4",
         "domain": [
          0.825,
          1
         ],
         "showgrid": true
        },
        "xaxis5": {
         "anchor": "y5",
         "domain": [
          0,
          0.175
         ],
         "showgrid": true
        },
        "xaxis6": {
         "anchor": "y6",
         "domain": [
          0.275,
          0.45
         ],
         "showgrid": true
        },
        "xaxis7": {
         "anchor": "y7",
         "domain": [
          0.55,
          0.7250000000000001
         ],
         "showgrid": true
        },
        "xaxis8": {
         "anchor": "y8",
         "domain": [
          0.825,
          1
         ],
         "showgrid": true
        },
        "xaxis9": {
         "anchor": "y9",
         "domain": [
          0,
          0.175
         ],
         "showgrid": true
        },
        "yaxis": {
         "anchor": "x",
         "domain": [
          0.8639999999999999,
          0.9999999999999999
         ],
         "showgrid": true
        },
        "yaxis10": {
         "anchor": "x10",
         "domain": [
          0.43199999999999994,
          0.568
         ],
         "showgrid": true
        },
        "yaxis11": {
         "anchor": "x11",
         "domain": [
          0.43199999999999994,
          0.568
         ],
         "showgrid": true
        },
        "yaxis12": {
         "anchor": "x12",
         "domain": [
          0.43199999999999994,
          0.568
         ],
         "showgrid": true
        },
        "yaxis13": {
         "anchor": "x13",
         "domain": [
          0.21599999999999997,
          0.352
         ],
         "showgrid": true
        },
        "yaxis14": {
         "anchor": "x14",
         "domain": [
          0.21599999999999997,
          0.352
         ],
         "showgrid": true
        },
        "yaxis15": {
         "anchor": "x15",
         "domain": [
          0.21599999999999997,
          0.352
         ],
         "showgrid": true
        },
        "yaxis16": {
         "anchor": "x16",
         "domain": [
          0.21599999999999997,
          0.352
         ],
         "showgrid": true
        },
        "yaxis17": {
         "anchor": "x17",
         "domain": [
          0,
          0.13599999999999998
         ],
         "showgrid": true
        },
        "yaxis18": {
         "anchor": "x18",
         "domain": [
          0,
          0.13599999999999998
         ],
         "showgrid": true
        },
        "yaxis19": {
         "anchor": "x19",
         "domain": [
          0,
          0.13599999999999998
         ],
         "showgrid": true
        },
        "yaxis2": {
         "anchor": "x2",
         "domain": [
          0.8639999999999999,
          0.9999999999999999
         ],
         "showgrid": true
        },
        "yaxis20": {
         "anchor": "x20",
         "domain": [
          0,
          0.13599999999999998
         ],
         "showgrid": true
        },
        "yaxis3": {
         "anchor": "x3",
         "domain": [
          0.8639999999999999,
          0.9999999999999999
         ],
         "showgrid": true
        },
        "yaxis4": {
         "anchor": "x4",
         "domain": [
          0.8639999999999999,
          0.9999999999999999
         ],
         "showgrid": true
        },
        "yaxis5": {
         "anchor": "x5",
         "domain": [
          0.6479999999999999,
          0.7839999999999999
         ],
         "showgrid": true
        },
        "yaxis6": {
         "anchor": "x6",
         "domain": [
          0.6479999999999999,
          0.7839999999999999
         ],
         "showgrid": true
        },
        "yaxis7": {
         "anchor": "x7",
         "domain": [
          0.6479999999999999,
          0.7839999999999999
         ],
         "showgrid": true
        },
        "yaxis8": {
         "anchor": "x8",
         "domain": [
          0.6479999999999999,
          0.7839999999999999
         ],
         "showgrid": true
        },
        "yaxis9": {
         "anchor": "x9",
         "domain": [
          0.43199999999999994,
          0.568
         ],
         "showgrid": true
        }
       }
      },
      "text/html": [
       "<div>                            <div id=\"826bf88c-829c-4f6c-a130-402c1b2d6e37\" class=\"plotly-graph-div\" style=\"height:1250px; width:1000px;\"></div>            <script type=\"text/javascript\">                require([\"plotly\"], function(Plotly) {                    window.PLOTLYENV=window.PLOTLYENV || {};                                    if (document.getElementById(\"826bf88c-829c-4f6c-a130-402c1b2d6e37\")) {                    Plotly.newPlot(                        \"826bf88c-829c-4f6c-a130-402c1b2d6e37\",                        [{\"marker\":{\"color\":\"#D55E00\"},\"orientation\":\"h\",\"x\":[0.01152921836394422,0.011687480705553576,0.013720259681950215,0.014096786539037839,0.016289494381153097,0.016794517757532296,0.01683520455652546,0.01685125814470696,0.01980294532767721,0.019817396793852155],\"y\":[\"themes  \",\"pornographic  \",\"chelseaclinton  \",\"gender  \",\"harmful  \",\"children  \",\"sexually  \",\"porn  \",\"explicit  \",\"queer  \"],\"type\":\"bar\",\"xaxis\":\"x\",\"yaxis\":\"y\"},{\"marker\":{\"color\":\"#0072B2\"},\"orientation\":\"h\",\"x\":[0.011227045188882507,0.012222335484971683,0.012331990319189922,0.01251202635722793,0.012655611200349677,0.012912389862331165,0.014035623269383775,0.014201702791782917,0.014417655351388713,0.017314103032383753],\"y\":[\"carry  \",\"don  \",\"fl  \",\"free  \",\"say  \",\"expand  \",\"lgbtq  \",\"state  \",\"florida  \",\"insurance  \"],\"type\":\"bar\",\"xaxis\":\"x2\",\"yaxis\":\"y2\"},{\"marker\":{\"color\":\"#CC79A7\"},\"orientation\":\"h\",\"x\":[0.012546659559868086,0.012546659559868086,0.012848879929883514,0.013046545092243702,0.01403034129973958,0.015600755514607241,0.020984954811046428,0.022562440214893547,0.023542015085470602,0.03881625532954782],\"y\":[\"elements  \",\"diligent  \",\"segregated  \",\"campuses  \",\"langston  \",\"supremacist  \",\"racism  \",\"history  \",\"white  \",\"black  \"],\"type\":\"bar\",\"xaxis\":\"x3\",\"yaxis\":\"y3\"},{\"marker\":{\"color\":\"#E69F00\"},\"orientation\":\"h\",\"x\":[0.028178263523750708,0.028338957540569313,0.0294699444704043,0.041832321203924196,0.04856742117919262,0.05144915295320331,0.05283424410703258,0.05345044275857342,0.06514820658713823,0.12825342608369444],\"y\":[\"south  \",\"concert  \",\"upcoming  \",\"tour  \",\"000  \",\"singer  \",\"stops  \",\"concerts  \",\"away  \",\"pink  \"],\"type\":\"bar\",\"xaxis\":\"x4\",\"yaxis\":\"y4\"},{\"marker\":{\"color\":\"#56B4E9\"},\"orientation\":\"h\",\"x\":[0.026295776968349418,0.02640462152767715,0.026516930769274194,0.028460548363098387,0.03016405328461164,0.031145002785796575,0.03546325855470068,0.04091532111563709,0.04400770254612859,0.07800283164358839],\"y\":[\"public  \",\"funding  \",\"republicans  \",\"voted  \",\"state  \",\"mo  \",\"budget  \",\"libraries  \",\"defund  \",\"missouri  \"],\"type\":\"bar\",\"xaxis\":\"x5\",\"yaxis\":\"y5\"},{\"marker\":{\"color\":\"#009E73\"},\"orientation\":\"h\",\"x\":[0.009743779143856362,0.009844092029093678,0.009844092029093678,0.009883536804121185,0.010865317045399723,0.011127252441175725,0.01204813490614343,0.013313073110088324,0.01899245259487419,0.0524756887760034],\"y\":[\"gregabbott_tx  \",\"lonesome  \",\"dove  \",\"local  \",\"txlege  \",\"year  \",\"state  \",\"grid  \",\"texans  \",\"texas  \"],\"type\":\"bar\",\"xaxis\":\"x6\",\"yaxis\":\"y6\"},{\"marker\":{\"color\":\"#F0E442\"},\"orientation\":\"h\",\"x\":[0.010147911557219589,0.011392261358069786,0.012726314561957858,0.013302809376371478,0.013326475131052291,0.013596853061127005,0.015878926177106976,0.02101856854622736,0.021371776499123068,0.027575887840350907],\"y\":[\"reads  \",\"didn  \",\"child  \",\"reading  \",\"kids  \",\"want  \",\"read  \",\"appropriate  \",\"children  \",\"parents  \"],\"type\":\"bar\",\"xaxis\":\"x7\",\"yaxis\":\"y7\"},{\"marker\":{\"color\":\"#D55E00\"},\"orientation\":\"h\",\"x\":[0.01095231285679443,0.011579752172420741,0.011690829212565399,0.016238015894262624,0.020324047650921155,0.02135066286202097,0.022609886578249954,0.034322835092492336,0.06438896684366538,0.0649193256264011],\"y\":[\"founder  \",\"anti  \",\"lgbtq  \",\"hitler  \",\"hate  \",\"candidates  \",\"philadelphia  \",\"group  \",\"moms  \",\"liberty  \"],\"type\":\"bar\",\"xaxis\":\"x8\",\"yaxis\":\"y8\"},{\"marker\":{\"color\":\"#0072B2\"},\"orientation\":\"h\",\"x\":[0.012845899767139048,0.013023600562729977,0.013023600562729977,0.013305398657727126,0.013621234427138047,0.014771204242973388,0.015544744954782235,0.016915680937829355,0.01848198143973315,0.020375235856716762],\"y\":[\"single  \",\"pending  \",\"566  \",\"education  \",\"hundreds  \",\"districts  \",\"school  \",\"2022  \",\"year  \",\"florida  \"],\"type\":\"bar\",\"xaxis\":\"x9\",\"yaxis\":\"y9\"},{\"marker\":{\"color\":\"#CC79A7\"},\"orientation\":\"h\",\"x\":[0.012433961544985756,0.013480190935482828,0.01376185443364614,0.014524784478961527,0.014524784478961527,0.015391795960298842,0.019892417848008347,0.021406274278571377,0.0228653547501853,0.02863410077094213],\"y\":[\"campaign  \",\"mickey  \",\"anti  \",\"mini  \",\"stitt  \",\"pro  \",\"promises  \",\"fascist  \",\"desantis  \",\"trump  \"],\"type\":\"bar\",\"xaxis\":\"x10\",\"yaxis\":\"y10\"},{\"marker\":{\"color\":\"#E69F00\"},\"orientation\":\"h\",\"x\":[0.013913018376766242,0.014907097937952923,0.015301553418204095,0.015940184859185108,0.017544679660209523,0.01910226756298993,0.01931061701804722,0.020548983762628443,0.020871578134068636,0.029294759967979565],\"y\":[\"2024  \",\"attacking  \",\"gop  \",\"safer  \",\"abortions  \",\"crisis  \",\"women  \",\"abortion  \",\"party  \",\"republicans  \"],\"type\":\"bar\",\"xaxis\":\"x11\",\"yaxis\":\"y11\"},{\"marker\":{\"color\":\"#56B4E9\"},\"orientation\":\"h\",\"x\":[0.020162426500021275,0.020518019808708127,0.022135323468180753,0.022919212689523308,0.02360760601569084,0.023937689776826147,0.02705936179841552,0.02922728468463614,0.04036349102618314,0.0625164109015192],\"y\":[\"90  \",\"1933  \",\"repeat  \",\"10th  \",\"danielmilleresq  \",\"tens  \",\"burned  \",\"hitler  \",\"nazis  \",\"holocaust  \"],\"type\":\"bar\",\"xaxis\":\"x12\",\"yaxis\":\"y12\"},{\"marker\":{\"color\":\"#009E73\"},\"orientation\":\"h\",\"x\":[0.017840259839003923,0.01787448074480906,0.0182181517627414,0.018513937029208925,0.019330171107580625,0.019330171107580625,0.019887525124498963,0.02279952183068185,0.036505898935404076,0.04837793279833374],\"y\":[\"rondesantisfl  \",\"pornography  \",\"held  \",\"removing  \",\"kept  \",\"secret  \",\"conference  \",\"insisted  \",\"survey  \",\"porn  \"],\"type\":\"bar\",\"xaxis\":\"x13\",\"yaxis\":\"y13\"},{\"marker\":{\"color\":\"#F0E442\"},\"orientation\":\"h\",\"x\":[0.020058985913543145,0.0203673382356674,0.021199823658160543,0.021199823658160543,0.021199823658160543,0.021199823658160543,0.022274023551353567,0.022274023551353567,0.025687756860954696,0.026861215035646653],\"y\":[\"bookban  \",\"jp_books  \",\"georgetakei  \",\"confusing  \",\"polite  \",\"corrections  \",\"ink  \",\"mindless  \",\"prisons  \",\"florida  \"],\"type\":\"bar\",\"xaxis\":\"x14\",\"yaxis\":\"y14\"},{\"marker\":{\"color\":\"#D55E00\"},\"orientation\":\"h\",\"x\":[0.04455597700497941,0.046405944014252826,0.048586422291641174,0.05003862435261769,0.05417949348560854,0.05435066254173221,0.055740674248300745,0.05753592785300758,0.08331739596063839,0.11992103975979092],\"y\":[\"targeting  \",\"unreal  \",\"shocking  \",\"objections  \",\"guise  \",\"zamhoqrzas  \",\"uglier  \",\"activist  \",\"nora  \",\"roberts  \"],\"type\":\"bar\",\"xaxis\":\"x15\",\"yaxis\":\"y15\"},{\"marker\":{\"color\":\"#0072B2\"},\"orientation\":\"h\",\"x\":[0.011864900310377883,0.012349860909226615,0.013078493359265305,0.01392286666057238,0.014606588833407328,0.014632840868695252,0.01856024226790151,0.021882962060325712,0.02276182364246012,0.038500366095306944],\"y\":[\"bitcoin  \",\"elite  \",\"democracy  \",\"trump  \",\"base  \",\"wants  \",\"president  \",\"abortion  \",\"desantis  \",\"ron  \"],\"type\":\"bar\",\"xaxis\":\"x16\",\"yaxis\":\"y16\"},{\"marker\":{\"color\":\"#CC79A7\"},\"orientation\":\"h\",\"x\":[0.016861315490988807,0.018662580850273943,0.018662580850273943,0.020281411879091646,0.021114192739212077,0.021114192739212077,0.021114192739212077,0.021114192739212077,0.024883441133698593,0.026757229186646955],\"y\":[\"id  \",\"fragile  \",\"distrust  \",\"taliban  \",\"unprincipled  \",\"bread  \",\"circuses  \",\"insight  \",\"assert  \",\"florida  \"],\"type\":\"bar\",\"xaxis\":\"x17\",\"yaxis\":\"y17\"},{\"marker\":{\"color\":\"#E69F00\"},\"orientation\":\"h\",\"x\":[0.01960325068550818,0.020075448217242418,0.02099518893178353,0.02132365661297365,0.025134808019012793,0.025779121472771314,0.025793570241049443,0.026673434389739993,0.027648285006963452,0.027772396641777067],\"y\":[\"prosecution  \",\"allegedly  \",\"racist  \",\"juddlegum  \",\"education  \",\"homophobic  \",\"indoctrination  \",\"teachers  \",\"teacher  \",\"felony  \"],\"type\":\"bar\",\"xaxis\":\"x18\",\"yaxis\":\"y18\"},{\"marker\":{\"color\":\"#56B4E9\"},\"orientation\":\"h\",\"x\":[0.01244222906281964,0.01244222906281964,0.012838188872954251,0.014404493992782654,0.014541848480745129,0.014605330985080968,0.017098219401723798,0.017613054230156504,0.0251072094588197,0.028143283926606973],\"y\":[\"abridging  \",\"creeps  \",\"censorship  \",\"political  \",\"government  \",\"republic  \",\"ideas  \",\"democracy  \",\"free  \",\"speech  \"],\"type\":\"bar\",\"xaxis\":\"x19\",\"yaxis\":\"y19\"},{\"marker\":{\"color\":\"#009E73\"},\"orientation\":\"h\",\"x\":[0.022404789899715786,0.022404789899715786,0.022404789899715786,0.022404789899715786,0.022404789899715786,0.022404789899715786,0.029948957231369654,0.03424172747606226,0.035376959679415704,0.03896359478167777],\"y\":[\"irjugithza  \",\"downie  \",\"uictzakt5y  \",\"raina  \",\"telgemeier  \",\"judgments  \",\"t8e07edp42  \",\"tizzyent  \",\"reading  \",\"desantis  \"],\"type\":\"bar\",\"xaxis\":\"x20\",\"yaxis\":\"y20\"}],                        {\"template\":{\"data\":{\"barpolar\":[{\"marker\":{\"line\":{\"color\":\"white\",\"width\":0.5},\"pattern\":{\"fillmode\":\"overlay\",\"size\":10,\"solidity\":0.2}},\"type\":\"barpolar\"}],\"bar\":[{\"error_x\":{\"color\":\"#2a3f5f\"},\"error_y\":{\"color\":\"#2a3f5f\"},\"marker\":{\"line\":{\"color\":\"white\",\"width\":0.5},\"pattern\":{\"fillmode\":\"overlay\",\"size\":10,\"solidity\":0.2}},\"type\":\"bar\"}],\"carpet\":[{\"aaxis\":{\"endlinecolor\":\"#2a3f5f\",\"gridcolor\":\"#C8D4E3\",\"linecolor\":\"#C8D4E3\",\"minorgridcolor\":\"#C8D4E3\",\"startlinecolor\":\"#2a3f5f\"},\"baxis\":{\"endlinecolor\":\"#2a3f5f\",\"gridcolor\":\"#C8D4E3\",\"linecolor\":\"#C8D4E3\",\"minorgridcolor\":\"#C8D4E3\",\"startlinecolor\":\"#2a3f5f\"},\"type\":\"carpet\"}],\"choropleth\":[{\"colorbar\":{\"outlinewidth\":0,\"ticks\":\"\"},\"type\":\"choropleth\"}],\"contourcarpet\":[{\"colorbar\":{\"outlinewidth\":0,\"ticks\":\"\"},\"type\":\"contourcarpet\"}],\"contour\":[{\"colorbar\":{\"outlinewidth\":0,\"ticks\":\"\"},\"colorscale\":[[0.0,\"#0d0887\"],[0.1111111111111111,\"#46039f\"],[0.2222222222222222,\"#7201a8\"],[0.3333333333333333,\"#9c179e\"],[0.4444444444444444,\"#bd3786\"],[0.5555555555555556,\"#d8576b\"],[0.6666666666666666,\"#ed7953\"],[0.7777777777777778,\"#fb9f3a\"],[0.8888888888888888,\"#fdca26\"],[1.0,\"#f0f921\"]],\"type\":\"contour\"}],\"heatmapgl\":[{\"colorbar\":{\"outlinewidth\":0,\"ticks\":\"\"},\"colorscale\":[[0.0,\"#0d0887\"],[0.1111111111111111,\"#46039f\"],[0.2222222222222222,\"#7201a8\"],[0.3333333333333333,\"#9c179e\"],[0.4444444444444444,\"#bd3786\"],[0.5555555555555556,\"#d8576b\"],[0.6666666666666666,\"#ed7953\"],[0.7777777777777778,\"#fb9f3a\"],[0.8888888888888888,\"#fdca26\"],[1.0,\"#f0f921\"]],\"type\":\"heatmapgl\"}],\"heatmap\":[{\"colorbar\":{\"outlinewidth\":0,\"ticks\":\"\"},\"colorscale\":[[0.0,\"#0d0887\"],[0.1111111111111111,\"#46039f\"],[0.2222222222222222,\"#7201a8\"],[0.3333333333333333,\"#9c179e\"],[0.4444444444444444,\"#bd3786\"],[0.5555555555555556,\"#d8576b\"],[0.6666666666666666,\"#ed7953\"],[0.7777777777777778,\"#fb9f3a\"],[0.8888888888888888,\"#fdca26\"],[1.0,\"#f0f921\"]],\"type\":\"heatmap\"}],\"histogram2dcontour\":[{\"colorbar\":{\"outlinewidth\":0,\"ticks\":\"\"},\"colorscale\":[[0.0,\"#0d0887\"],[0.1111111111111111,\"#46039f\"],[0.2222222222222222,\"#7201a8\"],[0.3333333333333333,\"#9c179e\"],[0.4444444444444444,\"#bd3786\"],[0.5555555555555556,\"#d8576b\"],[0.6666666666666666,\"#ed7953\"],[0.7777777777777778,\"#fb9f3a\"],[0.8888888888888888,\"#fdca26\"],[1.0,\"#f0f921\"]],\"type\":\"histogram2dcontour\"}],\"histogram2d\":[{\"colorbar\":{\"outlinewidth\":0,\"ticks\":\"\"},\"colorscale\":[[0.0,\"#0d0887\"],[0.1111111111111111,\"#46039f\"],[0.2222222222222222,\"#7201a8\"],[0.3333333333333333,\"#9c179e\"],[0.4444444444444444,\"#bd3786\"],[0.5555555555555556,\"#d8576b\"],[0.6666666666666666,\"#ed7953\"],[0.7777777777777778,\"#fb9f3a\"],[0.8888888888888888,\"#fdca26\"],[1.0,\"#f0f921\"]],\"type\":\"histogram2d\"}],\"histogram\":[{\"marker\":{\"pattern\":{\"fillmode\":\"overlay\",\"size\":10,\"solidity\":0.2}},\"type\":\"histogram\"}],\"mesh3d\":[{\"colorbar\":{\"outlinewidth\":0,\"ticks\":\"\"},\"type\":\"mesh3d\"}],\"parcoords\":[{\"line\":{\"colorbar\":{\"outlinewidth\":0,\"ticks\":\"\"}},\"type\":\"parcoords\"}],\"pie\":[{\"automargin\":true,\"type\":\"pie\"}],\"scatter3d\":[{\"line\":{\"colorbar\":{\"outlinewidth\":0,\"ticks\":\"\"}},\"marker\":{\"colorbar\":{\"outlinewidth\":0,\"ticks\":\"\"}},\"type\":\"scatter3d\"}],\"scattercarpet\":[{\"marker\":{\"colorbar\":{\"outlinewidth\":0,\"ticks\":\"\"}},\"type\":\"scattercarpet\"}],\"scattergeo\":[{\"marker\":{\"colorbar\":{\"outlinewidth\":0,\"ticks\":\"\"}},\"type\":\"scattergeo\"}],\"scattergl\":[{\"marker\":{\"colorbar\":{\"outlinewidth\":0,\"ticks\":\"\"}},\"type\":\"scattergl\"}],\"scattermapbox\":[{\"marker\":{\"colorbar\":{\"outlinewidth\":0,\"ticks\":\"\"}},\"type\":\"scattermapbox\"}],\"scatterpolargl\":[{\"marker\":{\"colorbar\":{\"outlinewidth\":0,\"ticks\":\"\"}},\"type\":\"scatterpolargl\"}],\"scatterpolar\":[{\"marker\":{\"colorbar\":{\"outlinewidth\":0,\"ticks\":\"\"}},\"type\":\"scatterpolar\"}],\"scatter\":[{\"fillpattern\":{\"fillmode\":\"overlay\",\"size\":10,\"solidity\":0.2},\"type\":\"scatter\"}],\"scatterternary\":[{\"marker\":{\"colorbar\":{\"outlinewidth\":0,\"ticks\":\"\"}},\"type\":\"scatterternary\"}],\"surface\":[{\"colorbar\":{\"outlinewidth\":0,\"ticks\":\"\"},\"colorscale\":[[0.0,\"#0d0887\"],[0.1111111111111111,\"#46039f\"],[0.2222222222222222,\"#7201a8\"],[0.3333333333333333,\"#9c179e\"],[0.4444444444444444,\"#bd3786\"],[0.5555555555555556,\"#d8576b\"],[0.6666666666666666,\"#ed7953\"],[0.7777777777777778,\"#fb9f3a\"],[0.8888888888888888,\"#fdca26\"],[1.0,\"#f0f921\"]],\"type\":\"surface\"}],\"table\":[{\"cells\":{\"fill\":{\"color\":\"#EBF0F8\"},\"line\":{\"color\":\"white\"}},\"header\":{\"fill\":{\"color\":\"#C8D4E3\"},\"line\":{\"color\":\"white\"}},\"type\":\"table\"}]},\"layout\":{\"annotationdefaults\":{\"arrowcolor\":\"#2a3f5f\",\"arrowhead\":0,\"arrowwidth\":1},\"autotypenumbers\":\"strict\",\"coloraxis\":{\"colorbar\":{\"outlinewidth\":0,\"ticks\":\"\"}},\"colorscale\":{\"diverging\":[[0,\"#8e0152\"],[0.1,\"#c51b7d\"],[0.2,\"#de77ae\"],[0.3,\"#f1b6da\"],[0.4,\"#fde0ef\"],[0.5,\"#f7f7f7\"],[0.6,\"#e6f5d0\"],[0.7,\"#b8e186\"],[0.8,\"#7fbc41\"],[0.9,\"#4d9221\"],[1,\"#276419\"]],\"sequential\":[[0.0,\"#0d0887\"],[0.1111111111111111,\"#46039f\"],[0.2222222222222222,\"#7201a8\"],[0.3333333333333333,\"#9c179e\"],[0.4444444444444444,\"#bd3786\"],[0.5555555555555556,\"#d8576b\"],[0.6666666666666666,\"#ed7953\"],[0.7777777777777778,\"#fb9f3a\"],[0.8888888888888888,\"#fdca26\"],[1.0,\"#f0f921\"]],\"sequentialminus\":[[0.0,\"#0d0887\"],[0.1111111111111111,\"#46039f\"],[0.2222222222222222,\"#7201a8\"],[0.3333333333333333,\"#9c179e\"],[0.4444444444444444,\"#bd3786\"],[0.5555555555555556,\"#d8576b\"],[0.6666666666666666,\"#ed7953\"],[0.7777777777777778,\"#fb9f3a\"],[0.8888888888888888,\"#fdca26\"],[1.0,\"#f0f921\"]]},\"colorway\":[\"#636efa\",\"#EF553B\",\"#00cc96\",\"#ab63fa\",\"#FFA15A\",\"#19d3f3\",\"#FF6692\",\"#B6E880\",\"#FF97FF\",\"#FECB52\"],\"font\":{\"color\":\"#2a3f5f\"},\"geo\":{\"bgcolor\":\"white\",\"lakecolor\":\"white\",\"landcolor\":\"white\",\"showlakes\":true,\"showland\":true,\"subunitcolor\":\"#C8D4E3\"},\"hoverlabel\":{\"align\":\"left\"},\"hovermode\":\"closest\",\"mapbox\":{\"style\":\"light\"},\"paper_bgcolor\":\"white\",\"plot_bgcolor\":\"white\",\"polar\":{\"angularaxis\":{\"gridcolor\":\"#EBF0F8\",\"linecolor\":\"#EBF0F8\",\"ticks\":\"\"},\"bgcolor\":\"white\",\"radialaxis\":{\"gridcolor\":\"#EBF0F8\",\"linecolor\":\"#EBF0F8\",\"ticks\":\"\"}},\"scene\":{\"xaxis\":{\"backgroundcolor\":\"white\",\"gridcolor\":\"#DFE8F3\",\"gridwidth\":2,\"linecolor\":\"#EBF0F8\",\"showbackground\":true,\"ticks\":\"\",\"zerolinecolor\":\"#EBF0F8\"},\"yaxis\":{\"backgroundcolor\":\"white\",\"gridcolor\":\"#DFE8F3\",\"gridwidth\":2,\"linecolor\":\"#EBF0F8\",\"showbackground\":true,\"ticks\":\"\",\"zerolinecolor\":\"#EBF0F8\"},\"zaxis\":{\"backgroundcolor\":\"white\",\"gridcolor\":\"#DFE8F3\",\"gridwidth\":2,\"linecolor\":\"#EBF0F8\",\"showbackground\":true,\"ticks\":\"\",\"zerolinecolor\":\"#EBF0F8\"}},\"shapedefaults\":{\"line\":{\"color\":\"#2a3f5f\"}},\"ternary\":{\"aaxis\":{\"gridcolor\":\"#DFE8F3\",\"linecolor\":\"#A2B1C6\",\"ticks\":\"\"},\"baxis\":{\"gridcolor\":\"#DFE8F3\",\"linecolor\":\"#A2B1C6\",\"ticks\":\"\"},\"bgcolor\":\"white\",\"caxis\":{\"gridcolor\":\"#DFE8F3\",\"linecolor\":\"#A2B1C6\",\"ticks\":\"\"}},\"title\":{\"x\":0.05},\"xaxis\":{\"automargin\":true,\"gridcolor\":\"#EBF0F8\",\"linecolor\":\"#EBF0F8\",\"ticks\":\"\",\"title\":{\"standoff\":15},\"zerolinecolor\":\"#EBF0F8\",\"zerolinewidth\":2},\"yaxis\":{\"automargin\":true,\"gridcolor\":\"#EBF0F8\",\"linecolor\":\"#EBF0F8\",\"ticks\":\"\",\"title\":{\"standoff\":15},\"zerolinecolor\":\"#EBF0F8\",\"zerolinewidth\":2}}},\"xaxis\":{\"anchor\":\"y\",\"domain\":[0.0,0.175],\"showgrid\":true},\"yaxis\":{\"anchor\":\"x\",\"domain\":[0.8639999999999999,0.9999999999999999],\"showgrid\":true},\"xaxis2\":{\"anchor\":\"y2\",\"domain\":[0.275,0.45],\"showgrid\":true},\"yaxis2\":{\"anchor\":\"x2\",\"domain\":[0.8639999999999999,0.9999999999999999],\"showgrid\":true},\"xaxis3\":{\"anchor\":\"y3\",\"domain\":[0.55,0.7250000000000001],\"showgrid\":true},\"yaxis3\":{\"anchor\":\"x3\",\"domain\":[0.8639999999999999,0.9999999999999999],\"showgrid\":true},\"xaxis4\":{\"anchor\":\"y4\",\"domain\":[0.825,1.0],\"showgrid\":true},\"yaxis4\":{\"anchor\":\"x4\",\"domain\":[0.8639999999999999,0.9999999999999999],\"showgrid\":true},\"xaxis5\":{\"anchor\":\"y5\",\"domain\":[0.0,0.175],\"showgrid\":true},\"yaxis5\":{\"anchor\":\"x5\",\"domain\":[0.6479999999999999,0.7839999999999999],\"showgrid\":true},\"xaxis6\":{\"anchor\":\"y6\",\"domain\":[0.275,0.45],\"showgrid\":true},\"yaxis6\":{\"anchor\":\"x6\",\"domain\":[0.6479999999999999,0.7839999999999999],\"showgrid\":true},\"xaxis7\":{\"anchor\":\"y7\",\"domain\":[0.55,0.7250000000000001],\"showgrid\":true},\"yaxis7\":{\"anchor\":\"x7\",\"domain\":[0.6479999999999999,0.7839999999999999],\"showgrid\":true},\"xaxis8\":{\"anchor\":\"y8\",\"domain\":[0.825,1.0],\"showgrid\":true},\"yaxis8\":{\"anchor\":\"x8\",\"domain\":[0.6479999999999999,0.7839999999999999],\"showgrid\":true},\"xaxis9\":{\"anchor\":\"y9\",\"domain\":[0.0,0.175],\"showgrid\":true},\"yaxis9\":{\"anchor\":\"x9\",\"domain\":[0.43199999999999994,0.568],\"showgrid\":true},\"xaxis10\":{\"anchor\":\"y10\",\"domain\":[0.275,0.45],\"showgrid\":true},\"yaxis10\":{\"anchor\":\"x10\",\"domain\":[0.43199999999999994,0.568],\"showgrid\":true},\"xaxis11\":{\"anchor\":\"y11\",\"domain\":[0.55,0.7250000000000001],\"showgrid\":true},\"yaxis11\":{\"anchor\":\"x11\",\"domain\":[0.43199999999999994,0.568],\"showgrid\":true},\"xaxis12\":{\"anchor\":\"y12\",\"domain\":[0.825,1.0],\"showgrid\":true},\"yaxis12\":{\"anchor\":\"x12\",\"domain\":[0.43199999999999994,0.568],\"showgrid\":true},\"xaxis13\":{\"anchor\":\"y13\",\"domain\":[0.0,0.175],\"showgrid\":true},\"yaxis13\":{\"anchor\":\"x13\",\"domain\":[0.21599999999999997,0.352],\"showgrid\":true},\"xaxis14\":{\"anchor\":\"y14\",\"domain\":[0.275,0.45],\"showgrid\":true},\"yaxis14\":{\"anchor\":\"x14\",\"domain\":[0.21599999999999997,0.352],\"showgrid\":true},\"xaxis15\":{\"anchor\":\"y15\",\"domain\":[0.55,0.7250000000000001],\"showgrid\":true},\"yaxis15\":{\"anchor\":\"x15\",\"domain\":[0.21599999999999997,0.352],\"showgrid\":true},\"xaxis16\":{\"anchor\":\"y16\",\"domain\":[0.825,1.0],\"showgrid\":true},\"yaxis16\":{\"anchor\":\"x16\",\"domain\":[0.21599999999999997,0.352],\"showgrid\":true},\"xaxis17\":{\"anchor\":\"y17\",\"domain\":[0.0,0.175],\"showgrid\":true},\"yaxis17\":{\"anchor\":\"x17\",\"domain\":[0.0,0.13599999999999998],\"showgrid\":true},\"xaxis18\":{\"anchor\":\"y18\",\"domain\":[0.275,0.45],\"showgrid\":true},\"yaxis18\":{\"anchor\":\"x18\",\"domain\":[0.0,0.13599999999999998],\"showgrid\":true},\"xaxis19\":{\"anchor\":\"y19\",\"domain\":[0.55,0.7250000000000001],\"showgrid\":true},\"yaxis19\":{\"anchor\":\"x19\",\"domain\":[0.0,0.13599999999999998],\"showgrid\":true},\"xaxis20\":{\"anchor\":\"y20\",\"domain\":[0.825,1.0],\"showgrid\":true},\"yaxis20\":{\"anchor\":\"x20\",\"domain\":[0.0,0.13599999999999998],\"showgrid\":true},\"annotations\":[{\"font\":{\"size\":16},\"showarrow\":false,\"text\":\"Topic 0\",\"x\":0.0875,\"xanchor\":\"center\",\"xref\":\"paper\",\"y\":0.9999999999999999,\"yanchor\":\"bottom\",\"yref\":\"paper\"},{\"font\":{\"size\":16},\"showarrow\":false,\"text\":\"Topic 1\",\"x\":0.36250000000000004,\"xanchor\":\"center\",\"xref\":\"paper\",\"y\":0.9999999999999999,\"yanchor\":\"bottom\",\"yref\":\"paper\"},{\"font\":{\"size\":16},\"showarrow\":false,\"text\":\"Topic 2\",\"x\":0.6375000000000001,\"xanchor\":\"center\",\"xref\":\"paper\",\"y\":0.9999999999999999,\"yanchor\":\"bottom\",\"yref\":\"paper\"},{\"font\":{\"size\":16},\"showarrow\":false,\"text\":\"Topic 3\",\"x\":0.9125,\"xanchor\":\"center\",\"xref\":\"paper\",\"y\":0.9999999999999999,\"yanchor\":\"bottom\",\"yref\":\"paper\"},{\"font\":{\"size\":16},\"showarrow\":false,\"text\":\"Topic 4\",\"x\":0.0875,\"xanchor\":\"center\",\"xref\":\"paper\",\"y\":0.7839999999999999,\"yanchor\":\"bottom\",\"yref\":\"paper\"},{\"font\":{\"size\":16},\"showarrow\":false,\"text\":\"Topic 5\",\"x\":0.36250000000000004,\"xanchor\":\"center\",\"xref\":\"paper\",\"y\":0.7839999999999999,\"yanchor\":\"bottom\",\"yref\":\"paper\"},{\"font\":{\"size\":16},\"showarrow\":false,\"text\":\"Topic 6\",\"x\":0.6375000000000001,\"xanchor\":\"center\",\"xref\":\"paper\",\"y\":0.7839999999999999,\"yanchor\":\"bottom\",\"yref\":\"paper\"},{\"font\":{\"size\":16},\"showarrow\":false,\"text\":\"Topic 7\",\"x\":0.9125,\"xanchor\":\"center\",\"xref\":\"paper\",\"y\":0.7839999999999999,\"yanchor\":\"bottom\",\"yref\":\"paper\"},{\"font\":{\"size\":16},\"showarrow\":false,\"text\":\"Topic 8\",\"x\":0.0875,\"xanchor\":\"center\",\"xref\":\"paper\",\"y\":0.568,\"yanchor\":\"bottom\",\"yref\":\"paper\"},{\"font\":{\"size\":16},\"showarrow\":false,\"text\":\"Topic 9\",\"x\":0.36250000000000004,\"xanchor\":\"center\",\"xref\":\"paper\",\"y\":0.568,\"yanchor\":\"bottom\",\"yref\":\"paper\"},{\"font\":{\"size\":16},\"showarrow\":false,\"text\":\"Topic 10\",\"x\":0.6375000000000001,\"xanchor\":\"center\",\"xref\":\"paper\",\"y\":0.568,\"yanchor\":\"bottom\",\"yref\":\"paper\"},{\"font\":{\"size\":16},\"showarrow\":false,\"text\":\"Topic 11\",\"x\":0.9125,\"xanchor\":\"center\",\"xref\":\"paper\",\"y\":0.568,\"yanchor\":\"bottom\",\"yref\":\"paper\"},{\"font\":{\"size\":16},\"showarrow\":false,\"text\":\"Topic 12\",\"x\":0.0875,\"xanchor\":\"center\",\"xref\":\"paper\",\"y\":0.352,\"yanchor\":\"bottom\",\"yref\":\"paper\"},{\"font\":{\"size\":16},\"showarrow\":false,\"text\":\"Topic 13\",\"x\":0.36250000000000004,\"xanchor\":\"center\",\"xref\":\"paper\",\"y\":0.352,\"yanchor\":\"bottom\",\"yref\":\"paper\"},{\"font\":{\"size\":16},\"showarrow\":false,\"text\":\"Topic 14\",\"x\":0.6375000000000001,\"xanchor\":\"center\",\"xref\":\"paper\",\"y\":0.352,\"yanchor\":\"bottom\",\"yref\":\"paper\"},{\"font\":{\"size\":16},\"showarrow\":false,\"text\":\"Topic 15\",\"x\":0.9125,\"xanchor\":\"center\",\"xref\":\"paper\",\"y\":0.352,\"yanchor\":\"bottom\",\"yref\":\"paper\"},{\"font\":{\"size\":16},\"showarrow\":false,\"text\":\"Topic 16\",\"x\":0.0875,\"xanchor\":\"center\",\"xref\":\"paper\",\"y\":0.13599999999999998,\"yanchor\":\"bottom\",\"yref\":\"paper\"},{\"font\":{\"size\":16},\"showarrow\":false,\"text\":\"Topic 17\",\"x\":0.36250000000000004,\"xanchor\":\"center\",\"xref\":\"paper\",\"y\":0.13599999999999998,\"yanchor\":\"bottom\",\"yref\":\"paper\"},{\"font\":{\"size\":16},\"showarrow\":false,\"text\":\"Topic 18\",\"x\":0.6375000000000001,\"xanchor\":\"center\",\"xref\":\"paper\",\"y\":0.13599999999999998,\"yanchor\":\"bottom\",\"yref\":\"paper\"},{\"font\":{\"size\":16},\"showarrow\":false,\"text\":\"Topic 19\",\"x\":0.9125,\"xanchor\":\"center\",\"xref\":\"paper\",\"y\":0.13599999999999998,\"yanchor\":\"bottom\",\"yref\":\"paper\"}],\"title\":{\"font\":{\"size\":22,\"color\":\"Black\"},\"text\":\"Red States Topics\",\"x\":0.5,\"xanchor\":\"center\",\"yanchor\":\"top\"},\"hoverlabel\":{\"font\":{\"size\":16,\"family\":\"Rockwell\"},\"bgcolor\":\"white\"},\"showlegend\":false,\"width\":1000,\"height\":1250},                        {\"responsive\": true}                    ).then(function(){\n",
       "                            \n",
       "var gd = document.getElementById('826bf88c-829c-4f6c-a130-402c1b2d6e37');\n",
       "var x = new MutationObserver(function (mutations, observer) {{\n",
       "        var display = window.getComputedStyle(gd).display;\n",
       "        if (!display || display === 'none') {{\n",
       "            console.log([gd, 'removed!']);\n",
       "            Plotly.purge(gd);\n",
       "            observer.disconnect();\n",
       "        }}\n",
       "}});\n",
       "\n",
       "// Listen for the removal of the full notebook cells\n",
       "var notebookContainer = gd.closest('#notebook-container');\n",
       "if (notebookContainer) {{\n",
       "    x.observe(notebookContainer, {childList: true});\n",
       "}}\n",
       "\n",
       "// Listen for the clearing of the current output cell\n",
       "var outputEl = gd.closest('.output');\n",
       "if (outputEl) {{\n",
       "    x.observe(outputEl, {childList: true});\n",
       "}}\n",
       "\n",
       "                        })                };                });            </script>        </div>"
      ]
     },
     "metadata": {},
     "output_type": "display_data"
    }
   ],
   "source": [
    "bar_topic"
   ]
  },
  {
   "cell_type": "code",
   "execution_count": 38,
   "id": "8897fb70",
   "metadata": {},
   "outputs": [
    {
     "data": {
      "text/html": [
       "<div>\n",
       "<style scoped>\n",
       "    .dataframe tbody tr th:only-of-type {\n",
       "        vertical-align: middle;\n",
       "    }\n",
       "\n",
       "    .dataframe tbody tr th {\n",
       "        vertical-align: top;\n",
       "    }\n",
       "\n",
       "    .dataframe thead th {\n",
       "        text-align: right;\n",
       "    }\n",
       "</style>\n",
       "<table border=\"1\" class=\"dataframe\">\n",
       "  <thead>\n",
       "    <tr style=\"text-align: right;\">\n",
       "      <th></th>\n",
       "      <th>Topic</th>\n",
       "      <th>Count</th>\n",
       "      <th>Name</th>\n",
       "      <th>Representation</th>\n",
       "      <th>Representative_Docs</th>\n",
       "    </tr>\n",
       "  </thead>\n",
       "  <tbody>\n",
       "    <tr>\n",
       "      <th>0</th>\n",
       "      <td>-1</td>\n",
       "      <td>2402</td>\n",
       "      <td>-1_book_books_desantis_banning</td>\n",
       "      <td>[book, books, desantis, banning, ban, banned, ...</td>\n",
       "      <td>[🧵Moms for Liberty and other far right so-call...</td>\n",
       "    </tr>\n",
       "    <tr>\n",
       "      <th>1</th>\n",
       "      <td>0</td>\n",
       "      <td>198</td>\n",
       "      <td>0_queer_explicit_porn_sexually</td>\n",
       "      <td>[queer, explicit, porn, sexually, children, ha...</td>\n",
       "      <td>[ @ChelseaClinton: If questioning the age-appr...</td>\n",
       "    </tr>\n",
       "    <tr>\n",
       "      <th>2</th>\n",
       "      <td>1</td>\n",
       "      <td>110</td>\n",
       "      <td>1_insurance_florida_state_lgbtq</td>\n",
       "      <td>[insurance, florida, state, lgbtq, expand, say...</td>\n",
       "      <td>[ @equalityfl: Fascist DeSantis and his puppet...</td>\n",
       "    </tr>\n",
       "    <tr>\n",
       "      <th>3</th>\n",
       "      <td>2</td>\n",
       "      <td>103</td>\n",
       "      <td>2_black_white_history_racism</td>\n",
       "      <td>[black, white, history, racism, supremacist, l...</td>\n",
       "      <td>[ @PoetTonyMedina: That a school board would a...</td>\n",
       "    </tr>\n",
       "    <tr>\n",
       "      <th>4</th>\n",
       "      <td>3</td>\n",
       "      <td>102</td>\n",
       "      <td>3_pink_away_concerts_stops</td>\n",
       "      <td>[pink, away, concerts, stops, singer, 000, tou...</td>\n",
       "      <td>[ @CalltoActivism: Good Idea....Pink &amp; Swift a...</td>\n",
       "    </tr>\n",
       "    <tr>\n",
       "      <th>...</th>\n",
       "      <td>...</td>\n",
       "      <td>...</td>\n",
       "      <td>...</td>\n",
       "      <td>...</td>\n",
       "      <td>...</td>\n",
       "    </tr>\n",
       "    <tr>\n",
       "      <th>133</th>\n",
       "      <td>132</td>\n",
       "      <td>10</td>\n",
       "      <td>132_whitmer_interested_mollyploofkins_invade</td>\n",
       "      <td>[whitmer, interested, mollyploofkins, invade, ...</td>\n",
       "      <td>[Ron DeSantis bans books, bans history, wants ...</td>\n",
       "    </tr>\n",
       "    <tr>\n",
       "      <th>134</th>\n",
       "      <td>133</td>\n",
       "      <td>10</td>\n",
       "      <td>133_instances_prevalent_charted_reidout</td>\n",
       "      <td>[instances, prevalent, charted, reidout, blog,...</td>\n",
       "      <td>[Nearly 1,500 instances of book-banning were c...</td>\n",
       "    </tr>\n",
       "    <tr>\n",
       "      <th>135</th>\n",
       "      <td>134</td>\n",
       "      <td>10</td>\n",
       "      <td>134_cuban_celia_cruz_castro</td>\n",
       "      <td>[cuban, celia, cruz, castro, carmenpelaez, fid...</td>\n",
       "      <td>[ @DebbieforFL: Banning books, hobbling educat...</td>\n",
       "    </tr>\n",
       "    <tr>\n",
       "      <th>136</th>\n",
       "      <td>135</td>\n",
       "      <td>10</td>\n",
       "      <td>135_57_math_1100_129</td>\n",
       "      <td>[57, math, 1100, 129, crt, result, objected, p...</td>\n",
       "      <td>[ @MarvinDunn4: Good question Remember-all the...</td>\n",
       "    </tr>\n",
       "    <tr>\n",
       "      <th>137</th>\n",
       "      <td>136</td>\n",
       "      <td>10</td>\n",
       "      <td>136_dpla_access_digital_club</td>\n",
       "      <td>[dpla, access, digital, club, launched, missio...</td>\n",
       "      <td>[ @BarackObama: Books so banned that a former ...</td>\n",
       "    </tr>\n",
       "  </tbody>\n",
       "</table>\n",
       "<p>138 rows × 5 columns</p>\n",
       "</div>"
      ],
      "text/plain": [
       "     Topic  Count                                          Name  \\\n",
       "0       -1   2402                -1_book_books_desantis_banning   \n",
       "1        0    198                0_queer_explicit_porn_sexually   \n",
       "2        1    110               1_insurance_florida_state_lgbtq   \n",
       "3        2    103                  2_black_white_history_racism   \n",
       "4        3    102                    3_pink_away_concerts_stops   \n",
       "..     ...    ...                                           ...   \n",
       "133    132     10  132_whitmer_interested_mollyploofkins_invade   \n",
       "134    133     10       133_instances_prevalent_charted_reidout   \n",
       "135    134     10                   134_cuban_celia_cruz_castro   \n",
       "136    135     10                          135_57_math_1100_129   \n",
       "137    136     10                  136_dpla_access_digital_club   \n",
       "\n",
       "                                        Representation  \\\n",
       "0    [book, books, desantis, banning, ban, banned, ...   \n",
       "1    [queer, explicit, porn, sexually, children, ha...   \n",
       "2    [insurance, florida, state, lgbtq, expand, say...   \n",
       "3    [black, white, history, racism, supremacist, l...   \n",
       "4    [pink, away, concerts, stops, singer, 000, tou...   \n",
       "..                                                 ...   \n",
       "133  [whitmer, interested, mollyploofkins, invade, ...   \n",
       "134  [instances, prevalent, charted, reidout, blog,...   \n",
       "135  [cuban, celia, cruz, castro, carmenpelaez, fid...   \n",
       "136  [57, math, 1100, 129, crt, result, objected, p...   \n",
       "137  [dpla, access, digital, club, launched, missio...   \n",
       "\n",
       "                                   Representative_Docs  \n",
       "0    [🧵Moms for Liberty and other far right so-call...  \n",
       "1    [ @ChelseaClinton: If questioning the age-appr...  \n",
       "2    [ @equalityfl: Fascist DeSantis and his puppet...  \n",
       "3    [ @PoetTonyMedina: That a school board would a...  \n",
       "4    [ @CalltoActivism: Good Idea....Pink & Swift a...  \n",
       "..                                                 ...  \n",
       "133  [Ron DeSantis bans books, bans history, wants ...  \n",
       "134  [Nearly 1,500 instances of book-banning were c...  \n",
       "135  [ @DebbieforFL: Banning books, hobbling educat...  \n",
       "136  [ @MarvinDunn4: Good question Remember-all the...  \n",
       "137  [ @BarackObama: Books so banned that a former ...  \n",
       "\n",
       "[138 rows x 5 columns]"
      ]
     },
     "execution_count": 38,
     "metadata": {},
     "output_type": "execute_result"
    }
   ],
   "source": [
    "topic_model.get_topic_info()"
   ]
  },
  {
   "cell_type": "code",
   "execution_count": 17,
   "id": "facd8c03",
   "metadata": {},
   "outputs": [],
   "source": [
    "import pandas as pd\n",
    "import tqdm"
   ]
  },
  {
   "cell_type": "code",
   "execution_count": 39,
   "id": "a112c234",
   "metadata": {},
   "outputs": [],
   "source": [
    "corpus_text = red_states['Hit Sentence'].values"
   ]
  },
  {
   "cell_type": "code",
   "execution_count": 40,
   "id": "c67d13eb",
   "metadata": {},
   "outputs": [
    {
     "name": "stderr",
     "output_type": "stream",
     "text": [
      "\r",
      "  0%|                                                  | 0/6328 [00:00<?, ?it/s]"
     ]
    },
    {
     "name": "stdout",
     "output_type": "stream",
     "text": [
      "huggingface/tokenizers: The current process just got forked, after parallelism has already been used. Disabling parallelism to avoid deadlocks...\n",
      "To disable this warning, you can either:\n",
      "\t- Avoid using `tokenizers` before the fork if possible\n",
      "\t- Explicitly set the environment variable TOKENIZERS_PARALLELISM=(true | false)\n",
      "huggingface/tokenizers: The current process just got forked, after parallelism has already been used. Disabling parallelism to avoid deadlocks...\n",
      "To disable this warning, you can either:\n",
      "\t- Avoid using `tokenizers` before the fork if possible\n",
      "\t- Explicitly set the environment variable TOKENIZERS_PARALLELISM=(true | false)\n",
      "huggingface/tokenizers: The current process just got forked, after parallelism has already been used. Disabling parallelism to avoid deadlocks...\n",
      "To disable this warning, you can either:\n",
      "\t- Avoid using `tokenizers` before the fork if possible\n",
      "\t- Explicitly set the environment variable TOKENIZERS_PARALLELISM=(true | false)\n",
      "huggingface/tokenizers: The current process just got forked, after parallelism has already been used. Disabling parallelism to avoid deadlocks...\n",
      "To disable this warning, you can either:\n",
      "\t- Avoid using `tokenizers` before the fork if possible\n",
      "\t- Explicitly set the environment variable TOKENIZERS_PARALLELISM=(true | false)\n",
      "huggingface/tokenizers: The current process just got forked, after parallelism has already been used. Disabling parallelism to avoid deadlocks...\n",
      "To disable this warning, you can either:\n",
      "\t- Avoid using `tokenizers` before the fork if possible\n",
      "\t- Explicitly set the environment variable TOKENIZERS_PARALLELISM=(true | false)\n"
     ]
    },
    {
     "name": "stderr",
     "output_type": "stream",
     "text": [
      "100%|██████████████████████████████████████| 6328/6328 [00:23<00:00, 271.21it/s]\n"
     ]
    }
   ],
   "source": [
    "nlp = spacy.load(\"en_core_web_sm\")\n",
    "documents_nlp = []\n",
    "for d in tqdm.tqdm(nlp.pipe(corpus_text,n_process=5),total=len(corpus_text)):\n",
    "    documents_nlp.append(d)"
   ]
  },
  {
   "cell_type": "code",
   "execution_count": 41,
   "id": "42eebd32",
   "metadata": {},
   "outputs": [],
   "source": [
    "docs2 = [[token.lemma_.lower() for token in doc if  token.is_alpha] for doc in documents_nlp]\n",
    "docs2 = [[token for token in doc if len(token) > 3] for doc in docs2]"
   ]
  },
  {
   "cell_type": "code",
   "execution_count": 42,
   "id": "7ebcae90",
   "metadata": {},
   "outputs": [],
   "source": [
    "id2word = Dictionary(docs2)\n",
    "id2word.filter_extremes(no_below=20, no_above=0.1)"
   ]
  },
  {
   "cell_type": "code",
   "execution_count": 43,
   "id": "bfe40081",
   "metadata": {},
   "outputs": [],
   "source": [
    "corpus = [id2word.doc2bow(text) for text in docs2]"
   ]
  },
  {
   "cell_type": "code",
   "execution_count": 44,
   "id": "9e5e72f0",
   "metadata": {},
   "outputs": [],
   "source": [
    "lda_model = LdaModel(corpus=corpus,\n",
    "                   id2word=id2word,\n",
    "                   num_topics=10,\n",
    "                   passes=20)"
   ]
  },
  {
   "cell_type": "code",
   "execution_count": 45,
   "id": "596df55e",
   "metadata": {},
   "outputs": [
    {
     "name": "stdout",
     "output_type": "stream",
     "text": [
      "0 :\t free, kill, speech, every, america, fascist, sure, until, fascism, trump\n",
      "1 :\t child, your, should, time, would, teacher, explicit, keep, thing, happen\n",
      "2 :\t district, child, read, remove, parent, year, which, student, list, when\n",
      "3 :\t your, liberty, anti, group, hate, moms, back, lgbtq, take, board\n",
      "4 :\t county, week, texas, shelf, judge, public, more, just, order, after\n",
      "5 :\t bible, parent, read, black, utah, race, books, challenge, person, than\n",
      "6 :\t education, over, district, student, gender, freedom, public, think, house, lgbtq\n",
      "7 :\t away, give, make, black, child, because, pink, america, teach, enough\n",
      "8 :\t republicans, vote, public, teacher, bill, child, republican, just, pass, then\n",
      "9 :\t county, nazi, control, more, duval, republican, abortion, list, governor, other\n"
     ]
    }
   ],
   "source": [
    "label_dict = {i: ', '.join([token for token, score in lda_model.show_topic(i, topn=10)]) for i in range(0, lda_model.num_topics)}\n",
    "for topic in label_dict:\n",
    "    print (topic,':\\t', label_dict[topic])"
   ]
  },
  {
   "cell_type": "code",
   "execution_count": 46,
   "id": "71ebf020",
   "metadata": {},
   "outputs": [
    {
     "data": {
      "text/plain": [
       "-3.719364160531149"
      ]
     },
     "execution_count": 46,
     "metadata": {},
     "output_type": "execute_result"
    }
   ],
   "source": [
    "from gensim.models.coherencemodel import CoherenceModel\n",
    "cm = CoherenceModel(model=lda_model, corpus=corpus, coherence='u_mass')\n",
    "cm.get_coherence()"
   ]
  },
  {
   "cell_type": "code",
   "execution_count": 47,
   "id": "f3443c4f",
   "metadata": {},
   "outputs": [
    {
     "name": "stdout",
     "output_type": "stream",
     "text": [
      "huggingface/tokenizers: The current process just got forked, after parallelism has already been used. Disabling parallelism to avoid deadlocks...\n",
      "To disable this warning, you can either:\n",
      "\t- Avoid using `tokenizers` before the fork if possible\n",
      "\t- Explicitly set the environment variable TOKENIZERS_PARALLELISM=(true | false)\n",
      "huggingface/tokenizers: The current process just got forked, after parallelism has already been used. Disabling parallelism to avoid deadlocks...\n",
      "To disable this warning, you can either:\n",
      "\t- Avoid using `tokenizers` before the fork if possible\n",
      "\t- Explicitly set the environment variable TOKENIZERS_PARALLELISM=(true | false)\n",
      "huggingface/tokenizers: The current process just got forked, after parallelism has already been used. Disabling parallelism to avoid deadlocks...\n",
      "To disable this warning, you can either:\n",
      "\t- Avoid using `tokenizers` before the fork if possible\n",
      "\t- Explicitly set the environment variable TOKENIZERS_PARALLELISM=(true | false)\n",
      "huggingface/tokenizers: The current process just got forked, after parallelism has already been used. Disabling parallelism to avoid deadlocks...\n",
      "To disable this warning, you can either:\n",
      "\t- Avoid using `tokenizers` before the fork if possible\n",
      "\t- Explicitly set the environment variable TOKENIZERS_PARALLELISM=(true | false)\n",
      "huggingface/tokenizers: The current process just got forked, after parallelism has already been used. Disabling parallelism to avoid deadlocks...\n",
      "To disable this warning, you can either:\n",
      "\t- Avoid using `tokenizers` before the fork if possible\n",
      "\t- Explicitly set the environment variable TOKENIZERS_PARALLELISM=(true | false)\n",
      "huggingface/tokenizers: The current process just got forked, after parallelism has already been used. Disabling parallelism to avoid deadlocks...\n",
      "To disable this warning, you can either:\n",
      "\t- Avoid using `tokenizers` before the fork if possible\n",
      "\t- Explicitly set the environment variable TOKENIZERS_PARALLELISM=(true | false)\n",
      "huggingface/tokenizers: The current process just got forked, after parallelism has already been used. Disabling parallelism to avoid deadlocks...\n",
      "To disable this warning, you can either:\n",
      "\t- Avoid using `tokenizers` before the fork if possible\n",
      "\t- Explicitly set the environment variable TOKENIZERS_PARALLELISM=(true | false)\n",
      "huggingface/tokenizers: The current process just got forked, after parallelism has already been used. Disabling parallelism to avoid deadlocks...\n",
      "To disable this warning, you can either:\n",
      "\t- Avoid using `tokenizers` before the fork if possible\n",
      "\t- Explicitly set the environment variable TOKENIZERS_PARALLELISM=(true | false)\n"
     ]
    },
    {
     "data": {
      "text/html": [
       "\n",
       "<link rel=\"stylesheet\" type=\"text/css\" href=\"https://cdn.jsdelivr.net/gh/bmabey/pyLDAvis@3.4.0/pyLDAvis/js/ldavis.v1.0.0.css\">\n",
       "\n",
       "\n",
       "<div id=\"ldavis_el36316116096271527917759012\" style=\"background-color:white;\"></div>\n",
       "<script type=\"text/javascript\">\n",
       "\n",
       "var ldavis_el36316116096271527917759012_data = {\"mdsDat\": {\"x\": [0.16307487527411374, 0.03539764893807447, -0.08269224836614739, 0.12296745935540775, -0.3084801208471734, -0.038185243258585196, 0.05210869003619362, 0.1052610978379782, 0.02083085740405098, -0.07028301637391268], \"y\": [-0.027479762685003784, -0.16793778421325573, -0.0210108747825346, -0.054452818908084386, -0.1213657939753801, 0.2580569808546388, 0.0731185184630161, -0.07039381429441409, 0.007010842199048571, 0.12445450734196907], \"topics\": [1, 2, 3, 4, 5, 6, 7, 8, 9, 10], \"cluster\": [1, 1, 1, 1, 1, 1, 1, 1, 1, 1], \"Freq\": [8.99663252196138, 10.324837336867626, 11.633799923576998, 12.635212885118413, 8.732031461891035, 8.01031186630783, 10.241185776507102, 8.68659397066205, 12.760640134287476, 7.978754122820085]}, \"tinfo\": {\"Term\": [\"county\", \"your\", \"district\", \"republicans\", \"liberty\", \"bible\", \"away\", \"parent\", \"vote\", \"child\", \"week\", \"shelf\", \"public\", \"black\", \"texas\", \"hate\", \"control\", \"judge\", \"group\", \"anti\", \"give\", \"nazi\", \"moms\", \"read\", \"race\", \"free\", \"order\", \"abortion\", \"republican\", \"remove\", \"kill\", \"sure\", \"mockingbird\", \"birth\", \"hill\", \"musk\", \"climb\", \"freshstrong\", \"twitter\", \"united\", \"code\", \"freshresists\", \"runner\", \"kite\", \"crime\", \"presidential\", \"catcher\", \"girls\", \"atlas\", \"forrest\", \"gump\", \"shrugged\", \"rifle\", \"publish\", \"journalist\", \"survivor\", \"otherwise\", \"repeat\", \"cult\", \"resistanceunited\", \"until\", \"civil\", \"warn\", \"assault\", \"hear\", \"religious\", \"free\", \"holocaust\", \"censor\", \"every\", \"speech\", \"fascism\", \"president\", \"fascist\", \"trump\", \"america\", \"force\", \"dangerous\", \"into\", \"fight\", \"never\", \"real\", \"country\", \"give\", \"some\", \"here\", \"follow\", \"write\", \"hate\", \"should\", \"just\", \"against\", \"would\", \"read\", \"explicit\", \"sexually\", \"character\", \"send\", \"side\", \"increase\", \"climate\", \"shortage\", \"safe\", \"nobody\", \"accord\", \"disaster\", \"message\", \"letter\", \"librarie\", \"nearly\", \"comment\", \"gopdebate\", \"advice\", \"street\", \"literature\", \"burning\", \"illinois\", \"hide\", \"tired\", \"relationship\", \"super\", \"basically\", \"scream\", \"vital\", \"terrible\", \"whose\", \"hoax\", \"between\", \"time\", \"left\", \"change\", \"actually\", \"keep\", \"please\", \"should\", \"happen\", \"thing\", \"protect\", \"tran\", \"child\", \"life\", \"would\", \"your\", \"medium\", \"teacher\", \"tell\", \"know\", \"need\", \"stop\", \"same\", \"year\", \"these\", \"really\", \"education\", \"take\", \"when\", \"just\", \"single\", \"parks\", \"reading\", \"rosa\", \"charge\", \"picoult\", \"morning\", \"appropriate\", \"pride\", \"jodi\", \"case\", \"resident\", \"receive\", \"either\", \"poem\", \"exactly\", \"feature\", \"abuse\", \"multiple\", \"reminder\", \"image\", \"poet\", \"update\", \"section\", \"york\", \"except\", \"dade\", \"tale\", \"controversial\", \"groom\", \"result\", \"easy\", \"complain\", \"district\", \"felony\", \"base\", \"member\", \"remove\", \"list\", \"which\", \"could\", \"claim\", \"some\", \"review\", \"year\", \"student\", \"child\", \"read\", \"show\", \"parent\", \"these\", \"love\", \"also\", \"when\", \"still\", \"board\", \"today\", \"make\", \"because\", \"just\", \"know\", \"more\", \"moms\", \"candidate\", \"afraid\", \"bookstore\", \"reject\", \"study\", \"buddy\", \"near\", \"morrison\", \"toni\", \"criminalize\", \"steve\", \"defeat\", \"regard\", \"democratic\", \"favorite\", \"tomorrow\", \"shine\", \"road\", \"vile\", \"endorse\", \"liberty\", \"spotlight\", \"philadelphia\", \"none\", \"night\", \"authoritarian\", \"especially\", \"protection\", \"organization\", \"group\", \"hard\", \"hate\", \"your\", \"hitler\", \"anti\", \"local\", \"policy\", \"back\", \"help\", \"lgbtq\", \"bigotry\", \"part\", \"attack\", \"community\", \"protest\", \"fight\", \"take\", \"board\", \"black\", \"here\", \"work\", \"those\", \"abortion\", \"against\", \"more\", \"support\", \"censorship\", \"tell\", \"when\", \"read\", \"these\", \"shelf\", \"judge\", \"order\", \"roberts\", \"federal\", \"activist\", \"return\", \"llano\", \"nora\", \"entirely\", \"court\", \"staff\", \"shocking\", \"empty\", \"unreal\", \"overturn\", \"amazon\", \"seuss\", \"worth\", \"shut\", \"scared\", \"moment\", \"compare\", \"dozen\", \"boys\", \"eight\", \"veteran\", \"guise\", \"rural\", \"uglier\", \"county\", \"close\", \"small\", \"week\", \"fire\", \"meet\", \"objection\", \"rather\", \"official\", \"texas\", \"report\", \"discuss\", \"conservative\", \"after\", \"more\", \"public\", \"proud\", \"just\", \"come\", \"target\", \"take\", \"than\", \"because\", \"bible\", \"utah\", \"flag\", \"critical\", \"theory\", \"church\", \"rape\", \"society\", \"writer\", \"math\", \"everywhere\", \"object\", \"possible\", \"supremacist\", \"confederate\", \"campus\", \"dollar\", \"plus\", \"embrace\", \"organize\", \"clearly\", \"challenge\", \"angry\", \"mandate\", \"person\", \"denounce\", \"color\", \"north\", \"contain\", \"deem\", \"books\", \"since\", \"race\", \"banned\", \"allow\", \"parent\", \"slavery\", \"limit\", \"class\", \"very\", \"read\", \"black\", \"than\", \"even\", \"white\", \"eliminate\", \"remove\", \"teach\", \"district\", \"more\", \"content\", \"just\", \"other\", \"most\", \"should\", \"republicans\", \"there\", \"gender\", \"dead\", \"violate\", \"identity\", \"threat\", \"police\", \"escambia\", \"desantisdestroysflorida\", \"random\", \"strategy\", \"though\", \"launch\", \"floriduh\", \"hearing\", \"affirm\", \"combat\", \"scare\", \"indoctrinate\", \"university\", \"register\", \"dismantle\", \"represent\", \"build\", \"cultural\", \"capitol\", \"appoint\", \"authoritarianism\", \"introduce\", \"opinion\", \"recognize\", \"lawsuit\", \"restriction\", \"defend\", \"amendment\", \"minor\", \"penguin\", \"house\", \"unconstitutional\", \"bans\", \"whether\", \"biden\", \"education\", \"over\", \"issue\", \"access\", \"join\", \"care\", \"student\", \"district\", \"freedom\", \"author\", \"into\", \"think\", \"lgbtq\", \"woke\", \"public\", \"those\", \"america\", \"race\", \"time\", \"first\", \"parent\", \"governor\", \"look\", \"pink\", \"enough\", \"announce\", \"concert\", \"copy\", \"note\", \"experience\", \"insurance\", \"singer\", \"weird\", \"tour\", \"finally\", \"deep\", \"sense\", \"worry\", \"replace\", \"upcoming\", \"expression\", \"catch\", \"kick\", \"homophobic\", \"diary\", \"harris\", \"standard\", \"inject\", \"brown\", \"women\", \"miss\", \"adrienne\", \"radical\", \"away\", \"south\", \"hand\", \"extremist\", \"admit\", \"give\", \"straight\", \"teach\", \"racist\", \"black\", \"while\", \"america\", \"listen\", \"make\", \"because\", \"stop\", \"before\", \"child\", \"lose\", \"feel\", \"leave\", \"white\", \"woke\", \"show\", \"someone\", \"when\", \"know\", \"community\", \"fund\", \"defund\", \"cancel\", \"politician\", \"legislation\", \"queen\", \"body\", \"budget\", \"defunde\", \"funding\", \"reproductive\", \"tennessee\", \"wild\", \"legislator\", \"crusade\", \"senate\", \"strip\", \"safety\", \"retaliation\", \"rate\", \"criticize\", \"stupid\", \"texans\", \"cruz\", \"battle\", \"traffic\", \"pass\", \"roll\", \"travel\", \"opportunity\", \"vote\", \"private\", \"drag\", \"republicans\", \"bill\", \"missouri\", \"then\", \"party\", \"republican\", \"disney\", \"government\", \"power\", \"blue\", \"public\", \"teacher\", \"abortion\", \"culture\", \"word\", \"control\", \"woman\", \"attack\", \"child\", \"just\", \"make\", \"governor\", \"over\", \"american\", \"talk\", \"texas\", \"show\", \"girl\", \"clemente\", \"roberto\", \"aaron\", \"death\", \"cycle\", \"hank\", \"grace\", \"extremism\", \"baby\", \"menstrual\", \"recent\", \"husband\", \"male\", \"track\", \"science\", \"linn\", \"abbott\", \"mickey\", \"interview\", \"baseball\", \"rich\", \"hero\", \"security\", \"busy\", \"truly\", \"wwii\", \"mother\", \"stance\", \"beyond\", \"nazi\", \"duval\", \"cause\", \"germany\", \"carry\", \"control\", \"period\", \"pennsylvania\", \"donor\", \"lose\", \"county\", \"democrats\", \"maga\", \"fear\", \"break\", \"many\", \"list\", \"republican\", \"abortion\", \"more\", \"governor\", \"stand\", \"other\", \"freedom\", \"fascist\", \"include\", \"american\", \"year\", \"here\", \"fight\", \"against\", \"because\", \"make\"], \"Freq\": [575.0, 688.0, 451.0, 445.0, 287.0, 199.0, 238.0, 454.0, 334.0, 730.0, 313.0, 180.0, 664.0, 426.0, 463.0, 255.0, 218.0, 156.0, 242.0, 325.0, 337.0, 174.0, 168.0, 641.0, 177.0, 368.0, 131.0, 296.0, 285.0, 351.0, 111.44847191121755, 87.89335543745328, 56.972894327035, 54.51871710582375, 45.54273825815286, 43.70428594148492, 42.697459660162025, 42.61444788140832, 42.531203505402296, 39.66380272811661, 37.3173216690615, 37.08645799313787, 36.628757481221406, 34.60384939216259, 38.225941029256475, 33.31182980483905, 32.744499666106535, 31.635599534335913, 30.850169493900818, 30.850169493900818, 30.850169493900818, 30.850169493900818, 28.121643813578334, 26.02201930870987, 25.519231273164035, 24.606147136024134, 24.163245624286517, 21.91170058749857, 21.807593328259077, 21.443157045858726, 85.02610730211443, 48.041061710988004, 34.42340117067928, 76.10325512060622, 52.21230455781279, 45.37273147269947, 174.48034294458057, 65.49128896141559, 66.32449593121, 110.0411058927358, 111.29948610244257, 82.0718750630721, 79.6310213032203, 94.75639177039437, 81.74306977226149, 97.91772278797096, 59.60206827162832, 53.35636685233645, 75.74427033630711, 79.38111009293091, 68.01355902824346, 53.51352263959917, 66.68640998715551, 71.10651372230217, 69.83033255412879, 71.52675880793102, 53.16693092765022, 53.81088005502972, 56.25981293506758, 57.420160671585684, 58.871883712951245, 56.63914271028053, 55.64155490107322, 55.303751004063486, 112.39800526707008, 92.39769458251533, 77.81734420161322, 76.51627110981158, 70.50958457509701, 45.972576974242834, 45.41846286500098, 43.831613490970696, 43.60764550049951, 40.61191409173304, 39.26386436250214, 33.11502793268451, 31.922153761230163, 31.761572741133772, 31.70077380267985, 28.08051754998608, 27.900028912873804, 27.46999226954376, 27.468924523900334, 26.883026212800207, 23.510395189989758, 22.640864429710657, 21.414055967026215, 20.75311098654272, 20.600075090934435, 20.12629007239391, 19.664035455537945, 18.050907443123293, 14.184067638180753, 14.010168993711488, 43.43084183712147, 29.712808677083217, 90.79962970834765, 56.78129938852932, 149.47229452335432, 53.360742852766634, 63.77362776592331, 63.22886060194284, 111.95314739661538, 58.259301270151575, 151.95335167758293, 102.66597086597207, 105.77200957564344, 74.38491733733026, 70.81189006039166, 196.08836759566162, 89.97135105074939, 137.87197218267377, 170.8003469155078, 61.66291151470631, 124.24070586880804, 96.96405897835257, 94.23490945552163, 87.32364215851811, 85.89987007711386, 78.31035906893894, 89.7941970333321, 86.3999003669874, 67.24531930789064, 81.24545837450827, 78.03231142998085, 75.71664640756617, 65.36322992169055, 104.8091970951564, 78.705987751385, 78.53818177821931, 75.71200040206571, 60.3494495624812, 57.42836330137528, 49.17456619718853, 46.99599293441245, 44.26380940930032, 43.1034404571782, 43.135252439264086, 37.71485538525722, 37.68092150777885, 37.343432048248594, 36.785970416534596, 36.56061713643412, 33.90052165877588, 32.779575784172955, 30.78849066046234, 29.983263081700375, 29.527013275396563, 27.686968096473525, 27.156743330201795, 23.747278053820256, 22.970584445989658, 22.109026771603318, 16.086040798988652, 14.510561668009062, 14.322562441182942, 30.990526589533253, 69.28731942312484, 42.64439200479193, 50.93940980551809, 240.4812334335198, 57.857357443606546, 78.70999185963394, 85.22497205910933, 161.78073018251806, 127.54320782859914, 129.42073042680772, 87.99522281053194, 73.45460918219666, 122.018468977241, 67.53876012827254, 130.9332494202472, 128.26979368742698, 186.3119839635724, 172.0888839002695, 108.14626414668449, 139.97477962789458, 119.91306938281728, 77.87670497535511, 89.64129667277281, 124.64086850153673, 70.74989985523405, 96.66901421270495, 82.06721574247632, 102.81499139881984, 91.69853417642742, 92.42838159760826, 80.99647395985632, 82.12390301207594, 167.2124928260885, 73.09285182336995, 63.08849851937621, 49.37225270623027, 49.02337592975829, 45.62092008864076, 40.66112356092951, 40.23402500863226, 38.68320493010489, 38.00163422481208, 45.02279019772339, 28.20677746678718, 27.994458301436193, 26.190327274089476, 24.37138132313213, 24.29801874016726, 23.682366150626198, 21.34397018600451, 20.3731932863138, 18.48888557677045, 15.965231608297398, 271.58749609004445, 14.497224528261198, 19.83575992050092, 26.654898267967237, 37.778435469564094, 39.82488301146409, 24.422632536904498, 14.71193373253748, 51.576529588500975, 208.99931578849328, 50.79113702146762, 198.42757005094072, 456.47118896533476, 64.73976658729042, 226.79074002743664, 109.06453270977825, 104.76712787772435, 156.71778979550535, 79.21482232417459, 143.9407667536226, 38.04757707663612, 78.43092018184211, 108.55369474774596, 92.05457080834881, 68.45825881951878, 117.51005490247739, 143.49317996588243, 123.01605124950756, 113.07190702007401, 104.01770967127935, 81.11117337988823, 89.11715809907079, 88.97362815869842, 97.13375443795586, 112.45371764602493, 73.2456254594043, 70.13849829360488, 79.93314577966837, 88.50068373426657, 85.83107788528221, 71.47518466574988, 180.04327850600967, 155.34026156855433, 130.8371095108145, 97.0943938402211, 96.93772601869472, 90.18769007100217, 88.1334346737087, 83.55842669217124, 59.4829840660457, 57.647415980486144, 52.202508985151226, 44.23982656685857, 42.338669219501796, 39.75505055890252, 38.171020855052, 38.09008721932675, 33.73735748576658, 31.905362699239003, 29.66904895087111, 26.947075185354045, 26.47801002042198, 26.072057852804956, 25.0562303155096, 23.069446070470963, 22.666753259522793, 21.99066250704213, 21.93164310649571, 21.918422252821625, 20.47705818835787, 19.37499879702923, 406.67018554847226, 92.14697261228679, 45.86503563191274, 210.61281292270812, 96.12360644970738, 69.13345943036522, 66.80622938461315, 42.36204557950665, 71.3338920358375, 208.8549755552815, 72.17951166440582, 66.8874028864136, 71.999647382431, 119.59873483846077, 152.83394327812954, 154.02043376420633, 56.80729210699364, 132.0640950342922, 81.79390129417735, 65.82802731042202, 86.92338792807065, 74.38276622370394, 62.343683317920195, 198.7561116697553, 119.26896888903693, 70.67442974458595, 50.225542085293505, 45.91193594625527, 44.82384453220885, 41.41055745281464, 39.66401697985077, 38.798635848628926, 31.419254804600847, 31.278855912465826, 30.15819524311059, 28.964639629459104, 28.669212376411, 25.3510087543436, 24.71423693748414, 23.31284643759572, 22.29990538473082, 21.442835642705273, 19.739570374497728, 16.02180686943037, 98.05919676635052, 29.779107232312445, 17.086777833483595, 96.25995008072196, 19.529399174069738, 36.5608772272652, 22.06309146561578, 26.050024576219727, 26.834543996471663, 104.55518570299692, 80.21556800913939, 113.63432269010761, 67.10703976945683, 87.1451341458681, 190.2333928236145, 56.35330913725472, 54.250684611365564, 45.006562422945834, 61.572518547950814, 160.54089748276712, 125.03068210410798, 95.35138273178016, 75.87206222588323, 87.33066079106192, 51.02566821377738, 84.59994958306231, 66.27680689965223, 72.02444398351679, 77.67249324806846, 50.950530796164784, 66.74488518270549, 59.487749675394404, 54.61351873548549, 58.80232298294395, 58.689791594705554, 56.4012715319082, 116.86340751455838, 63.113970126006194, 59.08396135369816, 58.31161647347879, 49.3763480956599, 45.00996088702561, 41.675479525491056, 40.50050486492851, 32.74376077007546, 31.584924893889717, 30.994692605025, 30.424099077871812, 28.365582857653973, 27.70943019189618, 26.573656518609294, 26.298916572011294, 25.381179902828585, 24.82495862302864, 23.80019752871505, 23.18908741996889, 22.78248189705044, 22.713508348439834, 21.976512825592312, 21.057657073822085, 15.502353214533015, 15.198268895316549, 14.64671735477969, 13.850993784349287, 26.62257759660356, 24.902615921551295, 83.17850863109939, 39.540485077129276, 36.379802826507124, 62.85686245293137, 27.67491032087849, 46.43505981434972, 102.78830244510998, 46.952233179168786, 69.038608472979, 34.02152554512812, 77.42440523178, 158.30930342041188, 149.84220458763684, 66.87962718231611, 83.62908727351054, 59.51572451511835, 78.39689420597033, 127.77161228854526, 138.03666519910814, 115.65058676338343, 69.2161185527676, 90.31847066812128, 105.22391433206587, 100.86695554937229, 70.86431414410175, 110.4184847118023, 78.28429091625803, 80.75559760752128, 63.471654570930376, 68.64686337392149, 61.69505614680906, 71.534555666613, 60.332849247194794, 59.29332288206838, 114.48718059374193, 92.05727137690435, 56.47960238317292, 54.7154895583146, 54.740716385395515, 44.9333197718358, 42.68484765611944, 41.13035365759378, 39.63290688786967, 39.62510618727142, 38.44764254190777, 36.802993077898336, 36.13641040360938, 34.58027064323911, 34.41996501776444, 32.25947975171101, 31.38419763190666, 30.71577619598321, 27.708655242574313, 27.563029882935368, 24.045694684998626, 23.40900767816215, 23.154397091721286, 23.141941587099822, 22.67113789966556, 22.449811004261342, 21.887188544063246, 26.23129097825904, 20.885937215947493, 20.5519651159078, 206.1811561843496, 32.17494935283048, 79.09390359926225, 85.07689006738067, 44.28222971704361, 160.52328712860603, 32.03369456116056, 101.69111907031652, 71.96933390126246, 132.4933451358178, 85.1426082503785, 106.03601455819437, 52.01529967983961, 138.72867005648715, 118.90057346159188, 90.69058722845486, 61.456684473695944, 121.7004038679515, 58.157939083234204, 60.0340724952262, 53.87875826926709, 72.13666121000169, 62.975269984042576, 67.92435306868458, 52.16377968182523, 67.29132077605104, 54.64566574342296, 51.392236703625144, 103.42789325312957, 67.76134804539848, 59.50521200828458, 52.67560684597234, 52.46964946952257, 50.04399283464066, 47.3435717186173, 47.10464384159756, 47.026717785137855, 40.50500740527463, 38.855515840056654, 38.24706164450056, 37.04134703731391, 34.420411323657454, 33.50796199913596, 31.905797226559148, 30.202893553515064, 29.179501278201364, 29.04629447625817, 28.113859749812068, 27.399050431091553, 27.329905682905913, 26.532159781372656, 23.56671687433875, 19.141074108064032, 18.553092448939097, 148.19006963092062, 17.27969965194895, 16.740931465141323, 15.110552841369298, 282.43819503864546, 33.78804629838063, 143.79607514298382, 329.3152568555927, 188.87240946116515, 106.1497122034034, 146.58740225924973, 88.77986689343108, 157.41278878113255, 84.73183069266636, 80.60154866066432, 81.29810461126128, 54.02349513842636, 271.9032231604636, 201.02798763252878, 124.25299135032, 77.72865615501148, 74.96981498224022, 93.33950773304322, 100.94895080455288, 97.75743109271951, 158.11556149590828, 148.33971528938625, 132.16646821226382, 89.31261162340381, 96.79128614293424, 81.54142958599618, 73.32423853509337, 87.96697600586364, 72.35640794526958, 71.29062668398183, 60.74364222010064, 59.27533253302446, 49.070384885319775, 46.95425548939491, 43.35330423977646, 40.95181701459039, 38.162840196800204, 37.854836557924735, 37.4911788919201, 34.94640357789091, 34.685477180009734, 32.02718595809487, 30.934681966689734, 30.394599068567825, 29.150139954153232, 28.949015769705454, 27.646923617757032, 26.65872217716636, 25.984042397947544, 21.68719018913586, 21.622264788343813, 21.56952931808993, 21.529111092561482, 23.799131109456724, 26.52573525648823, 19.657389481612423, 18.48653891787613, 18.46260062752527, 18.398445558144807, 141.3170460503742, 92.79258117692689, 44.66549450181903, 61.91589323989691, 67.77812172836067, 124.64291000161096, 56.73025424346101, 30.55503750653669, 40.88737669696756, 67.5817806895815, 155.8920128868434, 60.20054245921201, 60.155167038239966, 62.03945568757303, 40.03147725895894, 69.02964919752678, 76.50483562867005, 77.88097629045025, 77.66583787597077, 102.94066289536535, 74.30188762645855, 61.20642767925738, 72.25159416950052, 68.30478990123144, 63.43331719496371, 54.68668426484845, 61.03955262275739, 63.45972119046044, 62.5825296633098, 61.64197757177015, 58.81486773753443, 58.46747083291664, 57.325240176164385], \"Total\": [575.0, 688.0, 451.0, 445.0, 287.0, 199.0, 238.0, 454.0, 334.0, 730.0, 313.0, 180.0, 664.0, 426.0, 463.0, 255.0, 218.0, 156.0, 242.0, 325.0, 337.0, 174.0, 168.0, 641.0, 177.0, 368.0, 131.0, 296.0, 285.0, 351.0, 112.35938157895215, 88.8042862853811, 57.88373343303052, 55.42961098906705, 46.45360015059314, 44.615142987985564, 43.6083158653181, 43.525321168975985, 43.44210821399257, 40.574741349503384, 38.228196042925816, 37.99740818669317, 37.53959656536627, 35.51468164629731, 39.23675888908894, 34.222751201914996, 33.65532683967548, 32.54642298741278, 31.760992052680624, 31.760992052680624, 31.760992052680624, 31.760992052680624, 29.032510401375745, 26.93296791588079, 26.43020520944221, 25.51704380285647, 25.074215551652447, 22.82262898934429, 22.71855446684474, 22.354063134620326, 93.4085717069646, 53.650027551607906, 37.391990915404534, 92.42171579686251, 66.13921831682156, 57.17211091578008, 368.9495953051672, 97.34940031742073, 100.59990991044296, 221.75910258898153, 228.54533471045207, 156.39419554721502, 154.30721132112126, 272.0484201497543, 219.4513237673308, 340.94068487034303, 121.6212450631173, 99.16740101170403, 256.49606368739853, 334.5823436202825, 212.92550533854885, 107.0887693026251, 228.72798995823536, 337.50890350902165, 314.0276168530853, 358.9693455174069, 111.84827218506162, 160.363291375919, 255.49785861088534, 353.2105392152151, 643.5636108820713, 387.6188817561611, 445.74724956380777, 641.5229578510296, 113.45287965352, 93.29805586754333, 78.71772078223083, 77.41669026499352, 71.40999912014509, 46.8730936446346, 46.318905937326555, 44.73197190269847, 44.50805285507369, 41.51224967881499, 40.164377125046826, 34.01537849467601, 32.82258944331984, 32.661996333598836, 32.601188460425085, 28.980939372874584, 28.800558365007358, 28.370307117107, 28.369262705005024, 27.78343651534993, 24.410821308430773, 23.541329415915, 22.314430778595987, 21.653550065729192, 21.50096597369943, 21.0266473772218, 20.56442090983134, 18.951262088178765, 15.084480891921258, 14.910535965660303, 52.71556226185557, 34.90774143422145, 134.65968491629124, 76.26945146573003, 278.3888950270323, 74.73490985705912, 94.80121576722632, 96.53522834887822, 213.6182479055775, 88.10477699844634, 353.2105392152151, 207.47616454613527, 229.3214300828361, 143.2687328577647, 132.7554537524656, 730.1738978063254, 201.59887427890627, 445.74724956380777, 688.1791440643484, 119.66250105751769, 555.872250126598, 330.68193315368495, 355.5406529506339, 292.81589800180444, 280.563744625919, 226.8226794794168, 371.8209692553793, 356.9040637388885, 164.23276718812, 398.42419841386834, 478.3944796156185, 539.4884114866702, 643.5636108820713, 105.70676528998823, 79.6035074004271, 79.4372156252464, 76.60952229706125, 61.24699024291182, 58.32587968830351, 50.07213240160087, 47.8935063062073, 45.16135271099708, 44.00095467537074, 44.05248516187403, 38.61241161580024, 38.57856039647931, 38.240996249714186, 37.68345298332468, 37.4585137547405, 34.79809486255594, 33.677112507115545, 31.686036092990467, 30.88083015752132, 30.424536002269104, 28.584463168225255, 28.054259439643758, 24.644775507944455, 23.868124416202207, 23.006606527245964, 16.983540995556638, 15.408123061378783, 15.220082114934048, 35.57258465504859, 81.10511023994061, 51.63640541287236, 63.33705263725679, 451.24324197859585, 78.89497676599267, 118.74290438331954, 136.20384259093797, 351.6546215070614, 257.6948595285782, 267.6987866963694, 163.53511234861497, 127.75844212910373, 314.0276168530853, 114.80559463828155, 371.8209692553793, 364.82766723818025, 730.1738978063254, 641.5229578510296, 275.74527557713276, 454.8455136910222, 356.9040637388885, 156.2102884595773, 234.28936163465312, 539.4884114866702, 144.08909721826686, 387.19399222790787, 240.60714951672858, 572.0401336614527, 434.42220649877527, 643.5636108820713, 355.5406529506339, 600.6070953430132, 168.1142704979293, 74.02052088989416, 63.99036318765304, 50.27407590870617, 49.9251892257845, 46.522770279248434, 41.562926986372176, 41.13585510384069, 39.58500153991583, 38.90343057209956, 46.361655646255876, 29.10858145482502, 28.896614365087874, 27.092182613450372, 25.27328036627466, 25.199831867827065, 24.585269293734, 22.245754169403142, 21.275021063435066, 19.390676144363958, 16.86704817427269, 287.9531671724273, 15.398998869418437, 21.581142641381522, 29.419358607329375, 41.91863612865686, 44.490220777393716, 27.354402211775174, 16.481574211579073, 57.97261615497361, 242.8795033583718, 58.501094782965104, 255.49785861088534, 688.1791440643484, 79.76729711032574, 325.21556002249383, 147.9628997718954, 157.74875503999345, 270.6176788529691, 125.07022746976263, 333.2455053853423, 48.74167469569477, 152.1102943129363, 262.1652176124572, 209.13076208699573, 129.37711700487893, 334.5823436202825, 478.3944796156185, 387.19399222790787, 426.68737845689895, 358.9693455174069, 205.9257367450677, 296.30733087816685, 296.47533391227864, 387.6188817561611, 600.6070953430132, 226.38454761080894, 194.51217286930446, 330.68193315368495, 539.4884114866702, 641.5229578510296, 356.9040637388885, 180.93964037016283, 156.23640458575525, 131.7333031090069, 97.9905349890682, 97.83404316370618, 91.08383947384176, 89.02956433361693, 84.45454333989144, 60.37910343760102, 58.54355392588457, 53.10188510963605, 45.13603465096083, 43.23481776486787, 40.65118668477325, 39.06716164641765, 38.98624903240152, 34.633550547324894, 32.80158034328404, 30.56536546726281, 27.843239375254377, 27.374255307072158, 26.968265521399168, 25.95248445876969, 23.970218911647372, 23.562936456659887, 22.886779643265445, 22.827983070713767, 22.81453862037054, 21.373379938428297, 20.271108744718585, 575.1317170044415, 113.07632451310708, 53.148711756758935, 313.6288940261878, 126.73062871668989, 90.9181336788044, 92.07475635118837, 52.27780581055872, 106.26251440986142, 463.25856699058113, 112.61263207392601, 102.0682477201594, 122.49960512458311, 326.07850225709143, 600.6070953430132, 664.4312725682247, 92.25658558854568, 643.5636108820713, 262.97287750178504, 153.017974169396, 478.3944796156185, 285.27389961059356, 434.42220649877527, 199.65765311794513, 120.17049697286309, 71.57600888595861, 51.12712758966957, 46.813511407887525, 45.725517225486186, 42.31210729926311, 40.565610746094485, 39.70033163425052, 32.32079336646127, 32.18051449057846, 31.059843320820754, 29.866243501208267, 29.5707607322427, 26.252592797935147, 25.6158192919804, 24.21777071764365, 23.201440216865294, 22.344361972195575, 20.641141334512653, 16.92352020886682, 104.27777581397741, 32.98723669553177, 20.10993274013361, 113.58914945108185, 23.191498719218696, 43.857132814871775, 26.95048111485639, 33.30384741070431, 34.674162632258216, 136.65737394614496, 109.25999014318279, 177.9116115720007, 98.78955797273201, 158.62985296665317, 454.8455136910222, 91.34517003638301, 86.98860653527441, 69.41242229844062, 123.8474517910351, 641.5229578510296, 426.68737845689895, 285.27389961059356, 194.10418565486697, 264.6678171790895, 93.45284848464068, 351.6546215070614, 221.65449496986417, 451.24324197859585, 600.6070953430132, 142.73662404485765, 643.5636108820713, 344.18012339842096, 217.59143810361013, 353.2105392152151, 445.74455052986144, 417.54750455797364, 117.7696737674763, 64.02032702318252, 59.9902398174335, 59.21785119472882, 50.282623410910674, 45.916274251442076, 42.58180228818685, 41.40679801629751, 33.64996308678606, 32.491156069326635, 31.901009706890527, 31.330372659440833, 29.271916073298048, 28.61568561269243, 27.479883631454648, 27.205678521904407, 26.28740230410733, 25.73143866439088, 24.706499899702553, 24.0954326668208, 23.68869510247729, 23.619817223614334, 22.882804350877816, 21.963889863675785, 16.408652940442643, 16.105507449425982, 15.553058933086234, 14.757310039929383, 29.077062794721783, 28.419716365754738, 95.87023143130074, 46.244682934377444, 42.25307148070837, 80.31481601629928, 31.7839003106695, 57.843663853043196, 158.28399198625226, 59.516170261833594, 99.17544745551925, 40.351673441567854, 122.09339301984663, 398.42419841386834, 374.12434227408306, 113.26311290487631, 162.47883117615706, 97.17325360362251, 152.9864814535104, 364.82766723818025, 451.24324197859585, 345.21706435360664, 150.48615906054283, 256.49606368739853, 347.22386132515555, 333.2455053853423, 188.38986838804215, 664.4312725682247, 296.30733087816685, 340.94068487034303, 177.9116115720007, 278.3888950270323, 179.41067072222052, 454.8455136910222, 276.78578029430867, 183.95925143817072, 115.38553690635432, 92.95568294905073, 57.37805731279888, 55.61384288842301, 55.63994483114355, 45.87353275608668, 43.58326384122784, 42.028810064205395, 40.531253147385144, 40.52364331082162, 39.34603650047254, 37.70141222421731, 37.03482950530597, 35.47864903222825, 35.31841503027765, 33.15788485553343, 32.282566878071954, 31.614221482675614, 28.607109771778617, 28.46142492805552, 24.94412074131016, 24.307463756211828, 24.052788963287277, 24.040421726366347, 23.56948885349119, 23.348204448883493, 22.785753486337843, 27.330322203385006, 21.784275884601747, 21.450443743293494, 238.68261744199222, 34.503559383412465, 93.50887627907521, 127.31753203215911, 57.68902560595298, 337.50890350902165, 38.054384130222935, 221.65449496986417, 133.90233891528018, 426.68737845689895, 218.94034295150334, 340.94068487034303, 91.55981671677849, 572.0401336614527, 434.42220649877527, 280.563744625919, 127.84457986574714, 730.1738978063254, 126.54517135747517, 147.58144724426302, 111.69086309067418, 264.6678171790895, 188.38986838804215, 275.74527557713276, 121.50905241534039, 539.4884114866702, 355.5406529506339, 209.13076208699573, 104.32590986179275, 68.65933674713077, 60.40327030978938, 53.573696251573864, 53.36781180171696, 50.942003742805184, 48.24158655279085, 48.00270700682962, 47.92478150189554, 41.40300672365663, 39.75360116598474, 39.14509923944377, 37.93958885196523, 35.31964984934426, 34.4060375434855, 32.80381818954036, 31.100893346491084, 30.07751752272581, 29.94431607394854, 29.01196461362404, 28.297157568127744, 28.227983384383805, 27.43014721223667, 24.464752744428406, 20.039132737400685, 19.45112632972141, 155.81319901445497, 18.177751634045276, 17.648050088928272, 16.008763486822275, 334.042278354632, 36.73337621183228, 168.99425444981085, 445.74455052986144, 277.09210063267585, 143.66744119721434, 222.64455625906848, 121.60312328601287, 285.3976731735277, 125.13076830724559, 120.3934586531525, 122.45217999127348, 70.03625601526001, 664.4312725682247, 555.872250126598, 296.47533391227864, 139.72705498650328, 143.42249956853544, 218.7923324320903, 264.20641091093876, 262.1652176124572, 730.1738978063254, 643.5636108820713, 572.0401336614527, 276.78578029430867, 374.12434227408306, 264.1771194527573, 182.8491967936325, 463.25856699058113, 275.74527557713276, 72.19974791814037, 61.65271181874892, 60.18440228373341, 49.979448547634426, 47.863377851615645, 44.2623802382915, 41.86087549302268, 39.07189408001294, 38.76404579029887, 38.40037082815283, 35.8554850176744, 35.594615617425795, 32.93635054160314, 31.84380826242703, 31.30371718110888, 30.059277532149586, 29.8580706110149, 28.55604591594377, 27.56780621351438, 26.89314700886821, 22.59626548530462, 22.53137961217187, 22.478757884885688, 22.438268455097298, 24.840526294338, 27.752042095293735, 20.566451080169227, 19.39602747230456, 19.371677934860713, 19.307576745020903, 174.1153522356546, 110.58177812323592, 50.45085304071093, 72.783890912015, 96.84913557311873, 218.7923324320903, 79.89719498748397, 36.93189173344488, 56.42737460417355, 126.54517135747517, 575.1317170044415, 119.43318784857388, 119.9189885558999, 130.50217228577688, 57.99001512237302, 196.0760617264645, 257.6948595285782, 285.3976731735277, 296.47533391227864, 600.6070953430132, 276.78578029430867, 203.93349385380668, 344.18012339842096, 345.21706435360664, 272.0484201497543, 157.22037484890768, 264.1771194527573, 371.8209692553793, 358.9693455174069, 334.5823436202825, 387.6188817561611, 434.42220649877527, 572.0401336614527], \"Category\": [\"Default\", \"Default\", \"Default\", \"Default\", \"Default\", \"Default\", \"Default\", \"Default\", \"Default\", \"Default\", \"Default\", \"Default\", \"Default\", \"Default\", \"Default\", \"Default\", \"Default\", \"Default\", \"Default\", \"Default\", \"Default\", \"Default\", \"Default\", \"Default\", \"Default\", \"Default\", \"Default\", \"Default\", \"Default\", \"Default\", \"Topic1\", \"Topic1\", \"Topic1\", \"Topic1\", \"Topic1\", \"Topic1\", \"Topic1\", \"Topic1\", \"Topic1\", \"Topic1\", \"Topic1\", \"Topic1\", \"Topic1\", \"Topic1\", \"Topic1\", \"Topic1\", \"Topic1\", \"Topic1\", \"Topic1\", \"Topic1\", \"Topic1\", \"Topic1\", \"Topic1\", \"Topic1\", \"Topic1\", \"Topic1\", \"Topic1\", \"Topic1\", \"Topic1\", \"Topic1\", \"Topic1\", \"Topic1\", \"Topic1\", \"Topic1\", \"Topic1\", \"Topic1\", \"Topic1\", \"Topic1\", \"Topic1\", \"Topic1\", \"Topic1\", \"Topic1\", \"Topic1\", \"Topic1\", \"Topic1\", \"Topic1\", \"Topic1\", \"Topic1\", \"Topic1\", \"Topic1\", \"Topic1\", \"Topic1\", \"Topic1\", \"Topic1\", \"Topic1\", \"Topic1\", \"Topic1\", \"Topic1\", \"Topic1\", \"Topic1\", \"Topic1\", \"Topic1\", \"Topic1\", \"Topic1\", \"Topic2\", \"Topic2\", \"Topic2\", \"Topic2\", \"Topic2\", \"Topic2\", \"Topic2\", \"Topic2\", \"Topic2\", \"Topic2\", \"Topic2\", \"Topic2\", \"Topic2\", \"Topic2\", \"Topic2\", \"Topic2\", \"Topic2\", \"Topic2\", \"Topic2\", \"Topic2\", \"Topic2\", \"Topic2\", \"Topic2\", \"Topic2\", \"Topic2\", \"Topic2\", \"Topic2\", \"Topic2\", \"Topic2\", \"Topic2\", \"Topic2\", \"Topic2\", \"Topic2\", \"Topic2\", \"Topic2\", \"Topic2\", \"Topic2\", \"Topic2\", \"Topic2\", \"Topic2\", \"Topic2\", \"Topic2\", \"Topic2\", \"Topic2\", \"Topic2\", \"Topic2\", \"Topic2\", \"Topic2\", \"Topic2\", \"Topic2\", \"Topic2\", \"Topic2\", \"Topic2\", \"Topic2\", \"Topic2\", \"Topic2\", \"Topic2\", \"Topic2\", \"Topic2\", \"Topic2\", \"Topic2\", \"Topic2\", \"Topic2\", \"Topic3\", \"Topic3\", \"Topic3\", \"Topic3\", \"Topic3\", \"Topic3\", \"Topic3\", \"Topic3\", \"Topic3\", \"Topic3\", \"Topic3\", \"Topic3\", \"Topic3\", \"Topic3\", \"Topic3\", \"Topic3\", \"Topic3\", \"Topic3\", \"Topic3\", \"Topic3\", \"Topic3\", \"Topic3\", \"Topic3\", \"Topic3\", \"Topic3\", \"Topic3\", \"Topic3\", \"Topic3\", \"Topic3\", \"Topic3\", \"Topic3\", \"Topic3\", \"Topic3\", \"Topic3\", \"Topic3\", \"Topic3\", \"Topic3\", \"Topic3\", \"Topic3\", \"Topic3\", \"Topic3\", \"Topic3\", \"Topic3\", \"Topic3\", \"Topic3\", \"Topic3\", \"Topic3\", \"Topic3\", \"Topic3\", \"Topic3\", \"Topic3\", \"Topic3\", \"Topic3\", \"Topic3\", \"Topic3\", \"Topic3\", \"Topic3\", \"Topic3\", \"Topic3\", \"Topic3\", \"Topic3\", \"Topic3\", \"Topic4\", \"Topic4\", \"Topic4\", \"Topic4\", \"Topic4\", \"Topic4\", \"Topic4\", \"Topic4\", \"Topic4\", \"Topic4\", \"Topic4\", \"Topic4\", \"Topic4\", \"Topic4\", \"Topic4\", \"Topic4\", \"Topic4\", \"Topic4\", \"Topic4\", \"Topic4\", \"Topic4\", \"Topic4\", \"Topic4\", \"Topic4\", \"Topic4\", \"Topic4\", \"Topic4\", \"Topic4\", \"Topic4\", \"Topic4\", \"Topic4\", \"Topic4\", \"Topic4\", \"Topic4\", \"Topic4\", \"Topic4\", \"Topic4\", \"Topic4\", \"Topic4\", \"Topic4\", \"Topic4\", \"Topic4\", \"Topic4\", \"Topic4\", \"Topic4\", \"Topic4\", \"Topic4\", \"Topic4\", \"Topic4\", \"Topic4\", \"Topic4\", \"Topic4\", \"Topic4\", \"Topic4\", \"Topic4\", \"Topic4\", \"Topic4\", \"Topic4\", \"Topic4\", \"Topic4\", \"Topic4\", \"Topic4\", \"Topic5\", \"Topic5\", \"Topic5\", \"Topic5\", \"Topic5\", \"Topic5\", \"Topic5\", \"Topic5\", \"Topic5\", \"Topic5\", \"Topic5\", \"Topic5\", \"Topic5\", \"Topic5\", \"Topic5\", \"Topic5\", \"Topic5\", \"Topic5\", \"Topic5\", \"Topic5\", \"Topic5\", \"Topic5\", \"Topic5\", \"Topic5\", \"Topic5\", \"Topic5\", \"Topic5\", \"Topic5\", \"Topic5\", \"Topic5\", \"Topic5\", \"Topic5\", \"Topic5\", \"Topic5\", \"Topic5\", \"Topic5\", \"Topic5\", \"Topic5\", \"Topic5\", \"Topic5\", \"Topic5\", \"Topic5\", \"Topic5\", \"Topic5\", \"Topic5\", \"Topic5\", \"Topic5\", \"Topic5\", \"Topic5\", \"Topic5\", \"Topic5\", \"Topic5\", \"Topic5\", \"Topic6\", \"Topic6\", \"Topic6\", \"Topic6\", \"Topic6\", \"Topic6\", \"Topic6\", \"Topic6\", \"Topic6\", \"Topic6\", \"Topic6\", \"Topic6\", \"Topic6\", \"Topic6\", \"Topic6\", \"Topic6\", \"Topic6\", \"Topic6\", \"Topic6\", \"Topic6\", \"Topic6\", \"Topic6\", \"Topic6\", \"Topic6\", \"Topic6\", \"Topic6\", \"Topic6\", \"Topic6\", \"Topic6\", \"Topic6\", \"Topic6\", \"Topic6\", \"Topic6\", \"Topic6\", \"Topic6\", \"Topic6\", \"Topic6\", \"Topic6\", \"Topic6\", \"Topic6\", \"Topic6\", \"Topic6\", \"Topic6\", \"Topic6\", \"Topic6\", \"Topic6\", \"Topic6\", \"Topic6\", \"Topic6\", \"Topic6\", \"Topic6\", \"Topic6\", \"Topic6\", \"Topic6\", \"Topic6\", \"Topic6\", \"Topic6\", \"Topic7\", \"Topic7\", \"Topic7\", \"Topic7\", \"Topic7\", \"Topic7\", \"Topic7\", \"Topic7\", \"Topic7\", \"Topic7\", \"Topic7\", \"Topic7\", \"Topic7\", \"Topic7\", \"Topic7\", \"Topic7\", \"Topic7\", \"Topic7\", \"Topic7\", \"Topic7\", \"Topic7\", \"Topic7\", \"Topic7\", \"Topic7\", \"Topic7\", \"Topic7\", \"Topic7\", \"Topic7\", \"Topic7\", \"Topic7\", \"Topic7\", \"Topic7\", \"Topic7\", \"Topic7\", \"Topic7\", \"Topic7\", \"Topic7\", \"Topic7\", \"Topic7\", \"Topic7\", \"Topic7\", \"Topic7\", \"Topic7\", \"Topic7\", \"Topic7\", \"Topic7\", \"Topic7\", \"Topic7\", \"Topic7\", \"Topic7\", \"Topic7\", \"Topic7\", \"Topic7\", \"Topic7\", \"Topic7\", \"Topic7\", \"Topic7\", \"Topic7\", \"Topic7\", \"Topic7\", \"Topic7\", \"Topic7\", \"Topic7\", \"Topic7\", \"Topic8\", \"Topic8\", \"Topic8\", \"Topic8\", \"Topic8\", \"Topic8\", \"Topic8\", \"Topic8\", \"Topic8\", \"Topic8\", \"Topic8\", \"Topic8\", \"Topic8\", \"Topic8\", \"Topic8\", \"Topic8\", \"Topic8\", \"Topic8\", \"Topic8\", \"Topic8\", \"Topic8\", \"Topic8\", \"Topic8\", \"Topic8\", \"Topic8\", \"Topic8\", \"Topic8\", \"Topic8\", \"Topic8\", \"Topic8\", \"Topic8\", \"Topic8\", \"Topic8\", \"Topic8\", \"Topic8\", \"Topic8\", \"Topic8\", \"Topic8\", \"Topic8\", \"Topic8\", \"Topic8\", \"Topic8\", \"Topic8\", \"Topic8\", \"Topic8\", \"Topic8\", \"Topic8\", \"Topic8\", \"Topic8\", \"Topic8\", \"Topic8\", \"Topic8\", \"Topic8\", \"Topic8\", \"Topic8\", \"Topic8\", \"Topic8\", \"Topic8\", \"Topic9\", \"Topic9\", \"Topic9\", \"Topic9\", \"Topic9\", \"Topic9\", \"Topic9\", \"Topic9\", \"Topic9\", \"Topic9\", \"Topic9\", \"Topic9\", \"Topic9\", \"Topic9\", \"Topic9\", \"Topic9\", \"Topic9\", \"Topic9\", \"Topic9\", \"Topic9\", \"Topic9\", \"Topic9\", \"Topic9\", \"Topic9\", \"Topic9\", \"Topic9\", \"Topic9\", \"Topic9\", \"Topic9\", \"Topic9\", \"Topic9\", \"Topic9\", \"Topic9\", \"Topic9\", \"Topic9\", \"Topic9\", \"Topic9\", \"Topic9\", \"Topic9\", \"Topic9\", \"Topic9\", \"Topic9\", \"Topic9\", \"Topic9\", \"Topic9\", \"Topic9\", \"Topic9\", \"Topic9\", \"Topic9\", \"Topic9\", \"Topic9\", \"Topic9\", \"Topic9\", \"Topic9\", \"Topic9\", \"Topic9\", \"Topic9\", \"Topic9\", \"Topic9\", \"Topic9\", \"Topic10\", \"Topic10\", \"Topic10\", \"Topic10\", \"Topic10\", \"Topic10\", \"Topic10\", \"Topic10\", \"Topic10\", \"Topic10\", \"Topic10\", \"Topic10\", \"Topic10\", \"Topic10\", \"Topic10\", \"Topic10\", \"Topic10\", \"Topic10\", \"Topic10\", \"Topic10\", \"Topic10\", \"Topic10\", \"Topic10\", \"Topic10\", \"Topic10\", \"Topic10\", \"Topic10\", \"Topic10\", \"Topic10\", \"Topic10\", \"Topic10\", \"Topic10\", \"Topic10\", \"Topic10\", \"Topic10\", \"Topic10\", \"Topic10\", \"Topic10\", \"Topic10\", \"Topic10\", \"Topic10\", \"Topic10\", \"Topic10\", \"Topic10\", \"Topic10\", \"Topic10\", \"Topic10\", \"Topic10\", \"Topic10\", \"Topic10\", \"Topic10\", \"Topic10\", \"Topic10\", \"Topic10\", \"Topic10\", \"Topic10\", \"Topic10\", \"Topic10\", \"Topic10\", \"Topic10\", \"Topic10\", \"Topic10\", \"Topic10\"], \"logprob\": [30.0, 29.0, 28.0, 27.0, 26.0, 25.0, 24.0, 23.0, 22.0, 21.0, 20.0, 19.0, 18.0, 17.0, 16.0, 15.0, 14.0, 13.0, 12.0, 11.0, 10.0, 9.0, 8.0, 7.0, 6.0, 5.0, 4.0, 3.0, 2.0, 1.0, -4.2489, -4.4864, -4.9199, -4.9639, -5.1438, -5.185, -5.2083, -5.2103, -5.2122, -5.282, -5.343, -5.3492, -5.3616, -5.4185, -5.319, -5.4566, -5.4737, -5.5082, -5.5333, -5.5333, -5.5333, -5.5333, -5.6259, -5.7035, -5.723, -5.7595, -5.7776, -5.8755, -5.8802, -5.8971, -4.5195, -5.0904, -5.4237, -4.6304, -5.0072, -5.1476, -3.8007, -4.7806, -4.7679, -4.2616, -4.2503, -4.5549, -4.5851, -4.4112, -4.5589, -4.3783, -4.8748, -4.9855, -4.6351, -4.5882, -4.7428, -4.9825, -4.7625, -4.6983, -4.7164, -4.6924, -4.989, -4.977, -4.9325, -4.9121, -4.8871, -4.9258, -4.9435, -4.9496, -4.3781, -4.5741, -4.7458, -4.7627, -4.8444, -5.2721, -5.2843, -5.3198, -5.3249, -5.3961, -5.4299, -5.6002, -5.6369, -5.6419, -5.6438, -5.7651, -5.7716, -5.7871, -5.7871, -5.8087, -5.9427, -5.9804, -6.0361, -6.0675, -6.0749, -6.0982, -6.1214, -6.207, -6.4481, -6.4604, -5.329, -5.7086, -4.5915, -5.061, -4.0931, -5.1231, -4.9448, -4.9534, -4.3821, -5.0353, -4.0766, -4.4687, -4.4389, -4.7909, -4.8402, -3.8216, -4.6007, -4.1739, -3.9597, -4.9785, -4.278, -4.5258, -4.5544, -4.6306, -4.647, -4.7395, -4.6027, -4.6412, -4.8918, -4.7027, -4.7431, -4.7732, -4.9202, -4.5674, -4.8538, -4.856, -4.8926, -5.1194, -5.169, -5.3242, -5.3695, -5.4294, -5.4559, -5.4552, -5.5895, -5.5904, -5.5994, -5.6144, -5.6206, -5.6961, -5.7297, -5.7924, -5.8189, -5.8342, -5.8986, -5.9179, -6.0521, -6.0853, -6.1236, -6.4416, -6.5447, -6.5577, -5.7859, -4.9813, -5.4666, -5.2889, -3.7369, -5.1616, -4.8538, -4.7742, -4.1333, -4.3711, -4.3565, -4.7423, -4.9229, -4.4154, -5.0068, -4.3449, -4.3654, -3.9921, -4.0715, -4.5361, -4.2781, -4.4328, -4.8644, -4.7237, -4.3941, -4.9604, -4.6482, -4.812, -4.5866, -4.701, -4.6931, -4.8251, -4.8113, -4.1828, -5.0104, -5.1576, -5.4027, -5.4098, -5.4817, -5.5968, -5.6074, -5.6467, -5.6645, -5.4949, -5.9626, -5.9701, -6.0367, -6.1087, -6.1117, -6.1374, -6.2413, -6.2879, -6.3849, -6.5317, -3.6978, -6.6282, -6.3146, -6.0191, -5.6704, -5.6176, -6.1066, -6.6135, -5.359, -3.9598, -5.3744, -4.0117, -3.1786, -5.1317, -3.8781, -4.6102, -4.6504, -4.2477, -4.93, -4.3327, -5.6633, -4.9399, -4.6149, -4.7797, -5.0759, -4.5356, -4.3358, -4.4898, -4.5741, -4.6576, -4.9063, -4.8122, -4.8138, -4.726, -4.5796, -5.0083, -5.0516, -4.9209, -4.8191, -4.8497, -5.0328, -3.7394, -3.887, -4.0587, -4.3569, -4.3586, -4.4307, -4.4538, -4.5071, -4.8469, -4.8783, -4.9775, -5.143, -5.1869, -5.2499, -5.2905, -5.2927, -5.414, -5.4699, -5.5425, -5.6388, -5.6563, -5.6718, -5.7115, -5.7941, -5.8117, -5.842, -5.8447, -5.8453, -5.9133, -5.9686, -2.9246, -4.4092, -5.1069, -3.5826, -4.367, -4.6966, -4.7308, -5.1864, -4.6653, -3.591, -4.6535, -4.7296, -4.656, -4.1485, -3.9033, -3.8955, -4.893, -4.0493, -4.5284, -4.7456, -4.4676, -4.6234, -4.8, -3.5543, -4.065, -4.5883, -4.9298, -5.0196, -5.0436, -5.1228, -5.1659, -5.188, -5.3989, -5.4034, -5.4399, -5.4803, -5.4905, -5.6135, -5.639, -5.6974, -5.7418, -5.781, -5.8637, -6.0724, -4.2608, -5.4525, -6.0081, -4.2793, -5.8744, -5.2474, -5.7525, -5.5863, -5.5567, -4.1966, -4.4616, -4.1134, -4.6401, -4.3788, -3.5981, -4.8147, -4.8527, -5.0395, -4.7261, -3.7678, -4.0178, -4.2888, -4.5173, -4.3767, -4.914, -4.4084, -4.6525, -4.5694, -4.4939, -4.9155, -4.6455, -4.7606, -4.8461, -4.7722, -4.7741, -4.8139, -4.331, -4.9471, -5.0131, -5.0262, -5.1926, -5.2852, -5.3621, -5.3907, -5.6033, -5.6394, -5.6582, -5.6768, -5.7469, -5.7703, -5.8121, -5.8225, -5.858, -5.8802, -5.9224, -5.9484, -5.9661, -5.9691, -6.0021, -6.0448, -6.3511, -6.3709, -6.4078, -6.4637, -5.8103, -5.8771, -4.6711, -5.4147, -5.498, -4.9512, -5.7715, -5.254, -4.4594, -5.2429, -4.8574, -5.5651, -4.7427, -4.0275, -4.0825, -4.8892, -4.6657, -5.0058, -4.7303, -4.2418, -4.1645, -4.3415, -4.8548, -4.5887, -4.436, -4.4782, -4.8313, -4.3878, -4.7317, -4.7006, -4.9415, -4.8631, -4.9698, -4.8219, -4.9922, -5.0095, -4.1869, -4.405, -4.8935, -4.9253, -4.9248, -5.1222, -5.1736, -5.2107, -5.2477, -5.2479, -5.2781, -5.3218, -5.3401, -5.3841, -5.3888, -5.4536, -5.4811, -5.5026, -5.6057, -5.6109, -5.7475, -5.7743, -5.7852, -5.7858, -5.8063, -5.8161, -5.8415, -5.6605, -5.8883, -5.9045, -3.5987, -5.4562, -4.5568, -4.4839, -5.1368, -3.849, -5.4606, -4.3055, -4.6512, -4.0409, -4.4831, -4.2636, -4.9759, -3.9949, -4.1491, -4.42, -4.8091, -4.1258, -4.8642, -4.8325, -4.9407, -4.6488, -4.7847, -4.709, -4.973, -4.7184, -4.9265, -4.9879, -4.6731, -5.096, -5.2259, -5.3478, -5.3518, -5.3991, -5.4546, -5.4596, -5.4613, -5.6106, -5.6521, -5.6679, -5.7, -5.7733, -5.8002, -5.8492, -5.9041, -5.9385, -5.9431, -5.9757, -6.0015, -6.004, -6.0336, -6.1522, -6.3602, -6.3914, -4.3135, -6.4625, -6.4941, -6.5966, -3.6685, -5.7919, -4.3436, -3.515, -4.0709, -4.6471, -4.3244, -4.8258, -4.2531, -4.8725, -4.9225, -4.9139, -5.3226, -3.7065, -4.0085, -4.4897, -4.9588, -4.9949, -4.7757, -4.6974, -4.7295, -4.2487, -4.3125, -4.4279, -4.8198, -4.7394, -4.9109, -5.0171, -4.835, -5.0304, -4.5756, -4.7357, -4.7602, -4.9492, -4.9932, -5.073, -5.13, -5.2005, -5.2087, -5.2183, -5.2886, -5.2961, -5.3758, -5.4105, -5.4281, -5.4699, -5.4769, -5.5229, -5.5593, -5.5849, -5.7657, -5.7687, -5.7711, -5.773, -5.6728, -5.5643, -5.864, -5.9254, -5.9267, -5.9301, -3.8914, -4.312, -5.0432, -4.7166, -4.6262, -4.017, -4.8041, -5.4229, -5.1316, -4.6291, -3.7932, -4.7447, -4.7455, -4.7146, -5.1527, -4.6079, -4.5051, -4.4872, -4.49, -4.2083, -4.5343, -4.7282, -4.5623, -4.6184, -4.6924, -4.8408, -4.7309, -4.692, -4.7059, -4.7211, -4.768, -4.7739, -4.7937], \"loglift\": [30.0, 29.0, 28.0, 27.0, 26.0, 25.0, 24.0, 23.0, 22.0, 21.0, 20.0, 19.0, 18.0, 17.0, 16.0, 15.0, 14.0, 13.0, 12.0, 11.0, 10.0, 9.0, 8.0, 7.0, 6.0, 5.0, 4.0, 3.0, 2.0, 1.0, 2.4002, 2.398, 2.3925, 2.3917, 2.3885, 2.3877, 2.3872, 2.3872, 2.3871, 2.3856, 2.3842, 2.3841, 2.3838, 2.3823, 2.3822, 2.3813, 2.3809, 2.3799, 2.3792, 2.3792, 2.3792, 2.3792, 2.3764, 2.3739, 2.3732, 2.372, 2.3713, 2.3676, 2.3674, 2.3667, 2.3143, 2.2979, 2.3256, 2.214, 2.1719, 2.1772, 1.6595, 2.0119, 1.9917, 1.7076, 1.6888, 1.7635, 1.7468, 1.3536, 1.4208, 1.1607, 1.6951, 1.7885, 1.1886, 0.9697, 1.2671, 1.7146, 1.1758, 0.8509, 0.9049, 0.7952, 1.6646, 1.3164, 0.8951, 0.5917, 0.0167, 0.485, 0.3275, -0.0427, 2.2613, 2.2609, 2.2591, 2.2589, 2.2579, 2.2512, 2.251, 2.2503, 2.2502, 2.2487, 2.2479, 2.2438, 2.2428, 2.2427, 2.2426, 2.2391, 2.2389, 2.2384, 2.2384, 2.2377, 2.233, 2.2316, 2.2294, 2.2281, 2.2278, 2.2269, 2.2258, 2.2219, 2.2091, 2.2083, 2.0769, 2.1095, 1.8765, 1.9756, 1.6487, 1.9337, 1.8742, 1.8475, 1.6245, 1.857, 1.4271, 1.5671, 1.4968, 1.6151, 1.6421, 0.9559, 1.4638, 1.0972, 0.8771, 1.6076, 0.7723, 1.0438, 0.9428, 1.0607, 1.087, 1.2071, 0.8497, 0.8521, 1.3777, 0.6806, 0.4573, 0.307, -0.0164, 2.1427, 2.1399, 2.1399, 2.1395, 2.1365, 2.1357, 2.1332, 2.1323, 2.1312, 2.1306, 2.1302, 2.1277, 2.1277, 2.1275, 2.1272, 2.127, 2.1251, 2.1242, 2.1225, 2.1218, 2.1213, 2.1194, 2.1187, 2.1142, 2.1129, 2.1115, 2.097, 2.0912, 2.0905, 2.0134, 1.9938, 1.9599, 1.9334, 1.5219, 1.8411, 1.7401, 1.6824, 1.3748, 1.4479, 1.4245, 1.5315, 1.5978, 1.2059, 1.6207, 1.1075, 1.106, 0.7854, 0.8354, 1.2153, 0.9728, 1.0606, 1.4552, 1.1905, 0.6861, 1.44, 0.7636, 1.0756, 0.435, 0.5957, 0.2107, 0.672, 0.1615, 2.0633, 2.0561, 2.0545, 2.0506, 2.0505, 2.0491, 2.0467, 2.0465, 2.0456, 2.0452, 2.0394, 2.0372, 2.037, 2.0348, 2.0323, 2.0322, 2.0313, 2.0273, 2.0254, 2.0211, 2.0137, 2.0102, 2.0083, 1.9843, 1.97, 1.9647, 1.9579, 1.9553, 1.9551, 1.9518, 1.9184, 1.9274, 1.8159, 1.6582, 1.8599, 1.7082, 1.7637, 1.6594, 1.5224, 1.612, 1.2292, 1.821, 1.4063, 1.187, 1.2481, 1.4322, 1.0223, 0.8645, 0.9221, 0.7407, 0.83, 1.137, 0.8672, 0.8651, 0.6847, 0.3933, 0.9403, 1.0487, 0.6487, 0.2611, 0.0572, 0.4606, 2.4332, 2.4324, 2.4313, 2.429, 2.429, 2.4283, 2.4281, 2.4275, 2.4232, 2.4227, 2.4211, 2.4181, 2.4172, 2.4159, 2.415, 2.4149, 2.412, 2.4105, 2.4084, 2.4055, 2.4049, 2.4044, 2.403, 2.3999, 2.3994, 2.3982, 2.3981, 2.3981, 2.3953, 2.393, 2.0916, 2.2335, 2.2908, 2.04, 2.1617, 2.1643, 2.1174, 2.2279, 2.0396, 1.6415, 1.9934, 2.0155, 1.9067, 1.4352, 1.0696, 0.9763, 1.9533, 0.8544, 1.2703, 1.5947, 0.7328, 1.0939, 0.4968, 2.5199, 2.5169, 2.5118, 2.5066, 2.505, 2.5045, 2.5029, 2.502, 2.5015, 2.4962, 2.496, 2.495, 2.4938, 2.4935, 2.4895, 2.4886, 2.4864, 2.4848, 2.4833, 2.4798, 2.4697, 2.463, 2.4221, 2.3615, 2.3589, 2.3526, 2.3425, 2.3243, 2.2788, 2.2681, 2.2567, 2.2154, 2.0761, 2.1377, 1.9254, 1.6527, 2.0414, 2.0523, 2.0912, 1.8256, 1.1391, 1.2969, 1.4286, 1.5851, 1.4157, 1.9193, 1.0997, 1.3172, 0.6894, 0.479, 1.4943, 0.2583, 0.769, 1.1421, 0.7316, 0.497, 0.5225, 2.271, 2.2645, 2.2635, 2.2633, 2.2606, 2.2588, 2.2572, 2.2566, 2.2515, 2.2505, 2.2499, 2.2494, 2.2473, 2.2466, 2.2452, 2.2449, 2.2437, 2.2429, 2.2414, 2.2404, 2.2397, 2.2396, 2.2383, 2.2366, 2.2219, 2.2208, 2.2187, 2.2154, 2.1906, 2.1466, 2.1367, 2.1221, 2.1291, 2.0337, 2.1403, 2.0591, 1.847, 2.0416, 1.9165, 2.1081, 1.8233, 1.3558, 1.3637, 1.7519, 1.6146, 1.7885, 1.6102, 1.2296, 1.0943, 1.1852, 1.5021, 1.235, 1.0849, 1.0837, 1.301, 0.4841, 0.9477, 0.8385, 1.2481, 0.8787, 1.2113, 0.429, 0.7554, 1.1465, 2.4356, 2.4337, 2.4276, 2.4271, 2.4271, 2.4227, 2.4226, 2.4218, 2.421, 2.421, 2.4203, 2.4193, 2.4188, 2.4177, 2.4176, 2.4159, 2.4152, 2.4146, 2.4115, 2.4113, 2.4067, 2.4057, 2.4053, 2.4053, 2.4045, 2.4042, 2.4032, 2.4023, 2.4013, 2.4006, 2.297, 2.3735, 2.276, 2.0403, 2.1789, 1.7002, 2.2712, 1.6642, 1.8225, 1.2739, 1.4989, 1.2755, 1.8779, 1.0267, 1.1477, 1.314, 1.7109, 0.6517, 1.666, 1.5439, 1.7144, 1.1435, 1.3476, 1.0423, 1.5978, 0.3618, 0.5706, 1.0399, 2.0502, 2.0456, 2.0438, 2.0419, 2.0418, 2.041, 2.04, 2.0399, 2.0399, 2.0369, 2.036, 2.0356, 2.0348, 2.033, 2.0324, 2.031, 2.0295, 2.0285, 2.0284, 2.0274, 2.0266, 2.0265, 2.0255, 2.0214, 2.013, 2.0115, 2.0086, 2.0081, 2.006, 2.0011, 1.891, 1.9752, 1.8973, 1.7561, 1.6755, 1.7562, 1.6409, 1.7442, 1.4638, 1.6689, 1.6576, 1.6492, 1.7992, 1.1653, 1.0417, 1.1892, 1.4723, 1.4101, 1.2069, 1.0967, 1.0723, 0.5288, 0.5913, 0.5937, 0.9277, 0.7068, 0.8833, 1.145, 0.3975, 0.7209, 2.5157, 2.5135, 2.5132, 2.51, 2.5092, 2.5076, 2.5064, 2.5048, 2.5047, 2.5044, 2.5027, 2.5025, 2.5004, 2.4994, 2.4989, 2.4977, 2.4975, 2.496, 2.4949, 2.494, 2.4873, 2.4872, 2.4871, 2.487, 2.4856, 2.4832, 2.4832, 2.4804, 2.4803, 2.4802, 2.3197, 2.353, 2.4066, 2.3667, 2.1715, 1.9657, 2.186, 2.3388, 2.2063, 1.9011, 1.223, 1.8433, 1.8385, 1.7848, 2.1578, 1.4844, 1.314, 1.2297, 1.1888, 0.7646, 1.2133, 1.3248, 0.9674, 0.9082, 1.0724, 1.4724, 1.0633, 0.7604, 0.7816, 0.8368, 0.6428, 0.5228, 0.2279]}, \"token.table\": {\"Topic\": [10, 10, 4, 7, 9, 10, 3, 2, 3, 7, 9, 2, 5, 2, 7, 8, 4, 8, 8, 2, 7, 4, 1, 3, 4, 5, 6, 9, 1, 4, 6, 7, 8, 9, 10, 1, 2, 3, 6, 2, 3, 5, 7, 9, 10, 5, 3, 7, 1, 2, 5, 7, 8, 10, 4, 6, 7, 8, 9, 10, 6, 9, 8, 4, 7, 8, 9, 7, 3, 1, 2, 1, 2, 4, 7, 9, 10, 2, 3, 5, 7, 8, 4, 7, 7, 4, 8, 10, 2, 4, 5, 8, 9, 10, 4, 6, 7, 3, 7, 8, 3, 7, 10, 2, 9, 3, 4, 5, 7, 8, 9, 10, 1, 5, 8, 9, 10, 1, 2, 10, 6, 1, 3, 7, 4, 10, 3, 5, 7, 9, 1, 1, 4, 6, 7, 8, 9, 10, 2, 3, 4, 5, 7, 8, 10, 9, 4, 6, 8, 4, 5, 5, 10, 8, 4, 9, 7, 2, 10, 6, 9, 4, 7, 1, 7, 9, 6, 10, 3, 8, 1, 3, 10, 1, 9, 10, 3, 4, 6, 7, 8, 9, 10, 3, 6, 2, 9, 10, 2, 3, 2, 3, 4, 6, 8, 9, 10, 6, 1, 10, 1, 3, 5, 6, 9, 6, 8, 10, 6, 10, 2, 1, 2, 5, 7, 1, 6, 7, 7, 2, 3, 4, 5, 7, 8, 9, 2, 1, 4, 7, 8, 9, 5, 3, 6, 8, 6, 5, 6, 7, 3, 6, 2, 3, 6, 9, 10, 3, 8, 1, 3, 6, 9, 1, 2, 4, 5, 6, 8, 5, 6, 10, 5, 1, 4, 8, 6, 9, 9, 9, 1, 7, 1, 6, 7, 9, 10, 10, 3, 1, 2, 3, 10, 7, 10, 5, 6, 10, 8, 4, 7, 9, 9, 9, 4, 1, 8, 9, 10, 3, 6, 7, 8, 2, 3, 5, 6, 7, 7, 1, 4, 7, 9, 3, 6, 7, 6, 7, 10, 5, 2, 3, 9, 5, 10, 3, 10, 1, 2, 4, 5, 7, 8, 9, 5, 3, 5, 6, 6, 5, 4, 8, 5, 7, 4, 7, 1, 2, 3, 5, 6, 9, 10, 1, 2, 3, 4, 6, 9, 10, 6, 3, 3, 8, 2, 8, 10, 4, 8, 1, 4, 5, 7, 9, 1, 2, 4, 6, 7, 9, 10, 4, 3, 8, 10, 3, 5, 2, 3, 7, 8, 9, 3, 9, 1, 2, 4, 7, 8, 9, 10, 8, 1, 5, 9, 1, 2, 3, 4, 5, 7, 9, 10, 6, 7, 1, 4, 6, 9, 1, 4, 6, 7, 9, 1, 1, 4, 6, 7, 8, 9, 1, 3, 4, 6, 7, 9, 10, 1, 1, 9, 9, 7, 1, 10, 10, 1, 1, 2, 4, 8, 9, 2, 1, 4, 7, 9, 2, 7, 9, 10, 10, 3, 6, 4, 8, 9, 5, 1, 6, 8, 10, 1, 2, 3, 5, 6, 7, 8, 4, 7, 8, 1, 4, 1, 8, 7, 1, 4, 7, 8, 9, 10, 1, 2, 3, 4, 5, 8, 9, 10, 10, 2, 1, 1, 4, 9, 2, 3, 1, 4, 8, 8, 7, 9, 10, 7, 2, 3, 1, 4, 5, 6, 7, 10, 2, 7, 8, 8, 10, 1, 3, 5, 7, 8, 9, 7, 1, 2, 4, 7, 10, 3, 1, 4, 7, 1, 5, 1, 2, 3, 4, 5, 6, 7, 8, 9, 10, 2, 5, 8, 9, 8, 1, 1, 1, 2, 3, 4, 8, 9, 10, 7, 6, 7, 6, 7, 8, 9, 2, 4, 5, 9, 9, 9, 2, 3, 4, 7, 9, 10, 4, 10, 2, 1, 2, 3, 4, 7, 6, 9, 10, 1, 3, 4, 5, 10, 1, 3, 8, 10, 2, 5, 3, 4, 5, 3, 6, 7, 9, 10, 8, 10, 1, 3, 4, 5, 6, 8, 10, 2, 6, 9, 10, 1, 2, 3, 4, 8, 9, 10, 10, 6, 10, 2, 3, 4, 5, 6, 7, 10, 6, 2, 5, 10, 5, 6, 10, 3, 5, 9, 10, 2, 10, 5, 7, 8, 3, 9, 1, 5, 4, 1, 2, 3, 4, 5, 6, 7, 8, 9, 10, 3, 4, 1, 2, 6, 7, 8, 9, 10, 10, 3, 1, 1, 3, 10, 4, 2, 1, 2, 3, 4, 5, 6, 7, 9, 10, 1, 2, 4, 5, 7, 8, 9, 10, 4, 10, 2, 1, 4, 5, 6, 10, 8, 6, 3, 5, 4, 5, 6, 1, 7, 9, 5, 4, 8, 6, 1, 2, 3, 4, 5, 6, 7, 8, 10, 1, 2, 3, 4, 5, 7, 9, 10, 5, 3, 4, 6, 7, 8, 3, 3, 4, 7, 4, 7, 8, 9, 6, 9, 7, 10, 2, 10, 9, 10, 6, 10, 4, 10, 3, 8, 1, 2, 4, 6, 3, 3, 7, 4, 7, 10, 9, 6, 1, 3, 7, 9, 1, 6, 7, 8, 10, 1, 3, 8, 9, 2, 8, 9, 2, 4, 2, 4, 6, 9, 4, 5, 7, 8, 1, 2, 5, 7, 8, 9, 10, 1, 9, 6, 7, 4, 8, 10, 8, 7, 6, 9, 5, 6, 1, 2, 3, 4, 6, 7, 8, 3, 1, 7, 8, 9, 2, 4, 6, 7, 3, 10, 3, 7, 4, 7, 4, 2, 1, 8, 3, 2, 3, 5, 6, 7, 1, 8, 2, 3, 5, 10, 7, 9, 6, 7, 9, 10, 6, 7, 9, 10, 3, 1, 4, 7, 3, 10, 9, 5, 3, 6, 10, 1, 4, 10, 5, 9, 3, 1, 5, 2, 9, 2, 3, 4, 6, 7, 8, 10, 7, 5, 10, 2, 3, 10, 9, 2, 8, 5, 2, 5, 4, 5, 2, 1, 2, 3, 4, 6, 7, 8, 10, 1, 2, 3, 8, 9, 1, 5, 2, 5, 6, 8, 3, 6, 7, 8, 9, 4, 5, 6, 1, 2, 3, 4, 6, 8, 10, 2, 6, 8, 10, 5, 8, 1, 5, 7, 8, 4, 5, 10, 1, 6, 8, 9, 10, 8, 4, 2, 3, 9, 2, 6, 7, 8, 9, 10, 8, 9, 7, 2, 9, 3, 4, 5, 6, 7, 8, 9, 4, 9, 2, 1, 4, 6, 7, 9, 10, 6, 1, 1, 1, 2, 3, 4, 5, 7, 8, 9, 3, 1, 2, 7, 8, 9, 10, 3, 4, 5, 7, 1, 4, 6, 8, 1, 2, 3, 4, 5, 7, 8, 9, 2, 3, 4, 5, 8, 9, 9, 2, 4, 9, 2, 5, 6, 7, 8, 9, 3, 4, 5, 6, 10, 2, 5, 8, 9, 6, 1, 2, 3, 4, 5, 6, 7, 8, 9, 10, 1, 2, 3, 4, 5, 6, 9, 1, 2, 3, 4, 5, 1, 2, 3, 4, 5, 6, 7, 8, 9, 1, 2, 3, 4, 7, 7, 7, 1, 2, 4, 5, 7, 10, 2, 1, 3, 4, 6, 7, 8, 9, 4, 4, 8, 10, 9, 2, 4, 10, 9, 10, 1, 3, 4, 6, 7, 9, 10, 1, 5, 6, 7, 1, 7, 5, 1, 9, 8, 3, 6, 1, 5, 6, 7, 5, 4, 7, 2, 3, 4, 7, 9, 1, 10, 5, 8, 9, 10, 8, 1, 2, 3, 4, 5, 6, 7, 8, 9, 10, 5, 7, 1, 2, 3, 4, 9, 1, 2, 6, 8, 10, 4, 6, 8, 9, 10, 2, 5, 7, 9, 4, 7, 8, 9, 10, 1, 4, 6, 7, 8, 9, 10, 8, 2, 3, 4, 8, 9, 2, 3, 4, 5, 6, 9, 8, 5, 1, 2, 3, 5, 6, 7, 8, 9, 10, 1, 2, 3, 6, 8, 6, 10, 1, 2, 3, 4, 5, 8, 10, 3, 1, 2, 3, 4, 5, 8], \"Freq\": [0.9804029741004259, 0.9805279093057729, 0.3001936074261523, 0.016864809405963615, 0.4182472732678976, 0.26309102673303236, 0.9798939856565054, 0.2400312687978214, 0.1415569021115357, 0.516990425103, 0.0984743666862857, 0.9710097054058207, 0.9881006391462777, 0.6526114981809341, 0.24861390406892728, 0.0828713013563091, 0.22534615316259596, 0.7627100568580171, 0.963998074172568, 0.9517342865324642, 0.9825369118046281, 0.9845232447775178, 0.08893563911531772, 0.17173778587785493, 0.08893563911531772, 0.368009541166832, 0.07666865440975666, 0.20547199381814785, 0.14705165997526642, 0.25024580732633056, 0.11867326945372378, 0.1393120989239366, 0.09287473261595773, 0.09803443998351094, 0.15221136734281962, 0.15129560767509018, 0.1323836567157039, 0.15759959132821894, 0.548446577822202, 0.179265501886057, 0.38414036118440786, 0.05975516729535234, 0.08109629847226388, 0.27316647906446784, 0.02987758364767617, 0.9817070286669228, 0.21166704779040993, 0.7844131771056368, 0.28744002798395446, 0.014665307550201758, 0.05279510718072633, 0.2375779823132685, 0.31090452006427727, 0.09385796832129126, 0.17791094133118138, 0.030282713418073422, 0.12870153202681206, 0.12870153202681206, 0.3103978125352526, 0.23090568981280987, 0.9094426513168228, 0.060629510087788184, 0.9759828516799315, 0.6979985827993572, 0.0553479052440019, 0.09224650874000316, 0.1537441812333386, 0.9313584217760624, 0.9813438945043058, 0.8223175618925267, 0.17311948671421615, 0.9760400414628612, 0.06103021653944888, 0.4157683501749955, 0.12968921014632886, 0.3738100763041244, 0.02288633120229333, 0.03987077640533114, 0.11296719981510489, 0.16612823502221308, 0.4585139286613081, 0.21264414082843275, 0.8990739830251577, 0.08990739830251578, 0.9644405042464216, 0.13406925205928352, 0.8630708101316378, 0.9635323618508871, 0.0036952500821031574, 0.5801542628901958, 0.10346700229888842, 0.08499075188837263, 0.06651450147785684, 0.15889575353043578, 0.20245054649926078, 0.6782093307725235, 0.11134780057459343, 0.06049884476388205, 0.6957367147846436, 0.23191223826154786, 0.6653029114478823, 0.32844067780338493, 0.9736122110225516, 0.9498048159667353, 0.9481448248775125, 0.21177554605569954, 0.140416394667366, 0.14271830277666708, 0.0069057243279032465, 0.2739270650068288, 0.09207632437204329, 0.13351067033946276, 0.09386397149258503, 0.2503039239802268, 0.4771418550873073, 0.16426195011202382, 0.007821997624382087, 0.24911677788239012, 0.7473503336471703, 0.9322764963056224, 0.9967060961216616, 0.1310472221654054, 0.22933263878945948, 0.6306647566710135, 0.779620319515949, 0.2051632419778813, 0.0721781673109216, 0.07939598404201376, 0.16600978481511966, 0.682083681088209, 0.9922494316412975, 0.05624726957426118, 0.26483089424547973, 0.2929545290326103, 0.07265272320008737, 0.3093599826584365, 0.7710292221822093, 0.21417478393950257, 0.023244162307927734, 0.25052041598544333, 0.3176702182083457, 0.08781127982994921, 0.11622081153963867, 0.09297664923171094, 0.11105544213787695, 0.9742631484262613, 0.014635141465459274, 0.7683449269366119, 0.21952712198188912, 0.9746573977606312, 0.9761092401324718, 0.29315391562022997, 0.6897739191064234, 0.9422566111310557, 0.9864560311992283, 0.9791114487212782, 0.9614206223441337, 0.9770051467208544, 0.9661631044214395, 0.9759594145726506, 0.993323700724793, 0.9862130004271088, 0.9750952779654795, 0.1764861819389236, 0.5098489700457793, 0.307216687078867, 0.2891094467111757, 0.7021229420128553, 0.976108381672303, 0.9787776613358704, 0.9805282877567265, 0.09910635199696798, 0.8919571679727119, 0.6560642058104741, 0.2982110026411246, 0.03976146701881661, 0.22620692243032128, 0.3598746493209657, 0.07197492986419314, 0.12852666047177347, 0.0668338634453222, 0.010282132837741877, 0.13880879330951534, 0.047948855458132995, 0.9397975669794068, 0.675096827419859, 0.22151614649714121, 0.09493549135591767, 0.9908823480266106, 0.9796399751568832, 0.26842920650662305, 0.2547338388277137, 0.07943313253767417, 0.012325830911018406, 0.16708348568269393, 0.21638680932676757, 0.001369536767890934, 0.9841332089933845, 0.8946873317786661, 0.09319659706027772, 0.14089088517383816, 0.5713908120938992, 0.11740907097819846, 0.1095817995796519, 0.06261817118837251, 0.6482989428970115, 0.18728636128135887, 0.14406643175489145, 0.9454297807153056, 0.989413088256883, 0.9715255377769253, 0.9860504618615209, 0.026530752683354676, 0.8136097489562101, 0.15034093187234318, 0.9678719853391278, 0.8436484016450216, 0.1368078489154089, 0.9556828358118815, 0.19393634995553416, 0.22435773818385324, 0.12548822644181623, 0.3118192293402706, 0.007605347057079772, 0.08746149115641737, 0.053237429399558396, 0.9722033734602855, 0.05738036757599608, 0.43991615141596996, 0.11476073515199216, 0.24386656219798333, 0.13866922164199053, 0.963298910349686, 0.8052158709071385, 0.18946255786050317, 0.9889624083404099, 0.9522868919052572, 0.5877569966595028, 0.2775519150892096, 0.13061266592433393, 0.18015936495287685, 0.7806905814624664, 0.19616549142426457, 0.4413723557045953, 0.3573014308084819, 0.42506059954759035, 0.5713180101446107, 0.9198373500405169, 0.9884984639527292, 0.20179152676186415, 0.5381107380316378, 0.22013621101294273, 0.03668936850215712, 0.2929243596825814, 0.24920430599861404, 0.14864818252548906, 0.07432409126274453, 0.07432409126274453, 0.16176419863067928, 0.707663980209349, 0.020864785657278104, 0.27124221354461536, 0.9792496046541275, 0.9684795858754567, 0.9706297019104442, 0.0215695489313432, 0.9779544120155635, 0.954159439335745, 0.9881986542922208, 0.9810031701818753, 0.9683714706455734, 0.9561147925227088, 0.0787249112282695, 0.12166577189823466, 0.1502930123448781, 0.5582311887095472, 0.09303853145159122, 0.9714796124497749, 0.9420885788297059, 0.5344498238261259, 0.25209897350288957, 0.15125938410173376, 0.05041979470057792, 0.9840624521831474, 0.9819616188750351, 0.11535967118867646, 0.7786777805235661, 0.08651975339150735, 0.9720579379160443, 0.968971646513332, 0.8520090667594814, 0.11833459260548353, 0.990396983449475, 0.9807034800594978, 0.949619505350253, 0.06698305675423304, 0.20932205235697826, 0.21769493445125737, 0.5023729256567478, 0.12935774597067815, 0.8623849731378543, 0.990175574162064, 0.9462114283363807, 0.9701494282994696, 0.03918946478797993, 0.6564235351986638, 0.02939209859098495, 0.27432625351585954, 0.9709272672260758, 0.07192475617109163, 0.18380771021501197, 0.0639331165965259, 0.6792893638380877, 0.5318639209922708, 0.1595591762976812, 0.30582175457055566, 0.9497158210042655, 0.2658284229103679, 0.7265976892883389, 0.9595239861920521, 0.07692569219186582, 0.07100833125402999, 0.8520999750483599, 0.15373238058312508, 0.8410065526018019, 0.8327458051384924, 0.15492945211878928, 0.010039550850385217, 0.20330090472030063, 0.0627471928149076, 0.06525708052750391, 0.39656225859021604, 0.10039550850385216, 0.16063281360616347, 0.9612536295150469, 0.9675480146591772, 0.4494245031696691, 0.5457297538488839, 0.9398343987683137, 0.9839811149961541, 0.9485951444903562, 0.9897189400504481, 0.99071539239704, 0.9863368327096795, 0.877372490694342, 0.07311437422452849, 0.015455617249461297, 0.010303744832974198, 0.25759362082435494, 0.025759362082435497, 0.3915423036530195, 0.10818932074622908, 0.19061927941002266, 0.4960337533646997, 0.0811691596414963, 0.10822554618866174, 0.018037591031443624, 0.09920675067293994, 0.10371614843080085, 0.09469735291507902, 0.9633158602568619, 0.9877594247934497, 0.9562470664218179, 0.986617251903101, 0.987193981695687, 0.9805713551095286, 0.9802898336661731, 0.3220294907196585, 0.667622114906609, 0.5243161340680601, 0.1214878847230871, 0.012788198391903906, 0.012788198391903906, 0.3197049597975976, 0.34920254250219657, 0.08821958968476544, 0.11395030334282204, 0.062488876026708856, 0.0955712221584959, 0.05881305978984363, 0.2315764229225093, 0.9523873066248943, 0.4061235079209202, 0.11494061544931704, 0.47508787719051043, 0.9770649839967325, 0.9914749187835304, 0.08131103349419472, 0.2507090199404337, 0.15584614753053985, 0.40655516747097353, 0.10841471132559295, 0.7351545355293221, 0.25350156397562834, 0.23611526880108505, 0.10759683135239319, 0.3526785027661777, 0.029888008708998107, 0.0836864243851947, 0.002988800870899811, 0.18530565399578827, 0.9813955981265137, 0.1420335413962124, 0.7575122207797995, 0.09468902759747494, 0.09475467613808158, 0.13934511196776703, 0.13377130748905636, 0.04459043582968545, 0.016721413436132045, 0.34557587768006226, 0.12819750301034566, 0.09475467613808158, 0.9919524866652405, 0.956548246786677, 0.47385622472833017, 0.09834751833984211, 0.2145764036505646, 0.2056357201651244, 0.4933348607709289, 0.33711215486013474, 0.024666743038546445, 0.09044472447467031, 0.05755573375660838, 0.9760400414628612, 0.47160913635392493, 0.10841589341469537, 0.07318072805491938, 0.15178225078057353, 0.08131192006102153, 0.11383668808543015, 0.09559203008052355, 0.005793456368516579, 0.1332494964758813, 0.06372802005368236, 0.33602046937396157, 0.16801023468698079, 0.19697751652956366, 0.9737506257849853, 0.9879306767907223, 0.9872906944828062, 0.9902662450013234, 0.9934645843632381, 0.1373930395132149, 0.8518368449819325, 0.9833829348060794, 0.9832109664517016, 0.21036482078494906, 0.10370096799258052, 0.05036904159639625, 0.47702445276587035, 0.1599957791885528, 0.9516992498018917, 0.10797928845496785, 0.07475489200728544, 0.14120368490265026, 0.6727940280655689, 0.18787092293797739, 0.21677414185151236, 0.3215483104130767, 0.26735477495019855, 0.9725661090855264, 0.8714576211037387, 0.11244614465854692, 0.8605090059477676, 0.05352448362354535, 0.08234535942083901, 0.9642973879978769, 0.9760400414628612, 0.1497184070335452, 0.8448395825464335, 0.9794348426093914, 0.125315599779263, 0.49644256835631106, 0.05783796912889061, 0.053018138368149725, 0.019279323042963536, 0.23135187651556244, 0.014459492282222652, 0.871778557122843, 0.11965588038940983, 0.9562300669209632, 0.21917991917609814, 0.7749575713726327, 0.7862203594682423, 0.19655508986706058, 0.9784843312501538, 0.17590117524427457, 0.6316451292862587, 0.05596855575954191, 0.01599101593129769, 0.11193711151908382, 0.007995507965648845, 0.2005742298028861, 0.10028711490144306, 0.1448591659687511, 0.2897183319375022, 0.04735780425901478, 0.022286025533654014, 0.022286025533654014, 0.17550245107752535, 0.9787017642461643, 0.9698178791124159, 0.9902354144969893, 0.12536465898009622, 0.8148702833706253, 0.05014586359203848, 0.675777609732033, 0.3193234859173343, 0.6676980010976833, 0.24653464655914462, 0.07190593857975051, 0.962150570424934, 0.6507291022136089, 0.3474767050655193, 0.9715709079419591, 0.9794343906413607, 0.9410950343462585, 0.9860462620617306, 0.03816299258773639, 0.20989645923255013, 0.19717546170330466, 0.12720997529245462, 0.0826864839400955, 0.3498274320542502, 0.9813732447178779, 0.97157412479221, 0.9758378784948984, 0.9755213135315102, 0.9667890482071999, 0.2963008434025096, 0.038986953079277575, 0.10526477331404946, 0.3508825777134982, 0.19103607008846013, 0.01559478123171103, 0.9486823792493143, 0.10594799747450138, 0.22955399452808634, 0.04414499894770891, 0.5915429858992994, 0.026486999368625346, 0.9772515236827118, 0.1131998733403523, 0.2675633369862872, 0.6174538545837398, 0.9837229712734686, 0.9920863220768972, 0.09167702928252007, 0.10100011700616617, 0.14295401176257366, 0.041953894756407484, 0.20510792992021437, 0.1041078129140482, 0.010876935677587126, 0.045061590664289525, 0.22996949718327067, 0.02486156726305629, 0.5242997782170075, 0.14043744059384128, 0.07021872029692064, 0.26214988910850373, 0.9837877081269857, 0.9879014857517977, 0.9855079189101792, 0.10406686181435734, 0.2643860813662052, 0.22782204883683635, 0.11531733336185544, 0.15469398377809876, 0.030938796755619752, 0.10406686181435734, 0.9575372858184006, 0.12516919820517, 0.8657536209190925, 0.20592552840537967, 0.1611591091868189, 0.48347732756045664, 0.14325254149939456, 0.7091732645609642, 0.18732878686516036, 0.01338062763322574, 0.08028376579935444, 0.9743700977136005, 0.9626369498289701, 0.9797319083978387, 0.02700711593872216, 0.43211385501955457, 0.3030798566456598, 0.19205060223091314, 0.045011859897870266, 0.944598049297112, 0.055564591135124235, 0.9815593084542034, 0.01488103547567228, 0.4464310642701684, 0.28273967403777334, 0.04960345158557426, 0.2033741515008545, 0.6207709509417497, 0.3678642672247406, 0.9712616859209131, 0.08925284750373266, 0.4967114991512078, 0.011641675761356433, 0.10477508185220791, 0.29880301120814845, 0.0764527524301743, 0.09829639598165267, 0.5679347323384377, 0.2402800790662621, 0.9831705249389177, 0.9946178935801936, 0.20275352839292157, 0.7366711531609483, 0.05406760757144575, 0.2826712959172774, 0.10328374273900522, 0.32072320113691094, 0.1793875531782722, 0.10871972919895286, 0.4583343590104821, 0.5373575243571169, 0.057614642983832266, 0.49932690585987966, 0.12163091296586812, 0.0832211509766466, 0.019204880994610755, 0.03840976198922151, 0.1792455559497004, 0.15844029564294734, 0.16677925857152354, 0.16677925857152354, 0.5003377757145706, 0.0821620673695873, 0.0821620673695873, 0.18005729657590408, 0.08041393827661736, 0.242989943922822, 0.2307530402720324, 0.09964335829928672, 0.9735016535876254, 0.8453533992221126, 0.09945334108495443, 0.13770166415146737, 0.015300184905718597, 0.1428017257867069, 0.2346028352210185, 0.03570043144667673, 0.08160098616383252, 0.3519042528315277, 0.9591348717376526, 0.518123885528673, 0.36770082198809045, 0.1169957160871197, 0.7589245094247449, 0.1209879652706115, 0.10998905933691955, 0.6240646253665628, 0.19089035599447804, 0.18354841922545967, 0.9761407489745935, 0.9749383136044052, 0.9794032862420504, 0.09438740905542463, 0.8809491511839631, 0.9513243132120763, 0.25753921481214087, 0.7378150478401874, 0.9847326117266957, 0.9640961143522243, 0.9933719457924125, 0.026639711924918617, 0.05660938784045206, 0.1365285236152079, 0.18647798347443031, 0.25474224528203426, 0.12986859563397826, 0.013319855962459309, 0.02330974793430379, 0.0016649819953074136, 0.1714931455166636, 0.9785882415991017, 0.985221636550249, 0.1470646100733183, 0.11489422661977992, 0.2527672985635158, 0.11948999568457112, 0.12408576474936232, 0.07812807410145035, 0.1654476863324831, 0.9280250827496539, 0.9783489455425373, 0.9862122376666771, 0.05743318938622716, 0.12635301664969975, 0.8098079703458029, 0.9723877113779837, 0.9661522575147196, 0.0990383384163837, 0.2971150152491511, 0.010245345353419004, 0.1400197198300597, 0.07513253259173935, 0.027320920942450675, 0.18783133147934838, 0.10586856865199637, 0.05805695700270769, 0.3193605195013198, 0.1596802597506599, 0.08453660810329053, 0.00939295645592117, 0.2160379984861869, 0.07514365164736936, 0.01878591291184234, 0.12210843392697522, 0.9065180432724538, 0.07156721394256214, 0.987660276598394, 0.06798244743179857, 0.9177630403292807, 0.9771592594277877, 0.8163119577064822, 0.14842035594663314, 0.9809578049998606, 0.9658773771047874, 0.2606577627907048, 0.7276695877907177, 0.2258557510452881, 0.6681565968423105, 0.09410656293553671, 0.06878273827448109, 0.9285669667054947, 0.9369867955352925, 0.9944334265390726, 0.8969752177647549, 0.10349714051131788, 0.9689386684523765, 0.13365094865385546, 0.09297457297659512, 0.1045963945986695, 0.20047642298078322, 0.01162182162207439, 0.17142186892559724, 0.05229819729933475, 0.02324364324414878, 0.209192789197339, 0.9571585579840143, 0.12562668260053458, 0.048112346527864315, 0.08286015235354409, 0.013364540702184532, 0.40093622106553595, 0.2592720896223799, 0.06949561165135956, 0.9747026437044035, 0.30779681405212755, 0.05496371679502278, 0.41772424764217314, 0.1582955043696656, 0.06155936281042552, 0.9924185827969703, 0.3352830275581334, 0.5127858068536157, 0.14463189424076342, 0.14802251384336285, 0.0657877839303835, 0.04934083794778762, 0.7318890962255163, 0.044925590670599105, 0.9498553456069525, 0.7952469974389409, 0.19016776025713802, 0.16246121491162352, 0.8393829437100547, 0.2753538469460203, 0.7134167852692344, 0.845151147481241, 0.14966218236646975, 0.9267349895389828, 0.046336749476949136, 0.9772677292586228, 0.9879921093795421, 0.10215110129793198, 0.6583070972533395, 0.22700244732873776, 0.9482169983571986, 0.9818633132259108, 0.9795531172026715, 0.9800446733455667, 0.6656153956548166, 0.2535677697732635, 0.07607033093197905, 0.9892914565969114, 0.9709959003992845, 0.14699615802089244, 0.15516261124427536, 0.032665812893531654, 0.661482711094016, 0.5184462820309537, 0.04536404967770845, 0.34995124037089376, 0.032402892626934604, 0.05184462820309537, 0.9642708093601027, 0.9742843683529816, 0.054446397425232454, 0.9255887562289516, 0.5165118621762798, 0.1954369208234572, 0.27919560117636744, 0.06067381593303469, 0.9101072389955204, 0.14685750030496886, 0.5255952642493623, 0.09275210545576981, 0.23188026363942454, 0.18426868815434108, 0.6178420720469083, 0.07587534218119926, 0.119232680570456, 0.039131210515577115, 0.06923214168140567, 0.23177716997687986, 0.16555512141205703, 0.06170690888994853, 0.4093726638552683, 0.022575698374371414, 0.9653596321506522, 0.9815083099683093, 0.6407676204645264, 0.3541084218356593, 0.23898014223819014, 0.5377053200359277, 0.2165757539033598, 0.9790007261069213, 0.9806845824730996, 0.9689897907947979, 0.9651190594259575, 0.8034002068142868, 0.17215718717449002, 0.08573348673949055, 0.09196864941145351, 0.26811199489440685, 0.13405599744720342, 0.2509652975465087, 0.09196864941145351, 0.07793953339953687, 0.9944960857224779, 0.5042545577062326, 0.17742289993367444, 0.09338047364930234, 0.22411313675832562, 0.4079575662465397, 0.15222297248005215, 0.23746783706888133, 0.19484540477446674, 0.9850030589391274, 0.9832947875089655, 0.10556051866917812, 0.8796709889098177, 0.9596864295123959, 0.9545377465527233, 0.9814684883496311, 0.9511739860947129, 0.7870970527271461, 0.19240150177774681, 0.9714764741417813, 0.13365386696348655, 0.4606792861294643, 0.08815467820995922, 0.24171444025311398, 0.07677988102157739, 0.9639555552636653, 0.9650796526805538, 0.035519993861560295, 0.26639995396170224, 0.6393598895080853, 0.05327999079234044, 0.9737585935680035, 0.9810431974995624, 0.09460483577097505, 0.0805893045456454, 0.5501096005941882, 0.2733028588939279, 0.13236280719498658, 0.03589499856135229, 0.7380909079178065, 0.08973749640338073, 0.9841395139497155, 0.9394265317018251, 0.1297446456388116, 0.864964304258744, 0.8507478726786886, 0.13562647245602283, 0.9684642630802949, 0.988435702888999, 0.5923056294795378, 0.40067733758909907, 0.9764160197325507, 0.9644360619491307, 0.9400695745666537, 0.9803204445206639, 0.9898915238172881, 0.9352091690019874, 0.9920437789091314, 0.9856259359520103, 0.9357434368179164, 0.9885851475747994, 0.9641753172644097, 0.34388095660900686, 0.2116190502209273, 0.18957539915624738, 0.12344444596220759, 0.04849603234229584, 0.04849603234229584, 0.030861111490551898, 0.9510258834549742, 0.9497975272146629, 0.9647603795195461, 0.9281061841178725, 0.9738372334640822, 0.9804678130144335, 0.9754962003235141, 0.9946175654943759, 0.986508814588925, 0.9755627523157384, 0.9860869998257392, 0.9948068849466013, 0.9440003624998897, 0.9714392744388698, 0.9836364937300179, 0.16137683809392014, 0.4303382349171204, 0.0679481423553348, 0.050961106766501105, 0.16703918329019807, 0.11607807652369695, 0.00283117259813895, 0.00283117259813895, 0.054398030822486856, 0.04351842465798948, 0.39166582192190535, 0.24660440639527376, 0.2611105479479369, 0.9760400414628612, 0.9697147532336412, 0.9942585194623056, 0.2562694721398622, 0.7321984918281776, 0.9868927529713101, 0.9933139067490209, 0.6130592343053832, 0.054737431634409216, 0.208002240210755, 0.12042234959570026, 0.11289078891431416, 0.8654960483430751, 0.9860568906595609, 0.22291033094948717, 0.003184433299278388, 0.38850086251196336, 0.14011506516824906, 0.05095093278845421, 0.09553299897835164, 0.10190186557690842, 0.27158470372396537, 0.27158470372396537, 0.42795165435291516, 0.024689518520360488, 0.057965034209238625, 0.927440547347818, 0.4856804455913649, 0.09188548970647445, 0.2100239764719416, 0.20564847696210947, 0.9091500115506359, 0.9748308716140919, 0.9291915785781116, 0.13729966309542216, 0.127492544302892, 0.1422032224916872, 0.2893100043796395, 0.29911712317216965, 0.9567219852376689, 0.9619156482583845, 0.21514466117475253, 0.49275067559378805, 0.2914863151399873, 0.30652570635833737, 0.14257009598062204, 0.09267056238740431, 0.3243469683559151, 0.04277102879418661, 0.09267056238740431, 0.8409017970306732, 0.1313909057860427, 0.9848833920135482, 0.9718020297842892, 0.9646025169043805, 0.3508505836988353, 0.002741020185147151, 0.03837428259206011, 0.06304346425838447, 0.3508505836988353, 0.07400754499897308, 0.11786386796132749, 0.9887631309117975, 0.9564976580982705, 0.9725535227903498, 0.12810061599193429, 0.32246017129004145, 0.09276251502864206, 0.22086313102057636, 0.053007151444938325, 0.1766905048164611, 0.9806984765319086, 0.9909431591759383, 0.9797373156996113, 0.060619428600641435, 0.16304535968448386, 0.06480007884896154, 0.2989164927548871, 0.1818582858019243, 0.029264551738240694, 0.08361300496640198, 0.11705820695296278, 0.9735124739234616, 0.032813925930293954, 0.1640696296514698, 0.09844177779088187, 0.1367246913762248, 0.39923609881857647, 0.16953861730651879, 0.03267589985516886, 0.39864597823306014, 0.43132187808822897, 0.13070359942067544, 0.10827662215134869, 0.13534577768918585, 0.29776071091620887, 0.46017564414323187, 0.09714462268570104, 0.22307283727827648, 0.0035979489883592977, 0.06656205628464701, 0.08275282673226385, 0.07555692875554526, 0.08994872470898245, 0.36159387333010945, 0.2933332313468698, 0.09374567187374189, 0.2419243145128823, 0.10886594153079704, 0.15120269657055144, 0.10886594153079704, 0.9707473154573092, 0.8156984039438835, 0.15175784259421088, 0.9843184504658882, 0.13815178943318113, 0.4511519373677321, 0.04748967761765602, 0.07986900326605784, 0.09066211181552512, 0.18995871047062407, 0.1226891070223246, 0.1086674947912018, 0.259399826275772, 0.3330132904891668, 0.16825934677347376, 0.1751670943825805, 0.035931711668221636, 0.12576099083877573, 0.6602452019035726, 0.9826222946448222, 0.040713930305957956, 0.15088103583972653, 0.15567090999336866, 0.14609116168608444, 0.040713930305957956, 0.13411647630197915, 0.07424304938145274, 0.08861267184237907, 0.10537723138012647, 0.059873426920526406, 0.030820607321657215, 0.24096111178750185, 0.3362248071453514, 0.19893301089433293, 0.0196131137501455, 0.039226227500291, 0.1288861760723847, 0.0654103717850602, 0.46223329394775886, 0.17006696664115656, 0.24855941278322882, 0.04796760597571082, 0.1468793066391292, 0.16991919787663967, 0.025919877642199274, 0.04319979607033212, 0.025919877642199274, 0.08063961933128662, 0.3023985724923248, 0.04319979607033212, 0.15839925225788445, 0.09787135510300275, 0.13499497255586587, 0.19911758451990214, 0.30036381393680156, 0.2632401964839384, 0.9717560755860367, 0.9744917165433266, 0.061065654211347964, 0.5352224986759322, 0.032328875758948925, 0.0718419461309976, 0.24785471415194174, 0.05028936229169832, 0.9767003038694995, 0.14130918415471314, 0.340804502961367, 0.12468457425415866, 0.07896689702763382, 0.049873829701663465, 0.1496214891049904, 0.11221611682874279, 0.9761943102293711, 0.9767776116703838, 0.9657897816351495, 0.9583526399255982, 0.9768071873024603, 0.5348179528080695, 0.3540344194644967, 0.10545706111708412, 0.9632792242960124, 0.9729013781143958, 0.3736591723043739, 0.05012501091887943, 0.03645455339554867, 0.09569320266331527, 0.08202274513998452, 0.20505686284996127, 0.15948867110552545, 0.9898230488305315, 0.937294562387972, 0.20162587658459158, 0.789701349956317, 0.9858349965917794, 0.9714042902648845, 0.9726839217019108, 0.9099807271077495, 0.08564524490425877, 0.9602706041649017, 0.962420699718989, 0.9902596976600054, 0.15341454123786297, 0.016148899077669785, 0.5006158714077634, 0.32297798155339574, 0.9637294688650793, 0.9282811938062218, 0.9834933179055949, 0.9389333845706611, 0.020955431254029867, 0.0778344589435395, 0.056879027689509636, 0.8442045162337747, 0.9092856295595878, 0.0534873899740934, 0.6727696459701242, 0.11159686070594478, 0.09565445203366696, 0.11797382417485591, 0.9870780791646692, 0.051901022160680516, 0.1408742030075614, 0.2317009917887523, 0.16497110615359165, 0.07229070943809073, 0.08711957291257087, 0.029657726948960295, 0.12419173159877124, 0.0500474142263705, 0.04819380629206048, 0.14869271800309433, 0.8425920686842012, 0.16809937973697325, 0.0971240860702512, 0.4818848885793233, 0.14942167087730956, 0.10085962784218395, 0.23750762102130407, 0.20096798701802654, 0.09591653925860358, 0.388233611284824, 0.0730792680065551, 0.12090627542504329, 0.32871393631183643, 0.27203911970634737, 0.07556642214065205, 0.19647269756569533, 0.8594082219994275, 0.0572938814666285, 0.0572938814666285, 0.975234606373006, 0.106162821658776, 0.3768780168886548, 0.33441288822514437, 0.1220872449075924, 0.06369769299526559, 0.14004202196468396, 0.10976266586421175, 0.05298887317582636, 0.13625710245212494, 0.037849195125590256, 0.3822768707684616, 0.14004202196468396, 0.9655155803028864, 0.27192386213687186, 0.07669647393604079, 0.1045861008218738, 0.013944813442916508, 0.522930504109369, 0.17482030448951286, 0.14568358707459406, 0.39334568510140394, 0.09226627181390956, 0.02913671741491881, 0.1651080653512066, 0.9626706059955578, 0.981503068632752, 0.1256317342502945, 0.30959248797394, 0.10319749599131334, 0.0695461386028416, 0.10095407216541523, 0.03365135738847174, 0.06730271477694348, 0.15928309163876625, 0.03365135738847174, 0.3367354182910524, 0.2057827556223098, 0.0374150464767836, 0.23072611994016554, 0.18083939130445406, 0.9823595520384438, 0.9724575193862487, 0.05109986141462117, 0.24205197512188975, 0.35232009712186174, 0.04572092863413473, 0.04572092863413473, 0.09144185726826946, 0.16943638258532281, 0.9636282934903379, 0.0014531100057668918, 0.2484818109861385, 0.007265550028834459, 0.6626181626297026, 0.01598421006343581, 0.06248373024797635], \"Term\": [\"aaron\", \"abbott\", \"abortion\", \"abortion\", \"abortion\", \"abortion\", \"abuse\", \"access\", \"access\", \"access\", \"access\", \"accord\", \"activist\", \"actually\", \"actually\", \"actually\", \"admit\", \"admit\", \"adrienne\", \"advice\", \"affirm\", \"afraid\", \"after\", \"after\", \"after\", \"after\", \"after\", \"after\", \"against\", \"against\", \"against\", \"against\", \"against\", \"against\", \"against\", \"allow\", \"allow\", \"allow\", \"allow\", \"also\", \"also\", \"also\", \"also\", \"also\", \"also\", \"amazon\", \"amendment\", \"amendment\", \"america\", \"america\", \"america\", \"america\", \"america\", \"america\", \"american\", \"american\", \"american\", \"american\", \"american\", \"american\", \"angry\", \"angry\", \"announce\", \"anti\", \"anti\", \"anti\", \"anti\", \"appoint\", \"appropriate\", \"assault\", \"assault\", \"atlas\", \"attack\", \"attack\", \"attack\", \"attack\", \"attack\", \"author\", \"author\", \"author\", \"author\", \"author\", \"authoritarian\", \"authoritarian\", \"authoritarianism\", \"away\", \"away\", \"baby\", \"back\", \"back\", \"back\", \"back\", \"back\", \"back\", \"banned\", \"banned\", \"banned\", \"bans\", \"bans\", \"bans\", \"base\", \"base\", \"baseball\", \"basically\", \"battle\", \"because\", \"because\", \"because\", \"because\", \"because\", \"because\", \"because\", \"before\", \"before\", \"before\", \"before\", \"before\", \"between\", \"between\", \"beyond\", \"bible\", \"biden\", \"biden\", \"biden\", \"bigotry\", \"bigotry\", \"bill\", \"bill\", \"bill\", \"bill\", \"birth\", \"black\", \"black\", \"black\", \"black\", \"black\", \"blue\", \"blue\", \"board\", \"board\", \"board\", \"board\", \"board\", \"board\", \"board\", \"body\", \"books\", \"books\", \"books\", \"bookstore\", \"boys\", \"break\", \"break\", \"brown\", \"buddy\", \"budget\", \"build\", \"burning\", \"busy\", \"campus\", \"cancel\", \"candidate\", \"capitol\", \"care\", \"care\", \"care\", \"carry\", \"carry\", \"case\", \"catch\", \"catcher\", \"cause\", \"cause\", \"censor\", \"censor\", \"censor\", \"censorship\", \"censorship\", \"censorship\", \"censorship\", \"censorship\", \"censorship\", \"censorship\", \"challenge\", \"challenge\", \"change\", \"change\", \"change\", \"character\", \"charge\", \"child\", \"child\", \"child\", \"child\", \"child\", \"child\", \"child\", \"church\", \"civil\", \"civil\", \"claim\", \"claim\", \"claim\", \"claim\", \"claim\", \"class\", \"class\", \"class\", \"clearly\", \"clemente\", \"climate\", \"climb\", \"close\", \"close\", \"close\", \"code\", \"color\", \"color\", \"combat\", \"come\", \"come\", \"come\", \"come\", \"come\", \"come\", \"come\", \"comment\", \"community\", \"community\", \"community\", \"community\", \"community\", \"compare\", \"complain\", \"complain\", \"concert\", \"confederate\", \"conservative\", \"conservative\", \"conservative\", \"contain\", \"contain\", \"content\", \"content\", \"content\", \"control\", \"control\", \"controversial\", \"copy\", \"could\", \"could\", \"could\", \"could\", \"country\", \"country\", \"country\", \"country\", \"country\", \"country\", \"county\", \"county\", \"county\", \"court\", \"crime\", \"criminalize\", \"criminalize\", \"critical\", \"criticize\", \"crusade\", \"cruz\", \"cult\", \"cultural\", \"culture\", \"culture\", \"culture\", \"culture\", \"culture\", \"cycle\", \"dade\", \"dangerous\", \"dangerous\", \"dangerous\", \"dangerous\", \"dead\", \"death\", \"deem\", \"deem\", \"deem\", \"deep\", \"defeat\", \"defend\", \"defend\", \"defund\", \"defunde\", \"democratic\", \"democrats\", \"democrats\", \"democrats\", \"democrats\", \"denounce\", \"denounce\", \"desantisdestroysflorida\", \"diary\", \"disaster\", \"discuss\", \"discuss\", \"discuss\", \"discuss\", \"dismantle\", \"disney\", \"disney\", \"disney\", \"disney\", \"district\", \"district\", \"district\", \"dollar\", \"donor\", \"donor\", \"dozen\", \"drag\", \"drag\", \"drag\", \"duval\", \"duval\", \"easy\", \"easy\", \"education\", \"education\", \"education\", \"education\", \"education\", \"education\", \"education\", \"eight\", \"either\", \"eliminate\", \"eliminate\", \"embrace\", \"empty\", \"endorse\", \"enough\", \"entirely\", \"escambia\", \"especially\", \"especially\", \"even\", \"even\", \"even\", \"even\", \"even\", \"even\", \"even\", \"every\", \"every\", \"every\", \"every\", \"every\", \"every\", \"every\", \"everywhere\", \"exactly\", \"except\", \"experience\", \"explicit\", \"expression\", \"extremism\", \"extremist\", \"extremist\", \"fascism\", \"fascism\", \"fascism\", \"fascism\", \"fascism\", \"fascist\", \"fascist\", \"fascist\", \"fascist\", \"fascist\", \"fascist\", \"fascist\", \"favorite\", \"fear\", \"fear\", \"fear\", \"feature\", \"federal\", \"feel\", \"feel\", \"feel\", \"feel\", \"feel\", \"felony\", \"felony\", \"fight\", \"fight\", \"fight\", \"fight\", \"fight\", \"fight\", \"fight\", \"finally\", \"fire\", \"fire\", \"fire\", \"first\", \"first\", \"first\", \"first\", \"first\", \"first\", \"first\", \"first\", \"flag\", \"floriduh\", \"follow\", \"follow\", \"follow\", \"follow\", \"force\", \"force\", \"force\", \"force\", \"force\", \"forrest\", \"free\", \"free\", \"free\", \"free\", \"free\", \"free\", \"freedom\", \"freedom\", \"freedom\", \"freedom\", \"freedom\", \"freedom\", \"freedom\", \"freshresists\", \"freshstrong\", \"fund\", \"funding\", \"gender\", \"germany\", \"germany\", \"girl\", \"girls\", \"give\", \"give\", \"give\", \"give\", \"give\", \"gopdebate\", \"government\", \"government\", \"government\", \"government\", \"governor\", \"governor\", \"governor\", \"governor\", \"grace\", \"groom\", \"groom\", \"group\", \"group\", \"group\", \"guise\", \"gump\", \"hand\", \"hand\", \"hank\", \"happen\", \"happen\", \"happen\", \"happen\", \"happen\", \"happen\", \"happen\", \"hard\", \"hard\", \"harris\", \"hate\", \"hate\", \"hear\", \"hear\", \"hearing\", \"help\", \"help\", \"help\", \"help\", \"help\", \"help\", \"here\", \"here\", \"here\", \"here\", \"here\", \"here\", \"here\", \"here\", \"hero\", \"hide\", \"hill\", \"hitler\", \"hitler\", \"hitler\", \"hoax\", \"hoax\", \"holocaust\", \"holocaust\", \"holocaust\", \"homophobic\", \"house\", \"house\", \"husband\", \"identity\", \"illinois\", \"image\", \"include\", \"include\", \"include\", \"include\", \"include\", \"include\", \"increase\", \"indoctrinate\", \"inject\", \"insurance\", \"interview\", \"into\", \"into\", \"into\", \"into\", \"into\", \"into\", \"introduce\", \"issue\", \"issue\", \"issue\", \"issue\", \"issue\", \"jodi\", \"join\", \"join\", \"join\", \"journalist\", \"judge\", \"just\", \"just\", \"just\", \"just\", \"just\", \"just\", \"just\", \"just\", \"just\", \"just\", \"keep\", \"keep\", \"keep\", \"keep\", \"kick\", \"kill\", \"kite\", \"know\", \"know\", \"know\", \"know\", \"know\", \"know\", \"know\", \"launch\", \"lawsuit\", \"lawsuit\", \"leave\", \"leave\", \"leave\", \"leave\", \"left\", \"left\", \"left\", \"left\", \"legislation\", \"legislator\", \"letter\", \"lgbtq\", \"lgbtq\", \"lgbtq\", \"lgbtq\", \"lgbtq\", \"liberty\", \"liberty\", \"librarie\", \"life\", \"life\", \"life\", \"life\", \"life\", \"limit\", \"limit\", \"linn\", \"list\", \"list\", \"list\", \"list\", \"list\", \"listen\", \"listen\", \"listen\", \"listen\", \"literature\", \"llano\", \"local\", \"local\", \"local\", \"look\", \"look\", \"look\", \"look\", \"look\", \"lose\", \"lose\", \"love\", \"love\", \"love\", \"love\", \"love\", \"love\", \"love\", \"maga\", \"maga\", \"maga\", \"maga\", \"make\", \"make\", \"make\", \"make\", \"make\", \"make\", \"make\", \"male\", \"mandate\", \"mandate\", \"many\", \"many\", \"many\", \"many\", \"many\", \"many\", \"many\", \"math\", \"medium\", \"medium\", \"medium\", \"meet\", \"meet\", \"meet\", \"member\", \"member\", \"member\", \"menstrual\", \"message\", \"mickey\", \"minor\", \"minor\", \"miss\", \"missouri\", \"missouri\", \"mockingbird\", \"moment\", \"moms\", \"more\", \"more\", \"more\", \"more\", \"more\", \"more\", \"more\", \"more\", \"more\", \"more\", \"morning\", \"morrison\", \"most\", \"most\", \"most\", \"most\", \"most\", \"most\", \"most\", \"mother\", \"multiple\", \"musk\", \"nazi\", \"nazi\", \"nazi\", \"near\", \"nearly\", \"need\", \"need\", \"need\", \"need\", \"need\", \"need\", \"need\", \"need\", \"need\", \"never\", \"never\", \"never\", \"never\", \"never\", \"never\", \"never\", \"never\", \"night\", \"night\", \"nobody\", \"none\", \"none\", \"nora\", \"north\", \"north\", \"note\", \"object\", \"objection\", \"objection\", \"official\", \"official\", \"official\", \"opinion\", \"opinion\", \"opportunity\", \"order\", \"organization\", \"organization\", \"organize\", \"other\", \"other\", \"other\", \"other\", \"other\", \"other\", \"other\", \"other\", \"other\", \"otherwise\", \"over\", \"over\", \"over\", \"over\", \"over\", \"over\", \"over\", \"overturn\", \"parent\", \"parent\", \"parent\", \"parent\", \"parent\", \"parks\", \"part\", \"part\", \"part\", \"party\", \"party\", \"party\", \"party\", \"pass\", \"pass\", \"penguin\", \"penguin\", \"pennsylvania\", \"pennsylvania\", \"period\", \"period\", \"person\", \"person\", \"philadelphia\", \"philadelphia\", \"picoult\", \"pink\", \"please\", \"please\", \"please\", \"plus\", \"poem\", \"poet\", \"police\", \"policy\", \"policy\", \"policy\", \"politician\", \"possible\", \"power\", \"power\", \"power\", \"power\", \"president\", \"president\", \"president\", \"president\", \"president\", \"presidential\", \"pride\", \"private\", \"private\", \"protect\", \"protect\", \"protect\", \"protection\", \"protection\", \"protest\", \"protest\", \"protest\", \"protest\", \"proud\", \"proud\", \"proud\", \"proud\", \"public\", \"public\", \"public\", \"public\", \"public\", \"public\", \"public\", \"publish\", \"queen\", \"race\", \"race\", \"racist\", \"racist\", \"racist\", \"radical\", \"random\", \"rape\", \"rate\", \"rather\", \"rather\", \"read\", \"read\", \"read\", \"read\", \"read\", \"read\", \"read\", \"reading\", \"real\", \"real\", \"real\", \"real\", \"really\", \"really\", \"really\", \"really\", \"receive\", \"recent\", \"recognize\", \"recognize\", \"regard\", \"register\", \"reject\", \"relationship\", \"religious\", \"religious\", \"reminder\", \"remove\", \"remove\", \"remove\", \"remove\", \"remove\", \"repeat\", \"replace\", \"report\", \"report\", \"report\", \"report\", \"represent\", \"reproductive\", \"republican\", \"republican\", \"republican\", \"republican\", \"republicans\", \"republicans\", \"republicans\", \"republicans\", \"resident\", \"resistanceunited\", \"restriction\", \"restriction\", \"result\", \"result\", \"retaliation\", \"return\", \"review\", \"review\", \"rich\", \"rifle\", \"road\", \"roberto\", \"roberts\", \"roll\", \"rosa\", \"runner\", \"rural\", \"safe\", \"safety\", \"same\", \"same\", \"same\", \"same\", \"same\", \"same\", \"same\", \"scare\", \"scared\", \"science\", \"scream\", \"section\", \"security\", \"senate\", \"send\", \"sense\", \"seuss\", \"sexually\", \"shelf\", \"shine\", \"shocking\", \"shortage\", \"should\", \"should\", \"should\", \"should\", \"should\", \"should\", \"should\", \"should\", \"show\", \"show\", \"show\", \"show\", \"show\", \"shrugged\", \"shut\", \"side\", \"since\", \"since\", \"singer\", \"single\", \"slavery\", \"slavery\", \"slavery\", \"slavery\", \"small\", \"small\", \"society\", \"some\", \"some\", \"some\", \"some\", \"some\", \"some\", \"some\", \"someone\", \"someone\", \"someone\", \"someone\", \"south\", \"south\", \"speech\", \"speech\", \"speech\", \"speech\", \"spotlight\", \"staff\", \"stance\", \"stand\", \"stand\", \"stand\", \"stand\", \"stand\", \"standard\", \"steve\", \"still\", \"still\", \"still\", \"stop\", \"stop\", \"stop\", \"stop\", \"stop\", \"stop\", \"straight\", \"straight\", \"strategy\", \"street\", \"strip\", \"student\", \"student\", \"student\", \"student\", \"student\", \"student\", \"student\", \"study\", \"stupid\", \"super\", \"support\", \"support\", \"support\", \"support\", \"support\", \"support\", \"supremacist\", \"sure\", \"survivor\", \"take\", \"take\", \"take\", \"take\", \"take\", \"take\", \"take\", \"take\", \"tale\", \"talk\", \"talk\", \"talk\", \"talk\", \"talk\", \"talk\", \"target\", \"target\", \"target\", \"target\", \"teach\", \"teach\", \"teach\", \"teach\", \"teacher\", \"teacher\", \"teacher\", \"teacher\", \"teacher\", \"teacher\", \"teacher\", \"teacher\", \"tell\", \"tell\", \"tell\", \"tell\", \"tell\", \"tell\", \"tennessee\", \"terrible\", \"terrible\", \"texans\", \"texas\", \"texas\", \"texas\", \"texas\", \"texas\", \"texas\", \"than\", \"than\", \"than\", \"than\", \"than\", \"then\", \"then\", \"then\", \"then\", \"theory\", \"there\", \"there\", \"there\", \"there\", \"there\", \"there\", \"there\", \"there\", \"there\", \"there\", \"these\", \"these\", \"these\", \"these\", \"these\", \"these\", \"these\", \"thing\", \"thing\", \"thing\", \"thing\", \"thing\", \"think\", \"think\", \"think\", \"think\", \"think\", \"think\", \"think\", \"think\", \"think\", \"those\", \"those\", \"those\", \"those\", \"those\", \"though\", \"threat\", \"time\", \"time\", \"time\", \"time\", \"time\", \"time\", \"tired\", \"today\", \"today\", \"today\", \"today\", \"today\", \"today\", \"today\", \"tomorrow\", \"toni\", \"tour\", \"track\", \"traffic\", \"tran\", \"tran\", \"tran\", \"travel\", \"truly\", \"trump\", \"trump\", \"trump\", \"trump\", \"trump\", \"trump\", \"trump\", \"twitter\", \"uglier\", \"unconstitutional\", \"unconstitutional\", \"united\", \"university\", \"unreal\", \"until\", \"until\", \"upcoming\", \"update\", \"utah\", \"very\", \"very\", \"very\", \"very\", \"veteran\", \"vile\", \"violate\", \"vital\", \"vote\", \"vote\", \"vote\", \"vote\", \"warn\", \"warn\", \"week\", \"week\", \"week\", \"week\", \"weird\", \"when\", \"when\", \"when\", \"when\", \"when\", \"when\", \"when\", \"when\", \"when\", \"when\", \"whether\", \"whether\", \"which\", \"which\", \"which\", \"which\", \"which\", \"while\", \"while\", \"while\", \"while\", \"while\", \"white\", \"white\", \"white\", \"white\", \"white\", \"whose\", \"whose\", \"whose\", \"wild\", \"woke\", \"woke\", \"woke\", \"woke\", \"woke\", \"woman\", \"woman\", \"woman\", \"woman\", \"woman\", \"woman\", \"woman\", \"women\", \"word\", \"word\", \"word\", \"word\", \"word\", \"work\", \"work\", \"work\", \"work\", \"work\", \"work\", \"worry\", \"worth\", \"would\", \"would\", \"would\", \"would\", \"would\", \"would\", \"would\", \"would\", \"would\", \"write\", \"write\", \"write\", \"write\", \"write\", \"writer\", \"wwii\", \"year\", \"year\", \"year\", \"year\", \"year\", \"year\", \"year\", \"york\", \"your\", \"your\", \"your\", \"your\", \"your\", \"your\"]}, \"R\": 30, \"lambda.step\": 0.01, \"plot.opts\": {\"xlab\": \"PC1\", \"ylab\": \"PC2\"}, \"topic.order\": [1, 2, 3, 4, 5, 6, 7, 8, 9, 10]};\n",
       "\n",
       "function LDAvis_load_lib(url, callback){\n",
       "  var s = document.createElement('script');\n",
       "  s.src = url;\n",
       "  s.async = true;\n",
       "  s.onreadystatechange = s.onload = callback;\n",
       "  s.onerror = function(){console.warn(\"failed to load library \" + url);};\n",
       "  document.getElementsByTagName(\"head\")[0].appendChild(s);\n",
       "}\n",
       "\n",
       "if(typeof(LDAvis) !== \"undefined\"){\n",
       "   // already loaded: just create the visualization\n",
       "   !function(LDAvis){\n",
       "       new LDAvis(\"#\" + \"ldavis_el36316116096271527917759012\", ldavis_el36316116096271527917759012_data);\n",
       "   }(LDAvis);\n",
       "}else if(typeof define === \"function\" && define.amd){\n",
       "   // require.js is available: use it to load d3/LDAvis\n",
       "   require.config({paths: {d3: \"https://d3js.org/d3.v5\"}});\n",
       "   require([\"d3\"], function(d3){\n",
       "      window.d3 = d3;\n",
       "      LDAvis_load_lib(\"https://cdn.jsdelivr.net/gh/bmabey/pyLDAvis@3.4.0/pyLDAvis/js/ldavis.v3.0.0.js\", function(){\n",
       "        new LDAvis(\"#\" + \"ldavis_el36316116096271527917759012\", ldavis_el36316116096271527917759012_data);\n",
       "      });\n",
       "    });\n",
       "}else{\n",
       "    // require.js not available: dynamically load d3 & LDAvis\n",
       "    LDAvis_load_lib(\"https://d3js.org/d3.v5.js\", function(){\n",
       "         LDAvis_load_lib(\"https://cdn.jsdelivr.net/gh/bmabey/pyLDAvis@3.4.0/pyLDAvis/js/ldavis.v3.0.0.js\", function(){\n",
       "                 new LDAvis(\"#\" + \"ldavis_el36316116096271527917759012\", ldavis_el36316116096271527917759012_data);\n",
       "            })\n",
       "         });\n",
       "}\n",
       "</script>"
      ],
      "text/plain": [
       "PreparedData(topic_coordinates=              x         y  topics  cluster       Freq\n",
       "topic                                                \n",
       "0      0.163075 -0.027480       1        1   8.996633\n",
       "1      0.035398 -0.167938       2        1  10.324837\n",
       "2     -0.082692 -0.021011       3        1  11.633800\n",
       "3      0.122967 -0.054453       4        1  12.635213\n",
       "4     -0.308480 -0.121366       5        1   8.732031\n",
       "5     -0.038185  0.258057       6        1   8.010312\n",
       "6      0.052109  0.073119       7        1  10.241186\n",
       "7      0.105261 -0.070394       8        1   8.686594\n",
       "8      0.020831  0.007011       9        1  12.760640\n",
       "9     -0.070283  0.124455      10        1   7.978754, topic_info=            Term        Freq       Total Category  logprob  loglift\n",
       "210       county  575.000000  575.000000  Default  30.0000  30.0000\n",
       "72          your  688.000000  688.000000  Default  29.0000  29.0000\n",
       "236     district  451.000000  451.000000  Default  28.0000  28.0000\n",
       "21   republicans  445.000000  445.000000  Default  27.0000  27.0000\n",
       "451      liberty  287.000000  287.000000  Default  26.0000  26.0000\n",
       "..           ...         ...         ...      ...      ...      ...\n",
       "83          here   62.582530  358.969346  Topic10  -4.7059   0.7816\n",
       "179        fight   61.641978  334.582344  Topic10  -4.7211   0.8368\n",
       "51       against   58.814868  387.618882  Topic10  -4.7680   0.6428\n",
       "264      because   58.467471  434.422206  Topic10  -4.7739   0.5228\n",
       "66          make   57.325240  572.040134  Topic10  -4.7937   0.2279\n",
       "\n",
       "[636 rows x 6 columns], token_table=      Topic      Freq      Term\n",
       "term                           \n",
       "745      10  0.980403     aaron\n",
       "987      10  0.980528    abbott\n",
       "126       4  0.300194  abortion\n",
       "126       7  0.016865  abortion\n",
       "126       9  0.418247  abortion\n",
       "...     ...       ...       ...\n",
       "72        2  0.248482      your\n",
       "72        3  0.007266      your\n",
       "72        4  0.662618      your\n",
       "72        5  0.015984      your\n",
       "72        8  0.062484      your\n",
       "\n",
       "[1263 rows x 3 columns], R=30, lambda_step=0.01, plot_opts={'xlab': 'PC1', 'ylab': 'PC2'}, topic_order=[1, 2, 3, 4, 5, 6, 7, 8, 9, 10])"
      ]
     },
     "execution_count": 47,
     "metadata": {},
     "output_type": "execute_result"
    }
   ],
   "source": [
    "pyLDAvis.enable_notebook()\n",
    "pyLDAvis.gensim.prepare(lda_model, corpus, id2word, sort_topics=False)"
   ]
  },
  {
   "cell_type": "code",
   "execution_count": 48,
   "id": "598169e8",
   "metadata": {},
   "outputs": [],
   "source": [
    "docs_2_topics = lda_model[corpus]\n",
    "topic_2_docs={}\n",
    "for i, doc_2_topics in enumerate(docs_2_topics):\n",
    "    for (topic,strength) in doc_2_topics:\n",
    "        topic_2_docs.setdefault(topic,[]).append((i,strength))"
   ]
  },
  {
   "cell_type": "code",
   "execution_count": 49,
   "id": "6121fcdb",
   "metadata": {},
   "outputs": [
    {
     "name": "stdout",
     "output_type": "stream",
     "text": [
      "county, nazi, control, more, duval, republican, abortion, list, governor, other\n",
      "DeSantis' campaign promises include sticking it to the libs. He promises to chase woke culture and rid the world of it. (he doesn't even know what woke is). He promises to ban books and art if it makes a racist bigot uncomfortable. (white discomfort) He promises to exclude…   /2uIcy1mIKA 0.9470508\n",
      "Don't be fooled - No Labels supports DeSantis as a \"moderate\" alternative. There's no world where a person who bans books, kidnaps immigrants, & attacks businesses is the moderate one. No Labels is MAGA, full stop. Listen to @TaraSetmayer and @TheRickWilson break it down below.   /3ADLZIkoTU 0.94704443\n",
      "ICYMI - No Labels supports DeSantis as a \"moderate\" alternative. There's no world where a person who bans books, kidnaps immigrants, and attacks businesses is the moderate one. No Labels is MAGA, full stop. Listen to @TaraSetmayer and @TheRickWilson break it down below.   /1LJRvP3ruW 0.94704443\n",
      "The jig is up - No Labels supports DeSantis as a \"moderate\" alternative. There's no world where a person who bans books, kidnaps immigrants, and attacks businesses is the moderate one. No Labels is MAGA, full stop. Listen to @TaraSetmayer and @TheRickWilson break it down below.   /Np5ZZfdgNB 0.9470437\n",
      "“Because of his stance on abortion and book banning … myself, and a bunch of friends, are holding our powder dry\" A top Republican donor said he is withholding support for Florida Gov. Ron #DeSantis due to his stance on #abortion and other social issues.   /ZeQSgp1v6r 0.9399873\n",
      "Grace Linn is 100 and lost her husband in WWII. Now she is fighting Nazis in Florida who -- led by their pudding loving Führer -- ban books that champion equality, diversity, and goodness. Mother of liberty, indeed! #FreshResists #VoteBIGblue #wtpBLUE   /xGbQavbH1J 0.9357054\n",
      "“Because of his stance on abortion and book banning . . . myself, and a bunch of friends, are holding our powder dry.” Top Republican donor sours on Florida governor’s stance on social issues.   /g1M0YAytNf 0.9307529\n",
      " @highbrow_nobrow: Imagine banning a book on Hank Aaron. Florida has done it… ; Duval County, Florida has banned this book, among many others. See their entire banned book list here:   /   / 0.9249954\n",
      " @highbrow_nobrow: Beyond offensive. ; Duval County, Florida has banned this book, among many others. See their entire banned book list here:   /   / 0.91817486\n",
      "I've never met a smart person who wanted to ban books. Smart people break down motivations and inaccuracies in books. Dumb people fear smart people to the point they try to push them out of shared spaces. 0.9181683\n"
     ]
    }
   ],
   "source": [
    "topic_number=9\n",
    "best_doc = sorted(topic_2_docs[topic_number], key=lambda item: item[1], reverse=True)\n",
    "print(label_dict[topic_number])\n",
    "for doc in best_doc[:10]:\n",
    "    print (corpus_text[doc[0]],doc[1])"
   ]
  }
 ],
 "metadata": {
  "kernelspec": {
   "display_name": "Python 3 (ipykernel)",
   "language": "python",
   "name": "python3"
  },
  "language_info": {
   "codemirror_mode": {
    "name": "ipython",
    "version": 3
   },
   "file_extension": ".py",
   "mimetype": "text/x-python",
   "name": "python",
   "nbconvert_exporter": "python",
   "pygments_lexer": "ipython3",
   "version": "3.11.4"
  }
 },
 "nbformat": 4,
 "nbformat_minor": 5
}
