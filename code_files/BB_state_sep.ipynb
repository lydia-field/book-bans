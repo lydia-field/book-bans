{
 "cells": [
  {
   "cell_type": "code",
   "execution_count": 1,
   "id": "4a2967f6",
   "metadata": {},
   "outputs": [
    {
     "name": "stdout",
     "output_type": "stream",
     "text": [
      "Requirement already satisfied: hdbscan in /Users/lydiafield/anaconda3/lib/python3.11/site-packages (0.8.33)\n",
      "Requirement already satisfied: cython<3,>=0.27 in /Users/lydiafield/anaconda3/lib/python3.11/site-packages (from hdbscan) (0.29.36)\n",
      "Requirement already satisfied: numpy>=1.20 in /Users/lydiafield/anaconda3/lib/python3.11/site-packages (from hdbscan) (1.24.3)\n",
      "Requirement already satisfied: scipy>=1.0 in /Users/lydiafield/anaconda3/lib/python3.11/site-packages (from hdbscan) (1.10.1)\n",
      "Requirement already satisfied: scikit-learn>=0.20 in /Users/lydiafield/anaconda3/lib/python3.11/site-packages (from hdbscan) (1.3.0)\n",
      "Requirement already satisfied: joblib>=1.0 in /Users/lydiafield/anaconda3/lib/python3.11/site-packages (from hdbscan) (1.2.0)\n",
      "Requirement already satisfied: threadpoolctl>=2.0.0 in /Users/lydiafield/anaconda3/lib/python3.11/site-packages (from scikit-learn>=0.20->hdbscan) (2.2.0)\n",
      "Requirement already satisfied: bertopic in /Users/lydiafield/anaconda3/lib/python3.11/site-packages (0.16.0)\n",
      "Requirement already satisfied: numpy>=1.20.0 in /Users/lydiafield/anaconda3/lib/python3.11/site-packages (from bertopic) (1.24.3)\n",
      "Requirement already satisfied: hdbscan>=0.8.29 in /Users/lydiafield/anaconda3/lib/python3.11/site-packages (from bertopic) (0.8.33)\n",
      "Requirement already satisfied: umap-learn>=0.5.0 in /Users/lydiafield/anaconda3/lib/python3.11/site-packages (from bertopic) (0.5.5)\n",
      "Requirement already satisfied: pandas>=1.1.5 in /Users/lydiafield/anaconda3/lib/python3.11/site-packages (from bertopic) (2.1.1)\n",
      "Requirement already satisfied: scikit-learn>=0.22.2.post1 in /Users/lydiafield/anaconda3/lib/python3.11/site-packages (from bertopic) (1.3.0)\n",
      "Requirement already satisfied: tqdm>=4.41.1 in /Users/lydiafield/anaconda3/lib/python3.11/site-packages (from bertopic) (4.65.0)\n",
      "Requirement already satisfied: sentence-transformers>=0.4.1 in /Users/lydiafield/anaconda3/lib/python3.11/site-packages (from bertopic) (2.2.2)\n",
      "Requirement already satisfied: plotly>=4.7.0 in /Users/lydiafield/anaconda3/lib/python3.11/site-packages (from bertopic) (5.9.0)\n",
      "Requirement already satisfied: cython<3,>=0.27 in /Users/lydiafield/anaconda3/lib/python3.11/site-packages (from hdbscan>=0.8.29->bertopic) (0.29.36)\n",
      "Requirement already satisfied: scipy>=1.0 in /Users/lydiafield/anaconda3/lib/python3.11/site-packages (from hdbscan>=0.8.29->bertopic) (1.10.1)\n",
      "Requirement already satisfied: joblib>=1.0 in /Users/lydiafield/anaconda3/lib/python3.11/site-packages (from hdbscan>=0.8.29->bertopic) (1.2.0)\n",
      "Requirement already satisfied: python-dateutil>=2.8.2 in /Users/lydiafield/anaconda3/lib/python3.11/site-packages (from pandas>=1.1.5->bertopic) (2.8.2)\n",
      "Requirement already satisfied: pytz>=2020.1 in /Users/lydiafield/anaconda3/lib/python3.11/site-packages (from pandas>=1.1.5->bertopic) (2022.7)\n",
      "Requirement already satisfied: tzdata>=2022.1 in /Users/lydiafield/anaconda3/lib/python3.11/site-packages (from pandas>=1.1.5->bertopic) (2023.3)\n",
      "Requirement already satisfied: tenacity>=6.2.0 in /Users/lydiafield/anaconda3/lib/python3.11/site-packages (from plotly>=4.7.0->bertopic) (8.2.2)\n",
      "Requirement already satisfied: threadpoolctl>=2.0.0 in /Users/lydiafield/anaconda3/lib/python3.11/site-packages (from scikit-learn>=0.22.2.post1->bertopic) (2.2.0)\n",
      "Requirement already satisfied: transformers<5.0.0,>=4.6.0 in /Users/lydiafield/anaconda3/lib/python3.11/site-packages (from sentence-transformers>=0.4.1->bertopic) (4.29.2)\n",
      "Requirement already satisfied: torch>=1.6.0 in /Users/lydiafield/anaconda3/lib/python3.11/site-packages (from sentence-transformers>=0.4.1->bertopic) (2.1.1)\n",
      "Requirement already satisfied: torchvision in /Users/lydiafield/anaconda3/lib/python3.11/site-packages (from sentence-transformers>=0.4.1->bertopic) (0.16.1)\n",
      "Requirement already satisfied: nltk in /Users/lydiafield/anaconda3/lib/python3.11/site-packages (from sentence-transformers>=0.4.1->bertopic) (3.8.1)\n",
      "Requirement already satisfied: sentencepiece in /Users/lydiafield/anaconda3/lib/python3.11/site-packages (from sentence-transformers>=0.4.1->bertopic) (0.1.99)\n",
      "Requirement already satisfied: huggingface-hub>=0.4.0 in /Users/lydiafield/anaconda3/lib/python3.11/site-packages (from sentence-transformers>=0.4.1->bertopic) (0.15.1)\n",
      "Requirement already satisfied: numba>=0.51.2 in /Users/lydiafield/anaconda3/lib/python3.11/site-packages (from umap-learn>=0.5.0->bertopic) (0.57.0)\n",
      "Requirement already satisfied: pynndescent>=0.5 in /Users/lydiafield/anaconda3/lib/python3.11/site-packages (from umap-learn>=0.5.0->bertopic) (0.5.11)\n",
      "Requirement already satisfied: filelock in /Users/lydiafield/anaconda3/lib/python3.11/site-packages (from huggingface-hub>=0.4.0->sentence-transformers>=0.4.1->bertopic) (3.9.0)\n",
      "Requirement already satisfied: fsspec in /Users/lydiafield/anaconda3/lib/python3.11/site-packages (from huggingface-hub>=0.4.0->sentence-transformers>=0.4.1->bertopic) (2023.4.0)\n",
      "Requirement already satisfied: requests in /Users/lydiafield/anaconda3/lib/python3.11/site-packages (from huggingface-hub>=0.4.0->sentence-transformers>=0.4.1->bertopic) (2.31.0)\n",
      "Requirement already satisfied: pyyaml>=5.1 in /Users/lydiafield/anaconda3/lib/python3.11/site-packages (from huggingface-hub>=0.4.0->sentence-transformers>=0.4.1->bertopic) (6.0)\n",
      "Requirement already satisfied: typing-extensions>=3.7.4.3 in /Users/lydiafield/anaconda3/lib/python3.11/site-packages (from huggingface-hub>=0.4.0->sentence-transformers>=0.4.1->bertopic) (4.7.1)\n",
      "Requirement already satisfied: packaging>=20.9 in /Users/lydiafield/anaconda3/lib/python3.11/site-packages (from huggingface-hub>=0.4.0->sentence-transformers>=0.4.1->bertopic) (23.0)\n",
      "Requirement already satisfied: llvmlite<0.41,>=0.40.0dev0 in /Users/lydiafield/anaconda3/lib/python3.11/site-packages (from numba>=0.51.2->umap-learn>=0.5.0->bertopic) (0.40.0)\n",
      "Requirement already satisfied: six>=1.5 in /Users/lydiafield/anaconda3/lib/python3.11/site-packages (from python-dateutil>=2.8.2->pandas>=1.1.5->bertopic) (1.16.0)\n",
      "Requirement already satisfied: sympy in /Users/lydiafield/anaconda3/lib/python3.11/site-packages (from torch>=1.6.0->sentence-transformers>=0.4.1->bertopic) (1.11.1)\n",
      "Requirement already satisfied: networkx in /Users/lydiafield/anaconda3/lib/python3.11/site-packages (from torch>=1.6.0->sentence-transformers>=0.4.1->bertopic) (3.1)\n",
      "Requirement already satisfied: jinja2 in /Users/lydiafield/anaconda3/lib/python3.11/site-packages (from torch>=1.6.0->sentence-transformers>=0.4.1->bertopic) (3.1.2)\n",
      "Requirement already satisfied: regex!=2019.12.17 in /Users/lydiafield/anaconda3/lib/python3.11/site-packages (from transformers<5.0.0,>=4.6.0->sentence-transformers>=0.4.1->bertopic) (2022.7.9)\n",
      "Requirement already satisfied: tokenizers!=0.11.3,<0.14,>=0.11.1 in /Users/lydiafield/anaconda3/lib/python3.11/site-packages (from transformers<5.0.0,>=4.6.0->sentence-transformers>=0.4.1->bertopic) (0.13.2)\n",
      "Requirement already satisfied: click in /Users/lydiafield/anaconda3/lib/python3.11/site-packages (from nltk->sentence-transformers>=0.4.1->bertopic) (8.0.4)\n",
      "Requirement already satisfied: pillow!=8.3.*,>=5.3.0 in /Users/lydiafield/anaconda3/lib/python3.11/site-packages (from torchvision->sentence-transformers>=0.4.1->bertopic) (9.4.0)\n",
      "Requirement already satisfied: MarkupSafe>=2.0 in /Users/lydiafield/anaconda3/lib/python3.11/site-packages (from jinja2->torch>=1.6.0->sentence-transformers>=0.4.1->bertopic) (2.1.1)\n",
      "Requirement already satisfied: charset-normalizer<4,>=2 in /Users/lydiafield/anaconda3/lib/python3.11/site-packages (from requests->huggingface-hub>=0.4.0->sentence-transformers>=0.4.1->bertopic) (2.0.4)\n",
      "Requirement already satisfied: idna<4,>=2.5 in /Users/lydiafield/anaconda3/lib/python3.11/site-packages (from requests->huggingface-hub>=0.4.0->sentence-transformers>=0.4.1->bertopic) (3.4)\n",
      "Requirement already satisfied: urllib3<3,>=1.21.1 in /Users/lydiafield/anaconda3/lib/python3.11/site-packages (from requests->huggingface-hub>=0.4.0->sentence-transformers>=0.4.1->bertopic) (1.26.16)\n",
      "Requirement already satisfied: certifi>=2017.4.17 in /Users/lydiafield/anaconda3/lib/python3.11/site-packages (from requests->huggingface-hub>=0.4.0->sentence-transformers>=0.4.1->bertopic) (2023.7.22)\n",
      "Requirement already satisfied: mpmath>=0.19 in /Users/lydiafield/anaconda3/lib/python3.11/site-packages (from sympy->torch>=1.6.0->sentence-transformers>=0.4.1->bertopic) (1.3.0)\n"
     ]
    }
   ],
   "source": [
    "!pip3 install hdbscan \n",
    "!pip3 install bertopic"
   ]
  },
  {
   "cell_type": "code",
   "execution_count": 2,
   "id": "b395f098",
   "metadata": {},
   "outputs": [],
   "source": [
    "import spacy\n",
    "import pandas as pd\n",
    "\n",
    "import json\n",
    "import spacy\n",
    "import requests\n",
    "import random\n",
    "import time\n",
    "\n",
    "import spacy\n",
    "from tqdm import tqdm \n",
    "from collections import Counter\n",
    "\n",
    "import gensim\n",
    "import gensim.corpora as corpora\n",
    "from gensim.corpora import Dictionary\n",
    "from gensim.models.coherencemodel import CoherenceModel\n",
    "from gensim.models.ldamodel import LdaModel\n",
    "\n",
    "import pyLDAvis\n",
    "import pyLDAvis.gensim\n",
    "\n",
    "import matplotlib.pyplot as plt\n",
    "from sklearn.preprocessing import MultiLabelBinarizer"
   ]
  },
  {
   "cell_type": "code",
   "execution_count": 3,
   "id": "c74e44d9",
   "metadata": {},
   "outputs": [
    {
     "name": "stderr",
     "output_type": "stream",
     "text": [
      "/Users/lydiafield/anaconda3/lib/python3.11/site-packages/plotly/express/imshow_utils.py:24: DeprecationWarning: `np.bool8` is a deprecated alias for `np.bool_`.  (Deprecated NumPy 1.24)\n",
      "  np.bool8: (False, True),\n",
      "/Users/lydiafield/anaconda3/lib/python3.11/site-packages/plotly/graph_objs/__init__.py:288: DeprecationWarning: distutils Version classes are deprecated. Use packaging.version instead.\n",
      "  if LooseVersion(ipywidgets.__version__) >= LooseVersion(\"7.0.0\"):\n",
      "/Users/lydiafield/anaconda3/lib/python3.11/site-packages/plotly/graph_objs/__init__.py:288: DeprecationWarning: distutils Version classes are deprecated. Use packaging.version instead.\n",
      "  if LooseVersion(ipywidgets.__version__) >= LooseVersion(\"7.0.0\"):\n",
      "/Users/lydiafield/anaconda3/lib/python3.11/site-packages/plotly/graph_objs/__init__.py:288: DeprecationWarning: distutils Version classes are deprecated. Use packaging.version instead.\n",
      "  if LooseVersion(ipywidgets.__version__) >= LooseVersion(\"7.0.0\"):\n",
      "/Users/lydiafield/anaconda3/lib/python3.11/site-packages/plotly/graph_objs/__init__.py:288: DeprecationWarning: distutils Version classes are deprecated. Use packaging.version instead.\n",
      "  if LooseVersion(ipywidgets.__version__) >= LooseVersion(\"7.0.0\"):\n"
     ]
    }
   ],
   "source": [
    "from bertopic import BERTopic\n",
    "from sentence_transformers import SentenceTransformer\n",
    "from umap import UMAP\n",
    "from hdbscan import HDBSCAN\n",
    "from sklearn.feature_extraction.text import CountVectorizer"
   ]
  },
  {
   "cell_type": "code",
   "execution_count": 4,
   "id": "05cca36d",
   "metadata": {},
   "outputs": [],
   "source": [
    "tweets_c = pd.read_csv('/Users/lydiafield/Desktop/Semestre 1/Digital Methods/bookbans-nolinks.csv')"
   ]
  },
  {
   "cell_type": "code",
   "execution_count": 79,
   "id": "753d3fe4",
   "metadata": {},
   "outputs": [
    {
     "data": {
      "text/plain": [
       "State\n",
       "New York            1662\n",
       "Florida             1315\n",
       "California          1288\n",
       "Texas                834\n",
       "Washington, D.C.     740\n",
       "Illinois             528\n",
       "Pennsylvania         389\n",
       "North Carolina       362\n",
       "Tennessee            309\n",
       "Washington           292\n",
       "Virginia             276\n",
       "Massachusetts        263\n",
       "Iowa                 242\n",
       "Missouri             238\n",
       "New Jersey           234\n",
       "Michigan             209\n",
       "Indiana              193\n",
       "Ohio                 180\n",
       "Minnesota            175\n",
       "Georgia              157\n",
       "Arizona              150\n",
       "Kansas               146\n",
       "Maryland             141\n",
       "Colorado             136\n",
       "Oregon               104\n",
       "Arkansas             103\n",
       "Utah                  96\n",
       "Wisconsin             94\n",
       "Connecticut           87\n",
       "Rhode Island          83\n",
       "Oklahoma              82\n",
       "Kentucky              80\n",
       "South Carolina        80\n",
       "Louisiana             72\n",
       "Nevada                62\n",
       "Alabama               59\n",
       "Mississippi           50\n",
       "North Dakota          50\n",
       "Nebraska              47\n",
       "Idaho                 46\n",
       "New Hampshire         36\n",
       "Montana               30\n",
       "West Virginia         27\n",
       "New Mexico            20\n",
       "Hawaii                17\n",
       "Vermont               17\n",
       "Maine                 17\n",
       "Delaware              15\n",
       "South Dakota          12\n",
       "Alaska                11\n",
       "Wyoming                3\n",
       "Name: count, dtype: int64"
      ]
     },
     "execution_count": 79,
     "metadata": {},
     "output_type": "execute_result"
    }
   ],
   "source": [
    "tweets_c[\"State\"].value_counts()"
   ]
  },
  {
   "cell_type": "code",
   "execution_count": 22,
   "id": "26f5ae03",
   "metadata": {},
   "outputs": [],
   "source": [
    "def str_check(df,list,us_state,auth_list):\n",
    "    df1 = tweets_c[tweets_c['Hit Sentence'].str.contains('|'.join(list))]\n",
    "    df2 = tweets_c[tweets_c['State'].str.contains(us_state,na=False)]\n",
    "    df3 = tweets_c[tweets_c['Influencer'].str.contains('|'.join(auth_list))]\n",
    "    df = pd.concat([df1,df2,df3])\n",
    "    return df.reset_index()"
   ]
  },
  {
   "cell_type": "markdown",
   "id": "0f1347d3",
   "metadata": {},
   "source": [
    "Florida Tweets"
   ]
  },
  {
   "cell_type": "code",
   "execution_count": 43,
   "id": "4a0694ee",
   "metadata": {},
   "outputs": [],
   "source": [
    "fl_tweets = pd.DataFrame().reindex_like(tweets_c)\n",
    "fl_tweets = fl_tweets.drop(fl_tweets.index[1:20000])"
   ]
  },
  {
   "cell_type": "code",
   "execution_count": 69,
   "id": "0e38cb5d",
   "metadata": {},
   "outputs": [],
   "source": [
    "fl_tweets= str_check(fl_tweets,['DeSantis', 'desantis', 'Desantis', 'florida', 'fl ', 'FL ', 'pushaw', 'Pushaw', 'DESANTIS', 'Florida', \n",
    "                                'floridian', 'floridians', 'Floridian', 'Floridians', '@RonDeSantis', '@GovRonDeSantis', '@DeSantisWarRoom',\n",
    "                                '@RonDeSantisFL', 'HB 1069', 'HB1069', 'Clay County', 'Martin County', 'Manatee County', 'Flagler', \n",
    "                                'Osceola County', 'Escambia County', 'Lake County', 'Orlando', 'Seminole County', 'Tallahassee', \n",
    "                                'Indian River County', 'Volusia County', 'F.L.', 'F.L', 'Fla', ' fla ', 'hb 1069', 'hb1069'],\n",
    "                     'Florida',\n",
    "                     ['@RonDeSantis', '@GovRonDeSantis', '@DeSantisWarRoom', '@RonDeSantisFL'])"
   ]
  },
  {
   "cell_type": "code",
   "execution_count": 70,
   "id": "cac775a8",
   "metadata": {},
   "outputs": [
    {
     "data": {
      "text/plain": [
       "5501"
      ]
     },
     "execution_count": 70,
     "metadata": {},
     "output_type": "execute_result"
    }
   ],
   "source": [
    "len(fl_tweets)"
   ]
  },
  {
   "cell_type": "code",
   "execution_count": 265,
   "id": "ae8c91dd",
   "metadata": {},
   "outputs": [
    {
     "data": {
      "text/plain": [
       "6148246"
      ]
     },
     "execution_count": 265,
     "metadata": {},
     "output_type": "execute_result"
    }
   ],
   "source": [
    "sum(fl_tweets['Engagement'])"
   ]
  },
  {
   "cell_type": "markdown",
   "id": "e6ee4fc0",
   "metadata": {},
   "source": [
    "California Tweets"
   ]
  },
  {
   "cell_type": "code",
   "execution_count": 47,
   "id": "bdfd2ab3",
   "metadata": {},
   "outputs": [],
   "source": [
    "ca_tweets = pd.DataFrame().reindex_like(tweets_c)\n",
    "ca_tweets = ca_tweets.drop(ca_tweets.index[1:20000])"
   ]
  },
  {
   "cell_type": "code",
   "execution_count": 164,
   "id": "a1f3a72c",
   "metadata": {},
   "outputs": [],
   "source": [
    "ca_tweets= str_check(ca_tweets,['Newsom', 'newsom', 'NEWSOM', 'California', 'CA ', 'california', 'cali', 'CAgovernor',\n",
    "                                ' ca ', ' Ca ', 'C.A.', 'C.A', 'cali', 'Cali', 'AB 1078', 'AB1078', 'ab1078', 'ab 1078',\n",
    "                               'Thurmond', 'Temecula'],\n",
    "                     'California',\n",
    "                     ['@GavinNewsom', '@CAgovernor', '@GovPressOffice', '@JenSiebelNewsom'])"
   ]
  },
  {
   "cell_type": "code",
   "execution_count": 165,
   "id": "cf586b26",
   "metadata": {},
   "outputs": [
    {
     "data": {
      "text/plain": [
       "1913"
      ]
     },
     "execution_count": 165,
     "metadata": {},
     "output_type": "execute_result"
    }
   ],
   "source": [
    "len(ca_tweets)"
   ]
  },
  {
   "cell_type": "code",
   "execution_count": 266,
   "id": "e61f9300",
   "metadata": {},
   "outputs": [
    {
     "data": {
      "text/plain": [
       "3816166"
      ]
     },
     "execution_count": 266,
     "metadata": {},
     "output_type": "execute_result"
    }
   ],
   "source": [
    "sum(ca_tweets['Engagement'])"
   ]
  },
  {
   "cell_type": "markdown",
   "id": "8f6842f6",
   "metadata": {},
   "source": [
    "New York Tweets"
   ]
  },
  {
   "cell_type": "code",
   "execution_count": 75,
   "id": "5a26588d",
   "metadata": {},
   "outputs": [],
   "source": [
    "ny_tweets = pd.DataFrame().reindex_like(tweets_c)\n",
    "ny_tweets = ny_tweets.drop(ny_tweets.index[1:20000])"
   ]
  },
  {
   "cell_type": "code",
   "execution_count": 90,
   "id": "d43d533f",
   "metadata": {},
   "outputs": [],
   "source": [
    "ny_tweets= str_check(ny_tweets,['New York', 'new york', ' NY', ' ny', 'N.Y.', 'N.Y', ' Ny ', 'NYC', 'nyc', 'Albany', 'albany',\n",
    "                                'Hochul', 'hochul', 'Eric Adams', 'long island', 'Long Island', 'Island Trees', \n",
    "                               'Hudson Valley', 'Westchester', 'Brooklyn', 'Queens', 'Manhattan', 'Wappingers', 'NYCLU'],\n",
    "                     'New York',\n",
    "                     ['@GovKathyHocul', '@KathyHochul', '@NYCMayor', '@ericadamsfornyc', 'NYCMayorsOffice'])"
   ]
  },
  {
   "cell_type": "code",
   "execution_count": 91,
   "id": "d39fcff7",
   "metadata": {},
   "outputs": [
    {
     "data": {
      "text/plain": [
       "2026"
      ]
     },
     "execution_count": 91,
     "metadata": {},
     "output_type": "execute_result"
    }
   ],
   "source": [
    "len(ny_tweets)"
   ]
  },
  {
   "cell_type": "code",
   "execution_count": 267,
   "id": "7c7133d1",
   "metadata": {},
   "outputs": [
    {
     "data": {
      "text/plain": [
       "2606770"
      ]
     },
     "execution_count": 267,
     "metadata": {},
     "output_type": "execute_result"
    }
   ],
   "source": [
    "sum(ny_tweets['Engagement'])"
   ]
  },
  {
   "cell_type": "markdown",
   "id": "ee068558",
   "metadata": {},
   "source": [
    "Texas Tweets"
   ]
  },
  {
   "cell_type": "code",
   "execution_count": 89,
   "id": "d63450e9",
   "metadata": {},
   "outputs": [],
   "source": [
    "tx_tweets = pd.DataFrame().reindex_like(tweets_c)\n",
    "tx_tweets = tx_tweets.drop(tx_tweets.index[1:20000])"
   ]
  },
  {
   "cell_type": "code",
   "execution_count": 209,
   "id": "62ccb8ff",
   "metadata": {},
   "outputs": [],
   "source": [
    "tx_tweets= str_check(tx_tweets,['Texas', 'texas', 'TX', ' Tex', ' tx ', 'Tx ', 'Abbott', 'abbott', 'Ted Cruz', 'Cruz'\n",
    "                               'Houston', 'Dallas', 'San Antonio', 'El Paso', 'Austin', 'Midland County', 'Katy', \n",
    "                                'Beaumont', 'Friendswood', 'HB 3979', 'HB3979', 'abbott'],\n",
    "                     'Texas',\n",
    "                     ['@GovAbbott', '@GregAbbott_TX', '@TXGregAbbott', '@texasgov', 'SenTedCruz', '@tedcruz'])"
   ]
  },
  {
   "cell_type": "code",
   "execution_count": 210,
   "id": "0da37592",
   "metadata": {},
   "outputs": [
    {
     "data": {
      "text/plain": [
       "1641"
      ]
     },
     "execution_count": 210,
     "metadata": {},
     "output_type": "execute_result"
    }
   ],
   "source": [
    "len(tx_tweets)"
   ]
  },
  {
   "cell_type": "code",
   "execution_count": 268,
   "id": "21cfeb47",
   "metadata": {},
   "outputs": [
    {
     "data": {
      "text/plain": [
       "1343758"
      ]
     },
     "execution_count": 268,
     "metadata": {},
     "output_type": "execute_result"
    }
   ],
   "source": [
    "sum(tx_tweets['Engagement'])"
   ]
  },
  {
   "cell_type": "markdown",
   "id": "01972c03",
   "metadata": {},
   "source": [
    "Illinois Tweets"
   ]
  },
  {
   "cell_type": "code",
   "execution_count": 103,
   "id": "2155b1fb",
   "metadata": {},
   "outputs": [],
   "source": [
    "il_tweets = pd.DataFrame().reindex_like(tweets_c)\n",
    "il_tweets = il_tweets.drop(il_tweets.index[1:20000])"
   ]
  },
  {
   "cell_type": "code",
   "execution_count": 207,
   "id": "d8c82039",
   "metadata": {},
   "outputs": [],
   "source": [
    "il_tweets= str_check(il_tweets,['Illinois', 'illinois', ' IL', ' il ', 'I.L.', 'I.L ', ' Il', 'Pritzker', 'HB 2789', \n",
    "                                'HB2789', 'hb2789', 'hb 2789', 'Chicago', 'chicago', 'Giannoulias', 'pritzker'],\n",
    "                     'Illinois',\n",
    "                     ['@GovPritzker', '@JBPritzker', '@ILGovernorPress'])"
   ]
  },
  {
   "cell_type": "code",
   "execution_count": 208,
   "id": "8e40df93",
   "metadata": {
    "scrolled": true
   },
   "outputs": [
    {
     "data": {
      "text/plain": [
       "1205"
      ]
     },
     "execution_count": 208,
     "metadata": {},
     "output_type": "execute_result"
    }
   ],
   "source": [
    "len(il_tweets)"
   ]
  },
  {
   "cell_type": "code",
   "execution_count": 269,
   "id": "b15b951c",
   "metadata": {},
   "outputs": [
    {
     "data": {
      "text/plain": [
       "1564113"
      ]
     },
     "execution_count": 269,
     "metadata": {},
     "output_type": "execute_result"
    }
   ],
   "source": [
    "sum(il_tweets['Engagement'])"
   ]
  },
  {
   "cell_type": "markdown",
   "id": "cfb91ef4",
   "metadata": {},
   "source": [
    "Missouri Tweets"
   ]
  },
  {
   "cell_type": "code",
   "execution_count": 111,
   "id": "b8d77e63",
   "metadata": {},
   "outputs": [],
   "source": [
    "mo_tweets = pd.DataFrame().reindex_like(tweets_c)\n",
    "mo_tweets = mo_tweets.drop(mo_tweets.index[1:20000])"
   ]
  },
  {
   "cell_type": "code",
   "execution_count": 205,
   "id": "5897d79a",
   "metadata": {},
   "outputs": [],
   "source": [
    "mo_tweets= str_check(mo_tweets,['Missouri', 'missouri', 'MO ', 'M.O.', 'M.O', ' mo ', 'St. Louis', 'Saint Louis', \n",
    "                                'Parson', 'Missourian', 'parson'],\n",
    "                     'Missouri', \n",
    "                     ['@GovParsonMO', '@mikeparson', '@MoGov', '@CoMissourian'])"
   ]
  },
  {
   "cell_type": "code",
   "execution_count": 206,
   "id": "21ec01de",
   "metadata": {},
   "outputs": [
    {
     "data": {
      "text/plain": [
       "514"
      ]
     },
     "execution_count": 206,
     "metadata": {},
     "output_type": "execute_result"
    }
   ],
   "source": [
    "len(mo_tweets)"
   ]
  },
  {
   "cell_type": "code",
   "execution_count": 270,
   "id": "6f2371f4",
   "metadata": {},
   "outputs": [
    {
     "data": {
      "text/plain": [
       "473462"
      ]
     },
     "execution_count": 270,
     "metadata": {},
     "output_type": "execute_result"
    }
   ],
   "source": [
    "sum(mo_tweets['Engagement'])"
   ]
  },
  {
   "cell_type": "markdown",
   "id": "b18d3eaa",
   "metadata": {},
   "source": [
    "Utah Tweets"
   ]
  },
  {
   "cell_type": "code",
   "execution_count": 118,
   "id": "e19084f5",
   "metadata": {},
   "outputs": [],
   "source": [
    "ut_tweets = pd.DataFrame().reindex_like(tweets_c)\n",
    "ut_tweets = ut_tweets.drop(ut_tweets.index[1:20000])"
   ]
  },
  {
   "cell_type": "code",
   "execution_count": 203,
   "id": "f1a5d573",
   "metadata": {},
   "outputs": [],
   "source": [
    "ut_tweets= str_check(ut_tweets,['Utah', 'utah', 'U.T.', 'Salt Lake City', 'SLC', 'slc', 'Salt Lake', 'Alpine School', \n",
    "                                ' UT ', 'Davis School', 'Mormon', 'mormons', 'mormon', 'Latter-Day', 'Provo', 'Cox', 'cox'],\n",
    "                     'Utah', \n",
    "                     ['@GovCox', '@SpencerJCox'])"
   ]
  },
  {
   "cell_type": "code",
   "execution_count": 204,
   "id": "325138d7",
   "metadata": {},
   "outputs": [
    {
     "data": {
      "text/plain": [
       "397"
      ]
     },
     "execution_count": 204,
     "metadata": {},
     "output_type": "execute_result"
    }
   ],
   "source": [
    "len(ut_tweets)"
   ]
  },
  {
   "cell_type": "code",
   "execution_count": 271,
   "id": "cd76c3a1",
   "metadata": {},
   "outputs": [
    {
     "data": {
      "text/plain": [
       "280354"
      ]
     },
     "execution_count": 271,
     "metadata": {},
     "output_type": "execute_result"
    }
   ],
   "source": [
    "sum(ut_tweets['Engagement'])"
   ]
  },
  {
   "cell_type": "markdown",
   "id": "e352829b",
   "metadata": {},
   "source": [
    "Pennsylvania Tweets"
   ]
  },
  {
   "cell_type": "code",
   "execution_count": 138,
   "id": "ac805e5d",
   "metadata": {},
   "outputs": [],
   "source": [
    "pa_tweets = pd.DataFrame().reindex_like(tweets_c)\n",
    "pa_tweets = pa_tweets.drop(pa_tweets.index[1:20000])"
   ]
  },
  {
   "cell_type": "code",
   "execution_count": 201,
   "id": "69c40abd",
   "metadata": {},
   "outputs": [],
   "source": [
    "pa_tweets= str_check(pa_tweets,['Pennsylvania', 'pennsylvania', 'Penn.', 'penn', 'Pittsburgh', 'Philly', 'Philadelphia',\n",
    "                               'philly', 'phila.', 'Phila.', 'Central Bucks', 'P.A.', ' PA ', ' pa ', 'P.A', 'Harrisburg', \n",
    "                               'Oxford Area', 'Cappelletti', 'Friel', 'Lancaster County', 'Bucks County', 'York County', \n",
    "                               'shapiro', 'Shapiro'],\n",
    "                     'Pennsylvania', \n",
    "                     ['@GovernorShapiro', '@JoshShapiroPA', '@PennsylvaniaGov', '@SenCappelletti', '@amandaforpa'])"
   ]
  },
  {
   "cell_type": "code",
   "execution_count": 202,
   "id": "006ad44f",
   "metadata": {},
   "outputs": [
    {
     "data": {
      "text/plain": [
       "790"
      ]
     },
     "execution_count": 202,
     "metadata": {},
     "output_type": "execute_result"
    }
   ],
   "source": [
    "len(pa_tweets)"
   ]
  },
  {
   "cell_type": "code",
   "execution_count": 272,
   "id": "91515a79",
   "metadata": {},
   "outputs": [
    {
     "data": {
      "text/plain": [
       "665259"
      ]
     },
     "execution_count": 272,
     "metadata": {},
     "output_type": "execute_result"
    }
   ],
   "source": [
    "sum(pa_tweets['Engagement'])"
   ]
  },
  {
   "cell_type": "markdown",
   "id": "de5ce1a3",
   "metadata": {},
   "source": [
    "Blue States:\n",
    "NY\n",
    "CA\n",
    "IL\n",
    "WA\n",
    "MA\n",
    "\n",
    "Red States:\n",
    "PA\n",
    "UT\n",
    "TX\n",
    "FL\n",
    "MO"
   ]
  },
  {
   "cell_type": "markdown",
   "id": "bc58a6c8",
   "metadata": {},
   "source": [
    "Washington Tweets"
   ]
  },
  {
   "cell_type": "code",
   "execution_count": 166,
   "id": "f1e604f9",
   "metadata": {},
   "outputs": [],
   "source": [
    "wa_tweets = pd.DataFrame().reindex_like(tweets_c)\n",
    "wa_tweets = wa_tweets.drop(wa_tweets.index[1:20000])"
   ]
  },
  {
   "cell_type": "code",
   "execution_count": 222,
   "id": "3c53cf7a",
   "metadata": {},
   "outputs": [],
   "source": [
    "wa_tweets= str_check(wa_tweets,['Washington state', 'Washington ', ' WA ', 'W.A.', 'W.A', ' wa ', 'Tacoma', 'Olympia', \n",
    "                               'Seattle', 'Inslee', 'inslee'],\n",
    "                     'Washington', \n",
    "                     ['@GovInslee', '@JayInslee', '@WAStateGov'])\n",
    "\n",
    "wa_tweets = wa_tweets.rename(columns = {'Hit Sentence':'Tweet'})\n",
    "\n",
    "searchfor = ['Washington Post', 'Washington, D.C.', 'Washington, DC', 'Harold Washington']\n",
    "wa_tweets = wa_tweets[~wa_tweets.Tweet.str.contains('|'.join(searchfor))]"
   ]
  },
  {
   "cell_type": "code",
   "execution_count": 223,
   "id": "5e0f7281",
   "metadata": {},
   "outputs": [
    {
     "data": {
      "text/plain": [
       "1120"
      ]
     },
     "execution_count": 223,
     "metadata": {},
     "output_type": "execute_result"
    }
   ],
   "source": [
    "len(wa_tweets)"
   ]
  },
  {
   "cell_type": "code",
   "execution_count": 273,
   "id": "66e3fd7a",
   "metadata": {},
   "outputs": [
    {
     "data": {
      "text/plain": [
       "1256302"
      ]
     },
     "execution_count": 273,
     "metadata": {},
     "output_type": "execute_result"
    }
   ],
   "source": [
    "sum(wa_tweets['Engagement'])"
   ]
  },
  {
   "cell_type": "markdown",
   "id": "b83ce261",
   "metadata": {},
   "source": [
    "Massachussets Tweets"
   ]
  },
  {
   "cell_type": "code",
   "execution_count": 173,
   "id": "02803114",
   "metadata": {},
   "outputs": [],
   "source": [
    "ma_tweets = pd.DataFrame().reindex_like(tweets_c)\n",
    "ma_tweets = ma_tweets.drop(ma_tweets.index[1:20000])"
   ]
  },
  {
   "cell_type": "code",
   "execution_count": 175,
   "id": "570dd983",
   "metadata": {},
   "outputs": [],
   "source": [
    "ma_tweets= str_check(ma_tweets,['Massachussetts', 'massachusetts', ' MA ', 'M.A.', 'M.A', ' ma ', 'Boston', 'boston', \n",
    "                               'Mass.', 'mass.', 'MassGovernor', 'Healey', 'healey'],\n",
    "                     'Massachussetts', \n",
    "                     ['@MassGovernor', '@maura_healey', '@MassGov'])"
   ]
  },
  {
   "cell_type": "code",
   "execution_count": 176,
   "id": "256e35e1",
   "metadata": {
    "scrolled": true
   },
   "outputs": [
    {
     "data": {
      "text/plain": [
       "384"
      ]
     },
     "execution_count": 176,
     "metadata": {},
     "output_type": "execute_result"
    }
   ],
   "source": [
    "len(ma_tweets)"
   ]
  },
  {
   "cell_type": "code",
   "execution_count": 274,
   "id": "1e4e054c",
   "metadata": {},
   "outputs": [
    {
     "data": {
      "text/plain": [
       "464314"
      ]
     },
     "execution_count": 274,
     "metadata": {},
     "output_type": "execute_result"
    }
   ],
   "source": [
    "sum(ma_tweets['Engagement'])"
   ]
  },
  {
   "cell_type": "markdown",
   "id": "bfe9fcd0",
   "metadata": {},
   "source": [
    "Save to CSVs"
   ]
  },
  {
   "cell_type": "code",
   "execution_count": 215,
   "id": "ebe30b9e",
   "metadata": {},
   "outputs": [],
   "source": [
    "fl_tweets.to_csv('fl_tweet.csv', index=False)\n",
    "ca_tweets.to_csv('ca_tweet.csv', index=False)\n",
    "ny_tweets.to_csv('ny_tweet.csv', index=False)\n",
    "tx_tweets.to_csv('tx_tweet.csv', index=False)\n",
    "ut_tweets.to_csv('ut_tweet.csv', index=False)\n",
    "pa_tweets.to_csv('pa_tweet.csv', index=False)\n",
    "il_tweets.to_csv('il_tweet.csv', index=False)\n",
    "wa_tweets.to_csv('wa_tweet.csv', index=False)\n",
    "ma_tweets.to_csv('ma_tweet.csv', index=False)\n",
    "mo_tweets.to_csv('mo_tweet.csv', index=False)"
   ]
  },
  {
   "cell_type": "markdown",
   "id": "7073b6fc",
   "metadata": {},
   "source": [
    "Concat Blue & Red States"
   ]
  },
  {
   "cell_type": "code",
   "execution_count": 251,
   "id": "97b2b58f",
   "metadata": {},
   "outputs": [],
   "source": [
    "red_states = pd.concat([fl_tweets, tx_tweets, ut_tweets, pa_tweets, mo_tweets])\n",
    "blue_states = pd.concat([ca_tweets, ny_tweets, il_tweets, wa_tweets, ma_tweets])"
   ]
  },
  {
   "cell_type": "code",
   "execution_count": 252,
   "id": "96551bb2",
   "metadata": {},
   "outputs": [],
   "source": [
    "red_states['state'] = 'red'\n",
    "blue_states['state'] = 'blue'"
   ]
  },
  {
   "cell_type": "code",
   "execution_count": 253,
   "id": "85df912f",
   "metadata": {},
   "outputs": [],
   "source": [
    "red_blue = pd.concat([red_states,blue_states])"
   ]
  },
  {
   "cell_type": "code",
   "execution_count": 255,
   "id": "987ac34c",
   "metadata": {},
   "outputs": [],
   "source": [
    "#shuffle dataframe before de-duping\n",
    "red_blue = red_blue.sample(frac = 1)"
   ]
  },
  {
   "cell_type": "code",
   "execution_count": 256,
   "id": "9d17b0d2",
   "metadata": {},
   "outputs": [
    {
     "data": {
      "text/plain": [
       "15491"
      ]
     },
     "execution_count": 256,
     "metadata": {},
     "output_type": "execute_result"
    }
   ],
   "source": [
    "len(red_blue)"
   ]
  },
  {
   "cell_type": "code",
   "execution_count": 257,
   "id": "107272ff",
   "metadata": {},
   "outputs": [],
   "source": [
    "#de-dupe\n",
    "red_blue = red_blue.drop_duplicates(subset=['URL'])"
   ]
  },
  {
   "cell_type": "code",
   "execution_count": 258,
   "id": "282fc496",
   "metadata": {},
   "outputs": [
    {
     "data": {
      "text/plain": [
       "11270"
      ]
     },
     "execution_count": 258,
     "metadata": {},
     "output_type": "execute_result"
    }
   ],
   "source": [
    "len(red_blue)"
   ]
  },
  {
   "cell_type": "code",
   "execution_count": 259,
   "id": "74578f94",
   "metadata": {},
   "outputs": [],
   "source": [
    "#re-separate red and blue state dataframes\n",
    "red_states = red_blue[red_blue.state == 'red'].copy()\n",
    "blue_states = red_blue[red_blue.state == 'blue'].copy()"
   ]
  },
  {
   "cell_type": "code",
   "execution_count": 260,
   "id": "53ac70f9",
   "metadata": {},
   "outputs": [
    {
     "data": {
      "text/plain": [
       "6328"
      ]
     },
     "execution_count": 260,
     "metadata": {},
     "output_type": "execute_result"
    }
   ],
   "source": [
    "len(red_states)"
   ]
  },
  {
   "cell_type": "code",
   "execution_count": 261,
   "id": "4df6e693",
   "metadata": {},
   "outputs": [
    {
     "data": {
      "text/plain": [
       "4942"
      ]
     },
     "execution_count": 261,
     "metadata": {},
     "output_type": "execute_result"
    }
   ],
   "source": [
    "len(blue_states)"
   ]
  },
  {
   "cell_type": "code",
   "execution_count": 262,
   "id": "e5d9116a",
   "metadata": {},
   "outputs": [],
   "source": [
    "red_states.to_csv('red_states.csv', index=False)\n",
    "blue_states.to_csv('blue_states.csv', index=False)"
   ]
  },
  {
   "cell_type": "code",
   "execution_count": 263,
   "id": "d93ae213",
   "metadata": {
    "scrolled": true
   },
   "outputs": [
    {
     "data": {
      "text/plain": [
       "5883267"
      ]
     },
     "execution_count": 263,
     "metadata": {},
     "output_type": "execute_result"
    }
   ],
   "source": [
    "sum(red_states['Engagement'])"
   ]
  },
  {
   "cell_type": "code",
   "execution_count": 264,
   "id": "97b12871",
   "metadata": {},
   "outputs": [
    {
     "data": {
      "text/plain": [
       "7217916"
      ]
     },
     "execution_count": 264,
     "metadata": {},
     "output_type": "execute_result"
    }
   ],
   "source": [
    "sum(blue_states['Engagement'])"
   ]
  }
 ],
 "metadata": {
  "kernelspec": {
   "display_name": "Python 3 (ipykernel)",
   "language": "python",
   "name": "python3"
  },
  "language_info": {
   "codemirror_mode": {
    "name": "ipython",
    "version": 3
   },
   "file_extension": ".py",
   "mimetype": "text/x-python",
   "name": "python",
   "nbconvert_exporter": "python",
   "pygments_lexer": "ipython3",
   "version": "3.11.4"
  }
 },
 "nbformat": 4,
 "nbformat_minor": 5
}
